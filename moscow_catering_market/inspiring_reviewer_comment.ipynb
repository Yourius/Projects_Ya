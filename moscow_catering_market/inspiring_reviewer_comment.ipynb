{
  "nbformat": 4,
  "nbformat_minor": 0,
  "metadata": {
    "colab": {
      "provenance": []
    },
    "kernelspec": {
      "name": "python3",
      "display_name": "Python 3"
    },
    "language_info": {
      "name": "python"
    }
  },
  "cells": [
    {
      "cell_type": "markdown",
      "source": [
        "<div class=\"alert alert-success\">\n",
        "<h2> Комментарий ревьюера <a class=\"tocSkip\"> </h2>\n",
        "\n",
        "<b>Все отлично!👍:</b> \n",
        "    \n",
        "Мне очень нравятся твои итоговые выводы и подробные рекомендации для заказчика, которые касаются и типа заведения, и кол-ва посадочных мест, и ценовой политики - это отличный продуктовый подход! Думаю, в компании заказчика хотели бы видеть тебя на должности аналитика:) правда, здорово!\n",
        "</div>"
      ],
      "metadata": {
        "id": "tKJ-B9afoUCp"
      }
    }
  ]
}