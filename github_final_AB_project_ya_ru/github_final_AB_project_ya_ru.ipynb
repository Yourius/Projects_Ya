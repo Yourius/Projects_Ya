{
  "cells": [
    {
      "cell_type": "markdown",
      "metadata": {
        "id": "-0cpnmjXCKTH"
      },
      "source": [
        "# Проект по A/B-тестированию\n"
      ]
    },
    {
      "cell_type": "markdown",
      "metadata": {
        "id": "QN4lZ1S8WiI9"
      },
      "source": [
        "## Описание"
      ]
    },
    {
      "cell_type": "markdown",
      "metadata": {
        "id": "CWQyhZJUWlKM"
      },
      "source": [
        "Задача — провести оценку результатов A/B-теста. В нашем распоряжении есть датасет с действиями пользователей, техническое задание и несколько вспомогательных датасетов.\n",
        "\n",
        "- Оцените корректность проведения теста\n",
        "- Проанализируйте результаты теста"
      ]
    },
    {
      "cell_type": "markdown",
      "metadata": {
        "id": "cYhfvc_-Wvw7"
      },
      "source": [
        "## Техническое задание"
      ]
    },
    {
      "cell_type": "markdown",
      "metadata": {
        "id": "SrlXU8rnWydo"
      },
      "source": [
        "- Название теста: `recommender_system_test`;\n",
        "- группы: А — контрольная, B — новая платёжная воронка;\n",
        "- дата запуска: 2020-12-07;\n",
        "- дата остановки набора новых пользователей: 2020-12-21;\n",
        "- дата остановки: 2021-01-04;\n",
        "- аудитория: 15% новых пользователей из региона EU;\n",
        "- назначение теста: тестирование изменений, связанных с внедрением улучшенной рекомендательной системы;\n",
        "- ожидаемое количество участников теста: 6000.\n",
        "- ожидаемый эффект: за 14 дней с момента регистрации пользователи покажут улучшение каждой метрики не менее, чем на 10%:\n",
        "    - конверсии в просмотр карточек товаров — событие `product_page`,\n",
        "    - просмотры корзины — `product_cart`,\n",
        "    - покупки — `purchase`."
      ]
    },
    {
      "cell_type": "markdown",
      "metadata": {
        "id": "kCok7QiiW1dd"
      },
      "source": [
        "## Описание данных"
      ]
    },
    {
      "cell_type": "markdown",
      "metadata": {
        "id": "QuSDJTiDW8gz"
      },
      "source": [
        "`ab_project_marketing_events.csv` — календарь маркетинговых событий на 2020 год.\n",
        "\n",
        "Структура файла:\n",
        "\n",
        "- `name` — название маркетингового события;\n",
        "- `regions` — регионы, в которых будет проводиться рекламная кампания;\n",
        "- `start_dt` — дата начала кампании;\n",
        "- `finish_dt` — дата завершения кампании.\n",
        "\n",
        "`final_ab_new_users.csv` — пользователи, зарегистрировавшиеся с 7 по 21 декабря 2020 года.\n",
        "\n",
        "Структура файла:\n",
        "\n",
        "- `user_id` — идентификатор пользователя;\n",
        "- `first_date` — дата регистрации;\n",
        "- `region` — регион пользователя;\n",
        "- `device` — устройство, с которого происходила регистрация.\n",
        "\n",
        "`final_ab_events.csv` — действия новых пользователей в период с 7 декабря 2020 по 4 января 2021 года.\n",
        "\n",
        "Структура файла:\n",
        "\n",
        "- `user_id` — идентификатор пользователя;\n",
        "- `event_dt` — дата и время покупки;\n",
        "- `event_name` — тип события;\n",
        "- `details` — дополнительные данные о событии. Например, для покупок, `purchase,` в этом поле хранится стоимость покупки в долларах.\n",
        "\n",
        "`final_ab_participants.csv` — таблица участников тестов.\n",
        "\n",
        "Структура файла:\n",
        "\n",
        "- `user_id` — идентификатор пользователя;\n",
        "- `ab_test` — название теста;\n",
        "- `group` — группа пользователя."
      ]
    },
    {
      "cell_type": "markdown",
      "metadata": {
        "id": "rKwkDSCjW-Sy"
      },
      "source": [
        "## Откроем и изучим общую информацию о данных"
      ]
    },
    {
      "cell_type": "code",
      "execution_count": 1,
      "metadata": {
        "colab": {
          "base_uri": "https://localhost:8080/"
        },
        "id": "iSb1d5zHc6R6",
        "outputId": "3006ebe7-58f3-48ea-93c5-e3339b834f88",
        "scrolled": true,
        "trusted": true
      },
      "outputs": [
        {
          "output_type": "stream",
          "name": "stdout",
          "text": [
            "Downloading...\n",
            "From: https://drive.google.com/uc?id=1nnwvut4fwpwwQb8uX92Qx_2GlxlDrZdK\n",
            "To: /content/final_ab_events.csv\n",
            "100% 22.3M/22.3M [00:00<00:00, 365MB/s]\n",
            "Downloading...\n",
            "From: https://drive.google.com/uc?id=1x6igMvlG7Ev_7K1XbGv31i1W8ceie1bw\n",
            "To: /content/ab_project_marketing_events.csv\n",
            "100% 879/879 [00:00<00:00, 1.77MB/s]\n",
            "Downloading...\n",
            "From: https://drive.google.com/uc?id=1zHpPW-7NcnazhY3FMBIjO4VqRLuZ2BVJ\n",
            "To: /content/final_ab_new_users.csv\n",
            "100% 2.37M/2.37M [00:00<00:00, 234MB/s]\n",
            "Downloading...\n",
            "From: https://drive.google.com/uc?id=1v5NrEAJLTrDpp43wiB9h90Y48hl38Tdj\n",
            "To: /content/final_ab_participants.csv\n",
            "100% 716k/716k [00:00<00:00, 113MB/s]\n"
          ]
        }
      ],
      "source": [
        "! gdown -- 1nnwvut4fwpwwQb8uX92Qx_2GlxlDrZdK\n",
        "! gdown -- 1x6igMvlG7Ev_7K1XbGv31i1W8ceie1bw\n",
        "! gdown -- 1zHpPW-7NcnazhY3FMBIjO4VqRLuZ2BVJ\n",
        "! gdown -- 1v5NrEAJLTrDpp43wiB9h90Y48hl38Tdj"
      ]
    },
    {
      "cell_type": "code",
      "execution_count": 2,
      "metadata": {
        "id": "XuWhzLD8bmNM",
        "trusted": true
      },
      "outputs": [],
      "source": [
        "import pandas as pd\n",
        "import seaborn as sns\n",
        "import matplotlib.pyplot as plt\n",
        "import plotly.express as px \n",
        "import plotly.graph_objects as go\n",
        "import numpy as np\n",
        "import pylab \n",
        "import math as mth\n",
        "from datetime import datetime, timedelta\n",
        "\n",
        "from scipy import stats as st\n",
        "import statsmodels.sandbox.stats.multicomp as multi_correction\n",
        "\n",
        "pd.set_option('display.float_format', '{:,.2f}'.format)\n",
        "pd.set_option('display.max_colwidth', None)"
      ]
    },
    {
      "cell_type": "code",
      "source": [
        "def open(df_google_csv, df_ya_csv):\n",
        "    try:\n",
        "        df = pd.read_csv(df_google_csv)\n",
        "    except:\n",
        "        df = pd.read_csv(df_ya_csv)\n",
        "    display(df.info(), df.head(3))\n",
        "    return df  \n",
        "    "
      ],
      "metadata": {
        "id": "TQUKlDiXrvwV"
      },
      "execution_count": 3,
      "outputs": []
    },
    {
      "cell_type": "code",
      "source": [
        "events = open('/content/final_ab_events.csv', 'https://code.s3.yandex.net/datasets/final_ab_events.csv')"
      ],
      "metadata": {
        "id": "tmi6j8cWF-3S",
        "colab": {
          "base_uri": "https://localhost:8080/",
          "height": 365
        },
        "outputId": "9884db46-6ce5-4c82-b7c7-9fad1300e09d"
      },
      "execution_count": 4,
      "outputs": [
        {
          "output_type": "stream",
          "name": "stdout",
          "text": [
            "<class 'pandas.core.frame.DataFrame'>\n",
            "RangeIndex: 440317 entries, 0 to 440316\n",
            "Data columns (total 4 columns):\n",
            " #   Column      Non-Null Count   Dtype  \n",
            "---  ------      --------------   -----  \n",
            " 0   user_id     440317 non-null  object \n",
            " 1   event_dt    440317 non-null  object \n",
            " 2   event_name  440317 non-null  object \n",
            " 3   details     62740 non-null   float64\n",
            "dtypes: float64(1), object(3)\n",
            "memory usage: 13.4+ MB\n"
          ]
        },
        {
          "output_type": "display_data",
          "data": {
            "text/plain": [
              "None"
            ]
          },
          "metadata": {}
        },
        {
          "output_type": "display_data",
          "data": {
            "text/plain": [
              "            user_id             event_dt event_name  details\n",
              "0  E1BDDCE0DAFA2679  2020-12-07 20:22:03   purchase    99.99\n",
              "1  7B6452F081F49504  2020-12-07 09:22:53   purchase     9.99\n",
              "2  9CD9F34546DF254C  2020-12-07 12:59:29   purchase     4.99"
            ],
            "text/html": [
              "\n",
              "  <div id=\"df-9aaaa187-bef4-4e80-8a58-945e414aa279\">\n",
              "    <div class=\"colab-df-container\">\n",
              "      <div>\n",
              "<style scoped>\n",
              "    .dataframe tbody tr th:only-of-type {\n",
              "        vertical-align: middle;\n",
              "    }\n",
              "\n",
              "    .dataframe tbody tr th {\n",
              "        vertical-align: top;\n",
              "    }\n",
              "\n",
              "    .dataframe thead th {\n",
              "        text-align: right;\n",
              "    }\n",
              "</style>\n",
              "<table border=\"1\" class=\"dataframe\">\n",
              "  <thead>\n",
              "    <tr style=\"text-align: right;\">\n",
              "      <th></th>\n",
              "      <th>user_id</th>\n",
              "      <th>event_dt</th>\n",
              "      <th>event_name</th>\n",
              "      <th>details</th>\n",
              "    </tr>\n",
              "  </thead>\n",
              "  <tbody>\n",
              "    <tr>\n",
              "      <th>0</th>\n",
              "      <td>E1BDDCE0DAFA2679</td>\n",
              "      <td>2020-12-07 20:22:03</td>\n",
              "      <td>purchase</td>\n",
              "      <td>99.99</td>\n",
              "    </tr>\n",
              "    <tr>\n",
              "      <th>1</th>\n",
              "      <td>7B6452F081F49504</td>\n",
              "      <td>2020-12-07 09:22:53</td>\n",
              "      <td>purchase</td>\n",
              "      <td>9.99</td>\n",
              "    </tr>\n",
              "    <tr>\n",
              "      <th>2</th>\n",
              "      <td>9CD9F34546DF254C</td>\n",
              "      <td>2020-12-07 12:59:29</td>\n",
              "      <td>purchase</td>\n",
              "      <td>4.99</td>\n",
              "    </tr>\n",
              "  </tbody>\n",
              "</table>\n",
              "</div>\n",
              "      <button class=\"colab-df-convert\" onclick=\"convertToInteractive('df-9aaaa187-bef4-4e80-8a58-945e414aa279')\"\n",
              "              title=\"Convert this dataframe to an interactive table.\"\n",
              "              style=\"display:none;\">\n",
              "        \n",
              "  <svg xmlns=\"http://www.w3.org/2000/svg\" height=\"24px\"viewBox=\"0 0 24 24\"\n",
              "       width=\"24px\">\n",
              "    <path d=\"M0 0h24v24H0V0z\" fill=\"none\"/>\n",
              "    <path d=\"M18.56 5.44l.94 2.06.94-2.06 2.06-.94-2.06-.94-.94-2.06-.94 2.06-2.06.94zm-11 1L8.5 8.5l.94-2.06 2.06-.94-2.06-.94L8.5 2.5l-.94 2.06-2.06.94zm10 10l.94 2.06.94-2.06 2.06-.94-2.06-.94-.94-2.06-.94 2.06-2.06.94z\"/><path d=\"M17.41 7.96l-1.37-1.37c-.4-.4-.92-.59-1.43-.59-.52 0-1.04.2-1.43.59L10.3 9.45l-7.72 7.72c-.78.78-.78 2.05 0 2.83L4 21.41c.39.39.9.59 1.41.59.51 0 1.02-.2 1.41-.59l7.78-7.78 2.81-2.81c.8-.78.8-2.07 0-2.86zM5.41 20L4 18.59l7.72-7.72 1.47 1.35L5.41 20z\"/>\n",
              "  </svg>\n",
              "      </button>\n",
              "      \n",
              "  <style>\n",
              "    .colab-df-container {\n",
              "      display:flex;\n",
              "      flex-wrap:wrap;\n",
              "      gap: 12px;\n",
              "    }\n",
              "\n",
              "    .colab-df-convert {\n",
              "      background-color: #E8F0FE;\n",
              "      border: none;\n",
              "      border-radius: 50%;\n",
              "      cursor: pointer;\n",
              "      display: none;\n",
              "      fill: #1967D2;\n",
              "      height: 32px;\n",
              "      padding: 0 0 0 0;\n",
              "      width: 32px;\n",
              "    }\n",
              "\n",
              "    .colab-df-convert:hover {\n",
              "      background-color: #E2EBFA;\n",
              "      box-shadow: 0px 1px 2px rgba(60, 64, 67, 0.3), 0px 1px 3px 1px rgba(60, 64, 67, 0.15);\n",
              "      fill: #174EA6;\n",
              "    }\n",
              "\n",
              "    [theme=dark] .colab-df-convert {\n",
              "      background-color: #3B4455;\n",
              "      fill: #D2E3FC;\n",
              "    }\n",
              "\n",
              "    [theme=dark] .colab-df-convert:hover {\n",
              "      background-color: #434B5C;\n",
              "      box-shadow: 0px 1px 3px 1px rgba(0, 0, 0, 0.15);\n",
              "      filter: drop-shadow(0px 1px 2px rgba(0, 0, 0, 0.3));\n",
              "      fill: #FFFFFF;\n",
              "    }\n",
              "  </style>\n",
              "\n",
              "      <script>\n",
              "        const buttonEl =\n",
              "          document.querySelector('#df-9aaaa187-bef4-4e80-8a58-945e414aa279 button.colab-df-convert');\n",
              "        buttonEl.style.display =\n",
              "          google.colab.kernel.accessAllowed ? 'block' : 'none';\n",
              "\n",
              "        async function convertToInteractive(key) {\n",
              "          const element = document.querySelector('#df-9aaaa187-bef4-4e80-8a58-945e414aa279');\n",
              "          const dataTable =\n",
              "            await google.colab.kernel.invokeFunction('convertToInteractive',\n",
              "                                                     [key], {});\n",
              "          if (!dataTable) return;\n",
              "\n",
              "          const docLinkHtml = 'Like what you see? Visit the ' +\n",
              "            '<a target=\"_blank\" href=https://colab.research.google.com/notebooks/data_table.ipynb>data table notebook</a>'\n",
              "            + ' to learn more about interactive tables.';\n",
              "          element.innerHTML = '';\n",
              "          dataTable['output_type'] = 'display_data';\n",
              "          await google.colab.output.renderOutput(dataTable, element);\n",
              "          const docLink = document.createElement('div');\n",
              "          docLink.innerHTML = docLinkHtml;\n",
              "          element.appendChild(docLink);\n",
              "        }\n",
              "      </script>\n",
              "    </div>\n",
              "  </div>\n",
              "  "
            ]
          },
          "metadata": {}
        }
      ]
    },
    {
      "cell_type": "code",
      "source": [
        "users = open('/content/final_ab_new_users.csv', 'https://code.s3.yandex.net/datasets/final_ab_new_users.csv') "
      ],
      "metadata": {
        "id": "qo3IgcmtA7dC",
        "colab": {
          "base_uri": "https://localhost:8080/",
          "height": 365
        },
        "outputId": "1886c87f-6702-428a-e365-5f83a7a510b6"
      },
      "execution_count": 5,
      "outputs": [
        {
          "output_type": "stream",
          "name": "stdout",
          "text": [
            "<class 'pandas.core.frame.DataFrame'>\n",
            "RangeIndex: 61733 entries, 0 to 61732\n",
            "Data columns (total 4 columns):\n",
            " #   Column      Non-Null Count  Dtype \n",
            "---  ------      --------------  ----- \n",
            " 0   user_id     61733 non-null  object\n",
            " 1   first_date  61733 non-null  object\n",
            " 2   region      61733 non-null  object\n",
            " 3   device      61733 non-null  object\n",
            "dtypes: object(4)\n",
            "memory usage: 1.9+ MB\n"
          ]
        },
        {
          "output_type": "display_data",
          "data": {
            "text/plain": [
              "None"
            ]
          },
          "metadata": {}
        },
        {
          "output_type": "display_data",
          "data": {
            "text/plain": [
              "            user_id  first_date     region   device\n",
              "0  D72A72121175D8BE  2020-12-07         EU       PC\n",
              "1  F1C668619DFE6E65  2020-12-07  N.America  Android\n",
              "2  2E1BF1D4C37EA01F  2020-12-07         EU       PC"
            ],
            "text/html": [
              "\n",
              "  <div id=\"df-482e6b8b-5936-403f-95ec-dde0f2952b4f\">\n",
              "    <div class=\"colab-df-container\">\n",
              "      <div>\n",
              "<style scoped>\n",
              "    .dataframe tbody tr th:only-of-type {\n",
              "        vertical-align: middle;\n",
              "    }\n",
              "\n",
              "    .dataframe tbody tr th {\n",
              "        vertical-align: top;\n",
              "    }\n",
              "\n",
              "    .dataframe thead th {\n",
              "        text-align: right;\n",
              "    }\n",
              "</style>\n",
              "<table border=\"1\" class=\"dataframe\">\n",
              "  <thead>\n",
              "    <tr style=\"text-align: right;\">\n",
              "      <th></th>\n",
              "      <th>user_id</th>\n",
              "      <th>first_date</th>\n",
              "      <th>region</th>\n",
              "      <th>device</th>\n",
              "    </tr>\n",
              "  </thead>\n",
              "  <tbody>\n",
              "    <tr>\n",
              "      <th>0</th>\n",
              "      <td>D72A72121175D8BE</td>\n",
              "      <td>2020-12-07</td>\n",
              "      <td>EU</td>\n",
              "      <td>PC</td>\n",
              "    </tr>\n",
              "    <tr>\n",
              "      <th>1</th>\n",
              "      <td>F1C668619DFE6E65</td>\n",
              "      <td>2020-12-07</td>\n",
              "      <td>N.America</td>\n",
              "      <td>Android</td>\n",
              "    </tr>\n",
              "    <tr>\n",
              "      <th>2</th>\n",
              "      <td>2E1BF1D4C37EA01F</td>\n",
              "      <td>2020-12-07</td>\n",
              "      <td>EU</td>\n",
              "      <td>PC</td>\n",
              "    </tr>\n",
              "  </tbody>\n",
              "</table>\n",
              "</div>\n",
              "      <button class=\"colab-df-convert\" onclick=\"convertToInteractive('df-482e6b8b-5936-403f-95ec-dde0f2952b4f')\"\n",
              "              title=\"Convert this dataframe to an interactive table.\"\n",
              "              style=\"display:none;\">\n",
              "        \n",
              "  <svg xmlns=\"http://www.w3.org/2000/svg\" height=\"24px\"viewBox=\"0 0 24 24\"\n",
              "       width=\"24px\">\n",
              "    <path d=\"M0 0h24v24H0V0z\" fill=\"none\"/>\n",
              "    <path d=\"M18.56 5.44l.94 2.06.94-2.06 2.06-.94-2.06-.94-.94-2.06-.94 2.06-2.06.94zm-11 1L8.5 8.5l.94-2.06 2.06-.94-2.06-.94L8.5 2.5l-.94 2.06-2.06.94zm10 10l.94 2.06.94-2.06 2.06-.94-2.06-.94-.94-2.06-.94 2.06-2.06.94z\"/><path d=\"M17.41 7.96l-1.37-1.37c-.4-.4-.92-.59-1.43-.59-.52 0-1.04.2-1.43.59L10.3 9.45l-7.72 7.72c-.78.78-.78 2.05 0 2.83L4 21.41c.39.39.9.59 1.41.59.51 0 1.02-.2 1.41-.59l7.78-7.78 2.81-2.81c.8-.78.8-2.07 0-2.86zM5.41 20L4 18.59l7.72-7.72 1.47 1.35L5.41 20z\"/>\n",
              "  </svg>\n",
              "      </button>\n",
              "      \n",
              "  <style>\n",
              "    .colab-df-container {\n",
              "      display:flex;\n",
              "      flex-wrap:wrap;\n",
              "      gap: 12px;\n",
              "    }\n",
              "\n",
              "    .colab-df-convert {\n",
              "      background-color: #E8F0FE;\n",
              "      border: none;\n",
              "      border-radius: 50%;\n",
              "      cursor: pointer;\n",
              "      display: none;\n",
              "      fill: #1967D2;\n",
              "      height: 32px;\n",
              "      padding: 0 0 0 0;\n",
              "      width: 32px;\n",
              "    }\n",
              "\n",
              "    .colab-df-convert:hover {\n",
              "      background-color: #E2EBFA;\n",
              "      box-shadow: 0px 1px 2px rgba(60, 64, 67, 0.3), 0px 1px 3px 1px rgba(60, 64, 67, 0.15);\n",
              "      fill: #174EA6;\n",
              "    }\n",
              "\n",
              "    [theme=dark] .colab-df-convert {\n",
              "      background-color: #3B4455;\n",
              "      fill: #D2E3FC;\n",
              "    }\n",
              "\n",
              "    [theme=dark] .colab-df-convert:hover {\n",
              "      background-color: #434B5C;\n",
              "      box-shadow: 0px 1px 3px 1px rgba(0, 0, 0, 0.15);\n",
              "      filter: drop-shadow(0px 1px 2px rgba(0, 0, 0, 0.3));\n",
              "      fill: #FFFFFF;\n",
              "    }\n",
              "  </style>\n",
              "\n",
              "      <script>\n",
              "        const buttonEl =\n",
              "          document.querySelector('#df-482e6b8b-5936-403f-95ec-dde0f2952b4f button.colab-df-convert');\n",
              "        buttonEl.style.display =\n",
              "          google.colab.kernel.accessAllowed ? 'block' : 'none';\n",
              "\n",
              "        async function convertToInteractive(key) {\n",
              "          const element = document.querySelector('#df-482e6b8b-5936-403f-95ec-dde0f2952b4f');\n",
              "          const dataTable =\n",
              "            await google.colab.kernel.invokeFunction('convertToInteractive',\n",
              "                                                     [key], {});\n",
              "          if (!dataTable) return;\n",
              "\n",
              "          const docLinkHtml = 'Like what you see? Visit the ' +\n",
              "            '<a target=\"_blank\" href=https://colab.research.google.com/notebooks/data_table.ipynb>data table notebook</a>'\n",
              "            + ' to learn more about interactive tables.';\n",
              "          element.innerHTML = '';\n",
              "          dataTable['output_type'] = 'display_data';\n",
              "          await google.colab.output.renderOutput(dataTable, element);\n",
              "          const docLink = document.createElement('div');\n",
              "          docLink.innerHTML = docLinkHtml;\n",
              "          element.appendChild(docLink);\n",
              "        }\n",
              "      </script>\n",
              "    </div>\n",
              "  </div>\n",
              "  "
            ]
          },
          "metadata": {}
        }
      ]
    },
    {
      "cell_type": "code",
      "source": [
        "participants = open('/content/final_ab_participants.csv', 'https://code.s3.yandex.net/datasets/final_ab_participants.csv')"
      ],
      "metadata": {
        "id": "GX-ovonfA7uv",
        "colab": {
          "base_uri": "https://localhost:8080/",
          "height": 346
        },
        "outputId": "01d01fb4-9272-44cb-997d-46bc7ad9b62a"
      },
      "execution_count": 6,
      "outputs": [
        {
          "output_type": "stream",
          "name": "stdout",
          "text": [
            "<class 'pandas.core.frame.DataFrame'>\n",
            "RangeIndex: 18268 entries, 0 to 18267\n",
            "Data columns (total 3 columns):\n",
            " #   Column   Non-Null Count  Dtype \n",
            "---  ------   --------------  ----- \n",
            " 0   user_id  18268 non-null  object\n",
            " 1   group    18268 non-null  object\n",
            " 2   ab_test  18268 non-null  object\n",
            "dtypes: object(3)\n",
            "memory usage: 428.3+ KB\n"
          ]
        },
        {
          "output_type": "display_data",
          "data": {
            "text/plain": [
              "None"
            ]
          },
          "metadata": {}
        },
        {
          "output_type": "display_data",
          "data": {
            "text/plain": [
              "            user_id group                  ab_test\n",
              "0  D1ABA3E2887B6A73     A  recommender_system_test\n",
              "1  A7A3664BD6242119     A  recommender_system_test\n",
              "2  DABC14FDDFADD29E     A  recommender_system_test"
            ],
            "text/html": [
              "\n",
              "  <div id=\"df-5258f24a-5aec-4cae-9ab9-4825c34e0edf\">\n",
              "    <div class=\"colab-df-container\">\n",
              "      <div>\n",
              "<style scoped>\n",
              "    .dataframe tbody tr th:only-of-type {\n",
              "        vertical-align: middle;\n",
              "    }\n",
              "\n",
              "    .dataframe tbody tr th {\n",
              "        vertical-align: top;\n",
              "    }\n",
              "\n",
              "    .dataframe thead th {\n",
              "        text-align: right;\n",
              "    }\n",
              "</style>\n",
              "<table border=\"1\" class=\"dataframe\">\n",
              "  <thead>\n",
              "    <tr style=\"text-align: right;\">\n",
              "      <th></th>\n",
              "      <th>user_id</th>\n",
              "      <th>group</th>\n",
              "      <th>ab_test</th>\n",
              "    </tr>\n",
              "  </thead>\n",
              "  <tbody>\n",
              "    <tr>\n",
              "      <th>0</th>\n",
              "      <td>D1ABA3E2887B6A73</td>\n",
              "      <td>A</td>\n",
              "      <td>recommender_system_test</td>\n",
              "    </tr>\n",
              "    <tr>\n",
              "      <th>1</th>\n",
              "      <td>A7A3664BD6242119</td>\n",
              "      <td>A</td>\n",
              "      <td>recommender_system_test</td>\n",
              "    </tr>\n",
              "    <tr>\n",
              "      <th>2</th>\n",
              "      <td>DABC14FDDFADD29E</td>\n",
              "      <td>A</td>\n",
              "      <td>recommender_system_test</td>\n",
              "    </tr>\n",
              "  </tbody>\n",
              "</table>\n",
              "</div>\n",
              "      <button class=\"colab-df-convert\" onclick=\"convertToInteractive('df-5258f24a-5aec-4cae-9ab9-4825c34e0edf')\"\n",
              "              title=\"Convert this dataframe to an interactive table.\"\n",
              "              style=\"display:none;\">\n",
              "        \n",
              "  <svg xmlns=\"http://www.w3.org/2000/svg\" height=\"24px\"viewBox=\"0 0 24 24\"\n",
              "       width=\"24px\">\n",
              "    <path d=\"M0 0h24v24H0V0z\" fill=\"none\"/>\n",
              "    <path d=\"M18.56 5.44l.94 2.06.94-2.06 2.06-.94-2.06-.94-.94-2.06-.94 2.06-2.06.94zm-11 1L8.5 8.5l.94-2.06 2.06-.94-2.06-.94L8.5 2.5l-.94 2.06-2.06.94zm10 10l.94 2.06.94-2.06 2.06-.94-2.06-.94-.94-2.06-.94 2.06-2.06.94z\"/><path d=\"M17.41 7.96l-1.37-1.37c-.4-.4-.92-.59-1.43-.59-.52 0-1.04.2-1.43.59L10.3 9.45l-7.72 7.72c-.78.78-.78 2.05 0 2.83L4 21.41c.39.39.9.59 1.41.59.51 0 1.02-.2 1.41-.59l7.78-7.78 2.81-2.81c.8-.78.8-2.07 0-2.86zM5.41 20L4 18.59l7.72-7.72 1.47 1.35L5.41 20z\"/>\n",
              "  </svg>\n",
              "      </button>\n",
              "      \n",
              "  <style>\n",
              "    .colab-df-container {\n",
              "      display:flex;\n",
              "      flex-wrap:wrap;\n",
              "      gap: 12px;\n",
              "    }\n",
              "\n",
              "    .colab-df-convert {\n",
              "      background-color: #E8F0FE;\n",
              "      border: none;\n",
              "      border-radius: 50%;\n",
              "      cursor: pointer;\n",
              "      display: none;\n",
              "      fill: #1967D2;\n",
              "      height: 32px;\n",
              "      padding: 0 0 0 0;\n",
              "      width: 32px;\n",
              "    }\n",
              "\n",
              "    .colab-df-convert:hover {\n",
              "      background-color: #E2EBFA;\n",
              "      box-shadow: 0px 1px 2px rgba(60, 64, 67, 0.3), 0px 1px 3px 1px rgba(60, 64, 67, 0.15);\n",
              "      fill: #174EA6;\n",
              "    }\n",
              "\n",
              "    [theme=dark] .colab-df-convert {\n",
              "      background-color: #3B4455;\n",
              "      fill: #D2E3FC;\n",
              "    }\n",
              "\n",
              "    [theme=dark] .colab-df-convert:hover {\n",
              "      background-color: #434B5C;\n",
              "      box-shadow: 0px 1px 3px 1px rgba(0, 0, 0, 0.15);\n",
              "      filter: drop-shadow(0px 1px 2px rgba(0, 0, 0, 0.3));\n",
              "      fill: #FFFFFF;\n",
              "    }\n",
              "  </style>\n",
              "\n",
              "      <script>\n",
              "        const buttonEl =\n",
              "          document.querySelector('#df-5258f24a-5aec-4cae-9ab9-4825c34e0edf button.colab-df-convert');\n",
              "        buttonEl.style.display =\n",
              "          google.colab.kernel.accessAllowed ? 'block' : 'none';\n",
              "\n",
              "        async function convertToInteractive(key) {\n",
              "          const element = document.querySelector('#df-5258f24a-5aec-4cae-9ab9-4825c34e0edf');\n",
              "          const dataTable =\n",
              "            await google.colab.kernel.invokeFunction('convertToInteractive',\n",
              "                                                     [key], {});\n",
              "          if (!dataTable) return;\n",
              "\n",
              "          const docLinkHtml = 'Like what you see? Visit the ' +\n",
              "            '<a target=\"_blank\" href=https://colab.research.google.com/notebooks/data_table.ipynb>data table notebook</a>'\n",
              "            + ' to learn more about interactive tables.';\n",
              "          element.innerHTML = '';\n",
              "          dataTable['output_type'] = 'display_data';\n",
              "          await google.colab.output.renderOutput(dataTable, element);\n",
              "          const docLink = document.createElement('div');\n",
              "          docLink.innerHTML = docLinkHtml;\n",
              "          element.appendChild(docLink);\n",
              "        }\n",
              "      </script>\n",
              "    </div>\n",
              "  </div>\n",
              "  "
            ]
          },
          "metadata": {}
        }
      ]
    },
    {
      "cell_type": "code",
      "source": [
        "marketing = open('/content/ab_project_marketing_events.csv', 'https://code.s3.yandex.net/datasets/ab_project_marketing_events.csv')"
      ],
      "metadata": {
        "id": "gjEuXZZNA7_g",
        "colab": {
          "base_uri": "https://localhost:8080/",
          "height": 365
        },
        "outputId": "6a85a5ee-1411-4000-e0be-da2a3b1dbe9c"
      },
      "execution_count": 7,
      "outputs": [
        {
          "output_type": "stream",
          "name": "stdout",
          "text": [
            "<class 'pandas.core.frame.DataFrame'>\n",
            "RangeIndex: 14 entries, 0 to 13\n",
            "Data columns (total 4 columns):\n",
            " #   Column     Non-Null Count  Dtype \n",
            "---  ------     --------------  ----- \n",
            " 0   name       14 non-null     object\n",
            " 1   regions    14 non-null     object\n",
            " 2   start_dt   14 non-null     object\n",
            " 3   finish_dt  14 non-null     object\n",
            "dtypes: object(4)\n",
            "memory usage: 576.0+ bytes\n"
          ]
        },
        {
          "output_type": "display_data",
          "data": {
            "text/plain": [
              "None"
            ]
          },
          "metadata": {}
        },
        {
          "output_type": "display_data",
          "data": {
            "text/plain": [
              "                           name                   regions    start_dt  \\\n",
              "0      Christmas&New Year Promo             EU, N.America  2020-12-25   \n",
              "1  St. Valentine's Day Giveaway  EU, CIS, APAC, N.America  2020-02-14   \n",
              "2        St. Patric's Day Promo             EU, N.America  2020-03-17   \n",
              "\n",
              "    finish_dt  \n",
              "0  2021-01-03  \n",
              "1  2020-02-16  \n",
              "2  2020-03-19  "
            ],
            "text/html": [
              "\n",
              "  <div id=\"df-008deaab-a96b-4ac7-be39-ca633b9641d9\">\n",
              "    <div class=\"colab-df-container\">\n",
              "      <div>\n",
              "<style scoped>\n",
              "    .dataframe tbody tr th:only-of-type {\n",
              "        vertical-align: middle;\n",
              "    }\n",
              "\n",
              "    .dataframe tbody tr th {\n",
              "        vertical-align: top;\n",
              "    }\n",
              "\n",
              "    .dataframe thead th {\n",
              "        text-align: right;\n",
              "    }\n",
              "</style>\n",
              "<table border=\"1\" class=\"dataframe\">\n",
              "  <thead>\n",
              "    <tr style=\"text-align: right;\">\n",
              "      <th></th>\n",
              "      <th>name</th>\n",
              "      <th>regions</th>\n",
              "      <th>start_dt</th>\n",
              "      <th>finish_dt</th>\n",
              "    </tr>\n",
              "  </thead>\n",
              "  <tbody>\n",
              "    <tr>\n",
              "      <th>0</th>\n",
              "      <td>Christmas&amp;New Year Promo</td>\n",
              "      <td>EU, N.America</td>\n",
              "      <td>2020-12-25</td>\n",
              "      <td>2021-01-03</td>\n",
              "    </tr>\n",
              "    <tr>\n",
              "      <th>1</th>\n",
              "      <td>St. Valentine's Day Giveaway</td>\n",
              "      <td>EU, CIS, APAC, N.America</td>\n",
              "      <td>2020-02-14</td>\n",
              "      <td>2020-02-16</td>\n",
              "    </tr>\n",
              "    <tr>\n",
              "      <th>2</th>\n",
              "      <td>St. Patric's Day Promo</td>\n",
              "      <td>EU, N.America</td>\n",
              "      <td>2020-03-17</td>\n",
              "      <td>2020-03-19</td>\n",
              "    </tr>\n",
              "  </tbody>\n",
              "</table>\n",
              "</div>\n",
              "      <button class=\"colab-df-convert\" onclick=\"convertToInteractive('df-008deaab-a96b-4ac7-be39-ca633b9641d9')\"\n",
              "              title=\"Convert this dataframe to an interactive table.\"\n",
              "              style=\"display:none;\">\n",
              "        \n",
              "  <svg xmlns=\"http://www.w3.org/2000/svg\" height=\"24px\"viewBox=\"0 0 24 24\"\n",
              "       width=\"24px\">\n",
              "    <path d=\"M0 0h24v24H0V0z\" fill=\"none\"/>\n",
              "    <path d=\"M18.56 5.44l.94 2.06.94-2.06 2.06-.94-2.06-.94-.94-2.06-.94 2.06-2.06.94zm-11 1L8.5 8.5l.94-2.06 2.06-.94-2.06-.94L8.5 2.5l-.94 2.06-2.06.94zm10 10l.94 2.06.94-2.06 2.06-.94-2.06-.94-.94-2.06-.94 2.06-2.06.94z\"/><path d=\"M17.41 7.96l-1.37-1.37c-.4-.4-.92-.59-1.43-.59-.52 0-1.04.2-1.43.59L10.3 9.45l-7.72 7.72c-.78.78-.78 2.05 0 2.83L4 21.41c.39.39.9.59 1.41.59.51 0 1.02-.2 1.41-.59l7.78-7.78 2.81-2.81c.8-.78.8-2.07 0-2.86zM5.41 20L4 18.59l7.72-7.72 1.47 1.35L5.41 20z\"/>\n",
              "  </svg>\n",
              "      </button>\n",
              "      \n",
              "  <style>\n",
              "    .colab-df-container {\n",
              "      display:flex;\n",
              "      flex-wrap:wrap;\n",
              "      gap: 12px;\n",
              "    }\n",
              "\n",
              "    .colab-df-convert {\n",
              "      background-color: #E8F0FE;\n",
              "      border: none;\n",
              "      border-radius: 50%;\n",
              "      cursor: pointer;\n",
              "      display: none;\n",
              "      fill: #1967D2;\n",
              "      height: 32px;\n",
              "      padding: 0 0 0 0;\n",
              "      width: 32px;\n",
              "    }\n",
              "\n",
              "    .colab-df-convert:hover {\n",
              "      background-color: #E2EBFA;\n",
              "      box-shadow: 0px 1px 2px rgba(60, 64, 67, 0.3), 0px 1px 3px 1px rgba(60, 64, 67, 0.15);\n",
              "      fill: #174EA6;\n",
              "    }\n",
              "\n",
              "    [theme=dark] .colab-df-convert {\n",
              "      background-color: #3B4455;\n",
              "      fill: #D2E3FC;\n",
              "    }\n",
              "\n",
              "    [theme=dark] .colab-df-convert:hover {\n",
              "      background-color: #434B5C;\n",
              "      box-shadow: 0px 1px 3px 1px rgba(0, 0, 0, 0.15);\n",
              "      filter: drop-shadow(0px 1px 2px rgba(0, 0, 0, 0.3));\n",
              "      fill: #FFFFFF;\n",
              "    }\n",
              "  </style>\n",
              "\n",
              "      <script>\n",
              "        const buttonEl =\n",
              "          document.querySelector('#df-008deaab-a96b-4ac7-be39-ca633b9641d9 button.colab-df-convert');\n",
              "        buttonEl.style.display =\n",
              "          google.colab.kernel.accessAllowed ? 'block' : 'none';\n",
              "\n",
              "        async function convertToInteractive(key) {\n",
              "          const element = document.querySelector('#df-008deaab-a96b-4ac7-be39-ca633b9641d9');\n",
              "          const dataTable =\n",
              "            await google.colab.kernel.invokeFunction('convertToInteractive',\n",
              "                                                     [key], {});\n",
              "          if (!dataTable) return;\n",
              "\n",
              "          const docLinkHtml = 'Like what you see? Visit the ' +\n",
              "            '<a target=\"_blank\" href=https://colab.research.google.com/notebooks/data_table.ipynb>data table notebook</a>'\n",
              "            + ' to learn more about interactive tables.';\n",
              "          element.innerHTML = '';\n",
              "          dataTable['output_type'] = 'display_data';\n",
              "          await google.colab.output.renderOutput(dataTable, element);\n",
              "          const docLink = document.createElement('div');\n",
              "          docLink.innerHTML = docLinkHtml;\n",
              "          element.appendChild(docLink);\n",
              "        }\n",
              "      </script>\n",
              "    </div>\n",
              "  </div>\n",
              "  "
            ]
          },
          "metadata": {}
        }
      ]
    },
    {
      "cell_type": "markdown",
      "metadata": {
        "id": "VNoOliKMtSrZ"
      },
      "source": [
        "Данные открылись без замечаний. В ряде столбцов нужно поменять типы."
      ]
    },
    {
      "cell_type": "markdown",
      "metadata": {
        "id": "CovXt6y6XSnn"
      },
      "source": [
        "## Выполним предобработку данных"
      ]
    },
    {
      "cell_type": "code",
      "execution_count": 8,
      "metadata": {
        "colab": {
          "base_uri": "https://localhost:8080/"
        },
        "id": "Ml5pC1Juh8iV",
        "outputId": "3744d2e0-9c13-419d-f938-ba55c6dfb622",
        "trusted": true
      },
      "outputs": [
        {
          "output_type": "execute_result",
          "data": {
            "text/plain": [
              "user_id      0.00\n",
              "first_date   0.00\n",
              "region       0.00\n",
              "device       0.00\n",
              "dtype: float64"
            ]
          },
          "metadata": {},
          "execution_count": 8
        }
      ],
      "source": [
        "users.isna().mean()"
      ]
    },
    {
      "cell_type": "code",
      "execution_count": 9,
      "metadata": {
        "colab": {
          "base_uri": "https://localhost:8080/"
        },
        "id": "fmUTI0PnjNLM",
        "outputId": "5910bb3b-f208-466f-d21a-f600369ba0a9",
        "trusted": true
      },
      "outputs": [
        {
          "output_type": "execute_result",
          "data": {
            "text/plain": [
              "0"
            ]
          },
          "metadata": {},
          "execution_count": 9
        }
      ],
      "source": [
        "users.duplicated().sum()"
      ]
    },
    {
      "cell_type": "code",
      "execution_count": 10,
      "metadata": {
        "colab": {
          "base_uri": "https://localhost:8080/"
        },
        "id": "82eUCA5xh_61",
        "outputId": "75d56ccd-678f-49c5-c4e7-7947439c890e",
        "trusted": true
      },
      "outputs": [
        {
          "output_type": "execute_result",
          "data": {
            "text/plain": [
              "user_id      0.00\n",
              "event_dt     0.00\n",
              "event_name   0.00\n",
              "details      0.86\n",
              "dtype: float64"
            ]
          },
          "metadata": {},
          "execution_count": 10
        }
      ],
      "source": [
        "events.isna().mean()"
      ]
    },
    {
      "cell_type": "code",
      "execution_count": 11,
      "metadata": {
        "colab": {
          "base_uri": "https://localhost:8080/"
        },
        "id": "V_eie5COi-4V",
        "outputId": "1b9aa33f-a0c0-4898-df09-d67ef91c8b1b",
        "trusted": true
      },
      "outputs": [
        {
          "output_type": "execute_result",
          "data": {
            "text/plain": [
              "0"
            ]
          },
          "metadata": {},
          "execution_count": 11
        }
      ],
      "source": [
        "events.duplicated().sum()"
      ]
    },
    {
      "cell_type": "code",
      "execution_count": 12,
      "metadata": {
        "colab": {
          "base_uri": "https://localhost:8080/"
        },
        "id": "-7d67JRbiC6a",
        "outputId": "75ebdb51-d8d7-4717-df3a-84437be6c70b",
        "trusted": true
      },
      "outputs": [
        {
          "output_type": "execute_result",
          "data": {
            "text/plain": [
              "user_id   0.00\n",
              "group     0.00\n",
              "ab_test   0.00\n",
              "dtype: float64"
            ]
          },
          "metadata": {},
          "execution_count": 12
        }
      ],
      "source": [
        "participants.isna().mean()"
      ]
    },
    {
      "cell_type": "code",
      "execution_count": 13,
      "metadata": {
        "colab": {
          "base_uri": "https://localhost:8080/"
        },
        "id": "-4IGz-eyjRmW",
        "outputId": "a89213bf-7b62-4dc2-ed48-4ad0e71688aa",
        "trusted": true
      },
      "outputs": [
        {
          "output_type": "execute_result",
          "data": {
            "text/plain": [
              "0"
            ]
          },
          "metadata": {},
          "execution_count": 13
        }
      ],
      "source": [
        "participants.duplicated().sum()"
      ]
    },
    {
      "cell_type": "code",
      "execution_count": 14,
      "metadata": {
        "colab": {
          "base_uri": "https://localhost:8080/"
        },
        "id": "qc_zg5xDiHpZ",
        "outputId": "4f9a6937-a452-4374-cdd9-c742378c2e47",
        "trusted": true
      },
      "outputs": [
        {
          "output_type": "execute_result",
          "data": {
            "text/plain": [
              "name        0.00\n",
              "regions     0.00\n",
              "start_dt    0.00\n",
              "finish_dt   0.00\n",
              "dtype: float64"
            ]
          },
          "metadata": {},
          "execution_count": 14
        }
      ],
      "source": [
        "marketing.isna().mean()"
      ]
    },
    {
      "cell_type": "code",
      "execution_count": 15,
      "metadata": {
        "colab": {
          "base_uri": "https://localhost:8080/"
        },
        "id": "17WgUHMSjXsu",
        "outputId": "35b29b44-1212-4b5d-9659-4ba6398bc209",
        "trusted": true
      },
      "outputs": [
        {
          "output_type": "execute_result",
          "data": {
            "text/plain": [
              "0"
            ]
          },
          "metadata": {},
          "execution_count": 15
        }
      ],
      "source": [
        "marketing.duplicated().sum()"
      ]
    },
    {
      "cell_type": "code",
      "execution_count": 16,
      "metadata": {
        "id": "AfPrGrG2mFzC",
        "trusted": true
      },
      "outputs": [],
      "source": [
        "users['first_date'] = pd.to_datetime(users['first_date'], format=('%Y-%m-%d'))\n",
        "\n",
        "events['event_dt_date'] = pd.to_datetime(events['event_dt']).dt.date\n",
        "events['event_dt_date'] = pd.to_datetime(events['event_dt_date'], format=('%Y-%m-%d'))\n",
        "\n",
        "marketing['start_dt'] =  pd.to_datetime(marketing['start_dt'], format=('%Y-%m-%d'))\n",
        "marketing['finish_dt'] =  pd.to_datetime(marketing['finish_dt'], format=('%Y-%m-%d'))"
      ]
    },
    {
      "cell_type": "markdown",
      "metadata": {
        "id": "R5BUGa4gtsLT"
      },
      "source": [
        "Проверили датафреймы на пропуски, явные дубликаты, поменяли тип в датах. Много пропусков в деталях событий. Они не повлияют на дальнейшее исследование."
      ]
    },
    {
      "cell_type": "markdown",
      "metadata": {
        "id": "n-IgoqQCXX2X"
      },
      "source": [
        "## Оценим корректность проведения теста"
      ]
    },
    {
      "cell_type": "markdown",
      "metadata": {
        "id": "LlWrjt8hXiW2"
      },
      "source": [
        "### Проверим корректность всех пунктов технического задания"
      ]
    },
    {
      "cell_type": "code",
      "execution_count": 17,
      "metadata": {
        "colab": {
          "base_uri": "https://localhost:8080/"
        },
        "id": "6NuSbByqxoEV",
        "outputId": "f918abdc-4af5-4812-a3d5-fe2965adc019",
        "trusted": true
      },
      "outputs": [
        {
          "output_type": "stream",
          "name": "stdout",
          "text": [
            "Всего в датасете участников 18268 строк\n"
          ]
        }
      ],
      "source": [
        "print('Всего в датасете участников', len(participants), 'строк')"
      ]
    },
    {
      "cell_type": "code",
      "execution_count": 18,
      "metadata": {
        "colab": {
          "base_uri": "https://localhost:8080/"
        },
        "id": "JHmn9U5mwlW8",
        "outputId": "4f5c920e-4e05-45c1-a6cb-3a66d2a166b0",
        "trusted": true
      },
      "outputs": [
        {
          "output_type": "stream",
          "name": "stdout",
          "text": [
            "В этих строках 16666 уникальных участников\n"
          ]
        }
      ],
      "source": [
        "print('В этих строках', participants['user_id'].nunique(), 'уникальных участников')"
      ]
    },
    {
      "cell_type": "code",
      "execution_count": 19,
      "metadata": {
        "colab": {
          "base_uri": "https://localhost:8080/",
          "height": 36
        },
        "id": "lxBO_VIxxy9W",
        "outputId": "8b685c09-4c9e-4ea4-9417-deb3be73fa56",
        "trusted": true
      },
      "outputs": [
        {
          "output_type": "execute_result",
          "data": {
            "text/plain": [
              "'Одинаковых пользователей для тестов recommender_system_test и interface_eu_test: 1602'"
            ],
            "application/vnd.google.colaboratory.intrinsic+json": {
              "type": "string"
            }
          },
          "metadata": {},
          "execution_count": 19
        }
      ],
      "source": [
        "all_group = set(participants.query('ab_test == \"recommender_system_test\"')['user_id']) & set(participants.query('ab_test == \"interface_eu_test\"')['user_id']) \n",
        "\n",
        "f'Одинаковых пользователей для тестов recommender_system_test и interface_eu_test: {len(all_group)}'"
      ]
    },
    {
      "cell_type": "code",
      "execution_count": 20,
      "metadata": {
        "id": "dG6xb4A55P_t",
        "trusted": true
      },
      "outputs": [],
      "source": [
        "participants = participants.drop_duplicates('user_id')"
      ]
    },
    {
      "cell_type": "markdown",
      "metadata": {
        "id": "_6xhmRe-wgzb"
      },
      "source": [
        "Удалили пересекающихся пользователей."
      ]
    },
    {
      "cell_type": "code",
      "execution_count": 21,
      "metadata": {
        "colab": {
          "base_uri": "https://localhost:8080/",
          "height": 36
        },
        "id": "F_lc6UNq5hkZ",
        "outputId": "ca7e3347-3b0f-4e1c-cbcb-4b4ec60593c7",
        "trusted": true
      },
      "outputs": [
        {
          "output_type": "execute_result",
          "data": {
            "text/plain": [
              "'Одинаковых пользователей для тестов recommender_system_test и interface_eu_test: 0'"
            ],
            "application/vnd.google.colaboratory.intrinsic+json": {
              "type": "string"
            }
          },
          "metadata": {},
          "execution_count": 21
        }
      ],
      "source": [
        "all_group = set(participants.query('ab_test == \"recommender_system_test\"')['user_id']) & set(participants.query('ab_test == \"interface_eu_test\"')['user_id']) \n",
        "\n",
        "f'Одинаковых пользователей для тестов recommender_system_test и interface_eu_test: {len(all_group)}'"
      ]
    },
    {
      "cell_type": "code",
      "source": [
        "sns.set_style('dark')\n",
        "\n",
        "plt.figure(figsize=(18, 6))\n",
        "\n",
        "sns.barplot(x='group', y='user_id', data=participants.groupby(['ab_test', 'group'])['user_id'].nunique().reset_index(), hue='ab_test')\n",
        "\n",
        "plt.title('Распределение уникальных участников по группам тестов')\n",
        "plt.xlabel('Тест и группа')\n",
        "plt.ylabel('Количество участников')\n",
        "plt.legend(loc='upper right', fontsize=10)\n",
        "plt.grid()\n",
        "\n",
        "plt.show()"
      ],
      "metadata": {
        "colab": {
          "base_uri": "https://localhost:8080/",
          "height": 404
        },
        "id": "82rfEkKmk7NM",
        "outputId": "dcddbe55-c6be-4f37-f186-69190400d6d1"
      },
      "execution_count": 22,
      "outputs": [
        {
          "output_type": "display_data",
          "data": {
            "text/plain": [
              "<Figure size 1296x432 with 1 Axes>"
            ],
            "image/png": "[encoded data removed]"
          },
          "metadata": {}
        }
      ]
    },
    {
      "cell_type": "markdown",
      "source": [
        "Группы смежного теста распределены поровну. В контрольной группе нашего теста `recommender_system_test` пользователей немного больше, чем в тестовой группе."
      ],
      "metadata": {
        "id": "jSDiLPX0lo1O"
      }
    },
    {
      "cell_type": "markdown",
      "source": [
        "Сохраним пользователей смежного теста, чтобы исключить их смешивание с пользователями нашего теста в остальных датафреймах."
      ],
      "metadata": {
        "id": "njs73WelmEso"
      }
    },
    {
      "cell_type": "code",
      "source": [
        "users_the_othert_test = participants[participants['ab_test'] != 'recommender_system_test']['user_id'].tolist()"
      ],
      "metadata": {
        "id": "Qzh3nDUjmSMh"
      },
      "execution_count": 23,
      "outputs": []
    },
    {
      "cell_type": "code",
      "execution_count": 24,
      "metadata": {
        "colab": {
          "base_uri": "https://localhost:8080/"
        },
        "id": "EOGPI8RBwlfg",
        "outputId": "ba298c33-2453-431f-9c12-7839e58ef689",
        "trusted": true
      },
      "outputs": [
        {
          "output_type": "execute_result",
          "data": {
            "text/plain": [
              "ab_test                  group\n",
              "interface_eu_test        A        5012\n",
              "                         B        4953\n",
              "recommender_system_test  A        3824\n",
              "                         B        2877\n",
              "Name: user_id, dtype: int64"
            ]
          },
          "metadata": {},
          "execution_count": 24
        }
      ],
      "source": [
        "participants.groupby(['ab_test', 'group'])['user_id'].count()"
      ]
    },
    {
      "cell_type": "markdown",
      "metadata": {
        "id": "CgFMJAHewqlk"
      },
      "source": [
        "В датафрейме участники двух тестов. Удалим второй, чтобы гарантированно избавиться от пересечений по тестам."
      ]
    },
    {
      "cell_type": "code",
      "execution_count": 25,
      "metadata": {
        "id": "3Jyjb3kn2U03",
        "trusted": true
      },
      "outputs": [],
      "source": [
        "participants= participants[participants['ab_test'] == 'recommender_system_test'].copy()"
      ]
    },
    {
      "cell_type": "code",
      "execution_count": 26,
      "metadata": {
        "colab": {
          "base_uri": "https://localhost:8080/"
        },
        "id": "uPkiJovN2t9o",
        "outputId": "58aeb487-dcee-48eb-ffd9-b37550594594",
        "trusted": true
      },
      "outputs": [
        {
          "output_type": "execute_result",
          "data": {
            "text/plain": [
              "ab_test                  group\n",
              "recommender_system_test  A        3824\n",
              "                         B        2877\n",
              "Name: user_id, dtype: int64"
            ]
          },
          "metadata": {},
          "execution_count": 26
        }
      ],
      "source": [
        "participants.groupby(['ab_test', 'group'])['user_id'].count()"
      ]
    },
    {
      "cell_type": "markdown",
      "metadata": {
        "id": "cDpSKLdZw3kd"
      },
      "source": [
        "Выборки распределены неравномерно. В контрольной группе на 1 тысячу участников больше, чем в тестовой.\n",
        "\n",
        "Еще раз убедимся, что нет пересечений пользователей."
      ]
    },
    {
      "cell_type": "code",
      "execution_count": 27,
      "metadata": {
        "colab": {
          "base_uri": "https://localhost:8080/",
          "height": 36
        },
        "id": "8ySc41XNJmL7",
        "outputId": "8fde8015-488e-49a8-9ab9-ff73545eac7a",
        "trusted": true
      },
      "outputs": [
        {
          "output_type": "execute_result",
          "data": {
            "text/plain": [
              "'Одинаковых пользователей для групп A и B: 0'"
            ],
            "application/vnd.google.colaboratory.intrinsic+json": {
              "type": "string"
            }
          },
          "metadata": {},
          "execution_count": 27
        }
      ],
      "source": [
        "all_group = set(participants.query('group == \"A\"')['user_id']) & set(participants.query('group == \"B\"')['user_id']) \n",
        "\n",
        "f'Одинаковых пользователей для групп A и B: {len(all_group)}'"
      ]
    },
    {
      "cell_type": "code",
      "execution_count": 28,
      "metadata": {
        "colab": {
          "base_uri": "https://localhost:8080/"
        },
        "id": "UR91zXH0290F",
        "outputId": "c74f8663-f6e6-4fc6-807e-fe9109075dbf",
        "trusted": true
      },
      "outputs": [
        {
          "output_type": "stream",
          "name": "stdout",
          "text": [
            "В тесте \"recommender_system_test\" 6701 уникальных пользователей\n"
          ]
        }
      ],
      "source": [
        "print('В тесте \"recommender_system_test\"', participants['user_id'].nunique(), 'уникальных пользователей')"
      ]
    },
    {
      "cell_type": "markdown",
      "metadata": {
        "id": "98g39VKniDnk"
      },
      "source": [
        "Рассмотрим датафрейм с пользователями со всего мира."
      ]
    },
    {
      "cell_type": "markdown",
      "metadata": {
        "id": "cWi-PezTx0z9"
      },
      "source": [
        "Исследуем регионы."
      ]
    },
    {
      "cell_type": "code",
      "execution_count": 29,
      "metadata": {
        "colab": {
          "base_uri": "https://localhost:8080/"
        },
        "id": "QYHUX2gR6eAp",
        "outputId": "a3b31c08-8302-4c84-bd8a-336a0e373a18",
        "trusted": true
      },
      "outputs": [
        {
          "output_type": "execute_result",
          "data": {
            "text/plain": [
              "EU           46270\n",
              "N.America     9155\n",
              "CIS           3155\n",
              "APAC          3153\n",
              "Name: region, dtype: int64"
            ]
          },
          "metadata": {},
          "execution_count": 29
        }
      ],
      "source": [
        "total_users = users.copy()\n",
        "\n",
        "total_users_by_regions = total_users['region'].value_counts()\n",
        "total_users_by_regions"
      ]
    },
    {
      "cell_type": "markdown",
      "metadata": {
        "id": "ya9cOojp2_A4"
      },
      "source": [
        "Оставим только европейских пользователей, так как регион проведения теста - Европа."
      ]
    },
    {
      "cell_type": "code",
      "execution_count": 30,
      "metadata": {
        "id": "E4wcgEBC-6NM",
        "trusted": true
      },
      "outputs": [],
      "source": [
        "users = users[users['region'] == 'EU'].copy()"
      ]
    },
    {
      "cell_type": "markdown",
      "metadata": {
        "id": "B3p0CSmzybGo"
      },
      "source": [
        "Исследуем даты регистрации европейских пользователей. Для начала избавимся от пользователей из смежного теста, если такие есть."
      ]
    },
    {
      "cell_type": "code",
      "source": [
        "before = users['user_id'].nunique()"
      ],
      "metadata": {
        "id": "2yIaK-43ol4S"
      },
      "execution_count": 31,
      "outputs": []
    },
    {
      "cell_type": "code",
      "source": [
        "users = users.query('user_id not in @users_the_othert_test').copy()"
      ],
      "metadata": {
        "id": "6_jORiUOoJem"
      },
      "execution_count": 32,
      "outputs": []
    },
    {
      "cell_type": "code",
      "source": [
        "after = users['user_id'].nunique()"
      ],
      "metadata": {
        "id": "Kn1nEfseotsr"
      },
      "execution_count": 33,
      "outputs": []
    },
    {
      "cell_type": "code",
      "source": [
        "if before == after:\n",
        "  print('Количество уникальных пользователей не изменилось -', after)\n",
        "else:\n",
        "  print('Количество уникальных пользователей уменьшилось. Было -', before, 'Стало -', after,\\\n",
        "        'Изменения -', round(((after / before * 100) - 100), 2), '%')"
      ],
      "metadata": {
        "colab": {
          "base_uri": "https://localhost:8080/"
        },
        "id": "-UnmYm9Po-hR",
        "outputId": "2e4a7b5d-32ca-4bf2-8c87-a86e9ccfec81"
      },
      "execution_count": 34,
      "outputs": [
        {
          "output_type": "stream",
          "name": "stdout",
          "text": [
            "Количество уникальных пользователей уменьшилось. Было - 46270 Стало - 36305 Изменения - -21.54 %\n"
          ]
        }
      ]
    },
    {
      "cell_type": "code",
      "execution_count": 35,
      "metadata": {
        "colab": {
          "base_uri": "https://localhost:8080/",
          "height": 582
        },
        "id": "sydWdR1f7LvS",
        "outputId": "af4e12a6-f6ca-454b-b4dc-28afd6df572d",
        "scrolled": true,
        "trusted": true
      },
      "outputs": [
        {
          "output_type": "execute_result",
          "data": {
            "text/plain": [
              "        index  first_date\n",
              "2  2020-12-07        3337\n",
              "8  2020-12-08        1900\n",
              "14 2020-12-09        1258\n",
              "9  2020-12-10        1888\n",
              "13 2020-12-11        1415\n",
              "5  2020-12-12        2290\n",
              "3  2020-12-13        2773\n",
              "1  2020-12-14        3356\n",
              "10 2020-12-15        1797\n",
              "15 2020-12-16        1258\n",
              "11 2020-12-17        1782\n",
              "7  2020-12-18        2016\n",
              "6  2020-12-19        2119\n",
              "4  2020-12-20        2539\n",
              "0  2020-12-21        3649\n",
              "12 2020-12-22        1705\n",
              "16 2020-12-23        1223"
            ],
            "text/html": [
              "\n",
              "  <div id=\"df-5d919756-c4ae-484c-95f0-4e01a3b6d9ea\">\n",
              "    <div class=\"colab-df-container\">\n",
              "      <div>\n",
              "<style scoped>\n",
              "    .dataframe tbody tr th:only-of-type {\n",
              "        vertical-align: middle;\n",
              "    }\n",
              "\n",
              "    .dataframe tbody tr th {\n",
              "        vertical-align: top;\n",
              "    }\n",
              "\n",
              "    .dataframe thead th {\n",
              "        text-align: right;\n",
              "    }\n",
              "</style>\n",
              "<table border=\"1\" class=\"dataframe\">\n",
              "  <thead>\n",
              "    <tr style=\"text-align: right;\">\n",
              "      <th></th>\n",
              "      <th>index</th>\n",
              "      <th>first_date</th>\n",
              "    </tr>\n",
              "  </thead>\n",
              "  <tbody>\n",
              "    <tr>\n",
              "      <th>2</th>\n",
              "      <td>2020-12-07</td>\n",
              "      <td>3337</td>\n",
              "    </tr>\n",
              "    <tr>\n",
              "      <th>8</th>\n",
              "      <td>2020-12-08</td>\n",
              "      <td>1900</td>\n",
              "    </tr>\n",
              "    <tr>\n",
              "      <th>14</th>\n",
              "      <td>2020-12-09</td>\n",
              "      <td>1258</td>\n",
              "    </tr>\n",
              "    <tr>\n",
              "      <th>9</th>\n",
              "      <td>2020-12-10</td>\n",
              "      <td>1888</td>\n",
              "    </tr>\n",
              "    <tr>\n",
              "      <th>13</th>\n",
              "      <td>2020-12-11</td>\n",
              "      <td>1415</td>\n",
              "    </tr>\n",
              "    <tr>\n",
              "      <th>5</th>\n",
              "      <td>2020-12-12</td>\n",
              "      <td>2290</td>\n",
              "    </tr>\n",
              "    <tr>\n",
              "      <th>3</th>\n",
              "      <td>2020-12-13</td>\n",
              "      <td>2773</td>\n",
              "    </tr>\n",
              "    <tr>\n",
              "      <th>1</th>\n",
              "      <td>2020-12-14</td>\n",
              "      <td>3356</td>\n",
              "    </tr>\n",
              "    <tr>\n",
              "      <th>10</th>\n",
              "      <td>2020-12-15</td>\n",
              "      <td>1797</td>\n",
              "    </tr>\n",
              "    <tr>\n",
              "      <th>15</th>\n",
              "      <td>2020-12-16</td>\n",
              "      <td>1258</td>\n",
              "    </tr>\n",
              "    <tr>\n",
              "      <th>11</th>\n",
              "      <td>2020-12-17</td>\n",
              "      <td>1782</td>\n",
              "    </tr>\n",
              "    <tr>\n",
              "      <th>7</th>\n",
              "      <td>2020-12-18</td>\n",
              "      <td>2016</td>\n",
              "    </tr>\n",
              "    <tr>\n",
              "      <th>6</th>\n",
              "      <td>2020-12-19</td>\n",
              "      <td>2119</td>\n",
              "    </tr>\n",
              "    <tr>\n",
              "      <th>4</th>\n",
              "      <td>2020-12-20</td>\n",
              "      <td>2539</td>\n",
              "    </tr>\n",
              "    <tr>\n",
              "      <th>0</th>\n",
              "      <td>2020-12-21</td>\n",
              "      <td>3649</td>\n",
              "    </tr>\n",
              "    <tr>\n",
              "      <th>12</th>\n",
              "      <td>2020-12-22</td>\n",
              "      <td>1705</td>\n",
              "    </tr>\n",
              "    <tr>\n",
              "      <th>16</th>\n",
              "      <td>2020-12-23</td>\n",
              "      <td>1223</td>\n",
              "    </tr>\n",
              "  </tbody>\n",
              "</table>\n",
              "</div>\n",
              "      <button class=\"colab-df-convert\" onclick=\"convertToInteractive('df-5d919756-c4ae-484c-95f0-4e01a3b6d9ea')\"\n",
              "              title=\"Convert this dataframe to an interactive table.\"\n",
              "              style=\"display:none;\">\n",
              "        \n",
              "  <svg xmlns=\"http://www.w3.org/2000/svg\" height=\"24px\"viewBox=\"0 0 24 24\"\n",
              "       width=\"24px\">\n",
              "    <path d=\"M0 0h24v24H0V0z\" fill=\"none\"/>\n",
              "    <path d=\"M18.56 5.44l.94 2.06.94-2.06 2.06-.94-2.06-.94-.94-2.06-.94 2.06-2.06.94zm-11 1L8.5 8.5l.94-2.06 2.06-.94-2.06-.94L8.5 2.5l-.94 2.06-2.06.94zm10 10l.94 2.06.94-2.06 2.06-.94-2.06-.94-.94-2.06-.94 2.06-2.06.94z\"/><path d=\"M17.41 7.96l-1.37-1.37c-.4-.4-.92-.59-1.43-.59-.52 0-1.04.2-1.43.59L10.3 9.45l-7.72 7.72c-.78.78-.78 2.05 0 2.83L4 21.41c.39.39.9.59 1.41.59.51 0 1.02-.2 1.41-.59l7.78-7.78 2.81-2.81c.8-.78.8-2.07 0-2.86zM5.41 20L4 18.59l7.72-7.72 1.47 1.35L5.41 20z\"/>\n",
              "  </svg>\n",
              "      </button>\n",
              "      \n",
              "  <style>\n",
              "    .colab-df-container {\n",
              "      display:flex;\n",
              "      flex-wrap:wrap;\n",
              "      gap: 12px;\n",
              "    }\n",
              "\n",
              "    .colab-df-convert {\n",
              "      background-color: #E8F0FE;\n",
              "      border: none;\n",
              "      border-radius: 50%;\n",
              "      cursor: pointer;\n",
              "      display: none;\n",
              "      fill: #1967D2;\n",
              "      height: 32px;\n",
              "      padding: 0 0 0 0;\n",
              "      width: 32px;\n",
              "    }\n",
              "\n",
              "    .colab-df-convert:hover {\n",
              "      background-color: #E2EBFA;\n",
              "      box-shadow: 0px 1px 2px rgba(60, 64, 67, 0.3), 0px 1px 3px 1px rgba(60, 64, 67, 0.15);\n",
              "      fill: #174EA6;\n",
              "    }\n",
              "\n",
              "    [theme=dark] .colab-df-convert {\n",
              "      background-color: #3B4455;\n",
              "      fill: #D2E3FC;\n",
              "    }\n",
              "\n",
              "    [theme=dark] .colab-df-convert:hover {\n",
              "      background-color: #434B5C;\n",
              "      box-shadow: 0px 1px 3px 1px rgba(0, 0, 0, 0.15);\n",
              "      filter: drop-shadow(0px 1px 2px rgba(0, 0, 0, 0.3));\n",
              "      fill: #FFFFFF;\n",
              "    }\n",
              "  </style>\n",
              "\n",
              "      <script>\n",
              "        const buttonEl =\n",
              "          document.querySelector('#df-5d919756-c4ae-484c-95f0-4e01a3b6d9ea button.colab-df-convert');\n",
              "        buttonEl.style.display =\n",
              "          google.colab.kernel.accessAllowed ? 'block' : 'none';\n",
              "\n",
              "        async function convertToInteractive(key) {\n",
              "          const element = document.querySelector('#df-5d919756-c4ae-484c-95f0-4e01a3b6d9ea');\n",
              "          const dataTable =\n",
              "            await google.colab.kernel.invokeFunction('convertToInteractive',\n",
              "                                                     [key], {});\n",
              "          if (!dataTable) return;\n",
              "\n",
              "          const docLinkHtml = 'Like what you see? Visit the ' +\n",
              "            '<a target=\"_blank\" href=https://colab.research.google.com/notebooks/data_table.ipynb>data table notebook</a>'\n",
              "            + ' to learn more about interactive tables.';\n",
              "          element.innerHTML = '';\n",
              "          dataTable['output_type'] = 'display_data';\n",
              "          await google.colab.output.renderOutput(dataTable, element);\n",
              "          const docLink = document.createElement('div');\n",
              "          docLink.innerHTML = docLinkHtml;\n",
              "          element.appendChild(docLink);\n",
              "        }\n",
              "      </script>\n",
              "    </div>\n",
              "  </div>\n",
              "  "
            ]
          },
          "metadata": {},
          "execution_count": 35
        }
      ],
      "source": [
        "users['first_date'].value_counts().reset_index().sort_values(by = 'index')"
      ]
    },
    {
      "cell_type": "markdown",
      "metadata": {
        "id": "k_4Avg1Bym8C"
      },
      "source": [
        "Согласно ТЗ, в тесте участвуют пользователи, зарегистрировавшиеся не позднее 2020-12-21. Отсечем лишнее."
      ]
    },
    {
      "cell_type": "code",
      "execution_count": 36,
      "metadata": {
        "id": "ntzJNgo9_OY9",
        "trusted": true
      },
      "outputs": [],
      "source": [
        "users = users[users['first_date'] <= '2020-12-21']"
      ]
    },
    {
      "cell_type": "code",
      "execution_count": 37,
      "metadata": {
        "colab": {
          "base_uri": "https://localhost:8080/",
          "height": 519
        },
        "id": "0SD19H3Gib2V",
        "outputId": "1dd6cd80-e708-44e3-9a24-4796688ab77d",
        "trusted": true
      },
      "outputs": [
        {
          "output_type": "execute_result",
          "data": {
            "text/plain": [
              "        index  first_date\n",
              "2  2020-12-07        3337\n",
              "8  2020-12-08        1900\n",
              "13 2020-12-09        1258\n",
              "9  2020-12-10        1888\n",
              "12 2020-12-11        1415\n",
              "5  2020-12-12        2290\n",
              "3  2020-12-13        2773\n",
              "1  2020-12-14        3356\n",
              "10 2020-12-15        1797\n",
              "14 2020-12-16        1258\n",
              "11 2020-12-17        1782\n",
              "7  2020-12-18        2016\n",
              "6  2020-12-19        2119\n",
              "4  2020-12-20        2539\n",
              "0  2020-12-21        3649"
            ],
            "text/html": [
              "\n",
              "  <div id=\"df-c3aac13f-4fc5-4e3d-ac62-842fc3efa096\">\n",
              "    <div class=\"colab-df-container\">\n",
              "      <div>\n",
              "<style scoped>\n",
              "    .dataframe tbody tr th:only-of-type {\n",
              "        vertical-align: middle;\n",
              "    }\n",
              "\n",
              "    .dataframe tbody tr th {\n",
              "        vertical-align: top;\n",
              "    }\n",
              "\n",
              "    .dataframe thead th {\n",
              "        text-align: right;\n",
              "    }\n",
              "</style>\n",
              "<table border=\"1\" class=\"dataframe\">\n",
              "  <thead>\n",
              "    <tr style=\"text-align: right;\">\n",
              "      <th></th>\n",
              "      <th>index</th>\n",
              "      <th>first_date</th>\n",
              "    </tr>\n",
              "  </thead>\n",
              "  <tbody>\n",
              "    <tr>\n",
              "      <th>2</th>\n",
              "      <td>2020-12-07</td>\n",
              "      <td>3337</td>\n",
              "    </tr>\n",
              "    <tr>\n",
              "      <th>8</th>\n",
              "      <td>2020-12-08</td>\n",
              "      <td>1900</td>\n",
              "    </tr>\n",
              "    <tr>\n",
              "      <th>13</th>\n",
              "      <td>2020-12-09</td>\n",
              "      <td>1258</td>\n",
              "    </tr>\n",
              "    <tr>\n",
              "      <th>9</th>\n",
              "      <td>2020-12-10</td>\n",
              "      <td>1888</td>\n",
              "    </tr>\n",
              "    <tr>\n",
              "      <th>12</th>\n",
              "      <td>2020-12-11</td>\n",
              "      <td>1415</td>\n",
              "    </tr>\n",
              "    <tr>\n",
              "      <th>5</th>\n",
              "      <td>2020-12-12</td>\n",
              "      <td>2290</td>\n",
              "    </tr>\n",
              "    <tr>\n",
              "      <th>3</th>\n",
              "      <td>2020-12-13</td>\n",
              "      <td>2773</td>\n",
              "    </tr>\n",
              "    <tr>\n",
              "      <th>1</th>\n",
              "      <td>2020-12-14</td>\n",
              "      <td>3356</td>\n",
              "    </tr>\n",
              "    <tr>\n",
              "      <th>10</th>\n",
              "      <td>2020-12-15</td>\n",
              "      <td>1797</td>\n",
              "    </tr>\n",
              "    <tr>\n",
              "      <th>14</th>\n",
              "      <td>2020-12-16</td>\n",
              "      <td>1258</td>\n",
              "    </tr>\n",
              "    <tr>\n",
              "      <th>11</th>\n",
              "      <td>2020-12-17</td>\n",
              "      <td>1782</td>\n",
              "    </tr>\n",
              "    <tr>\n",
              "      <th>7</th>\n",
              "      <td>2020-12-18</td>\n",
              "      <td>2016</td>\n",
              "    </tr>\n",
              "    <tr>\n",
              "      <th>6</th>\n",
              "      <td>2020-12-19</td>\n",
              "      <td>2119</td>\n",
              "    </tr>\n",
              "    <tr>\n",
              "      <th>4</th>\n",
              "      <td>2020-12-20</td>\n",
              "      <td>2539</td>\n",
              "    </tr>\n",
              "    <tr>\n",
              "      <th>0</th>\n",
              "      <td>2020-12-21</td>\n",
              "      <td>3649</td>\n",
              "    </tr>\n",
              "  </tbody>\n",
              "</table>\n",
              "</div>\n",
              "      <button class=\"colab-df-convert\" onclick=\"convertToInteractive('df-c3aac13f-4fc5-4e3d-ac62-842fc3efa096')\"\n",
              "              title=\"Convert this dataframe to an interactive table.\"\n",
              "              style=\"display:none;\">\n",
              "        \n",
              "  <svg xmlns=\"http://www.w3.org/2000/svg\" height=\"24px\"viewBox=\"0 0 24 24\"\n",
              "       width=\"24px\">\n",
              "    <path d=\"M0 0h24v24H0V0z\" fill=\"none\"/>\n",
              "    <path d=\"M18.56 5.44l.94 2.06.94-2.06 2.06-.94-2.06-.94-.94-2.06-.94 2.06-2.06.94zm-11 1L8.5 8.5l.94-2.06 2.06-.94-2.06-.94L8.5 2.5l-.94 2.06-2.06.94zm10 10l.94 2.06.94-2.06 2.06-.94-2.06-.94-.94-2.06-.94 2.06-2.06.94z\"/><path d=\"M17.41 7.96l-1.37-1.37c-.4-.4-.92-.59-1.43-.59-.52 0-1.04.2-1.43.59L10.3 9.45l-7.72 7.72c-.78.78-.78 2.05 0 2.83L4 21.41c.39.39.9.59 1.41.59.51 0 1.02-.2 1.41-.59l7.78-7.78 2.81-2.81c.8-.78.8-2.07 0-2.86zM5.41 20L4 18.59l7.72-7.72 1.47 1.35L5.41 20z\"/>\n",
              "  </svg>\n",
              "      </button>\n",
              "      \n",
              "  <style>\n",
              "    .colab-df-container {\n",
              "      display:flex;\n",
              "      flex-wrap:wrap;\n",
              "      gap: 12px;\n",
              "    }\n",
              "\n",
              "    .colab-df-convert {\n",
              "      background-color: #E8F0FE;\n",
              "      border: none;\n",
              "      border-radius: 50%;\n",
              "      cursor: pointer;\n",
              "      display: none;\n",
              "      fill: #1967D2;\n",
              "      height: 32px;\n",
              "      padding: 0 0 0 0;\n",
              "      width: 32px;\n",
              "    }\n",
              "\n",
              "    .colab-df-convert:hover {\n",
              "      background-color: #E2EBFA;\n",
              "      box-shadow: 0px 1px 2px rgba(60, 64, 67, 0.3), 0px 1px 3px 1px rgba(60, 64, 67, 0.15);\n",
              "      fill: #174EA6;\n",
              "    }\n",
              "\n",
              "    [theme=dark] .colab-df-convert {\n",
              "      background-color: #3B4455;\n",
              "      fill: #D2E3FC;\n",
              "    }\n",
              "\n",
              "    [theme=dark] .colab-df-convert:hover {\n",
              "      background-color: #434B5C;\n",
              "      box-shadow: 0px 1px 3px 1px rgba(0, 0, 0, 0.15);\n",
              "      filter: drop-shadow(0px 1px 2px rgba(0, 0, 0, 0.3));\n",
              "      fill: #FFFFFF;\n",
              "    }\n",
              "  </style>\n",
              "\n",
              "      <script>\n",
              "        const buttonEl =\n",
              "          document.querySelector('#df-c3aac13f-4fc5-4e3d-ac62-842fc3efa096 button.colab-df-convert');\n",
              "        buttonEl.style.display =\n",
              "          google.colab.kernel.accessAllowed ? 'block' : 'none';\n",
              "\n",
              "        async function convertToInteractive(key) {\n",
              "          const element = document.querySelector('#df-c3aac13f-4fc5-4e3d-ac62-842fc3efa096');\n",
              "          const dataTable =\n",
              "            await google.colab.kernel.invokeFunction('convertToInteractive',\n",
              "                                                     [key], {});\n",
              "          if (!dataTable) return;\n",
              "\n",
              "          const docLinkHtml = 'Like what you see? Visit the ' +\n",
              "            '<a target=\"_blank\" href=https://colab.research.google.com/notebooks/data_table.ipynb>data table notebook</a>'\n",
              "            + ' to learn more about interactive tables.';\n",
              "          element.innerHTML = '';\n",
              "          dataTable['output_type'] = 'display_data';\n",
              "          await google.colab.output.renderOutput(dataTable, element);\n",
              "          const docLink = document.createElement('div');\n",
              "          docLink.innerHTML = docLinkHtml;\n",
              "          element.appendChild(docLink);\n",
              "        }\n",
              "      </script>\n",
              "    </div>\n",
              "  </div>\n",
              "  "
            ]
          },
          "metadata": {},
          "execution_count": 37
        }
      ],
      "source": [
        "users['first_date'].value_counts().reset_index().sort_values(by = 'index')"
      ]
    },
    {
      "cell_type": "code",
      "execution_count": 38,
      "metadata": {
        "colab": {
          "base_uri": "https://localhost:8080/",
          "height": 404
        },
        "id": "VPH1JQprzTEn",
        "outputId": "5525c3d1-d4f7-4c35-a4cb-711cf751d1ad",
        "trusted": true
      },
      "outputs": [
        {
          "output_type": "display_data",
          "data": {
            "text/plain": [
              "<Figure size 1296x432 with 1 Axes>"
            ],
            "image/png": "[encoded data removed]"
          },
          "metadata": {}
        }
      ],
      "source": [
        "users['first_date'].hist(bins = 15, figsize=(18, 6))\n",
        "\n",
        "plt.title('Распределение регистраций пользователей по периоду наблюдения')\n",
        "plt.xlabel('Даты регистраций')\n",
        "plt.ylabel('Количество регистраций');"
      ]
    },
    {
      "cell_type": "markdown",
      "metadata": {
        "id": "gRwrQ9v9z2J6"
      },
      "source": [
        "Новые пользователи приходили каждый день. Пиковые значения наблюдаются в начале каждой недели проведения теста. Отметим, что эти даты - 7, 14, 21 декабря - понедельники."
      ]
    },
    {
      "cell_type": "code",
      "execution_count": 39,
      "metadata": {
        "colab": {
          "base_uri": "https://localhost:8080/"
        },
        "id": "cNrPpN6EN0Jp",
        "outputId": "dc5214b1-838f-4eeb-f720-ef5bc933fc41",
        "trusted": true
      },
      "outputs": [
        {
          "output_type": "stream",
          "name": "stdout",
          "text": [
            "На данном этапе в датафрейме с пользователями 33377 уникальных пользователей из Европы\n"
          ]
        }
      ],
      "source": [
        "print('На данном этапе в датафрейме с пользователями', users['user_id'].nunique(), 'уникальных пользователей из Европы')"
      ]
    },
    {
      "cell_type": "markdown",
      "metadata": {
        "id": "0axhJaKy__PH"
      },
      "source": [
        "Вспомним, сколько у нас уникальных участников теста."
      ]
    },
    {
      "cell_type": "code",
      "execution_count": 40,
      "metadata": {
        "colab": {
          "base_uri": "https://localhost:8080/"
        },
        "id": "YD7s2bD9P4Tu",
        "outputId": "45bdb944-12c2-49a5-b487-fcd1430d47f4",
        "trusted": true
      },
      "outputs": [
        {
          "output_type": "execute_result",
          "data": {
            "text/plain": [
              "6701"
            ]
          },
          "metadata": {},
          "execution_count": 40
        }
      ],
      "source": [
        "participants['user_id'].nunique()"
      ]
    },
    {
      "cell_type": "markdown",
      "metadata": {
        "id": "lQMtnW9P1I39"
      },
      "source": [
        "Отфильтруем пользователей, оставим тех, кто является участниками теста."
      ]
    },
    {
      "cell_type": "code",
      "execution_count": 41,
      "metadata": {
        "id": "bqEMZnZNOOrE",
        "trusted": true
      },
      "outputs": [],
      "source": [
        "test_participants = participants['user_id'].tolist()"
      ]
    },
    {
      "cell_type": "code",
      "execution_count": 42,
      "metadata": {
        "id": "pP9ZZ5HDhcuL",
        "trusted": true
      },
      "outputs": [],
      "source": [
        "users = users.query('user_id in @test_participants')"
      ]
    },
    {
      "cell_type": "code",
      "execution_count": 43,
      "metadata": {
        "colab": {
          "base_uri": "https://localhost:8080/"
        },
        "id": "pJy7WCSHQDRE",
        "outputId": "5514cff9-fa1e-4e68-9d45-be24ff44d4c6",
        "trusted": true
      },
      "outputs": [
        {
          "output_type": "stream",
          "name": "stdout",
          "text": [
            "Изначально уникальных участников теста -  6701\n",
            "Уникальных участников после фильтрации по дате регистрации и региону -  6351\n",
            "Количество уникальных участников уменьшилось на  5.22 %\n"
          ]
        }
      ],
      "source": [
        "print('Изначально уникальных участников теста - ', participants['user_id'].nunique())\n",
        "print('Уникальных участников после фильтрации по дате регистрации и региону - ', users['user_id'].nunique())\n",
        "print('Количество уникальных участников уменьшилось на ', round(100 - (users['user_id'].nunique() / participants['user_id'].nunique() * 100), 2), '%')"
      ]
    },
    {
      "cell_type": "markdown",
      "metadata": {
        "id": "DyVFcpU9_mVw"
      },
      "source": [
        "Обновим переменную `test_participants` с отфильтрованными по региону, дате регистрации уникальными участниками теста."
      ]
    },
    {
      "cell_type": "code",
      "execution_count": 44,
      "metadata": {
        "id": "tGHIbdkVTbYF",
        "trusted": true
      },
      "outputs": [],
      "source": [
        "test_participants = users['user_id'].tolist()"
      ]
    },
    {
      "cell_type": "markdown",
      "metadata": {
        "id": "KNDM7MCHAVBs"
      },
      "source": [
        "Рассмотрим датафрейм с событиями."
      ]
    },
    {
      "cell_type": "code",
      "execution_count": 45,
      "metadata": {
        "colab": {
          "base_uri": "https://localhost:8080/"
        },
        "id": "-Cdwc_tp_PLP",
        "outputId": "d77a551a-2828-41d8-8bbd-d66f576e2fa4",
        "trusted": true
      },
      "outputs": [
        {
          "output_type": "execute_result",
          "data": {
            "text/plain": [
              "login           189552\n",
              "product_page    125563\n",
              "purchase         62740\n",
              "product_cart     62462\n",
              "Name: event_name, dtype: int64"
            ]
          },
          "metadata": {},
          "execution_count": 45
        }
      ],
      "source": [
        "events['event_name'].value_counts()"
      ]
    },
    {
      "cell_type": "markdown",
      "metadata": {
        "id": "KBgZC7NtAjlm"
      },
      "source": [
        "Перед нами простая продуктовая воронка. Последовательность действий клиентов для осуществления цели действия нестрогая. Число оплативших больше, чем число положивших в корзину. Возможно, на сайте есть опция быстрой покупки или покупки со сторонних площадок.\n",
        "\n",
        "Логично предположить, что последовательность действия нарушена. \n",
        "Верная последовательность:\n",
        "\n",
        "    login           \n",
        "    product_page  \n",
        "    product_cart\n",
        "    purchase        \n",
        "\n",
        "Учтем это в дальнейшем.\n",
        "     "
      ]
    },
    {
      "cell_type": "code",
      "execution_count": 46,
      "metadata": {
        "colab": {
          "base_uri": "https://localhost:8080/",
          "height": 802
        },
        "id": "teVg4_qX_2ZW",
        "outputId": "3c67bd7d-9a25-4d44-ce05-a8606dd32749",
        "scrolled": true,
        "trusted": true
      },
      "outputs": [
        {
          "output_type": "execute_result",
          "data": {
            "text/plain": [
              "        index  event_dt_date\n",
              "20 2020-12-07          11385\n",
              "17 2020-12-08          12547\n",
              "19 2020-12-09          12122\n",
              "14 2020-12-10          14077\n",
              "16 2020-12-11          13864\n",
              "12 2020-12-12          17634\n",
              "9  2020-12-13          20985\n",
              "3  2020-12-14          26184\n",
              "6  2020-12-15          23469\n",
              "10 2020-12-16          20909\n",
              "8  2020-12-17          21751\n",
              "7  2020-12-18          22871\n",
              "5  2020-12-19          24273\n",
              "2  2020-12-20          26425\n",
              "0  2020-12-21          32559\n",
              "1  2020-12-22          29472\n",
              "4  2020-12-23          26108\n",
              "11 2020-12-24          19399\n",
              "13 2020-12-25          16556\n",
              "15 2020-12-26          14058\n",
              "18 2020-12-27          12420\n",
              "21 2020-12-28          11014\n",
              "22 2020-12-29          10146\n",
              "23 2020-12-30             89"
            ],
            "text/html": [
              "\n",
              "  <div id=\"df-c29babe6-861c-4ed2-a565-0aa7542b2394\">\n",
              "    <div class=\"colab-df-container\">\n",
              "      <div>\n",
              "<style scoped>\n",
              "    .dataframe tbody tr th:only-of-type {\n",
              "        vertical-align: middle;\n",
              "    }\n",
              "\n",
              "    .dataframe tbody tr th {\n",
              "        vertical-align: top;\n",
              "    }\n",
              "\n",
              "    .dataframe thead th {\n",
              "        text-align: right;\n",
              "    }\n",
              "</style>\n",
              "<table border=\"1\" class=\"dataframe\">\n",
              "  <thead>\n",
              "    <tr style=\"text-align: right;\">\n",
              "      <th></th>\n",
              "      <th>index</th>\n",
              "      <th>event_dt_date</th>\n",
              "    </tr>\n",
              "  </thead>\n",
              "  <tbody>\n",
              "    <tr>\n",
              "      <th>20</th>\n",
              "      <td>2020-12-07</td>\n",
              "      <td>11385</td>\n",
              "    </tr>\n",
              "    <tr>\n",
              "      <th>17</th>\n",
              "      <td>2020-12-08</td>\n",
              "      <td>12547</td>\n",
              "    </tr>\n",
              "    <tr>\n",
              "      <th>19</th>\n",
              "      <td>2020-12-09</td>\n",
              "      <td>12122</td>\n",
              "    </tr>\n",
              "    <tr>\n",
              "      <th>14</th>\n",
              "      <td>2020-12-10</td>\n",
              "      <td>14077</td>\n",
              "    </tr>\n",
              "    <tr>\n",
              "      <th>16</th>\n",
              "      <td>2020-12-11</td>\n",
              "      <td>13864</td>\n",
              "    </tr>\n",
              "    <tr>\n",
              "      <th>12</th>\n",
              "      <td>2020-12-12</td>\n",
              "      <td>17634</td>\n",
              "    </tr>\n",
              "    <tr>\n",
              "      <th>9</th>\n",
              "      <td>2020-12-13</td>\n",
              "      <td>20985</td>\n",
              "    </tr>\n",
              "    <tr>\n",
              "      <th>3</th>\n",
              "      <td>2020-12-14</td>\n",
              "      <td>26184</td>\n",
              "    </tr>\n",
              "    <tr>\n",
              "      <th>6</th>\n",
              "      <td>2020-12-15</td>\n",
              "      <td>23469</td>\n",
              "    </tr>\n",
              "    <tr>\n",
              "      <th>10</th>\n",
              "      <td>2020-12-16</td>\n",
              "      <td>20909</td>\n",
              "    </tr>\n",
              "    <tr>\n",
              "      <th>8</th>\n",
              "      <td>2020-12-17</td>\n",
              "      <td>21751</td>\n",
              "    </tr>\n",
              "    <tr>\n",
              "      <th>7</th>\n",
              "      <td>2020-12-18</td>\n",
              "      <td>22871</td>\n",
              "    </tr>\n",
              "    <tr>\n",
              "      <th>5</th>\n",
              "      <td>2020-12-19</td>\n",
              "      <td>24273</td>\n",
              "    </tr>\n",
              "    <tr>\n",
              "      <th>2</th>\n",
              "      <td>2020-12-20</td>\n",
              "      <td>26425</td>\n",
              "    </tr>\n",
              "    <tr>\n",
              "      <th>0</th>\n",
              "      <td>2020-12-21</td>\n",
              "      <td>32559</td>\n",
              "    </tr>\n",
              "    <tr>\n",
              "      <th>1</th>\n",
              "      <td>2020-12-22</td>\n",
              "      <td>29472</td>\n",
              "    </tr>\n",
              "    <tr>\n",
              "      <th>4</th>\n",
              "      <td>2020-12-23</td>\n",
              "      <td>26108</td>\n",
              "    </tr>\n",
              "    <tr>\n",
              "      <th>11</th>\n",
              "      <td>2020-12-24</td>\n",
              "      <td>19399</td>\n",
              "    </tr>\n",
              "    <tr>\n",
              "      <th>13</th>\n",
              "      <td>2020-12-25</td>\n",
              "      <td>16556</td>\n",
              "    </tr>\n",
              "    <tr>\n",
              "      <th>15</th>\n",
              "      <td>2020-12-26</td>\n",
              "      <td>14058</td>\n",
              "    </tr>\n",
              "    <tr>\n",
              "      <th>18</th>\n",
              "      <td>2020-12-27</td>\n",
              "      <td>12420</td>\n",
              "    </tr>\n",
              "    <tr>\n",
              "      <th>21</th>\n",
              "      <td>2020-12-28</td>\n",
              "      <td>11014</td>\n",
              "    </tr>\n",
              "    <tr>\n",
              "      <th>22</th>\n",
              "      <td>2020-12-29</td>\n",
              "      <td>10146</td>\n",
              "    </tr>\n",
              "    <tr>\n",
              "      <th>23</th>\n",
              "      <td>2020-12-30</td>\n",
              "      <td>89</td>\n",
              "    </tr>\n",
              "  </tbody>\n",
              "</table>\n",
              "</div>\n",
              "      <button class=\"colab-df-convert\" onclick=\"convertToInteractive('df-c29babe6-861c-4ed2-a565-0aa7542b2394')\"\n",
              "              title=\"Convert this dataframe to an interactive table.\"\n",
              "              style=\"display:none;\">\n",
              "        \n",
              "  <svg xmlns=\"http://www.w3.org/2000/svg\" height=\"24px\"viewBox=\"0 0 24 24\"\n",
              "       width=\"24px\">\n",
              "    <path d=\"M0 0h24v24H0V0z\" fill=\"none\"/>\n",
              "    <path d=\"M18.56 5.44l.94 2.06.94-2.06 2.06-.94-2.06-.94-.94-2.06-.94 2.06-2.06.94zm-11 1L8.5 8.5l.94-2.06 2.06-.94-2.06-.94L8.5 2.5l-.94 2.06-2.06.94zm10 10l.94 2.06.94-2.06 2.06-.94-2.06-.94-.94-2.06-.94 2.06-2.06.94z\"/><path d=\"M17.41 7.96l-1.37-1.37c-.4-.4-.92-.59-1.43-.59-.52 0-1.04.2-1.43.59L10.3 9.45l-7.72 7.72c-.78.78-.78 2.05 0 2.83L4 21.41c.39.39.9.59 1.41.59.51 0 1.02-.2 1.41-.59l7.78-7.78 2.81-2.81c.8-.78.8-2.07 0-2.86zM5.41 20L4 18.59l7.72-7.72 1.47 1.35L5.41 20z\"/>\n",
              "  </svg>\n",
              "      </button>\n",
              "      \n",
              "  <style>\n",
              "    .colab-df-container {\n",
              "      display:flex;\n",
              "      flex-wrap:wrap;\n",
              "      gap: 12px;\n",
              "    }\n",
              "\n",
              "    .colab-df-convert {\n",
              "      background-color: #E8F0FE;\n",
              "      border: none;\n",
              "      border-radius: 50%;\n",
              "      cursor: pointer;\n",
              "      display: none;\n",
              "      fill: #1967D2;\n",
              "      height: 32px;\n",
              "      padding: 0 0 0 0;\n",
              "      width: 32px;\n",
              "    }\n",
              "\n",
              "    .colab-df-convert:hover {\n",
              "      background-color: #E2EBFA;\n",
              "      box-shadow: 0px 1px 2px rgba(60, 64, 67, 0.3), 0px 1px 3px 1px rgba(60, 64, 67, 0.15);\n",
              "      fill: #174EA6;\n",
              "    }\n",
              "\n",
              "    [theme=dark] .colab-df-convert {\n",
              "      background-color: #3B4455;\n",
              "      fill: #D2E3FC;\n",
              "    }\n",
              "\n",
              "    [theme=dark] .colab-df-convert:hover {\n",
              "      background-color: #434B5C;\n",
              "      box-shadow: 0px 1px 3px 1px rgba(0, 0, 0, 0.15);\n",
              "      filter: drop-shadow(0px 1px 2px rgba(0, 0, 0, 0.3));\n",
              "      fill: #FFFFFF;\n",
              "    }\n",
              "  </style>\n",
              "\n",
              "      <script>\n",
              "        const buttonEl =\n",
              "          document.querySelector('#df-c29babe6-861c-4ed2-a565-0aa7542b2394 button.colab-df-convert');\n",
              "        buttonEl.style.display =\n",
              "          google.colab.kernel.accessAllowed ? 'block' : 'none';\n",
              "\n",
              "        async function convertToInteractive(key) {\n",
              "          const element = document.querySelector('#df-c29babe6-861c-4ed2-a565-0aa7542b2394');\n",
              "          const dataTable =\n",
              "            await google.colab.kernel.invokeFunction('convertToInteractive',\n",
              "                                                     [key], {});\n",
              "          if (!dataTable) return;\n",
              "\n",
              "          const docLinkHtml = 'Like what you see? Visit the ' +\n",
              "            '<a target=\"_blank\" href=https://colab.research.google.com/notebooks/data_table.ipynb>data table notebook</a>'\n",
              "            + ' to learn more about interactive tables.';\n",
              "          element.innerHTML = '';\n",
              "          dataTable['output_type'] = 'display_data';\n",
              "          await google.colab.output.renderOutput(dataTable, element);\n",
              "          const docLink = document.createElement('div');\n",
              "          docLink.innerHTML = docLinkHtml;\n",
              "          element.appendChild(docLink);\n",
              "        }\n",
              "      </script>\n",
              "    </div>\n",
              "  </div>\n",
              "  "
            ]
          },
          "metadata": {},
          "execution_count": 46
        }
      ],
      "source": [
        "events['event_dt_date'].value_counts().reset_index().sort_values(by = 'index')"
      ]
    },
    {
      "cell_type": "markdown",
      "metadata": {
        "id": "HpdKwqgCCMbf"
      },
      "source": [
        "По ТЗ тест длится с 2020-12-07 по 2021-01-04. На практике события ограничиваются 2020-12-30 включительно. Причем за последний день данные неполные."
      ]
    },
    {
      "cell_type": "code",
      "execution_count": 47,
      "metadata": {
        "colab": {
          "base_uri": "https://localhost:8080/",
          "height": 404
        },
        "id": "lJveSznTQvG4",
        "outputId": "4f2f79a0-330c-4ae5-da50-fe2cd607ef92",
        "trusted": true
      },
      "outputs": [
        {
          "output_type": "display_data",
          "data": {
            "text/plain": [
              "<Figure size 1296x432 with 1 Axes>"
            ],
            "image/png": "[encoded data removed]"
          },
          "metadata": {}
        }
      ],
      "source": [
        "events['event_dt_date'].hist(bins = 24, figsize=(18, 6))\n",
        "\n",
        "plt.title('Распределение событий по периоду наблюдения')\n",
        "plt.xlabel('Дата события')\n",
        "plt.ylabel('Количество событий');"
      ]
    },
    {
      "cell_type": "markdown",
      "metadata": {
        "id": "4FQiCa85Cd_2"
      },
      "source": [
        "В датафрейме нет пропусков по дням событий. В начале 20-х чисел, перед католическим Рождеством, - пиковое значение."
      ]
    },
    {
      "cell_type": "markdown",
      "metadata": {
        "id": "jKTARYbSDKja"
      },
      "source": [
        "Посмотрим, были ли маркетинговые активности в период проведения теста."
      ]
    },
    {
      "cell_type": "code",
      "source": [
        "marketing[(marketing['start_dt'] <= '2021-01-04') | (marketing['finish_dt'] >= '2020-12-07')]"
      ],
      "metadata": {
        "colab": {
          "base_uri": "https://localhost:8080/",
          "height": 488
        },
        "id": "F76BsJ_0RUcc",
        "outputId": "29596528-3977-4c0d-fd48-93b583c0eaa2"
      },
      "execution_count": 48,
      "outputs": [
        {
          "output_type": "execute_result",
          "data": {
            "text/plain": [
              "                                name                   regions   start_dt  \\\n",
              "0           Christmas&New Year Promo             EU, N.America 2020-12-25   \n",
              "1       St. Valentine's Day Giveaway  EU, CIS, APAC, N.America 2020-02-14   \n",
              "2             St. Patric's Day Promo             EU, N.America 2020-03-17   \n",
              "3                       Easter Promo  EU, CIS, APAC, N.America 2020-04-12   \n",
              "4                  4th of July Promo                 N.America 2020-07-04   \n",
              "5          Black Friday Ads Campaign  EU, CIS, APAC, N.America 2020-11-26   \n",
              "6             Chinese New Year Promo                      APAC 2020-01-25   \n",
              "7   Labor day (May 1st) Ads Campaign             EU, CIS, APAC 2020-05-01   \n",
              "8    International Women's Day Promo             EU, CIS, APAC 2020-03-08   \n",
              "9    Victory Day CIS (May 9th) Event                       CIS 2020-05-09   \n",
              "10         CIS New Year Gift Lottery                       CIS 2020-12-30   \n",
              "11     Dragon Boat Festival Giveaway                      APAC 2020-06-25   \n",
              "12           Single's Day Gift Promo                      APAC 2020-11-11   \n",
              "13             Chinese Moon Festival                      APAC 2020-10-01   \n",
              "\n",
              "    finish_dt  \n",
              "0  2021-01-03  \n",
              "1  2020-02-16  \n",
              "2  2020-03-19  \n",
              "3  2020-04-19  \n",
              "4  2020-07-11  \n",
              "5  2020-12-01  \n",
              "6  2020-02-07  \n",
              "7  2020-05-03  \n",
              "8  2020-03-10  \n",
              "9  2020-05-11  \n",
              "10 2021-01-07  \n",
              "11 2020-07-01  \n",
              "12 2020-11-12  \n",
              "13 2020-10-07  "
            ],
            "text/html": [
              "\n",
              "  <div id=\"df-bfcc82cd-7c82-4903-9ac7-69e6b735b883\">\n",
              "    <div class=\"colab-df-container\">\n",
              "      <div>\n",
              "<style scoped>\n",
              "    .dataframe tbody tr th:only-of-type {\n",
              "        vertical-align: middle;\n",
              "    }\n",
              "\n",
              "    .dataframe tbody tr th {\n",
              "        vertical-align: top;\n",
              "    }\n",
              "\n",
              "    .dataframe thead th {\n",
              "        text-align: right;\n",
              "    }\n",
              "</style>\n",
              "<table border=\"1\" class=\"dataframe\">\n",
              "  <thead>\n",
              "    <tr style=\"text-align: right;\">\n",
              "      <th></th>\n",
              "      <th>name</th>\n",
              "      <th>regions</th>\n",
              "      <th>start_dt</th>\n",
              "      <th>finish_dt</th>\n",
              "    </tr>\n",
              "  </thead>\n",
              "  <tbody>\n",
              "    <tr>\n",
              "      <th>0</th>\n",
              "      <td>Christmas&amp;New Year Promo</td>\n",
              "      <td>EU, N.America</td>\n",
              "      <td>2020-12-25</td>\n",
              "      <td>2021-01-03</td>\n",
              "    </tr>\n",
              "    <tr>\n",
              "      <th>1</th>\n",
              "      <td>St. Valentine's Day Giveaway</td>\n",
              "      <td>EU, CIS, APAC, N.America</td>\n",
              "      <td>2020-02-14</td>\n",
              "      <td>2020-02-16</td>\n",
              "    </tr>\n",
              "    <tr>\n",
              "      <th>2</th>\n",
              "      <td>St. Patric's Day Promo</td>\n",
              "      <td>EU, N.America</td>\n",
              "      <td>2020-03-17</td>\n",
              "      <td>2020-03-19</td>\n",
              "    </tr>\n",
              "    <tr>\n",
              "      <th>3</th>\n",
              "      <td>Easter Promo</td>\n",
              "      <td>EU, CIS, APAC, N.America</td>\n",
              "      <td>2020-04-12</td>\n",
              "      <td>2020-04-19</td>\n",
              "    </tr>\n",
              "    <tr>\n",
              "      <th>4</th>\n",
              "      <td>4th of July Promo</td>\n",
              "      <td>N.America</td>\n",
              "      <td>2020-07-04</td>\n",
              "      <td>2020-07-11</td>\n",
              "    </tr>\n",
              "    <tr>\n",
              "      <th>5</th>\n",
              "      <td>Black Friday Ads Campaign</td>\n",
              "      <td>EU, CIS, APAC, N.America</td>\n",
              "      <td>2020-11-26</td>\n",
              "      <td>2020-12-01</td>\n",
              "    </tr>\n",
              "    <tr>\n",
              "      <th>6</th>\n",
              "      <td>Chinese New Year Promo</td>\n",
              "      <td>APAC</td>\n",
              "      <td>2020-01-25</td>\n",
              "      <td>2020-02-07</td>\n",
              "    </tr>\n",
              "    <tr>\n",
              "      <th>7</th>\n",
              "      <td>Labor day (May 1st) Ads Campaign</td>\n",
              "      <td>EU, CIS, APAC</td>\n",
              "      <td>2020-05-01</td>\n",
              "      <td>2020-05-03</td>\n",
              "    </tr>\n",
              "    <tr>\n",
              "      <th>8</th>\n",
              "      <td>International Women's Day Promo</td>\n",
              "      <td>EU, CIS, APAC</td>\n",
              "      <td>2020-03-08</td>\n",
              "      <td>2020-03-10</td>\n",
              "    </tr>\n",
              "    <tr>\n",
              "      <th>9</th>\n",
              "      <td>Victory Day CIS (May 9th) Event</td>\n",
              "      <td>CIS</td>\n",
              "      <td>2020-05-09</td>\n",
              "      <td>2020-05-11</td>\n",
              "    </tr>\n",
              "    <tr>\n",
              "      <th>10</th>\n",
              "      <td>CIS New Year Gift Lottery</td>\n",
              "      <td>CIS</td>\n",
              "      <td>2020-12-30</td>\n",
              "      <td>2021-01-07</td>\n",
              "    </tr>\n",
              "    <tr>\n",
              "      <th>11</th>\n",
              "      <td>Dragon Boat Festival Giveaway</td>\n",
              "      <td>APAC</td>\n",
              "      <td>2020-06-25</td>\n",
              "      <td>2020-07-01</td>\n",
              "    </tr>\n",
              "    <tr>\n",
              "      <th>12</th>\n",
              "      <td>Single's Day Gift Promo</td>\n",
              "      <td>APAC</td>\n",
              "      <td>2020-11-11</td>\n",
              "      <td>2020-11-12</td>\n",
              "    </tr>\n",
              "    <tr>\n",
              "      <th>13</th>\n",
              "      <td>Chinese Moon Festival</td>\n",
              "      <td>APAC</td>\n",
              "      <td>2020-10-01</td>\n",
              "      <td>2020-10-07</td>\n",
              "    </tr>\n",
              "  </tbody>\n",
              "</table>\n",
              "</div>\n",
              "      <button class=\"colab-df-convert\" onclick=\"convertToInteractive('df-bfcc82cd-7c82-4903-9ac7-69e6b735b883')\"\n",
              "              title=\"Convert this dataframe to an interactive table.\"\n",
              "              style=\"display:none;\">\n",
              "        \n",
              "  <svg xmlns=\"http://www.w3.org/2000/svg\" height=\"24px\"viewBox=\"0 0 24 24\"\n",
              "       width=\"24px\">\n",
              "    <path d=\"M0 0h24v24H0V0z\" fill=\"none\"/>\n",
              "    <path d=\"M18.56 5.44l.94 2.06.94-2.06 2.06-.94-2.06-.94-.94-2.06-.94 2.06-2.06.94zm-11 1L8.5 8.5l.94-2.06 2.06-.94-2.06-.94L8.5 2.5l-.94 2.06-2.06.94zm10 10l.94 2.06.94-2.06 2.06-.94-2.06-.94-.94-2.06-.94 2.06-2.06.94z\"/><path d=\"M17.41 7.96l-1.37-1.37c-.4-.4-.92-.59-1.43-.59-.52 0-1.04.2-1.43.59L10.3 9.45l-7.72 7.72c-.78.78-.78 2.05 0 2.83L4 21.41c.39.39.9.59 1.41.59.51 0 1.02-.2 1.41-.59l7.78-7.78 2.81-2.81c.8-.78.8-2.07 0-2.86zM5.41 20L4 18.59l7.72-7.72 1.47 1.35L5.41 20z\"/>\n",
              "  </svg>\n",
              "      </button>\n",
              "      \n",
              "  <style>\n",
              "    .colab-df-container {\n",
              "      display:flex;\n",
              "      flex-wrap:wrap;\n",
              "      gap: 12px;\n",
              "    }\n",
              "\n",
              "    .colab-df-convert {\n",
              "      background-color: #E8F0FE;\n",
              "      border: none;\n",
              "      border-radius: 50%;\n",
              "      cursor: pointer;\n",
              "      display: none;\n",
              "      fill: #1967D2;\n",
              "      height: 32px;\n",
              "      padding: 0 0 0 0;\n",
              "      width: 32px;\n",
              "    }\n",
              "\n",
              "    .colab-df-convert:hover {\n",
              "      background-color: #E2EBFA;\n",
              "      box-shadow: 0px 1px 2px rgba(60, 64, 67, 0.3), 0px 1px 3px 1px rgba(60, 64, 67, 0.15);\n",
              "      fill: #174EA6;\n",
              "    }\n",
              "\n",
              "    [theme=dark] .colab-df-convert {\n",
              "      background-color: #3B4455;\n",
              "      fill: #D2E3FC;\n",
              "    }\n",
              "\n",
              "    [theme=dark] .colab-df-convert:hover {\n",
              "      background-color: #434B5C;\n",
              "      box-shadow: 0px 1px 3px 1px rgba(0, 0, 0, 0.15);\n",
              "      filter: drop-shadow(0px 1px 2px rgba(0, 0, 0, 0.3));\n",
              "      fill: #FFFFFF;\n",
              "    }\n",
              "  </style>\n",
              "\n",
              "      <script>\n",
              "        const buttonEl =\n",
              "          document.querySelector('#df-bfcc82cd-7c82-4903-9ac7-69e6b735b883 button.colab-df-convert');\n",
              "        buttonEl.style.display =\n",
              "          google.colab.kernel.accessAllowed ? 'block' : 'none';\n",
              "\n",
              "        async function convertToInteractive(key) {\n",
              "          const element = document.querySelector('#df-bfcc82cd-7c82-4903-9ac7-69e6b735b883');\n",
              "          const dataTable =\n",
              "            await google.colab.kernel.invokeFunction('convertToInteractive',\n",
              "                                                     [key], {});\n",
              "          if (!dataTable) return;\n",
              "\n",
              "          const docLinkHtml = 'Like what you see? Visit the ' +\n",
              "            '<a target=\"_blank\" href=https://colab.research.google.com/notebooks/data_table.ipynb>data table notebook</a>'\n",
              "            + ' to learn more about interactive tables.';\n",
              "          element.innerHTML = '';\n",
              "          dataTable['output_type'] = 'display_data';\n",
              "          await google.colab.output.renderOutput(dataTable, element);\n",
              "          const docLink = document.createElement('div');\n",
              "          docLink.innerHTML = docLinkHtml;\n",
              "          element.appendChild(docLink);\n",
              "        }\n",
              "      </script>\n",
              "    </div>\n",
              "  </div>\n",
              "  "
            ]
          },
          "metadata": {},
          "execution_count": 48
        }
      ]
    },
    {
      "cell_type": "markdown",
      "metadata": {
        "id": "y0M9k48jDbzI"
      },
      "source": [
        "Да, рождественско-новогодняя рекламная кампания в том числе и в Европе. Ее, как и праздничные распродажи, можно считать внешним фактором, который может влиять на результаты теста. Позже посмотрим, параллельно ли делались замеры по группам для снижения влияния внешних факторов. "
      ]
    },
    {
      "cell_type": "markdown",
      "metadata": {
        "id": "PJpTz-PyFS6q"
      },
      "source": [
        "Объединим таблицы с участниками теста и событиями, отфильтровав по участникам теста."
      ]
    },
    {
      "cell_type": "code",
      "execution_count": 49,
      "metadata": {
        "colab": {
          "base_uri": "https://localhost:8080/",
          "height": 143
        },
        "id": "-sRWUiKVKmaa",
        "outputId": "6476c169-1e63-4d88-fff2-012c79cb66a4",
        "trusted": true
      },
      "outputs": [
        {
          "output_type": "execute_result",
          "data": {
            "text/plain": [
              "            user_id             event_dt    event_name  details event_dt_date  \\\n",
              "0  831887FE7F2D6CBA  2020-12-07 06:50:29      purchase     4.99    2020-12-07   \n",
              "1  831887FE7F2D6CBA  2020-12-09 02:19:17      purchase    99.99    2020-12-09   \n",
              "2  831887FE7F2D6CBA  2020-12-07 06:50:30  product_cart      NaN    2020-12-07   \n",
              "\n",
              "  group                  ab_test  \n",
              "0     A  recommender_system_test  \n",
              "1     A  recommender_system_test  \n",
              "2     A  recommender_system_test  "
            ],
            "text/html": [
              "\n",
              "  <div id=\"df-83f5d07e-77b6-4db2-b6b5-90c06a63507f\">\n",
              "    <div class=\"colab-df-container\">\n",
              "      <div>\n",
              "<style scoped>\n",
              "    .dataframe tbody tr th:only-of-type {\n",
              "        vertical-align: middle;\n",
              "    }\n",
              "\n",
              "    .dataframe tbody tr th {\n",
              "        vertical-align: top;\n",
              "    }\n",
              "\n",
              "    .dataframe thead th {\n",
              "        text-align: right;\n",
              "    }\n",
              "</style>\n",
              "<table border=\"1\" class=\"dataframe\">\n",
              "  <thead>\n",
              "    <tr style=\"text-align: right;\">\n",
              "      <th></th>\n",
              "      <th>user_id</th>\n",
              "      <th>event_dt</th>\n",
              "      <th>event_name</th>\n",
              "      <th>details</th>\n",
              "      <th>event_dt_date</th>\n",
              "      <th>group</th>\n",
              "      <th>ab_test</th>\n",
              "    </tr>\n",
              "  </thead>\n",
              "  <tbody>\n",
              "    <tr>\n",
              "      <th>0</th>\n",
              "      <td>831887FE7F2D6CBA</td>\n",
              "      <td>2020-12-07 06:50:29</td>\n",
              "      <td>purchase</td>\n",
              "      <td>4.99</td>\n",
              "      <td>2020-12-07</td>\n",
              "      <td>A</td>\n",
              "      <td>recommender_system_test</td>\n",
              "    </tr>\n",
              "    <tr>\n",
              "      <th>1</th>\n",
              "      <td>831887FE7F2D6CBA</td>\n",
              "      <td>2020-12-09 02:19:17</td>\n",
              "      <td>purchase</td>\n",
              "      <td>99.99</td>\n",
              "      <td>2020-12-09</td>\n",
              "      <td>A</td>\n",
              "      <td>recommender_system_test</td>\n",
              "    </tr>\n",
              "    <tr>\n",
              "      <th>2</th>\n",
              "      <td>831887FE7F2D6CBA</td>\n",
              "      <td>2020-12-07 06:50:30</td>\n",
              "      <td>product_cart</td>\n",
              "      <td>NaN</td>\n",
              "      <td>2020-12-07</td>\n",
              "      <td>A</td>\n",
              "      <td>recommender_system_test</td>\n",
              "    </tr>\n",
              "  </tbody>\n",
              "</table>\n",
              "</div>\n",
              "      <button class=\"colab-df-convert\" onclick=\"convertToInteractive('df-83f5d07e-77b6-4db2-b6b5-90c06a63507f')\"\n",
              "              title=\"Convert this dataframe to an interactive table.\"\n",
              "              style=\"display:none;\">\n",
              "        \n",
              "  <svg xmlns=\"http://www.w3.org/2000/svg\" height=\"24px\"viewBox=\"0 0 24 24\"\n",
              "       width=\"24px\">\n",
              "    <path d=\"M0 0h24v24H0V0z\" fill=\"none\"/>\n",
              "    <path d=\"M18.56 5.44l.94 2.06.94-2.06 2.06-.94-2.06-.94-.94-2.06-.94 2.06-2.06.94zm-11 1L8.5 8.5l.94-2.06 2.06-.94-2.06-.94L8.5 2.5l-.94 2.06-2.06.94zm10 10l.94 2.06.94-2.06 2.06-.94-2.06-.94-.94-2.06-.94 2.06-2.06.94z\"/><path d=\"M17.41 7.96l-1.37-1.37c-.4-.4-.92-.59-1.43-.59-.52 0-1.04.2-1.43.59L10.3 9.45l-7.72 7.72c-.78.78-.78 2.05 0 2.83L4 21.41c.39.39.9.59 1.41.59.51 0 1.02-.2 1.41-.59l7.78-7.78 2.81-2.81c.8-.78.8-2.07 0-2.86zM5.41 20L4 18.59l7.72-7.72 1.47 1.35L5.41 20z\"/>\n",
              "  </svg>\n",
              "      </button>\n",
              "      \n",
              "  <style>\n",
              "    .colab-df-container {\n",
              "      display:flex;\n",
              "      flex-wrap:wrap;\n",
              "      gap: 12px;\n",
              "    }\n",
              "\n",
              "    .colab-df-convert {\n",
              "      background-color: #E8F0FE;\n",
              "      border: none;\n",
              "      border-radius: 50%;\n",
              "      cursor: pointer;\n",
              "      display: none;\n",
              "      fill: #1967D2;\n",
              "      height: 32px;\n",
              "      padding: 0 0 0 0;\n",
              "      width: 32px;\n",
              "    }\n",
              "\n",
              "    .colab-df-convert:hover {\n",
              "      background-color: #E2EBFA;\n",
              "      box-shadow: 0px 1px 2px rgba(60, 64, 67, 0.3), 0px 1px 3px 1px rgba(60, 64, 67, 0.15);\n",
              "      fill: #174EA6;\n",
              "    }\n",
              "\n",
              "    [theme=dark] .colab-df-convert {\n",
              "      background-color: #3B4455;\n",
              "      fill: #D2E3FC;\n",
              "    }\n",
              "\n",
              "    [theme=dark] .colab-df-convert:hover {\n",
              "      background-color: #434B5C;\n",
              "      box-shadow: 0px 1px 3px 1px rgba(0, 0, 0, 0.15);\n",
              "      filter: drop-shadow(0px 1px 2px rgba(0, 0, 0, 0.3));\n",
              "      fill: #FFFFFF;\n",
              "    }\n",
              "  </style>\n",
              "\n",
              "      <script>\n",
              "        const buttonEl =\n",
              "          document.querySelector('#df-83f5d07e-77b6-4db2-b6b5-90c06a63507f button.colab-df-convert');\n",
              "        buttonEl.style.display =\n",
              "          google.colab.kernel.accessAllowed ? 'block' : 'none';\n",
              "\n",
              "        async function convertToInteractive(key) {\n",
              "          const element = document.querySelector('#df-83f5d07e-77b6-4db2-b6b5-90c06a63507f');\n",
              "          const dataTable =\n",
              "            await google.colab.kernel.invokeFunction('convertToInteractive',\n",
              "                                                     [key], {});\n",
              "          if (!dataTable) return;\n",
              "\n",
              "          const docLinkHtml = 'Like what you see? Visit the ' +\n",
              "            '<a target=\"_blank\" href=https://colab.research.google.com/notebooks/data_table.ipynb>data table notebook</a>'\n",
              "            + ' to learn more about interactive tables.';\n",
              "          element.innerHTML = '';\n",
              "          dataTable['output_type'] = 'display_data';\n",
              "          await google.colab.output.renderOutput(dataTable, element);\n",
              "          const docLink = document.createElement('div');\n",
              "          docLink.innerHTML = docLinkHtml;\n",
              "          element.appendChild(docLink);\n",
              "        }\n",
              "      </script>\n",
              "    </div>\n",
              "  </div>\n",
              "  "
            ]
          },
          "metadata": {},
          "execution_count": 49
        }
      ],
      "source": [
        "events_new = pd.merge(events, participants, how='inner', on='user_id') #параметр inner, чтобы в итоговую выборку попали пользователи из participants,\n",
        "                                                                       #о действиях которых есть информация \n",
        "\n",
        "events_new.head(3)"
      ]
    },
    {
      "cell_type": "markdown",
      "metadata": {
        "id": "XzqnlED2D_e0"
      },
      "source": [
        "Дополнительно отфильтруем события по уникальным пользователям, которые соответствуют требованям ТЗ."
      ]
    },
    {
      "cell_type": "code",
      "execution_count": 50,
      "metadata": {
        "id": "SzaoShZ4OUOK",
        "trusted": true
      },
      "outputs": [],
      "source": [
        "events_new = events_new.query('user_id in @test_participants')"
      ]
    },
    {
      "cell_type": "code",
      "execution_count": 51,
      "metadata": {
        "colab": {
          "base_uri": "https://localhost:8080/"
        },
        "id": "mr9tYMNVEnJR",
        "outputId": "5ab71997-7340-4c8e-f6f2-eb772f54d5df",
        "trusted": true
      },
      "outputs": [
        {
          "output_type": "stream",
          "name": "stdout",
          "text": [
            "Кто-то потерялся. Количество уникальных участников после фильтрации не совпадает. Было - 6351 Стало - 3481 Изменения - -45.19 %\n"
          ]
        }
      ],
      "source": [
        "if users['user_id'].nunique() == events_new['user_id'].nunique():\n",
        "  print('Уникальных участников теста по-прежнему', events_new['user_id'].nunique(),'- никто не потерялся')\n",
        "else:\n",
        "  print('Кто-то потерялся. Количество уникальных участников после фильтрации не совпадает. Было -', users['user_id'].nunique(), 'Стало -',events_new['user_id'].nunique(),\\\n",
        "        'Изменения -', round(((events_new['user_id'].nunique() / users['user_id'].nunique() * 100) - 100), 2), '%')"
      ]
    },
    {
      "cell_type": "markdown",
      "metadata": {
        "id": "IPJ_uQKBEStg"
      },
      "source": [
        "Почти у половины отфильтрованных участников теста нет сведений по событиям. Рассмотри их подробнее."
      ]
    },
    {
      "cell_type": "code",
      "source": [
        "users_without_events = pd.merge(events, participants, how='right', on='user_id') \n",
        "\n",
        "users_without_events = users_without_events[users_without_events['event_dt_date'].isna()]\n",
        "\n",
        "users_without_events = pd.merge(users, users_without_events, how='inner', on='user_id')\n",
        "\n",
        "users_without_events = users_without_events.groupby(['first_date', 'group'])['user_id'].nunique().reset_index()\n",
        "\n",
        "users_without_events['first_date'] = users_without_events['first_date'].dt.strftime('%Y-%m-%d')"
      ],
      "metadata": {
        "id": "9ZHSXXjprGg6"
      },
      "execution_count": 52,
      "outputs": []
    },
    {
      "cell_type": "code",
      "source": [
        "sns.set_style('dark')\n",
        "\n",
        "plt.figure(figsize=(18, 6))\n",
        "\n",
        "sns.barplot(x='first_date', y='user_id', data=users_without_events, hue='group')\n",
        "\n",
        "plt.title('Распределение пользователей, у которых нет событий, по дням регистраций')\n",
        "plt.xlabel('Дата')\n",
        "plt.ylabel('Количество зарегистрировавшихся пользователей')\n",
        "plt.legend(loc='upper right', fontsize=10)\n",
        "plt.grid()\n",
        "plt.xticks(rotation=80)\n",
        "plt.show()"
      ],
      "metadata": {
        "colab": {
          "base_uri": "https://localhost:8080/",
          "height": 453
        },
        "id": "W3-t2LdOrG_M",
        "outputId": "360cd826-175c-4c3f-9227-423ef1664fd2"
      },
      "execution_count": 53,
      "outputs": [
        {
          "output_type": "display_data",
          "data": {
            "text/plain": [
              "<Figure size 1296x432 with 1 Axes>"
            ],
            "image/png": "[encoded data removed]"
          },
          "metadata": {}
        }
      ]
    },
    {
      "cell_type": "markdown",
      "source": [
        "Обнаружили странность. Начиная с понедельника, 14 декабря, уникальные пользователи без событий попадали только в тестовую группу B, в тот время как в A с этого периода не оказалось ни одного. Возможно, кто-то внес изменения в настройки сбора сведений для теста, начиная с 14 декабря. Либо с этой даты возникла ошибка при загрузке сведений об уникальных пользователях без событий из контрольной группы."
      ],
      "metadata": {
        "id": "NSE-3X5b2LhH"
      }
    },
    {
      "cell_type": "markdown",
      "metadata": {
        "id": "YYGgoCqFTcHW"
      },
      "source": [
        "Добавим даты регистрации в датафрейм с отфильтрованными данными."
      ]
    },
    {
      "cell_type": "code",
      "execution_count": 54,
      "metadata": {
        "colab": {
          "base_uri": "https://localhost:8080/",
          "height": 143
        },
        "id": "7I1ftvU0Tgv9",
        "outputId": "1c3004f1-a7bb-4610-8a00-49b012b38695",
        "trusted": true
      },
      "outputs": [
        {
          "output_type": "execute_result",
          "data": {
            "text/plain": [
              "            user_id first_date region   device             event_dt  \\\n",
              "0  D72A72121175D8BE 2020-12-07     EU       PC  2020-12-07 21:52:10   \n",
              "1  D72A72121175D8BE 2020-12-07     EU       PC  2020-12-07 21:52:07   \n",
              "2  DD4352CDCF8C3D57 2020-12-07     EU  Android  2020-12-07 15:32:54   \n",
              "\n",
              "     event_name  details event_dt_date group                  ab_test  \n",
              "0  product_page      NaN    2020-12-07     A  recommender_system_test  \n",
              "1         login      NaN    2020-12-07     A  recommender_system_test  \n",
              "2  product_page      NaN    2020-12-07     B  recommender_system_test  "
            ],
            "text/html": [
              "\n",
              "  <div id=\"df-d0bbb6a7-51d3-4bb5-96d5-066dae67db4b\">\n",
              "    <div class=\"colab-df-container\">\n",
              "      <div>\n",
              "<style scoped>\n",
              "    .dataframe tbody tr th:only-of-type {\n",
              "        vertical-align: middle;\n",
              "    }\n",
              "\n",
              "    .dataframe tbody tr th {\n",
              "        vertical-align: top;\n",
              "    }\n",
              "\n",
              "    .dataframe thead th {\n",
              "        text-align: right;\n",
              "    }\n",
              "</style>\n",
              "<table border=\"1\" class=\"dataframe\">\n",
              "  <thead>\n",
              "    <tr style=\"text-align: right;\">\n",
              "      <th></th>\n",
              "      <th>user_id</th>\n",
              "      <th>first_date</th>\n",
              "      <th>region</th>\n",
              "      <th>device</th>\n",
              "      <th>event_dt</th>\n",
              "      <th>event_name</th>\n",
              "      <th>details</th>\n",
              "      <th>event_dt_date</th>\n",
              "      <th>group</th>\n",
              "      <th>ab_test</th>\n",
              "    </tr>\n",
              "  </thead>\n",
              "  <tbody>\n",
              "    <tr>\n",
              "      <th>0</th>\n",
              "      <td>D72A72121175D8BE</td>\n",
              "      <td>2020-12-07</td>\n",
              "      <td>EU</td>\n",
              "      <td>PC</td>\n",
              "      <td>2020-12-07 21:52:10</td>\n",
              "      <td>product_page</td>\n",
              "      <td>NaN</td>\n",
              "      <td>2020-12-07</td>\n",
              "      <td>A</td>\n",
              "      <td>recommender_system_test</td>\n",
              "    </tr>\n",
              "    <tr>\n",
              "      <th>1</th>\n",
              "      <td>D72A72121175D8BE</td>\n",
              "      <td>2020-12-07</td>\n",
              "      <td>EU</td>\n",
              "      <td>PC</td>\n",
              "      <td>2020-12-07 21:52:07</td>\n",
              "      <td>login</td>\n",
              "      <td>NaN</td>\n",
              "      <td>2020-12-07</td>\n",
              "      <td>A</td>\n",
              "      <td>recommender_system_test</td>\n",
              "    </tr>\n",
              "    <tr>\n",
              "      <th>2</th>\n",
              "      <td>DD4352CDCF8C3D57</td>\n",
              "      <td>2020-12-07</td>\n",
              "      <td>EU</td>\n",
              "      <td>Android</td>\n",
              "      <td>2020-12-07 15:32:54</td>\n",
              "      <td>product_page</td>\n",
              "      <td>NaN</td>\n",
              "      <td>2020-12-07</td>\n",
              "      <td>B</td>\n",
              "      <td>recommender_system_test</td>\n",
              "    </tr>\n",
              "  </tbody>\n",
              "</table>\n",
              "</div>\n",
              "      <button class=\"colab-df-convert\" onclick=\"convertToInteractive('df-d0bbb6a7-51d3-4bb5-96d5-066dae67db4b')\"\n",
              "              title=\"Convert this dataframe to an interactive table.\"\n",
              "              style=\"display:none;\">\n",
              "        \n",
              "  <svg xmlns=\"http://www.w3.org/2000/svg\" height=\"24px\"viewBox=\"0 0 24 24\"\n",
              "       width=\"24px\">\n",
              "    <path d=\"M0 0h24v24H0V0z\" fill=\"none\"/>\n",
              "    <path d=\"M18.56 5.44l.94 2.06.94-2.06 2.06-.94-2.06-.94-.94-2.06-.94 2.06-2.06.94zm-11 1L8.5 8.5l.94-2.06 2.06-.94-2.06-.94L8.5 2.5l-.94 2.06-2.06.94zm10 10l.94 2.06.94-2.06 2.06-.94-2.06-.94-.94-2.06-.94 2.06-2.06.94z\"/><path d=\"M17.41 7.96l-1.37-1.37c-.4-.4-.92-.59-1.43-.59-.52 0-1.04.2-1.43.59L10.3 9.45l-7.72 7.72c-.78.78-.78 2.05 0 2.83L4 21.41c.39.39.9.59 1.41.59.51 0 1.02-.2 1.41-.59l7.78-7.78 2.81-2.81c.8-.78.8-2.07 0-2.86zM5.41 20L4 18.59l7.72-7.72 1.47 1.35L5.41 20z\"/>\n",
              "  </svg>\n",
              "      </button>\n",
              "      \n",
              "  <style>\n",
              "    .colab-df-container {\n",
              "      display:flex;\n",
              "      flex-wrap:wrap;\n",
              "      gap: 12px;\n",
              "    }\n",
              "\n",
              "    .colab-df-convert {\n",
              "      background-color: #E8F0FE;\n",
              "      border: none;\n",
              "      border-radius: 50%;\n",
              "      cursor: pointer;\n",
              "      display: none;\n",
              "      fill: #1967D2;\n",
              "      height: 32px;\n",
              "      padding: 0 0 0 0;\n",
              "      width: 32px;\n",
              "    }\n",
              "\n",
              "    .colab-df-convert:hover {\n",
              "      background-color: #E2EBFA;\n",
              "      box-shadow: 0px 1px 2px rgba(60, 64, 67, 0.3), 0px 1px 3px 1px rgba(60, 64, 67, 0.15);\n",
              "      fill: #174EA6;\n",
              "    }\n",
              "\n",
              "    [theme=dark] .colab-df-convert {\n",
              "      background-color: #3B4455;\n",
              "      fill: #D2E3FC;\n",
              "    }\n",
              "\n",
              "    [theme=dark] .colab-df-convert:hover {\n",
              "      background-color: #434B5C;\n",
              "      box-shadow: 0px 1px 3px 1px rgba(0, 0, 0, 0.15);\n",
              "      filter: drop-shadow(0px 1px 2px rgba(0, 0, 0, 0.3));\n",
              "      fill: #FFFFFF;\n",
              "    }\n",
              "  </style>\n",
              "\n",
              "      <script>\n",
              "        const buttonEl =\n",
              "          document.querySelector('#df-d0bbb6a7-51d3-4bb5-96d5-066dae67db4b button.colab-df-convert');\n",
              "        buttonEl.style.display =\n",
              "          google.colab.kernel.accessAllowed ? 'block' : 'none';\n",
              "\n",
              "        async function convertToInteractive(key) {\n",
              "          const element = document.querySelector('#df-d0bbb6a7-51d3-4bb5-96d5-066dae67db4b');\n",
              "          const dataTable =\n",
              "            await google.colab.kernel.invokeFunction('convertToInteractive',\n",
              "                                                     [key], {});\n",
              "          if (!dataTable) return;\n",
              "\n",
              "          const docLinkHtml = 'Like what you see? Visit the ' +\n",
              "            '<a target=\"_blank\" href=https://colab.research.google.com/notebooks/data_table.ipynb>data table notebook</a>'\n",
              "            + ' to learn more about interactive tables.';\n",
              "          element.innerHTML = '';\n",
              "          dataTable['output_type'] = 'display_data';\n",
              "          await google.colab.output.renderOutput(dataTable, element);\n",
              "          const docLink = document.createElement('div');\n",
              "          docLink.innerHTML = docLinkHtml;\n",
              "          element.appendChild(docLink);\n",
              "        }\n",
              "      </script>\n",
              "    </div>\n",
              "  </div>\n",
              "  "
            ]
          },
          "metadata": {},
          "execution_count": 54
        }
      ],
      "source": [
        "events_new = pd.merge(users, events_new, how='inner', on='user_id') #параметр inner, чтобы в итоговую выборку попали пользователи из participants,\n",
        "                                                                       #о действиях которых есть информация \n",
        "\n",
        "events_new.head(3)"
      ]
    },
    {
      "cell_type": "markdown",
      "metadata": {
        "id": "sURPCcXJ8-1b"
      },
      "source": [
        "По условиям ТЗ, анализируется 14-дневный срок с момента регистрации пользователей. Учтем это требование."
      ]
    },
    {
      "cell_type": "code",
      "execution_count": 55,
      "metadata": {
        "id": "Tok5VOKvUrJh",
        "trusted": true
      },
      "outputs": [],
      "source": [
        "events_new['14_days_last'] = events_new['first_date']  + timedelta(days=14)"
      ]
    },
    {
      "cell_type": "code",
      "execution_count": 56,
      "metadata": {
        "id": "6-Cjjsyw98SO",
        "trusted": true
      },
      "outputs": [],
      "source": [
        "events_new = events_new[events_new['event_dt_date'] <= events_new['14_days_last']].copy()"
      ]
    },
    {
      "cell_type": "markdown",
      "metadata": {
        "id": "WG2l8AlHIOEk"
      },
      "source": [
        "Еще раз проверим пересекающихся пользователей в группах."
      ]
    },
    {
      "cell_type": "code",
      "execution_count": 57,
      "metadata": {
        "colab": {
          "base_uri": "https://localhost:8080/",
          "height": 36
        },
        "id": "8wIK3vBkIUYe",
        "outputId": "a23e5bf5-7dd4-4246-f938-4c8cfb1e7bd4",
        "trusted": true
      },
      "outputs": [
        {
          "output_type": "execute_result",
          "data": {
            "text/plain": [
              "'Одинаковых пользователей для групп A и B: 0'"
            ],
            "application/vnd.google.colaboratory.intrinsic+json": {
              "type": "string"
            }
          },
          "metadata": {},
          "execution_count": 57
        }
      ],
      "source": [
        "all_group = set(events_new.query('group == \"A\"')['user_id']) & set(events_new.query('group == \"B\"')['user_id']) \n",
        "\n",
        "f'Одинаковых пользователей для групп A и B: {len(all_group)}'"
      ]
    },
    {
      "cell_type": "code",
      "execution_count": 58,
      "metadata": {
        "colab": {
          "base_uri": "https://localhost:8080/"
        },
        "id": "BalsDftglHTP",
        "outputId": "a43773af-ab0a-4783-f80a-0cc5492906da",
        "trusted": true
      },
      "outputs": [
        {
          "output_type": "stream",
          "name": "stdout",
          "text": [
            "После фильтрации в нашем распоряжении 22828 событий, а именно:\n"
          ]
        }
      ],
      "source": [
        "print('После фильтрации в нашем распоряжении', events_new['event_dt_date'].count(), 'событий, а именно:')"
      ]
    },
    {
      "cell_type": "code",
      "execution_count": 59,
      "metadata": {
        "colab": {
          "base_uri": "https://localhost:8080/"
        },
        "id": "kz0uIxggEoev",
        "outputId": "43c48c65-6c8d-4796-af28-4451998ceccc",
        "trusted": true
      },
      "outputs": [
        {
          "output_type": "execute_result",
          "data": {
            "text/plain": [
              "A    17977\n",
              "B     4851\n",
              "Name: group, dtype: int64"
            ]
          },
          "metadata": {},
          "execution_count": 59
        }
      ],
      "source": [
        "events_new['group'].value_counts()"
      ]
    },
    {
      "cell_type": "code",
      "execution_count": 60,
      "metadata": {
        "colab": {
          "base_uri": "https://localhost:8080/"
        },
        "id": "uv-LflnCE7Fb",
        "outputId": "5e78d047-cff2-4c42-f187-111c095217c0",
        "trusted": true
      },
      "outputs": [
        {
          "output_type": "execute_result",
          "data": {
            "text/plain": [
              "A   0.79\n",
              "B   0.21\n",
              "Name: group, dtype: float64"
            ]
          },
          "metadata": {},
          "execution_count": 60
        }
      ],
      "source": [
        "events_new['group'].value_counts(normalize=True)"
      ]
    },
    {
      "cell_type": "markdown",
      "metadata": {
        "id": "-tQr6KjGFDUY"
      },
      "source": [
        "Выборки сильно отличаются."
      ]
    },
    {
      "cell_type": "code",
      "execution_count": 61,
      "metadata": {
        "colab": {
          "base_uri": "https://localhost:8080/",
          "height": 300
        },
        "id": "vQ5FvQkQl6BD",
        "outputId": "f0e83374-88db-4db9-a350-8697d2477a66",
        "trusted": true
      },
      "outputs": [
        {
          "output_type": "execute_result",
          "data": {
            "text/plain": [
              "  group    event_name  event_dt_date\n",
              "0     A         login           7968\n",
              "1     A  product_cart           2385\n",
              "2     A  product_page           5125\n",
              "3     A      purchase           2499\n",
              "4     B         login           2345\n",
              "5     B  product_cart            625\n",
              "6     B  product_page           1257\n",
              "7     B      purchase            624"
            ],
            "text/html": [
              "\n",
              "  <div id=\"df-5d8ee6c1-8548-4aad-a180-79a5838808d4\">\n",
              "    <div class=\"colab-df-container\">\n",
              "      <div>\n",
              "<style scoped>\n",
              "    .dataframe tbody tr th:only-of-type {\n",
              "        vertical-align: middle;\n",
              "    }\n",
              "\n",
              "    .dataframe tbody tr th {\n",
              "        vertical-align: top;\n",
              "    }\n",
              "\n",
              "    .dataframe thead th {\n",
              "        text-align: right;\n",
              "    }\n",
              "</style>\n",
              "<table border=\"1\" class=\"dataframe\">\n",
              "  <thead>\n",
              "    <tr style=\"text-align: right;\">\n",
              "      <th></th>\n",
              "      <th>group</th>\n",
              "      <th>event_name</th>\n",
              "      <th>event_dt_date</th>\n",
              "    </tr>\n",
              "  </thead>\n",
              "  <tbody>\n",
              "    <tr>\n",
              "      <th>0</th>\n",
              "      <td>A</td>\n",
              "      <td>login</td>\n",
              "      <td>7968</td>\n",
              "    </tr>\n",
              "    <tr>\n",
              "      <th>1</th>\n",
              "      <td>A</td>\n",
              "      <td>product_cart</td>\n",
              "      <td>2385</td>\n",
              "    </tr>\n",
              "    <tr>\n",
              "      <th>2</th>\n",
              "      <td>A</td>\n",
              "      <td>product_page</td>\n",
              "      <td>5125</td>\n",
              "    </tr>\n",
              "    <tr>\n",
              "      <th>3</th>\n",
              "      <td>A</td>\n",
              "      <td>purchase</td>\n",
              "      <td>2499</td>\n",
              "    </tr>\n",
              "    <tr>\n",
              "      <th>4</th>\n",
              "      <td>B</td>\n",
              "      <td>login</td>\n",
              "      <td>2345</td>\n",
              "    </tr>\n",
              "    <tr>\n",
              "      <th>5</th>\n",
              "      <td>B</td>\n",
              "      <td>product_cart</td>\n",
              "      <td>625</td>\n",
              "    </tr>\n",
              "    <tr>\n",
              "      <th>6</th>\n",
              "      <td>B</td>\n",
              "      <td>product_page</td>\n",
              "      <td>1257</td>\n",
              "    </tr>\n",
              "    <tr>\n",
              "      <th>7</th>\n",
              "      <td>B</td>\n",
              "      <td>purchase</td>\n",
              "      <td>624</td>\n",
              "    </tr>\n",
              "  </tbody>\n",
              "</table>\n",
              "</div>\n",
              "      <button class=\"colab-df-convert\" onclick=\"convertToInteractive('df-5d8ee6c1-8548-4aad-a180-79a5838808d4')\"\n",
              "              title=\"Convert this dataframe to an interactive table.\"\n",
              "              style=\"display:none;\">\n",
              "        \n",
              "  <svg xmlns=\"http://www.w3.org/2000/svg\" height=\"24px\"viewBox=\"0 0 24 24\"\n",
              "       width=\"24px\">\n",
              "    <path d=\"M0 0h24v24H0V0z\" fill=\"none\"/>\n",
              "    <path d=\"M18.56 5.44l.94 2.06.94-2.06 2.06-.94-2.06-.94-.94-2.06-.94 2.06-2.06.94zm-11 1L8.5 8.5l.94-2.06 2.06-.94-2.06-.94L8.5 2.5l-.94 2.06-2.06.94zm10 10l.94 2.06.94-2.06 2.06-.94-2.06-.94-.94-2.06-.94 2.06-2.06.94z\"/><path d=\"M17.41 7.96l-1.37-1.37c-.4-.4-.92-.59-1.43-.59-.52 0-1.04.2-1.43.59L10.3 9.45l-7.72 7.72c-.78.78-.78 2.05 0 2.83L4 21.41c.39.39.9.59 1.41.59.51 0 1.02-.2 1.41-.59l7.78-7.78 2.81-2.81c.8-.78.8-2.07 0-2.86zM5.41 20L4 18.59l7.72-7.72 1.47 1.35L5.41 20z\"/>\n",
              "  </svg>\n",
              "      </button>\n",
              "      \n",
              "  <style>\n",
              "    .colab-df-container {\n",
              "      display:flex;\n",
              "      flex-wrap:wrap;\n",
              "      gap: 12px;\n",
              "    }\n",
              "\n",
              "    .colab-df-convert {\n",
              "      background-color: #E8F0FE;\n",
              "      border: none;\n",
              "      border-radius: 50%;\n",
              "      cursor: pointer;\n",
              "      display: none;\n",
              "      fill: #1967D2;\n",
              "      height: 32px;\n",
              "      padding: 0 0 0 0;\n",
              "      width: 32px;\n",
              "    }\n",
              "\n",
              "    .colab-df-convert:hover {\n",
              "      background-color: #E2EBFA;\n",
              "      box-shadow: 0px 1px 2px rgba(60, 64, 67, 0.3), 0px 1px 3px 1px rgba(60, 64, 67, 0.15);\n",
              "      fill: #174EA6;\n",
              "    }\n",
              "\n",
              "    [theme=dark] .colab-df-convert {\n",
              "      background-color: #3B4455;\n",
              "      fill: #D2E3FC;\n",
              "    }\n",
              "\n",
              "    [theme=dark] .colab-df-convert:hover {\n",
              "      background-color: #434B5C;\n",
              "      box-shadow: 0px 1px 3px 1px rgba(0, 0, 0, 0.15);\n",
              "      filter: drop-shadow(0px 1px 2px rgba(0, 0, 0, 0.3));\n",
              "      fill: #FFFFFF;\n",
              "    }\n",
              "  </style>\n",
              "\n",
              "      <script>\n",
              "        const buttonEl =\n",
              "          document.querySelector('#df-5d8ee6c1-8548-4aad-a180-79a5838808d4 button.colab-df-convert');\n",
              "        buttonEl.style.display =\n",
              "          google.colab.kernel.accessAllowed ? 'block' : 'none';\n",
              "\n",
              "        async function convertToInteractive(key) {\n",
              "          const element = document.querySelector('#df-5d8ee6c1-8548-4aad-a180-79a5838808d4');\n",
              "          const dataTable =\n",
              "            await google.colab.kernel.invokeFunction('convertToInteractive',\n",
              "                                                     [key], {});\n",
              "          if (!dataTable) return;\n",
              "\n",
              "          const docLinkHtml = 'Like what you see? Visit the ' +\n",
              "            '<a target=\"_blank\" href=https://colab.research.google.com/notebooks/data_table.ipynb>data table notebook</a>'\n",
              "            + ' to learn more about interactive tables.';\n",
              "          element.innerHTML = '';\n",
              "          dataTable['output_type'] = 'display_data';\n",
              "          await google.colab.output.renderOutput(dataTable, element);\n",
              "          const docLink = document.createElement('div');\n",
              "          docLink.innerHTML = docLinkHtml;\n",
              "          element.appendChild(docLink);\n",
              "        }\n",
              "      </script>\n",
              "    </div>\n",
              "  </div>\n",
              "  "
            ]
          },
          "metadata": {},
          "execution_count": 61
        }
      ],
      "source": [
        "events_new.groupby(['group', 'event_name'])['event_dt_date'].count().reset_index()"
      ]
    },
    {
      "cell_type": "code",
      "execution_count": 62,
      "metadata": {
        "colab": {
          "base_uri": "https://localhost:8080/",
          "height": 404
        },
        "id": "yyUOG9PFngDb",
        "outputId": "171f15c3-1577-4c84-ffbe-402d4ac98500",
        "trusted": true
      },
      "outputs": [
        {
          "output_type": "display_data",
          "data": {
            "text/plain": [
              "<Figure size 1296x432 with 1 Axes>"
            ],
            "image/png": "[encoded data removed]"
          },
          "metadata": {}
        }
      ],
      "source": [
        "sns.set_style('dark')\n",
        "\n",
        "plt.figure(figsize=(18, 6))\n",
        "\n",
        "sns.barplot(x='group', y='event_dt_date', data=events_new.groupby(['group', 'event_name'])['event_dt_date'].count().reset_index(), hue='event_name')\n",
        "\n",
        "plt.title('Распределение событий по группам')\n",
        "plt.xlabel('Название группы')\n",
        "plt.ylabel('Количество событий')\n",
        "plt.legend(loc='upper right', fontsize=10)\n",
        "plt.grid()\n",
        "\n",
        "plt.show()"
      ]
    },
    {
      "cell_type": "markdown",
      "metadata": {
        "id": "be0pQHMIGGQo"
      },
      "source": [
        "Количество сообытий по группам распределено пропорционально, хотя в группе В втрое меньше событий. "
      ]
    },
    {
      "cell_type": "markdown",
      "metadata": {
        "id": "UFO-LuhrHV8V"
      },
      "source": [
        "Посмотрим, составили ли отфильтрованные участники теста 15% от всех клиентов в Европе, как было установлено в ТЗ."
      ]
    },
    {
      "cell_type": "code",
      "execution_count": 63,
      "metadata": {
        "id": "pZGy_0cnIxqq",
        "trusted": true
      },
      "outputs": [],
      "source": [
        "test_participants = events_new['user_id'].tolist()"
      ]
    },
    {
      "cell_type": "code",
      "execution_count": 64,
      "metadata": {
        "colab": {
          "base_uri": "https://localhost:8080/"
        },
        "id": "oskCjvWdJFkk",
        "outputId": "78586323-a506-4dc9-91bc-bcc6ffc522cb",
        "trusted": true
      },
      "outputs": [
        {
          "output_type": "stream",
          "name": "stdout",
          "text": [
            "Доля отфильтрованных участников теста от общего числа клиентов из Европы - 7.52 %\n",
            "\n",
            "Согласно ТЗ, требуется 15%, не хватает 7.48 п.п.\n"
          ]
        }
      ],
      "source": [
        "print('Доля отфильтрованных участников теста от общего числа клиентов из Европы -',\\\n",
        "      round(total_users.query('user_id in @test_participants')['region'].value_counts()[0] / total_users_by_regions[0] * 100, 2), '%')\n",
        "print()\n",
        "print('Согласно ТЗ, требуется 15%, не хватает',\\\n",
        "      round(15 - round(total_users.query('user_id in @test_participants')['region'].value_counts()[0] / total_users_by_regions[0] * 100, 2), 2), 'п.п.')\n"
      ]
    },
    {
      "cell_type": "markdown",
      "metadata": {
        "id": "3Oqzx5iRL4BX"
      },
      "source": [
        "Таким образом, выводы на соответствие данным теста ТЗ:\n",
        "\n",
        "ДА:\n",
        "- Название теста: `recommender_system_test`;\n",
        "- группы: А — контрольная, B — новая платёжная воронка;\n",
        "- дата запуска: 2020-12-07;\n",
        "- дата остановки набора новых пользователей: 2020-12-21;\n",
        "- дата остановки: 2021-01-04;\n",
        "- отфильтровали 14 дней с момента регистрации.\n",
        "\n",
        "НЕТ:\n",
        "- Данные заканчиваются 2020-12-30, вместо 2021-01-04;\n",
        "- аудитория новых пользователей из региона EU не равна заявленным 15%, по факту - вдвое меньше \n",
        "- ожидаемое количество участников теста: 6000.\n",
        "- участников гораздо меньше заявленных 6000, но тех, у кого есть события - 3481.\n",
        "\n",
        "У нас совсем мало дней наблюдений, чтобы набрать когорты посетителей и оценить изменения событий в этих когортах. С 7 по 24 декабря - 18 дней. С 25-го начинается рождественская промо-акция. Она пересекается с тестом формально 11 дней, а фактически, поскольку данные событий только до 30 декабря - 6.  \n"
      ]
    },
    {
      "cell_type": "markdown",
      "metadata": {
        "id": "oBSBDiCpX8rg"
      },
      "source": [
        "## Проведем исследовательский анализ данных"
      ]
    },
    {
      "cell_type": "markdown",
      "metadata": {
        "id": "7qm3uEm1YEZ6"
      },
      "source": [
        "### Количество событий на пользователя одинаково распределены в выборках?\n"
      ]
    },
    {
      "cell_type": "code",
      "execution_count": 65,
      "metadata": {
        "colab": {
          "base_uri": "https://localhost:8080/",
          "height": 300
        },
        "id": "nolDFh2u7bs-",
        "outputId": "3fcb8dcd-1a32-4404-ee0c-37146537f971",
        "trusted": true
      },
      "outputs": [
        {
          "output_type": "execute_result",
          "data": {
            "text/plain": [
              "       event_name\n",
              "count    3,481.00\n",
              "mean         6.56\n",
              "std          3.77\n",
              "min          1.00\n",
              "25%          4.00\n",
              "50%          6.00\n",
              "75%          9.00\n",
              "max         24.00"
            ],
            "text/html": [
              "\n",
              "  <div id=\"df-78bb0c69-bae2-40f8-8a0f-1b76aa3f01ce\">\n",
              "    <div class=\"colab-df-container\">\n",
              "      <div>\n",
              "<style scoped>\n",
              "    .dataframe tbody tr th:only-of-type {\n",
              "        vertical-align: middle;\n",
              "    }\n",
              "\n",
              "    .dataframe tbody tr th {\n",
              "        vertical-align: top;\n",
              "    }\n",
              "\n",
              "    .dataframe thead th {\n",
              "        text-align: right;\n",
              "    }\n",
              "</style>\n",
              "<table border=\"1\" class=\"dataframe\">\n",
              "  <thead>\n",
              "    <tr style=\"text-align: right;\">\n",
              "      <th></th>\n",
              "      <th>event_name</th>\n",
              "    </tr>\n",
              "  </thead>\n",
              "  <tbody>\n",
              "    <tr>\n",
              "      <th>count</th>\n",
              "      <td>3,481.00</td>\n",
              "    </tr>\n",
              "    <tr>\n",
              "      <th>mean</th>\n",
              "      <td>6.56</td>\n",
              "    </tr>\n",
              "    <tr>\n",
              "      <th>std</th>\n",
              "      <td>3.77</td>\n",
              "    </tr>\n",
              "    <tr>\n",
              "      <th>min</th>\n",
              "      <td>1.00</td>\n",
              "    </tr>\n",
              "    <tr>\n",
              "      <th>25%</th>\n",
              "      <td>4.00</td>\n",
              "    </tr>\n",
              "    <tr>\n",
              "      <th>50%</th>\n",
              "      <td>6.00</td>\n",
              "    </tr>\n",
              "    <tr>\n",
              "      <th>75%</th>\n",
              "      <td>9.00</td>\n",
              "    </tr>\n",
              "    <tr>\n",
              "      <th>max</th>\n",
              "      <td>24.00</td>\n",
              "    </tr>\n",
              "  </tbody>\n",
              "</table>\n",
              "</div>\n",
              "      <button class=\"colab-df-convert\" onclick=\"convertToInteractive('df-78bb0c69-bae2-40f8-8a0f-1b76aa3f01ce')\"\n",
              "              title=\"Convert this dataframe to an interactive table.\"\n",
              "              style=\"display:none;\">\n",
              "        \n",
              "  <svg xmlns=\"http://www.w3.org/2000/svg\" height=\"24px\"viewBox=\"0 0 24 24\"\n",
              "       width=\"24px\">\n",
              "    <path d=\"M0 0h24v24H0V0z\" fill=\"none\"/>\n",
              "    <path d=\"M18.56 5.44l.94 2.06.94-2.06 2.06-.94-2.06-.94-.94-2.06-.94 2.06-2.06.94zm-11 1L8.5 8.5l.94-2.06 2.06-.94-2.06-.94L8.5 2.5l-.94 2.06-2.06.94zm10 10l.94 2.06.94-2.06 2.06-.94-2.06-.94-.94-2.06-.94 2.06-2.06.94z\"/><path d=\"M17.41 7.96l-1.37-1.37c-.4-.4-.92-.59-1.43-.59-.52 0-1.04.2-1.43.59L10.3 9.45l-7.72 7.72c-.78.78-.78 2.05 0 2.83L4 21.41c.39.39.9.59 1.41.59.51 0 1.02-.2 1.41-.59l7.78-7.78 2.81-2.81c.8-.78.8-2.07 0-2.86zM5.41 20L4 18.59l7.72-7.72 1.47 1.35L5.41 20z\"/>\n",
              "  </svg>\n",
              "      </button>\n",
              "      \n",
              "  <style>\n",
              "    .colab-df-container {\n",
              "      display:flex;\n",
              "      flex-wrap:wrap;\n",
              "      gap: 12px;\n",
              "    }\n",
              "\n",
              "    .colab-df-convert {\n",
              "      background-color: #E8F0FE;\n",
              "      border: none;\n",
              "      border-radius: 50%;\n",
              "      cursor: pointer;\n",
              "      display: none;\n",
              "      fill: #1967D2;\n",
              "      height: 32px;\n",
              "      padding: 0 0 0 0;\n",
              "      width: 32px;\n",
              "    }\n",
              "\n",
              "    .colab-df-convert:hover {\n",
              "      background-color: #E2EBFA;\n",
              "      box-shadow: 0px 1px 2px rgba(60, 64, 67, 0.3), 0px 1px 3px 1px rgba(60, 64, 67, 0.15);\n",
              "      fill: #174EA6;\n",
              "    }\n",
              "\n",
              "    [theme=dark] .colab-df-convert {\n",
              "      background-color: #3B4455;\n",
              "      fill: #D2E3FC;\n",
              "    }\n",
              "\n",
              "    [theme=dark] .colab-df-convert:hover {\n",
              "      background-color: #434B5C;\n",
              "      box-shadow: 0px 1px 3px 1px rgba(0, 0, 0, 0.15);\n",
              "      filter: drop-shadow(0px 1px 2px rgba(0, 0, 0, 0.3));\n",
              "      fill: #FFFFFF;\n",
              "    }\n",
              "  </style>\n",
              "\n",
              "      <script>\n",
              "        const buttonEl =\n",
              "          document.querySelector('#df-78bb0c69-bae2-40f8-8a0f-1b76aa3f01ce button.colab-df-convert');\n",
              "        buttonEl.style.display =\n",
              "          google.colab.kernel.accessAllowed ? 'block' : 'none';\n",
              "\n",
              "        async function convertToInteractive(key) {\n",
              "          const element = document.querySelector('#df-78bb0c69-bae2-40f8-8a0f-1b76aa3f01ce');\n",
              "          const dataTable =\n",
              "            await google.colab.kernel.invokeFunction('convertToInteractive',\n",
              "                                                     [key], {});\n",
              "          if (!dataTable) return;\n",
              "\n",
              "          const docLinkHtml = 'Like what you see? Visit the ' +\n",
              "            '<a target=\"_blank\" href=https://colab.research.google.com/notebooks/data_table.ipynb>data table notebook</a>'\n",
              "            + ' to learn more about interactive tables.';\n",
              "          element.innerHTML = '';\n",
              "          dataTable['output_type'] = 'display_data';\n",
              "          await google.colab.output.renderOutput(dataTable, element);\n",
              "          const docLink = document.createElement('div');\n",
              "          docLink.innerHTML = docLinkHtml;\n",
              "          element.appendChild(docLink);\n",
              "        }\n",
              "      </script>\n",
              "    </div>\n",
              "  </div>\n",
              "  "
            ]
          },
          "metadata": {},
          "execution_count": 65
        }
      ],
      "source": [
        "events_new.groupby('user_id').agg({'event_name': 'count'}).describe()"
      ]
    },
    {
      "cell_type": "markdown",
      "metadata": {
        "id": "3D8J0rijIdKU"
      },
      "source": [
        "На одного пользователя в среднем 7 событий. Медиана немного ниже - 6. Значит, выбросов не должно быть много."
      ]
    },
    {
      "cell_type": "code",
      "execution_count": 66,
      "metadata": {
        "colab": {
          "base_uri": "https://localhost:8080/",
          "height": 391
        },
        "id": "YWBqwdZoIlKC",
        "outputId": "44b00bbb-9972-4abb-df53-54e675cecd31",
        "trusted": true
      },
      "outputs": [
        {
          "output_type": "display_data",
          "data": {
            "text/plain": [
              "<Figure size 1296x432 with 1 Axes>"
            ],
            "image/png": "[encoded data removed]"
          },
          "metadata": {}
        }
      ],
      "source": [
        "events_new.groupby('user_id').agg({'event_name': 'count'}).boxplot(figsize=(18, 6))\n",
        "\n",
        "plt.title('Распределение средних значений событий на одного пользоватея')\n",
        "plt.ylabel('Количество событий');"
      ]
    },
    {
      "cell_type": "markdown",
      "metadata": {
        "id": "m_pyl1uUI_2u"
      },
      "source": [
        "Выбросы есть, но их не мало.Вполне возможно, некоторые пользователи рьяно посещают сайт, изучают содержимое, но так ничего не покупают."
      ]
    },
    {
      "cell_type": "markdown",
      "metadata": {
        "id": "a7WWh7JLYJxZ"
      },
      "source": [
        "Посмотрим на события в выборках по дням."
      ]
    },
    {
      "cell_type": "code",
      "execution_count": 67,
      "metadata": {
        "id": "43utPJyQkpZr",
        "trusted": true
      },
      "outputs": [],
      "source": [
        "distribution_by_days = events_new.groupby(['event_dt_date', 'group'])['event_name'].count().reset_index()\n",
        "distribution_by_days['event_dt_date'] = distribution_by_days['event_dt_date'].dt.strftime('%Y-%m-%d')\n"
      ]
    },
    {
      "cell_type": "code",
      "execution_count": 68,
      "metadata": {
        "colab": {
          "base_uri": "https://localhost:8080/",
          "height": 453
        },
        "id": "w02LLhZiJoBM",
        "outputId": "79a6ba1c-28b5-41b6-d0f8-ecb162345e37",
        "trusted": true
      },
      "outputs": [
        {
          "output_type": "display_data",
          "data": {
            "text/plain": [
              "<Figure size 1080x432 with 1 Axes>"
            ],
            "image/png": "[encoded data removed]"
          },
          "metadata": {}
        }
      ],
      "source": [
        "sns.set_style('dark')\n",
        "\n",
        "plt.figure(figsize=(15, 6))\n",
        "\n",
        "sns.barplot(x='event_dt_date', y='event_name', data=distribution_by_days, hue='group')\n",
        "\n",
        "plt.title('Распределение событий по группам по дням')\n",
        "plt.xlabel('Дата')\n",
        "plt.ylabel('Количество событий')\n",
        "plt.legend(loc='upper right', fontsize=10)\n",
        "plt.grid()\n",
        "plt.xticks(rotation=80)\n",
        "plt.show()"
      ]
    },
    {
      "cell_type": "markdown",
      "metadata": {
        "id": "ZoqK0xptuJKV"
      },
      "source": [
        "В первый день выборка группы B даже немного выше. Со второй недели (с 7 декабря, в понедельник) у выборки А наблюдается четырехкратное количественное опережение выборки В. Показатели группы А растут всю вторую неделю. На начало третьей (21 декабря, снова понедельник) приходится пик обеих выборок. После 21 декабря у группы A явное снижение количества событий, у группы B - небольшое снижение. Отметим, что снижение приходится на начало рекламной кампании и период рождественско-новогодних праздников."
      ]
    },
    {
      "cell_type": "markdown",
      "metadata": {
        "id": "sP7Z7FugYN0l"
      },
      "source": [
        "### Воронки событий"
      ]
    },
    {
      "cell_type": "markdown",
      "metadata": {
        "id": "gEed7LTO2JlG"
      },
      "source": [
        "Определим, сколько пользователей совершали каждое из событий, а также долю пользователей, которые хоть раз совершали событие. Не забудем о последовательности действий в воронке, которую мы установили выше."
      ]
    },
    {
      "cell_type": "code",
      "execution_count": 69,
      "metadata": {
        "id": "9iFrJaUc3JeS",
        "trusted": true
      },
      "outputs": [],
      "source": [
        "events_new_A = events_new.query('group == \"A\"')\n",
        "events_new_B = events_new.query('group == \"B\"')\n"
      ]
    },
    {
      "cell_type": "code",
      "execution_count": 70,
      "metadata": {
        "colab": {
          "base_uri": "https://localhost:8080/",
          "height": 175
        },
        "id": "-LW9phLI2SmN",
        "outputId": "244aada1-1307-4c93-c676-44f975e86141",
        "trusted": true
      },
      "outputs": [
        {
          "output_type": "execute_result",
          "data": {
            "text/plain": [
              "     event_name  number_of_users  user_share\n",
              "0         login             2604      100.00\n",
              "2  product_page             1685       64.71\n",
              "1  product_cart              782       30.03\n",
              "3      purchase              833       31.99"
            ],
            "text/html": [
              "\n",
              "  <div id=\"df-5135a7a6-ded8-4c94-b0af-29e91782e22a\">\n",
              "    <div class=\"colab-df-container\">\n",
              "      <div>\n",
              "<style scoped>\n",
              "    .dataframe tbody tr th:only-of-type {\n",
              "        vertical-align: middle;\n",
              "    }\n",
              "\n",
              "    .dataframe tbody tr th {\n",
              "        vertical-align: top;\n",
              "    }\n",
              "\n",
              "    .dataframe thead th {\n",
              "        text-align: right;\n",
              "    }\n",
              "</style>\n",
              "<table border=\"1\" class=\"dataframe\">\n",
              "  <thead>\n",
              "    <tr style=\"text-align: right;\">\n",
              "      <th></th>\n",
              "      <th>event_name</th>\n",
              "      <th>number_of_users</th>\n",
              "      <th>user_share</th>\n",
              "    </tr>\n",
              "  </thead>\n",
              "  <tbody>\n",
              "    <tr>\n",
              "      <th>0</th>\n",
              "      <td>login</td>\n",
              "      <td>2604</td>\n",
              "      <td>100.00</td>\n",
              "    </tr>\n",
              "    <tr>\n",
              "      <th>2</th>\n",
              "      <td>product_page</td>\n",
              "      <td>1685</td>\n",
              "      <td>64.71</td>\n",
              "    </tr>\n",
              "    <tr>\n",
              "      <th>1</th>\n",
              "      <td>product_cart</td>\n",
              "      <td>782</td>\n",
              "      <td>30.03</td>\n",
              "    </tr>\n",
              "    <tr>\n",
              "      <th>3</th>\n",
              "      <td>purchase</td>\n",
              "      <td>833</td>\n",
              "      <td>31.99</td>\n",
              "    </tr>\n",
              "  </tbody>\n",
              "</table>\n",
              "</div>\n",
              "      <button class=\"colab-df-convert\" onclick=\"convertToInteractive('df-5135a7a6-ded8-4c94-b0af-29e91782e22a')\"\n",
              "              title=\"Convert this dataframe to an interactive table.\"\n",
              "              style=\"display:none;\">\n",
              "        \n",
              "  <svg xmlns=\"http://www.w3.org/2000/svg\" height=\"24px\"viewBox=\"0 0 24 24\"\n",
              "       width=\"24px\">\n",
              "    <path d=\"M0 0h24v24H0V0z\" fill=\"none\"/>\n",
              "    <path d=\"M18.56 5.44l.94 2.06.94-2.06 2.06-.94-2.06-.94-.94-2.06-.94 2.06-2.06.94zm-11 1L8.5 8.5l.94-2.06 2.06-.94-2.06-.94L8.5 2.5l-.94 2.06-2.06.94zm10 10l.94 2.06.94-2.06 2.06-.94-2.06-.94-.94-2.06-.94 2.06-2.06.94z\"/><path d=\"M17.41 7.96l-1.37-1.37c-.4-.4-.92-.59-1.43-.59-.52 0-1.04.2-1.43.59L10.3 9.45l-7.72 7.72c-.78.78-.78 2.05 0 2.83L4 21.41c.39.39.9.59 1.41.59.51 0 1.02-.2 1.41-.59l7.78-7.78 2.81-2.81c.8-.78.8-2.07 0-2.86zM5.41 20L4 18.59l7.72-7.72 1.47 1.35L5.41 20z\"/>\n",
              "  </svg>\n",
              "      </button>\n",
              "      \n",
              "  <style>\n",
              "    .colab-df-container {\n",
              "      display:flex;\n",
              "      flex-wrap:wrap;\n",
              "      gap: 12px;\n",
              "    }\n",
              "\n",
              "    .colab-df-convert {\n",
              "      background-color: #E8F0FE;\n",
              "      border: none;\n",
              "      border-radius: 50%;\n",
              "      cursor: pointer;\n",
              "      display: none;\n",
              "      fill: #1967D2;\n",
              "      height: 32px;\n",
              "      padding: 0 0 0 0;\n",
              "      width: 32px;\n",
              "    }\n",
              "\n",
              "    .colab-df-convert:hover {\n",
              "      background-color: #E2EBFA;\n",
              "      box-shadow: 0px 1px 2px rgba(60, 64, 67, 0.3), 0px 1px 3px 1px rgba(60, 64, 67, 0.15);\n",
              "      fill: #174EA6;\n",
              "    }\n",
              "\n",
              "    [theme=dark] .colab-df-convert {\n",
              "      background-color: #3B4455;\n",
              "      fill: #D2E3FC;\n",
              "    }\n",
              "\n",
              "    [theme=dark] .colab-df-convert:hover {\n",
              "      background-color: #434B5C;\n",
              "      box-shadow: 0px 1px 3px 1px rgba(0, 0, 0, 0.15);\n",
              "      filter: drop-shadow(0px 1px 2px rgba(0, 0, 0, 0.3));\n",
              "      fill: #FFFFFF;\n",
              "    }\n",
              "  </style>\n",
              "\n",
              "      <script>\n",
              "        const buttonEl =\n",
              "          document.querySelector('#df-5135a7a6-ded8-4c94-b0af-29e91782e22a button.colab-df-convert');\n",
              "        buttonEl.style.display =\n",
              "          google.colab.kernel.accessAllowed ? 'block' : 'none';\n",
              "\n",
              "        async function convertToInteractive(key) {\n",
              "          const element = document.querySelector('#df-5135a7a6-ded8-4c94-b0af-29e91782e22a');\n",
              "          const dataTable =\n",
              "            await google.colab.kernel.invokeFunction('convertToInteractive',\n",
              "                                                     [key], {});\n",
              "          if (!dataTable) return;\n",
              "\n",
              "          const docLinkHtml = 'Like what you see? Visit the ' +\n",
              "            '<a target=\"_blank\" href=https://colab.research.google.com/notebooks/data_table.ipynb>data table notebook</a>'\n",
              "            + ' to learn more about interactive tables.';\n",
              "          element.innerHTML = '';\n",
              "          dataTable['output_type'] = 'display_data';\n",
              "          await google.colab.output.renderOutput(dataTable, element);\n",
              "          const docLink = document.createElement('div');\n",
              "          docLink.innerHTML = docLinkHtml;\n",
              "          element.appendChild(docLink);\n",
              "        }\n",
              "      </script>\n",
              "    </div>\n",
              "  </div>\n",
              "  "
            ]
          },
          "metadata": {},
          "execution_count": 70
        }
      ],
      "source": [
        "parts_users_per_event_part_A= (events_new_A\n",
        "                               .groupby('event_name').agg(number_of_users = ('user_id', 'nunique'))\n",
        "                               .reset_index()\n",
        "                               .sort_values('number_of_users', ascending=False)\n",
        "                               .assign(user_share = lambda x: x['number_of_users'] * 100 / events_new_A['user_id']\n",
        "                                       .nunique())\n",
        "                                       )\n",
        "\n",
        "parts_users_per_event_part_A.reindex([0,2,1,3])\n"
      ]
    },
    {
      "cell_type": "code",
      "execution_count": 71,
      "metadata": {
        "colab": {
          "base_uri": "https://localhost:8080/",
          "height": 175
        },
        "id": "xjfiCdA5wSv8",
        "outputId": "f7f02867-6c4b-476f-d584-8c7a59d4c8e4",
        "trusted": true
      },
      "outputs": [
        {
          "output_type": "execute_result",
          "data": {
            "text/plain": [
              "     event_name  number_of_users  user_share\n",
              "0         login              876       99.89\n",
              "2  product_page              493       56.21\n",
              "1  product_cart              244       27.82\n",
              "3      purchase              249       28.39"
            ],
            "text/html": [
              "\n",
              "  <div id=\"df-485dfdd3-eab5-4268-9e9f-6108c9400cdf\">\n",
              "    <div class=\"colab-df-container\">\n",
              "      <div>\n",
              "<style scoped>\n",
              "    .dataframe tbody tr th:only-of-type {\n",
              "        vertical-align: middle;\n",
              "    }\n",
              "\n",
              "    .dataframe tbody tr th {\n",
              "        vertical-align: top;\n",
              "    }\n",
              "\n",
              "    .dataframe thead th {\n",
              "        text-align: right;\n",
              "    }\n",
              "</style>\n",
              "<table border=\"1\" class=\"dataframe\">\n",
              "  <thead>\n",
              "    <tr style=\"text-align: right;\">\n",
              "      <th></th>\n",
              "      <th>event_name</th>\n",
              "      <th>number_of_users</th>\n",
              "      <th>user_share</th>\n",
              "    </tr>\n",
              "  </thead>\n",
              "  <tbody>\n",
              "    <tr>\n",
              "      <th>0</th>\n",
              "      <td>login</td>\n",
              "      <td>876</td>\n",
              "      <td>99.89</td>\n",
              "    </tr>\n",
              "    <tr>\n",
              "      <th>2</th>\n",
              "      <td>product_page</td>\n",
              "      <td>493</td>\n",
              "      <td>56.21</td>\n",
              "    </tr>\n",
              "    <tr>\n",
              "      <th>1</th>\n",
              "      <td>product_cart</td>\n",
              "      <td>244</td>\n",
              "      <td>27.82</td>\n",
              "    </tr>\n",
              "    <tr>\n",
              "      <th>3</th>\n",
              "      <td>purchase</td>\n",
              "      <td>249</td>\n",
              "      <td>28.39</td>\n",
              "    </tr>\n",
              "  </tbody>\n",
              "</table>\n",
              "</div>\n",
              "      <button class=\"colab-df-convert\" onclick=\"convertToInteractive('df-485dfdd3-eab5-4268-9e9f-6108c9400cdf')\"\n",
              "              title=\"Convert this dataframe to an interactive table.\"\n",
              "              style=\"display:none;\">\n",
              "        \n",
              "  <svg xmlns=\"http://www.w3.org/2000/svg\" height=\"24px\"viewBox=\"0 0 24 24\"\n",
              "       width=\"24px\">\n",
              "    <path d=\"M0 0h24v24H0V0z\" fill=\"none\"/>\n",
              "    <path d=\"M18.56 5.44l.94 2.06.94-2.06 2.06-.94-2.06-.94-.94-2.06-.94 2.06-2.06.94zm-11 1L8.5 8.5l.94-2.06 2.06-.94-2.06-.94L8.5 2.5l-.94 2.06-2.06.94zm10 10l.94 2.06.94-2.06 2.06-.94-2.06-.94-.94-2.06-.94 2.06-2.06.94z\"/><path d=\"M17.41 7.96l-1.37-1.37c-.4-.4-.92-.59-1.43-.59-.52 0-1.04.2-1.43.59L10.3 9.45l-7.72 7.72c-.78.78-.78 2.05 0 2.83L4 21.41c.39.39.9.59 1.41.59.51 0 1.02-.2 1.41-.59l7.78-7.78 2.81-2.81c.8-.78.8-2.07 0-2.86zM5.41 20L4 18.59l7.72-7.72 1.47 1.35L5.41 20z\"/>\n",
              "  </svg>\n",
              "      </button>\n",
              "      \n",
              "  <style>\n",
              "    .colab-df-container {\n",
              "      display:flex;\n",
              "      flex-wrap:wrap;\n",
              "      gap: 12px;\n",
              "    }\n",
              "\n",
              "    .colab-df-convert {\n",
              "      background-color: #E8F0FE;\n",
              "      border: none;\n",
              "      border-radius: 50%;\n",
              "      cursor: pointer;\n",
              "      display: none;\n",
              "      fill: #1967D2;\n",
              "      height: 32px;\n",
              "      padding: 0 0 0 0;\n",
              "      width: 32px;\n",
              "    }\n",
              "\n",
              "    .colab-df-convert:hover {\n",
              "      background-color: #E2EBFA;\n",
              "      box-shadow: 0px 1px 2px rgba(60, 64, 67, 0.3), 0px 1px 3px 1px rgba(60, 64, 67, 0.15);\n",
              "      fill: #174EA6;\n",
              "    }\n",
              "\n",
              "    [theme=dark] .colab-df-convert {\n",
              "      background-color: #3B4455;\n",
              "      fill: #D2E3FC;\n",
              "    }\n",
              "\n",
              "    [theme=dark] .colab-df-convert:hover {\n",
              "      background-color: #434B5C;\n",
              "      box-shadow: 0px 1px 3px 1px rgba(0, 0, 0, 0.15);\n",
              "      filter: drop-shadow(0px 1px 2px rgba(0, 0, 0, 0.3));\n",
              "      fill: #FFFFFF;\n",
              "    }\n",
              "  </style>\n",
              "\n",
              "      <script>\n",
              "        const buttonEl =\n",
              "          document.querySelector('#df-485dfdd3-eab5-4268-9e9f-6108c9400cdf button.colab-df-convert');\n",
              "        buttonEl.style.display =\n",
              "          google.colab.kernel.accessAllowed ? 'block' : 'none';\n",
              "\n",
              "        async function convertToInteractive(key) {\n",
              "          const element = document.querySelector('#df-485dfdd3-eab5-4268-9e9f-6108c9400cdf');\n",
              "          const dataTable =\n",
              "            await google.colab.kernel.invokeFunction('convertToInteractive',\n",
              "                                                     [key], {});\n",
              "          if (!dataTable) return;\n",
              "\n",
              "          const docLinkHtml = 'Like what you see? Visit the ' +\n",
              "            '<a target=\"_blank\" href=https://colab.research.google.com/notebooks/data_table.ipynb>data table notebook</a>'\n",
              "            + ' to learn more about interactive tables.';\n",
              "          element.innerHTML = '';\n",
              "          dataTable['output_type'] = 'display_data';\n",
              "          await google.colab.output.renderOutput(dataTable, element);\n",
              "          const docLink = document.createElement('div');\n",
              "          docLink.innerHTML = docLinkHtml;\n",
              "          element.appendChild(docLink);\n",
              "        }\n",
              "      </script>\n",
              "    </div>\n",
              "  </div>\n",
              "  "
            ]
          },
          "metadata": {},
          "execution_count": 71
        }
      ],
      "source": [
        "parts_users_per_event_part_B= (events_new_B\n",
        "                               .groupby('event_name').agg(number_of_users = ('user_id', 'nunique'))\n",
        "                               .reset_index()\n",
        "                               .sort_values('number_of_users', ascending=False)\n",
        "                               .assign(user_share = lambda x: x['number_of_users'] * 100 / events_new_B['user_id']\n",
        "                                       .nunique())\n",
        "                                       )\n",
        "\n",
        "parts_users_per_event_part_B.reindex([0,2,1,3])"
      ]
    },
    {
      "cell_type": "markdown",
      "metadata": {
        "id": "bpLvo9iONs6U"
      },
      "source": [
        "Судя по тому, что не все залогинились, покупать можно и через сторонние сайты."
      ]
    },
    {
      "cell_type": "markdown",
      "metadata": {
        "id": "RBnEPWuAMJk1"
      },
      "source": [
        "Перейдем к построению воронки."
      ]
    },
    {
      "cell_type": "code",
      "source": [
        "fig = go.Figure()\n",
        "\n",
        "fig.add_trace(go.Funnel(\n",
        "    name = 'Группа А',\n",
        "    y = [\"login\", \"product_page\",\\\n",
        "         \"product_cart\", \"purchase\t\"],\n",
        "    x = [2604, 1685, 782, 833],\n",
        "    textinfo = \"value+percent initial\"))\n",
        "\n",
        "fig.add_trace(go.Funnel(\n",
        "    name = 'Группа B',\n",
        "    orientation = \"h\",\n",
        "    y = [\"login\", \"product_page\",\\\n",
        "         \"product_cart\", \"purchase\t\"],\n",
        "    x = [876, 493, 244, 249],\n",
        "    textposition = \"inside\",\n",
        "    textinfo = \"value+percent initial\"))\n",
        "\n",
        "fig.update_layout(title=\"Воронка событий\", width=1200, height=500)\n",
        "fig.show()"
      ],
      "metadata": {
        "colab": {
          "base_uri": "https://localhost:8080/",
          "height": 537
        },
        "id": "bM1eY3hKJ2ua",
        "outputId": "54212553-27c8-40a6-defc-01ea7c252806"
      },
      "execution_count": 72,
      "outputs": [
        {
          "output_type": "display_data",
          "data": {
            "text/html": [
              "<html>\n",
              "<head><meta charset=\"utf-8\" /></head>\n",
              "<body>\n",
              "    <div>            <script src=\"https://cdnjs.cloudflare.com/ajax/libs/mathjax/2.7.5/MathJax.js?config=TeX-AMS-MML_SVG\"></script><script type=\"text/javascript\">if (window.MathJax) {MathJax.Hub.Config({SVG: {font: \"STIX-Web\"}});}</script>                <script type=\"text/javascript\">window.PlotlyConfig = {MathJaxConfig: 'local'};</script>\n",
              "        <script src=\"https://cdn.plot.ly/plotly-2.8.3.min.js\"></script>                <div id=\"77d781b2-0744-44a3-97dc-d1c97edd70bd\" class=\"plotly-graph-div\" style=\"height:500px; width:1200px;\"></div>            <script type=\"text/javascript\">                                    window.PLOTLYENV=window.PLOTLYENV || {};                                    if (document.getElementById(\"77d781b2-0744-44a3-97dc-d1c97edd70bd\")) {                    Plotly.newPlot(                        \"77d781b2-0744-44a3-97dc-d1c97edd70bd\",                        [{\"name\":\"\\u0413\\u0440\\u0443\\u043f\\u043f\\u0430 \\u0410\",\"textinfo\":\"value+percent initial\",\"x\":[2604,1685,782,833],\"y\":[\"login\",\"product_page\",\"product_cart\",\"purchase\\t\"],\"type\":\"funnel\"},{\"name\":\"\\u0413\\u0440\\u0443\\u043f\\u043f\\u0430 B\",\"orientation\":\"h\",\"textinfo\":\"value+percent initial\",\"textposition\":\"inside\",\"x\":[876,493,244,249],\"y\":[\"login\",\"product_page\",\"product_cart\",\"purchase\\t\"],\"type\":\"funnel\"}],                        {\"template\":{\"data\":{\"bar\":[{\"error_x\":{\"color\":\"#2a3f5f\"},\"error_y\":{\"color\":\"#2a3f5f\"},\"marker\":{\"line\":{\"color\":\"#E5ECF6\",\"width\":0.5},\"pattern\":{\"fillmode\":\"overlay\",\"size\":10,\"solidity\":0.2}},\"type\":\"bar\"}],\"barpolar\":[{\"marker\":{\"line\":{\"color\":\"#E5ECF6\",\"width\":0.5},\"pattern\":{\"fillmode\":\"overlay\",\"size\":10,\"solidity\":0.2}},\"type\":\"barpolar\"}],\"carpet\":[{\"aaxis\":{\"endlinecolor\":\"#2a3f5f\",\"gridcolor\":\"white\",\"linecolor\":\"white\",\"minorgridcolor\":\"white\",\"startlinecolor\":\"#2a3f5f\"},\"baxis\":{\"endlinecolor\":\"#2a3f5f\",\"gridcolor\":\"white\",\"linecolor\":\"white\",\"minorgridcolor\":\"white\",\"startlinecolor\":\"#2a3f5f\"},\"type\":\"carpet\"}],\"choropleth\":[{\"colorbar\":{\"outlinewidth\":0,\"ticks\":\"\"},\"type\":\"choropleth\"}],\"contour\":[{\"colorbar\":{\"outlinewidth\":0,\"ticks\":\"\"},\"colorscale\":[[0.0,\"#0d0887\"],[0.1111111111111111,\"#46039f\"],[0.2222222222222222,\"#7201a8\"],[0.3333333333333333,\"#9c179e\"],[0.4444444444444444,\"#bd3786\"],[0.5555555555555556,\"#d8576b\"],[0.6666666666666666,\"#ed7953\"],[0.7777777777777778,\"#fb9f3a\"],[0.8888888888888888,\"#fdca26\"],[1.0,\"#f0f921\"]],\"type\":\"contour\"}],\"contourcarpet\":[{\"colorbar\":{\"outlinewidth\":0,\"ticks\":\"\"},\"type\":\"contourcarpet\"}],\"heatmap\":[{\"colorbar\":{\"outlinewidth\":0,\"ticks\":\"\"},\"colorscale\":[[0.0,\"#0d0887\"],[0.1111111111111111,\"#46039f\"],[0.2222222222222222,\"#7201a8\"],[0.3333333333333333,\"#9c179e\"],[0.4444444444444444,\"#bd3786\"],[0.5555555555555556,\"#d8576b\"],[0.6666666666666666,\"#ed7953\"],[0.7777777777777778,\"#fb9f3a\"],[0.8888888888888888,\"#fdca26\"],[1.0,\"#f0f921\"]],\"type\":\"heatmap\"}],\"heatmapgl\":[{\"colorbar\":{\"outlinewidth\":0,\"ticks\":\"\"},\"colorscale\":[[0.0,\"#0d0887\"],[0.1111111111111111,\"#46039f\"],[0.2222222222222222,\"#7201a8\"],[0.3333333333333333,\"#9c179e\"],[0.4444444444444444,\"#bd3786\"],[0.5555555555555556,\"#d8576b\"],[0.6666666666666666,\"#ed7953\"],[0.7777777777777778,\"#fb9f3a\"],[0.8888888888888888,\"#fdca26\"],[1.0,\"#f0f921\"]],\"type\":\"heatmapgl\"}],\"histogram\":[{\"marker\":{\"pattern\":{\"fillmode\":\"overlay\",\"size\":10,\"solidity\":0.2}},\"type\":\"histogram\"}],\"histogram2d\":[{\"colorbar\":{\"outlinewidth\":0,\"ticks\":\"\"},\"colorscale\":[[0.0,\"#0d0887\"],[0.1111111111111111,\"#46039f\"],[0.2222222222222222,\"#7201a8\"],[0.3333333333333333,\"#9c179e\"],[0.4444444444444444,\"#bd3786\"],[0.5555555555555556,\"#d8576b\"],[0.6666666666666666,\"#ed7953\"],[0.7777777777777778,\"#fb9f3a\"],[0.8888888888888888,\"#fdca26\"],[1.0,\"#f0f921\"]],\"type\":\"histogram2d\"}],\"histogram2dcontour\":[{\"colorbar\":{\"outlinewidth\":0,\"ticks\":\"\"},\"colorscale\":[[0.0,\"#0d0887\"],[0.1111111111111111,\"#46039f\"],[0.2222222222222222,\"#7201a8\"],[0.3333333333333333,\"#9c179e\"],[0.4444444444444444,\"#bd3786\"],[0.5555555555555556,\"#d8576b\"],[0.6666666666666666,\"#ed7953\"],[0.7777777777777778,\"#fb9f3a\"],[0.8888888888888888,\"#fdca26\"],[1.0,\"#f0f921\"]],\"type\":\"histogram2dcontour\"}],\"mesh3d\":[{\"colorbar\":{\"outlinewidth\":0,\"ticks\":\"\"},\"type\":\"mesh3d\"}],\"parcoords\":[{\"line\":{\"colorbar\":{\"outlinewidth\":0,\"ticks\":\"\"}},\"type\":\"parcoords\"}],\"pie\":[{\"automargin\":true,\"type\":\"pie\"}],\"scatter\":[{\"marker\":{\"colorbar\":{\"outlinewidth\":0,\"ticks\":\"\"}},\"type\":\"scatter\"}],\"scatter3d\":[{\"line\":{\"colorbar\":{\"outlinewidth\":0,\"ticks\":\"\"}},\"marker\":{\"colorbar\":{\"outlinewidth\":0,\"ticks\":\"\"}},\"type\":\"scatter3d\"}],\"scattercarpet\":[{\"marker\":{\"colorbar\":{\"outlinewidth\":0,\"ticks\":\"\"}},\"type\":\"scattercarpet\"}],\"scattergeo\":[{\"marker\":{\"colorbar\":{\"outlinewidth\":0,\"ticks\":\"\"}},\"type\":\"scattergeo\"}],\"scattergl\":[{\"marker\":{\"colorbar\":{\"outlinewidth\":0,\"ticks\":\"\"}},\"type\":\"scattergl\"}],\"scattermapbox\":[{\"marker\":{\"colorbar\":{\"outlinewidth\":0,\"ticks\":\"\"}},\"type\":\"scattermapbox\"}],\"scatterpolar\":[{\"marker\":{\"colorbar\":{\"outlinewidth\":0,\"ticks\":\"\"}},\"type\":\"scatterpolar\"}],\"scatterpolargl\":[{\"marker\":{\"colorbar\":{\"outlinewidth\":0,\"ticks\":\"\"}},\"type\":\"scatterpolargl\"}],\"scatterternary\":[{\"marker\":{\"colorbar\":{\"outlinewidth\":0,\"ticks\":\"\"}},\"type\":\"scatterternary\"}],\"surface\":[{\"colorbar\":{\"outlinewidth\":0,\"ticks\":\"\"},\"colorscale\":[[0.0,\"#0d0887\"],[0.1111111111111111,\"#46039f\"],[0.2222222222222222,\"#7201a8\"],[0.3333333333333333,\"#9c179e\"],[0.4444444444444444,\"#bd3786\"],[0.5555555555555556,\"#d8576b\"],[0.6666666666666666,\"#ed7953\"],[0.7777777777777778,\"#fb9f3a\"],[0.8888888888888888,\"#fdca26\"],[1.0,\"#f0f921\"]],\"type\":\"surface\"}],\"table\":[{\"cells\":{\"fill\":{\"color\":\"#EBF0F8\"},\"line\":{\"color\":\"white\"}},\"header\":{\"fill\":{\"color\":\"#C8D4E3\"},\"line\":{\"color\":\"white\"}},\"type\":\"table\"}]},\"layout\":{\"annotationdefaults\":{\"arrowcolor\":\"#2a3f5f\",\"arrowhead\":0,\"arrowwidth\":1},\"autotypenumbers\":\"strict\",\"coloraxis\":{\"colorbar\":{\"outlinewidth\":0,\"ticks\":\"\"}},\"colorscale\":{\"diverging\":[[0,\"#8e0152\"],[0.1,\"#c51b7d\"],[0.2,\"#de77ae\"],[0.3,\"#f1b6da\"],[0.4,\"#fde0ef\"],[0.5,\"#f7f7f7\"],[0.6,\"#e6f5d0\"],[0.7,\"#b8e186\"],[0.8,\"#7fbc41\"],[0.9,\"#4d9221\"],[1,\"#276419\"]],\"sequential\":[[0.0,\"#0d0887\"],[0.1111111111111111,\"#46039f\"],[0.2222222222222222,\"#7201a8\"],[0.3333333333333333,\"#9c179e\"],[0.4444444444444444,\"#bd3786\"],[0.5555555555555556,\"#d8576b\"],[0.6666666666666666,\"#ed7953\"],[0.7777777777777778,\"#fb9f3a\"],[0.8888888888888888,\"#fdca26\"],[1.0,\"#f0f921\"]],\"sequentialminus\":[[0.0,\"#0d0887\"],[0.1111111111111111,\"#46039f\"],[0.2222222222222222,\"#7201a8\"],[0.3333333333333333,\"#9c179e\"],[0.4444444444444444,\"#bd3786\"],[0.5555555555555556,\"#d8576b\"],[0.6666666666666666,\"#ed7953\"],[0.7777777777777778,\"#fb9f3a\"],[0.8888888888888888,\"#fdca26\"],[1.0,\"#f0f921\"]]},\"colorway\":[\"#636efa\",\"#EF553B\",\"#00cc96\",\"#ab63fa\",\"#FFA15A\",\"#19d3f3\",\"#FF6692\",\"#B6E880\",\"#FF97FF\",\"#FECB52\"],\"font\":{\"color\":\"#2a3f5f\"},\"geo\":{\"bgcolor\":\"white\",\"lakecolor\":\"white\",\"landcolor\":\"#E5ECF6\",\"showlakes\":true,\"showland\":true,\"subunitcolor\":\"white\"},\"hoverlabel\":{\"align\":\"left\"},\"hovermode\":\"closest\",\"mapbox\":{\"style\":\"light\"},\"paper_bgcolor\":\"white\",\"plot_bgcolor\":\"#E5ECF6\",\"polar\":{\"angularaxis\":{\"gridcolor\":\"white\",\"linecolor\":\"white\",\"ticks\":\"\"},\"bgcolor\":\"#E5ECF6\",\"radialaxis\":{\"gridcolor\":\"white\",\"linecolor\":\"white\",\"ticks\":\"\"}},\"scene\":{\"xaxis\":{\"backgroundcolor\":\"#E5ECF6\",\"gridcolor\":\"white\",\"gridwidth\":2,\"linecolor\":\"white\",\"showbackground\":true,\"ticks\":\"\",\"zerolinecolor\":\"white\"},\"yaxis\":{\"backgroundcolor\":\"#E5ECF6\",\"gridcolor\":\"white\",\"gridwidth\":2,\"linecolor\":\"white\",\"showbackground\":true,\"ticks\":\"\",\"zerolinecolor\":\"white\"},\"zaxis\":{\"backgroundcolor\":\"#E5ECF6\",\"gridcolor\":\"white\",\"gridwidth\":2,\"linecolor\":\"white\",\"showbackground\":true,\"ticks\":\"\",\"zerolinecolor\":\"white\"}},\"shapedefaults\":{\"line\":{\"color\":\"#2a3f5f\"}},\"ternary\":{\"aaxis\":{\"gridcolor\":\"white\",\"linecolor\":\"white\",\"ticks\":\"\"},\"baxis\":{\"gridcolor\":\"white\",\"linecolor\":\"white\",\"ticks\":\"\"},\"bgcolor\":\"#E5ECF6\",\"caxis\":{\"gridcolor\":\"white\",\"linecolor\":\"white\",\"ticks\":\"\"}},\"title\":{\"x\":0.05},\"xaxis\":{\"automargin\":true,\"gridcolor\":\"white\",\"linecolor\":\"white\",\"ticks\":\"\",\"title\":{\"standoff\":15},\"zerolinecolor\":\"white\",\"zerolinewidth\":2},\"yaxis\":{\"automargin\":true,\"gridcolor\":\"white\",\"linecolor\":\"white\",\"ticks\":\"\",\"title\":{\"standoff\":15},\"zerolinecolor\":\"white\",\"zerolinewidth\":2}}},\"title\":{\"text\":\"\\u0412\\u043e\\u0440\\u043e\\u043d\\u043a\\u0430 \\u0441\\u043e\\u0431\\u044b\\u0442\\u0438\\u0439\"},\"width\":1200,\"height\":500},                        {\"responsive\": true}                    ).then(function(){\n",
              "                            \n",
              "var gd = document.getElementById('77d781b2-0744-44a3-97dc-d1c97edd70bd');\n",
              "var x = new MutationObserver(function (mutations, observer) {{\n",
              "        var display = window.getComputedStyle(gd).display;\n",
              "        if (!display || display === 'none') {{\n",
              "            console.log([gd, 'removed!']);\n",
              "            Plotly.purge(gd);\n",
              "            observer.disconnect();\n",
              "        }}\n",
              "}});\n",
              "\n",
              "// Listen for the removal of the full notebook cells\n",
              "var notebookContainer = gd.closest('#notebook-container');\n",
              "if (notebookContainer) {{\n",
              "    x.observe(notebookContainer, {childList: true});\n",
              "}}\n",
              "\n",
              "// Listen for the clearing of the current output cell\n",
              "var outputEl = gd.closest('.output');\n",
              "if (outputEl) {{\n",
              "    x.observe(outputEl, {childList: true});\n",
              "}}\n",
              "\n",
              "                        })                };                            </script>        </div>\n",
              "</body>\n",
              "</html>"
            ]
          },
          "metadata": {}
        }
      ]
    },
    {
      "cell_type": "markdown",
      "metadata": {
        "id": "HENqc6AEOVR4"
      },
      "source": [
        "Судя по воронкам, показатели группы A выглядят лучше. Клиентов в долях от первоначального количества теряется меньше. До этапа `product_page` доходит 65% от первоначального кличества, в группе B только 56%."
      ]
    },
    {
      "cell_type": "markdown",
      "metadata": {
        "id": "5g_xuRDbYSx3"
      },
      "source": [
        "### Какие особенности данных нужно учесть, прежде чем приступать к A/B-тестированию?"
      ]
    },
    {
      "cell_type": "markdown",
      "metadata": {
        "id": "pDidS3IPPHHj"
      },
      "source": [
        "Сильная диспропорция в группах. Данные соответствуют ТЗ частично. Число клиентов вдвое меньше ожидаемого количества. Не о всех днях теста есть информация по действиям пользователей. Крайне неудачное время проведения. На тест могут оказывать влиянеи внешние факторы в виде рождественско-новогодней рекламной кампании, предпраздничных распродаж."
      ]
    },
    {
      "cell_type": "markdown",
      "metadata": {
        "id": "HK85i98pYWLg"
      },
      "source": [
        "## Изучим результаты A/B-тестирования"
      ]
    },
    {
      "cell_type": "markdown",
      "metadata": {
        "id": "N8GglGVuRYAT"
      },
      "source": [
        "Определим, сколько пользователей в каждой группе, добавим колонку с общим количеством пользователей в каждой из групп."
      ]
    },
    {
      "cell_type": "code",
      "execution_count": 73,
      "metadata": {
        "colab": {
          "base_uri": "https://localhost:8080/",
          "height": 143
        },
        "id": "hzAR7Hi8R_ZM",
        "outputId": "793d6aed-e3be-4cde-bdf2-40ccfa4bd2ae",
        "trusted": true
      },
      "outputs": [
        {
          "output_type": "execute_result",
          "data": {
            "text/plain": [
              "event_name  login  product_page  product_cart  purchase  users_total\n",
              "group                                                               \n",
              "A            2604          1685           782       833         2604\n",
              "B             876           493           244       249          877"
            ],
            "text/html": [
              "\n",
              "  <div id=\"df-2edad396-1ddf-4f71-9edd-c3ffe8645c8a\">\n",
              "    <div class=\"colab-df-container\">\n",
              "      <div>\n",
              "<style scoped>\n",
              "    .dataframe tbody tr th:only-of-type {\n",
              "        vertical-align: middle;\n",
              "    }\n",
              "\n",
              "    .dataframe tbody tr th {\n",
              "        vertical-align: top;\n",
              "    }\n",
              "\n",
              "    .dataframe thead th {\n",
              "        text-align: right;\n",
              "    }\n",
              "</style>\n",
              "<table border=\"1\" class=\"dataframe\">\n",
              "  <thead>\n",
              "    <tr style=\"text-align: right;\">\n",
              "      <th>event_name</th>\n",
              "      <th>login</th>\n",
              "      <th>product_page</th>\n",
              "      <th>product_cart</th>\n",
              "      <th>purchase</th>\n",
              "      <th>users_total</th>\n",
              "    </tr>\n",
              "    <tr>\n",
              "      <th>group</th>\n",
              "      <th></th>\n",
              "      <th></th>\n",
              "      <th></th>\n",
              "      <th></th>\n",
              "      <th></th>\n",
              "    </tr>\n",
              "  </thead>\n",
              "  <tbody>\n",
              "    <tr>\n",
              "      <th>A</th>\n",
              "      <td>2604</td>\n",
              "      <td>1685</td>\n",
              "      <td>782</td>\n",
              "      <td>833</td>\n",
              "      <td>2604</td>\n",
              "    </tr>\n",
              "    <tr>\n",
              "      <th>B</th>\n",
              "      <td>876</td>\n",
              "      <td>493</td>\n",
              "      <td>244</td>\n",
              "      <td>249</td>\n",
              "      <td>877</td>\n",
              "    </tr>\n",
              "  </tbody>\n",
              "</table>\n",
              "</div>\n",
              "      <button class=\"colab-df-convert\" onclick=\"convertToInteractive('df-2edad396-1ddf-4f71-9edd-c3ffe8645c8a')\"\n",
              "              title=\"Convert this dataframe to an interactive table.\"\n",
              "              style=\"display:none;\">\n",
              "        \n",
              "  <svg xmlns=\"http://www.w3.org/2000/svg\" height=\"24px\"viewBox=\"0 0 24 24\"\n",
              "       width=\"24px\">\n",
              "    <path d=\"M0 0h24v24H0V0z\" fill=\"none\"/>\n",
              "    <path d=\"M18.56 5.44l.94 2.06.94-2.06 2.06-.94-2.06-.94-.94-2.06-.94 2.06-2.06.94zm-11 1L8.5 8.5l.94-2.06 2.06-.94-2.06-.94L8.5 2.5l-.94 2.06-2.06.94zm10 10l.94 2.06.94-2.06 2.06-.94-2.06-.94-.94-2.06-.94 2.06-2.06.94z\"/><path d=\"M17.41 7.96l-1.37-1.37c-.4-.4-.92-.59-1.43-.59-.52 0-1.04.2-1.43.59L10.3 9.45l-7.72 7.72c-.78.78-.78 2.05 0 2.83L4 21.41c.39.39.9.59 1.41.59.51 0 1.02-.2 1.41-.59l7.78-7.78 2.81-2.81c.8-.78.8-2.07 0-2.86zM5.41 20L4 18.59l7.72-7.72 1.47 1.35L5.41 20z\"/>\n",
              "  </svg>\n",
              "      </button>\n",
              "      \n",
              "  <style>\n",
              "    .colab-df-container {\n",
              "      display:flex;\n",
              "      flex-wrap:wrap;\n",
              "      gap: 12px;\n",
              "    }\n",
              "\n",
              "    .colab-df-convert {\n",
              "      background-color: #E8F0FE;\n",
              "      border: none;\n",
              "      border-radius: 50%;\n",
              "      cursor: pointer;\n",
              "      display: none;\n",
              "      fill: #1967D2;\n",
              "      height: 32px;\n",
              "      padding: 0 0 0 0;\n",
              "      width: 32px;\n",
              "    }\n",
              "\n",
              "    .colab-df-convert:hover {\n",
              "      background-color: #E2EBFA;\n",
              "      box-shadow: 0px 1px 2px rgba(60, 64, 67, 0.3), 0px 1px 3px 1px rgba(60, 64, 67, 0.15);\n",
              "      fill: #174EA6;\n",
              "    }\n",
              "\n",
              "    [theme=dark] .colab-df-convert {\n",
              "      background-color: #3B4455;\n",
              "      fill: #D2E3FC;\n",
              "    }\n",
              "\n",
              "    [theme=dark] .colab-df-convert:hover {\n",
              "      background-color: #434B5C;\n",
              "      box-shadow: 0px 1px 3px 1px rgba(0, 0, 0, 0.15);\n",
              "      filter: drop-shadow(0px 1px 2px rgba(0, 0, 0, 0.3));\n",
              "      fill: #FFFFFF;\n",
              "    }\n",
              "  </style>\n",
              "\n",
              "      <script>\n",
              "        const buttonEl =\n",
              "          document.querySelector('#df-2edad396-1ddf-4f71-9edd-c3ffe8645c8a button.colab-df-convert');\n",
              "        buttonEl.style.display =\n",
              "          google.colab.kernel.accessAllowed ? 'block' : 'none';\n",
              "\n",
              "        async function convertToInteractive(key) {\n",
              "          const element = document.querySelector('#df-2edad396-1ddf-4f71-9edd-c3ffe8645c8a');\n",
              "          const dataTable =\n",
              "            await google.colab.kernel.invokeFunction('convertToInteractive',\n",
              "                                                     [key], {});\n",
              "          if (!dataTable) return;\n",
              "\n",
              "          const docLinkHtml = 'Like what you see? Visit the ' +\n",
              "            '<a target=\"_blank\" href=https://colab.research.google.com/notebooks/data_table.ipynb>data table notebook</a>'\n",
              "            + ' to learn more about interactive tables.';\n",
              "          element.innerHTML = '';\n",
              "          dataTable['output_type'] = 'display_data';\n",
              "          await google.colab.output.renderOutput(dataTable, element);\n",
              "          const docLink = document.createElement('div');\n",
              "          docLink.innerHTML = docLinkHtml;\n",
              "          element.appendChild(docLink);\n",
              "        }\n",
              "      </script>\n",
              "    </div>\n",
              "  </div>\n",
              "  "
            ]
          },
          "metadata": {},
          "execution_count": 73
        }
      ],
      "source": [
        "users_by_events = events_new\\\n",
        ".pivot_table(index=['group'], columns = ['event_name'], values = 'user_id', aggfunc = 'nunique').reset_index()\n",
        "\n",
        "users_by_events = users_by_events[['group',\t'login',\t'product_page', 'product_cart',\t'purchase']]\n",
        "\n",
        "users_total = events_new.groupby('group')['user_id'].nunique()\n",
        "\n",
        "users_by_events['users_total'] = users_by_events['group'].apply(lambda x: users_total.loc[x])\n",
        "users_by_events = users_by_events.set_index('group')\n",
        "\n",
        "users_by_events"
      ]
    },
    {
      "cell_type": "markdown",
      "metadata": {
        "id": "Yao-OA2DV9rS"
      },
      "source": [
        "Используем Z-тест. Применяем именно его, так как мы сравниваем доли на каждом этапе от общего числа уникальных пользователей. Важно проверить количество уникальных пользователей, посетивших тот или иной этап. Это необходимо, чтобы понимать, что пользователь вообще заходил на ту или иную страницу.\n",
        "\n",
        "Напомним формулу:\n",
        "\n",
        "$$Z = \\frac{(P_1-P_2)(π_1 - π_2)}{\\sqrt{P(1-P)(1/n_1+1/n_2)}}\\sim N(0, 1)$$\n",
        "\n",
        "Величина Z — стандартная для критерия со стандартным нормальным распределением: со средним, равным нулю, и стандартным отклонением, равным единице. Это указано в правой части формулы после ～ знака, который говорит, что выражение распределено как N(0,1).\n",
        "\n",
        "Для удобства напишем функцию."
      ]
    },
    {
      "cell_type": "code",
      "execution_count": 74,
      "metadata": {
        "id": "Uutjr4h7SrdV",
        "trusted": true
      },
      "outputs": [],
      "source": [
        "def st_test(part0, part1, total0, total1, alpha):  \n",
        "    p1 = part0 / total0 \n",
        "    p2 = part1 / total1 \n",
        "    p_combined = (part0 + part1) / (total0 + total1) \n",
        "    difference = p1 - p2 \n",
        "    z_value = difference / mth.sqrt(p_combined * (1 - p_combined) * (1/total0 + 1/total1))\n",
        "    distr = st.norm(0, 1) \n",
        "    p_value = (1 - distr.cdf(abs(z_value))) * 2\n",
        "    return p_value\n",
        " "
      ]
    },
    {
      "cell_type": "markdown",
      "metadata": {
        "id": "Z3XAs_T7WdGe"
      },
      "source": [
        "    H_0: Доля события выборки группы A = доле события группы В\n",
        "    Н_а: Доля события выборки группы А ≠ доле события группы В\n",
        "   \n",
        "    alpha = 0.05"
      ]
    },
    {
      "cell_type": "code",
      "execution_count": 75,
      "metadata": {
        "colab": {
          "base_uri": "https://localhost:8080/",
          "height": 175
        },
        "id": "k7SKkiJFW-5u",
        "outputId": "56be1137-71d6-4c08-93bc-4d9f5226a129",
        "trusted": true
      },
      "outputs": [
        {
          "output_type": "execute_result",
          "data": {
            "text/plain": [
              "  Группа_1 Группа_2       Событие  p_alpha  p_value  \\\n",
              "0        A        B         login     0.05     0.08   \n",
              "1        A        B  product_page     0.05     0.00   \n",
              "2        A        B  product_cart     0.05     0.21   \n",
              "3        A        B      purchase     0.05     0.05   \n",
              "\n",
              "                                                                       Результат  \n",
              "0  Не получилось отвергнуть нулевую гипотезу, нет оснований считать доли разными  \n",
              "1            Отвергаем нулевую гипотезу - между долями есть статзначимая разница  \n",
              "2  Не получилось отвергнуть нулевую гипотезу, нет оснований считать доли разными  \n",
              "3            Отвергаем нулевую гипотезу - между долями есть статзначимая разница  "
            ],
            "text/html": [
              "\n",
              "  <div id=\"df-ec174119-3bc4-4373-bafc-b81b942dc74f\">\n",
              "    <div class=\"colab-df-container\">\n",
              "      <div>\n",
              "<style scoped>\n",
              "    .dataframe tbody tr th:only-of-type {\n",
              "        vertical-align: middle;\n",
              "    }\n",
              "\n",
              "    .dataframe tbody tr th {\n",
              "        vertical-align: top;\n",
              "    }\n",
              "\n",
              "    .dataframe thead th {\n",
              "        text-align: right;\n",
              "    }\n",
              "</style>\n",
              "<table border=\"1\" class=\"dataframe\">\n",
              "  <thead>\n",
              "    <tr style=\"text-align: right;\">\n",
              "      <th></th>\n",
              "      <th>Группа_1</th>\n",
              "      <th>Группа_2</th>\n",
              "      <th>Событие</th>\n",
              "      <th>p_alpha</th>\n",
              "      <th>p_value</th>\n",
              "      <th>Результат</th>\n",
              "    </tr>\n",
              "  </thead>\n",
              "  <tbody>\n",
              "    <tr>\n",
              "      <th>0</th>\n",
              "      <td>A</td>\n",
              "      <td>B</td>\n",
              "      <td>login</td>\n",
              "      <td>0.05</td>\n",
              "      <td>0.08</td>\n",
              "      <td>Не получилось отвергнуть нулевую гипотезу, нет оснований считать доли разными</td>\n",
              "    </tr>\n",
              "    <tr>\n",
              "      <th>1</th>\n",
              "      <td>A</td>\n",
              "      <td>B</td>\n",
              "      <td>product_page</td>\n",
              "      <td>0.05</td>\n",
              "      <td>0.00</td>\n",
              "      <td>Отвергаем нулевую гипотезу - между долями есть статзначимая разница</td>\n",
              "    </tr>\n",
              "    <tr>\n",
              "      <th>2</th>\n",
              "      <td>A</td>\n",
              "      <td>B</td>\n",
              "      <td>product_cart</td>\n",
              "      <td>0.05</td>\n",
              "      <td>0.21</td>\n",
              "      <td>Не получилось отвергнуть нулевую гипотезу, нет оснований считать доли разными</td>\n",
              "    </tr>\n",
              "    <tr>\n",
              "      <th>3</th>\n",
              "      <td>A</td>\n",
              "      <td>B</td>\n",
              "      <td>purchase</td>\n",
              "      <td>0.05</td>\n",
              "      <td>0.05</td>\n",
              "      <td>Отвергаем нулевую гипотезу - между долями есть статзначимая разница</td>\n",
              "    </tr>\n",
              "  </tbody>\n",
              "</table>\n",
              "</div>\n",
              "      <button class=\"colab-df-convert\" onclick=\"convertToInteractive('df-ec174119-3bc4-4373-bafc-b81b942dc74f')\"\n",
              "              title=\"Convert this dataframe to an interactive table.\"\n",
              "              style=\"display:none;\">\n",
              "        \n",
              "  <svg xmlns=\"http://www.w3.org/2000/svg\" height=\"24px\"viewBox=\"0 0 24 24\"\n",
              "       width=\"24px\">\n",
              "    <path d=\"M0 0h24v24H0V0z\" fill=\"none\"/>\n",
              "    <path d=\"M18.56 5.44l.94 2.06.94-2.06 2.06-.94-2.06-.94-.94-2.06-.94 2.06-2.06.94zm-11 1L8.5 8.5l.94-2.06 2.06-.94-2.06-.94L8.5 2.5l-.94 2.06-2.06.94zm10 10l.94 2.06.94-2.06 2.06-.94-2.06-.94-.94-2.06-.94 2.06-2.06.94z\"/><path d=\"M17.41 7.96l-1.37-1.37c-.4-.4-.92-.59-1.43-.59-.52 0-1.04.2-1.43.59L10.3 9.45l-7.72 7.72c-.78.78-.78 2.05 0 2.83L4 21.41c.39.39.9.59 1.41.59.51 0 1.02-.2 1.41-.59l7.78-7.78 2.81-2.81c.8-.78.8-2.07 0-2.86zM5.41 20L4 18.59l7.72-7.72 1.47 1.35L5.41 20z\"/>\n",
              "  </svg>\n",
              "      </button>\n",
              "      \n",
              "  <style>\n",
              "    .colab-df-container {\n",
              "      display:flex;\n",
              "      flex-wrap:wrap;\n",
              "      gap: 12px;\n",
              "    }\n",
              "\n",
              "    .colab-df-convert {\n",
              "      background-color: #E8F0FE;\n",
              "      border: none;\n",
              "      border-radius: 50%;\n",
              "      cursor: pointer;\n",
              "      display: none;\n",
              "      fill: #1967D2;\n",
              "      height: 32px;\n",
              "      padding: 0 0 0 0;\n",
              "      width: 32px;\n",
              "    }\n",
              "\n",
              "    .colab-df-convert:hover {\n",
              "      background-color: #E2EBFA;\n",
              "      box-shadow: 0px 1px 2px rgba(60, 64, 67, 0.3), 0px 1px 3px 1px rgba(60, 64, 67, 0.15);\n",
              "      fill: #174EA6;\n",
              "    }\n",
              "\n",
              "    [theme=dark] .colab-df-convert {\n",
              "      background-color: #3B4455;\n",
              "      fill: #D2E3FC;\n",
              "    }\n",
              "\n",
              "    [theme=dark] .colab-df-convert:hover {\n",
              "      background-color: #434B5C;\n",
              "      box-shadow: 0px 1px 3px 1px rgba(0, 0, 0, 0.15);\n",
              "      filter: drop-shadow(0px 1px 2px rgba(0, 0, 0, 0.3));\n",
              "      fill: #FFFFFF;\n",
              "    }\n",
              "  </style>\n",
              "\n",
              "      <script>\n",
              "        const buttonEl =\n",
              "          document.querySelector('#df-ec174119-3bc4-4373-bafc-b81b942dc74f button.colab-df-convert');\n",
              "        buttonEl.style.display =\n",
              "          google.colab.kernel.accessAllowed ? 'block' : 'none';\n",
              "\n",
              "        async function convertToInteractive(key) {\n",
              "          const element = document.querySelector('#df-ec174119-3bc4-4373-bafc-b81b942dc74f');\n",
              "          const dataTable =\n",
              "            await google.colab.kernel.invokeFunction('convertToInteractive',\n",
              "                                                     [key], {});\n",
              "          if (!dataTable) return;\n",
              "\n",
              "          const docLinkHtml = 'Like what you see? Visit the ' +\n",
              "            '<a target=\"_blank\" href=https://colab.research.google.com/notebooks/data_table.ipynb>data table notebook</a>'\n",
              "            + ' to learn more about interactive tables.';\n",
              "          element.innerHTML = '';\n",
              "          dataTable['output_type'] = 'display_data';\n",
              "          await google.colab.output.renderOutput(dataTable, element);\n",
              "          const docLink = document.createElement('div');\n",
              "          docLink.innerHTML = docLinkHtml;\n",
              "          element.appendChild(docLink);\n",
              "        }\n",
              "      </script>\n",
              "    </div>\n",
              "  </div>\n",
              "  "
            ]
          },
          "metadata": {},
          "execution_count": 75
        }
      ],
      "source": [
        "pd.options.display.max_colwidth = 150\n",
        "AB_pivot = pd.DataFrame(columns=['Группа_1', 'Группа_2', 'Событие', 'p_alpha', 'p_value', 'Результат'])\n",
        " \n",
        "result_options = [\"Отвергаем нулевую гипотезу - между долями есть статзначимая разница\",\n",
        "                  \"Не получилось отвергнуть нулевую гипотезу, нет оснований считать доли разными\"]\n",
        "\n",
        "group_1 = 'A'\n",
        "current_row = users_by_events.loc[group_1]\n",
        "group_2 = 'B'\n",
        "for event_number in range(4):\n",
        "    curr_event = users_by_events.columns[event_number]\n",
        "    p_value_result = st_test(current_row[curr_event], \n",
        "                                   users_by_events[curr_event][group_2],\n",
        "                                   current_row['users_total'],\n",
        "                                   users_by_events['users_total'][group_2],\n",
        "                                   alpha = 0.05)    \n",
        "    new_row = {'Группа_1': group_1,\n",
        "               'Группа_2': group_2,\n",
        "               'Событие': users_by_events.columns[event_number],\n",
        "               'p_alpha': 0.05,\n",
        "               'p_value': p_value_result,\n",
        "               'Результат': result_options[int(p_value_result >= 0.05)]}\n",
        "    AB_pivot = AB_pivot.append([new_row])\n",
        " \n",
        "AB_pivot.index = range(len(AB_pivot))\n",
        "AB_pivot              "
      ]
    },
    {
      "cell_type": "markdown",
      "metadata": {
        "id": "lVE8BwHcY4_n"
      },
      "source": [
        "Тест показал различие в конверсии между группами на этапе `product_page` и `purchase`. Откорректируем наши конечные p_value, использую поправку Холма-Шидака. Коррекция нужна, так как перед нами множественный непараметрический тест."
      ]
    },
    {
      "cell_type": "code",
      "execution_count": 76,
      "metadata": {
        "colab": {
          "base_uri": "https://localhost:8080/",
          "height": 271
        },
        "id": "9zG-IRF0XGw7",
        "outputId": "343308ca-a62f-46ef-f7fc-59a61d7be910",
        "trusted": true
      },
      "outputs": [
        {
          "output_type": "execute_result",
          "data": {
            "text/plain": [
              "  Группа_1 Группа_2       Событие  p_alpha  p_value  p_value_corr  \\\n",
              "0        A        B         login     0.05     0.08          0.16   \n",
              "1        A        B  product_page     0.05     0.00          0.00   \n",
              "2        A        B  product_cart     0.05     0.21          0.21   \n",
              "3        A        B      purchase     0.05     0.05          0.13   \n",
              "\n",
              "                                                                          Итоговый результат  \n",
              "0  Не получилось отвергнуть нулевую гипотезу, нет достаточных оснований считать доли разными  \n",
              "1                        Отвергаем нулевую гипотезу - между долями есть статзначимая разница  \n",
              "2  Не получилось отвергнуть нулевую гипотезу, нет достаточных оснований считать доли разными  \n",
              "3  Не получилось отвергнуть нулевую гипотезу, нет достаточных оснований считать доли разными  "
            ],
            "text/html": [
              "\n",
              "  <div id=\"df-01b3e819-8c06-4f0d-a256-02530894c4b6\">\n",
              "    <div class=\"colab-df-container\">\n",
              "      <div>\n",
              "<style scoped>\n",
              "    .dataframe tbody tr th:only-of-type {\n",
              "        vertical-align: middle;\n",
              "    }\n",
              "\n",
              "    .dataframe tbody tr th {\n",
              "        vertical-align: top;\n",
              "    }\n",
              "\n",
              "    .dataframe thead th {\n",
              "        text-align: right;\n",
              "    }\n",
              "</style>\n",
              "<table border=\"1\" class=\"dataframe\">\n",
              "  <thead>\n",
              "    <tr style=\"text-align: right;\">\n",
              "      <th></th>\n",
              "      <th>Группа_1</th>\n",
              "      <th>Группа_2</th>\n",
              "      <th>Событие</th>\n",
              "      <th>p_alpha</th>\n",
              "      <th>p_value</th>\n",
              "      <th>p_value_corr</th>\n",
              "      <th>Итоговый результат</th>\n",
              "    </tr>\n",
              "  </thead>\n",
              "  <tbody>\n",
              "    <tr>\n",
              "      <th>0</th>\n",
              "      <td>A</td>\n",
              "      <td>B</td>\n",
              "      <td>login</td>\n",
              "      <td>0.05</td>\n",
              "      <td>0.08</td>\n",
              "      <td>0.16</td>\n",
              "      <td>Не получилось отвергнуть нулевую гипотезу, нет достаточных оснований считать доли разными</td>\n",
              "    </tr>\n",
              "    <tr>\n",
              "      <th>1</th>\n",
              "      <td>A</td>\n",
              "      <td>B</td>\n",
              "      <td>product_page</td>\n",
              "      <td>0.05</td>\n",
              "      <td>0.00</td>\n",
              "      <td>0.00</td>\n",
              "      <td>Отвергаем нулевую гипотезу - между долями есть статзначимая разница</td>\n",
              "    </tr>\n",
              "    <tr>\n",
              "      <th>2</th>\n",
              "      <td>A</td>\n",
              "      <td>B</td>\n",
              "      <td>product_cart</td>\n",
              "      <td>0.05</td>\n",
              "      <td>0.21</td>\n",
              "      <td>0.21</td>\n",
              "      <td>Не получилось отвергнуть нулевую гипотезу, нет достаточных оснований считать доли разными</td>\n",
              "    </tr>\n",
              "    <tr>\n",
              "      <th>3</th>\n",
              "      <td>A</td>\n",
              "      <td>B</td>\n",
              "      <td>purchase</td>\n",
              "      <td>0.05</td>\n",
              "      <td>0.05</td>\n",
              "      <td>0.13</td>\n",
              "      <td>Не получилось отвергнуть нулевую гипотезу, нет достаточных оснований считать доли разными</td>\n",
              "    </tr>\n",
              "  </tbody>\n",
              "</table>\n",
              "</div>\n",
              "      <button class=\"colab-df-convert\" onclick=\"convertToInteractive('df-01b3e819-8c06-4f0d-a256-02530894c4b6')\"\n",
              "              title=\"Convert this dataframe to an interactive table.\"\n",
              "              style=\"display:none;\">\n",
              "        \n",
              "  <svg xmlns=\"http://www.w3.org/2000/svg\" height=\"24px\"viewBox=\"0 0 24 24\"\n",
              "       width=\"24px\">\n",
              "    <path d=\"M0 0h24v24H0V0z\" fill=\"none\"/>\n",
              "    <path d=\"M18.56 5.44l.94 2.06.94-2.06 2.06-.94-2.06-.94-.94-2.06-.94 2.06-2.06.94zm-11 1L8.5 8.5l.94-2.06 2.06-.94-2.06-.94L8.5 2.5l-.94 2.06-2.06.94zm10 10l.94 2.06.94-2.06 2.06-.94-2.06-.94-.94-2.06-.94 2.06-2.06.94z\"/><path d=\"M17.41 7.96l-1.37-1.37c-.4-.4-.92-.59-1.43-.59-.52 0-1.04.2-1.43.59L10.3 9.45l-7.72 7.72c-.78.78-.78 2.05 0 2.83L4 21.41c.39.39.9.59 1.41.59.51 0 1.02-.2 1.41-.59l7.78-7.78 2.81-2.81c.8-.78.8-2.07 0-2.86zM5.41 20L4 18.59l7.72-7.72 1.47 1.35L5.41 20z\"/>\n",
              "  </svg>\n",
              "      </button>\n",
              "      \n",
              "  <style>\n",
              "    .colab-df-container {\n",
              "      display:flex;\n",
              "      flex-wrap:wrap;\n",
              "      gap: 12px;\n",
              "    }\n",
              "\n",
              "    .colab-df-convert {\n",
              "      background-color: #E8F0FE;\n",
              "      border: none;\n",
              "      border-radius: 50%;\n",
              "      cursor: pointer;\n",
              "      display: none;\n",
              "      fill: #1967D2;\n",
              "      height: 32px;\n",
              "      padding: 0 0 0 0;\n",
              "      width: 32px;\n",
              "    }\n",
              "\n",
              "    .colab-df-convert:hover {\n",
              "      background-color: #E2EBFA;\n",
              "      box-shadow: 0px 1px 2px rgba(60, 64, 67, 0.3), 0px 1px 3px 1px rgba(60, 64, 67, 0.15);\n",
              "      fill: #174EA6;\n",
              "    }\n",
              "\n",
              "    [theme=dark] .colab-df-convert {\n",
              "      background-color: #3B4455;\n",
              "      fill: #D2E3FC;\n",
              "    }\n",
              "\n",
              "    [theme=dark] .colab-df-convert:hover {\n",
              "      background-color: #434B5C;\n",
              "      box-shadow: 0px 1px 3px 1px rgba(0, 0, 0, 0.15);\n",
              "      filter: drop-shadow(0px 1px 2px rgba(0, 0, 0, 0.3));\n",
              "      fill: #FFFFFF;\n",
              "    }\n",
              "  </style>\n",
              "\n",
              "      <script>\n",
              "        const buttonEl =\n",
              "          document.querySelector('#df-01b3e819-8c06-4f0d-a256-02530894c4b6 button.colab-df-convert');\n",
              "        buttonEl.style.display =\n",
              "          google.colab.kernel.accessAllowed ? 'block' : 'none';\n",
              "\n",
              "        async function convertToInteractive(key) {\n",
              "          const element = document.querySelector('#df-01b3e819-8c06-4f0d-a256-02530894c4b6');\n",
              "          const dataTable =\n",
              "            await google.colab.kernel.invokeFunction('convertToInteractive',\n",
              "                                                     [key], {});\n",
              "          if (!dataTable) return;\n",
              "\n",
              "          const docLinkHtml = 'Like what you see? Visit the ' +\n",
              "            '<a target=\"_blank\" href=https://colab.research.google.com/notebooks/data_table.ipynb>data table notebook</a>'\n",
              "            + ' to learn more about interactive tables.';\n",
              "          element.innerHTML = '';\n",
              "          dataTable['output_type'] = 'display_data';\n",
              "          await google.colab.output.renderOutput(dataTable, element);\n",
              "          const docLink = document.createElement('div');\n",
              "          docLink.innerHTML = docLinkHtml;\n",
              "          element.appendChild(docLink);\n",
              "        }\n",
              "      </script>\n",
              "    </div>\n",
              "  </div>\n",
              "  "
            ]
          },
          "metadata": {},
          "execution_count": 76
        }
      ],
      "source": [
        "result_options = [\"Отвергаем нулевую гипотезу - между долями есть статзначимая разница\",\n",
        "                  \"Не получилось отвергнуть нулевую гипотезу, нет достаточных оснований считать доли разными\"]\n",
        " \n",
        "pvalues_corr_list = []  # откорректированные p-value\n",
        "final_results = []  # итоговые результаты (отклоняем или нет)\n",
        "\n",
        "for i in range(0, len(AB_pivot), 4):\n",
        "    pvalues_list = AB_pivot.loc[i:i+3, 'p_value'].tolist()\n",
        "    results, p_value_corr, _, _ = multi_correction.multipletests(pvalues_list, method='holm-sidak')\n",
        "    pvalues_corr_list.extend([round(x, 5) for x in p_value_corr])\n",
        "    final_results.extend([result_options[0] if x else result_options[1] for x in results])\n",
        " \n",
        "AB_pivot = AB_pivot.drop('Результат', axis=1)\n",
        "AB_pivot['p_value_corr'] = pvalues_corr_list\n",
        "AB_pivot['Итоговый результат'] = final_results\n",
        " \n",
        "AB_pivot"
      ]
    },
    {
      "cell_type": "markdown",
      "metadata": {
        "id": "Cp2S5LJaexjs"
      },
      "source": [
        "Лишь на этапе `product_page` обнаружена статистически значимая разница в конверсиях."
      ]
    },
    {
      "cell_type": "markdown",
      "metadata": {
        "id": "vt3VCx2mYoOv"
      },
      "source": [
        "## Выводы"
      ]
    },
    {
      "cell_type": "markdown",
      "metadata": {
        "id": "uASqZXs0YsPk"
      },
      "source": [
        "Для проведения теста выбрано крайне неудачное время. Мощнейшие внешние факторы в виде новогодне-рождественских праздников, распродаж, промо-кампании, 11 дней которой пересекаются с датами проведения теста. Хотя по факту данных о событиях меньше - они заканчиваются не 4 января, когда останавливается тест, а 30 декабря. И то в этот день данные явно неполные.\n",
        "\n",
        "Собранные данные соответствуют ТЗ лишь частично. Количество участников теста меньше заявленных 6000, аудитория сильно меньше планировавшихся 15% от новых пользователей из Европы. В выборках сильная диспропорция. Уникальных пользователей в тестовой группе - лишь 20%  от общего количества. \n",
        "\n",
        "Анализ воронки события показал, что конверсия в событиях контрольной группы A выглядит лучше. Клиентов в долях от первоначального количества теряется меньше. До этапа product_page доходит 65% от первоначального кличества, в группе B только 56%. Ни о каком улучшении метрик не менее, чем на 10%, и речи нет. \n",
        "\n",
        "Конверсия события `product_page` в тестовой группе B более чем на 13% ниже.\n",
        "\n",
        "Конверсия события `product_cart` в тестовой группе B более чем на 7% ниже.\n",
        "\n",
        "Конверсия события `purchase` в тестовой группе B более чем на 12% ниже.\n",
        "\n",
        "Статтест не увидел статистически значимую разницу в конверсиях трех из четырех событий контрольной и тестовой групп. Лишь на этапе `product_page` обнаружена статистически значимая разница в конверсиях.\n",
        "\n",
        "Таким образом, исследование показало, что внедрение улучшенной рекомендательной системы не достигло заявленных целей. Однако нельзя забывать про сильные внешние факторы, а также данные, которые лишь частично соответствовали ТЗ, плюс сомнения в адекватности данных вызывает тот факт, что, начиная с 14 декабря, в контрольную группу перестали попадать уникальные пользователи без событий.\n",
        "\n",
        "Для более корректного исследования рекомендуем повторить тест и учесть недоcтатки, выявленные в ходе данного анализа.\n",
        "\n"
      ]
    }
  ],
  "metadata": {
    "ExecuteTimeLog": [
      {
        "duration": 2381,
        "start_time": "2022-12-03T13:37:35.859Z"
      },
      {
        "duration": 1289,
        "start_time": "2022-12-03T13:37:38.244Z"
      },
      {
        "duration": 0,
        "start_time": "2022-12-03T13:37:39.539Z"
      },
      {
        "duration": 0,
        "start_time": "2022-12-03T13:37:39.541Z"
      },
      {
        "duration": 0,
        "start_time": "2022-12-03T13:37:39.542Z"
      },
      {
        "duration": 0,
        "start_time": "2022-12-03T13:37:39.543Z"
      },
      {
        "duration": 0,
        "start_time": "2022-12-03T13:37:39.544Z"
      },
      {
        "duration": 0,
        "start_time": "2022-12-03T13:37:39.545Z"
      },
      {
        "duration": 0,
        "start_time": "2022-12-03T13:37:39.546Z"
      },
      {
        "duration": 0,
        "start_time": "2022-12-03T13:37:39.547Z"
      },
      {
        "duration": 0,
        "start_time": "2022-12-03T13:37:39.548Z"
      },
      {
        "duration": 0,
        "start_time": "2022-12-03T13:37:39.550Z"
      },
      {
        "duration": 0,
        "start_time": "2022-12-03T13:37:39.551Z"
      },
      {
        "duration": 0,
        "start_time": "2022-12-03T13:37:39.552Z"
      },
      {
        "duration": 0,
        "start_time": "2022-12-03T13:37:39.553Z"
      },
      {
        "duration": 0,
        "start_time": "2022-12-03T13:37:39.555Z"
      },
      {
        "duration": 0,
        "start_time": "2022-12-03T13:37:39.556Z"
      },
      {
        "duration": 0,
        "start_time": "2022-12-03T13:37:39.557Z"
      },
      {
        "duration": 0,
        "start_time": "2022-12-03T13:37:39.558Z"
      },
      {
        "duration": 0,
        "start_time": "2022-12-03T13:37:39.560Z"
      },
      {
        "duration": 0,
        "start_time": "2022-12-03T13:37:39.561Z"
      },
      {
        "duration": 0,
        "start_time": "2022-12-03T13:37:39.562Z"
      },
      {
        "duration": 0,
        "start_time": "2022-12-03T13:37:39.563Z"
      },
      {
        "duration": 0,
        "start_time": "2022-12-03T13:37:39.565Z"
      },
      {
        "duration": 0,
        "start_time": "2022-12-03T13:37:39.566Z"
      },
      {
        "duration": 0,
        "start_time": "2022-12-03T13:37:39.567Z"
      },
      {
        "duration": 0,
        "start_time": "2022-12-03T13:37:39.568Z"
      },
      {
        "duration": 0,
        "start_time": "2022-12-03T13:37:39.569Z"
      },
      {
        "duration": 0,
        "start_time": "2022-12-03T13:37:39.616Z"
      },
      {
        "duration": 0,
        "start_time": "2022-12-03T13:37:39.618Z"
      },
      {
        "duration": 0,
        "start_time": "2022-12-03T13:37:39.619Z"
      },
      {
        "duration": 0,
        "start_time": "2022-12-03T13:37:39.621Z"
      },
      {
        "duration": 0,
        "start_time": "2022-12-03T13:37:39.622Z"
      },
      {
        "duration": 0,
        "start_time": "2022-12-03T13:37:39.624Z"
      },
      {
        "duration": 0,
        "start_time": "2022-12-03T13:37:39.626Z"
      },
      {
        "duration": 0,
        "start_time": "2022-12-03T13:37:39.627Z"
      },
      {
        "duration": 0,
        "start_time": "2022-12-03T13:37:39.628Z"
      },
      {
        "duration": 0,
        "start_time": "2022-12-03T13:37:39.629Z"
      },
      {
        "duration": 0,
        "start_time": "2022-12-03T13:37:39.631Z"
      },
      {
        "duration": 0,
        "start_time": "2022-12-03T13:37:39.632Z"
      },
      {
        "duration": 0,
        "start_time": "2022-12-03T13:37:39.634Z"
      },
      {
        "duration": 0,
        "start_time": "2022-12-03T13:37:39.635Z"
      },
      {
        "duration": 0,
        "start_time": "2022-12-03T13:37:39.636Z"
      },
      {
        "duration": 0,
        "start_time": "2022-12-03T13:37:39.638Z"
      },
      {
        "duration": 0,
        "start_time": "2022-12-03T13:37:39.639Z"
      },
      {
        "duration": 0,
        "start_time": "2022-12-03T13:37:39.641Z"
      },
      {
        "duration": 0,
        "start_time": "2022-12-03T13:37:39.643Z"
      },
      {
        "duration": 0,
        "start_time": "2022-12-03T13:37:39.645Z"
      },
      {
        "duration": 0,
        "start_time": "2022-12-03T13:37:39.646Z"
      },
      {
        "duration": 0,
        "start_time": "2022-12-03T13:37:39.647Z"
      },
      {
        "duration": 0,
        "start_time": "2022-12-03T13:37:39.649Z"
      },
      {
        "duration": 0,
        "start_time": "2022-12-03T13:37:39.651Z"
      },
      {
        "duration": 0,
        "start_time": "2022-12-03T13:37:39.652Z"
      },
      {
        "duration": 0,
        "start_time": "2022-12-03T13:37:39.715Z"
      },
      {
        "duration": 0,
        "start_time": "2022-12-03T13:37:39.717Z"
      },
      {
        "duration": 0,
        "start_time": "2022-12-03T13:37:39.718Z"
      },
      {
        "duration": 0,
        "start_time": "2022-12-03T13:37:39.719Z"
      },
      {
        "duration": 0,
        "start_time": "2022-12-03T13:37:39.721Z"
      },
      {
        "duration": 0,
        "start_time": "2022-12-03T13:37:39.722Z"
      },
      {
        "duration": 0,
        "start_time": "2022-12-03T13:37:39.723Z"
      },
      {
        "duration": 0,
        "start_time": "2022-12-03T13:37:39.725Z"
      },
      {
        "duration": 0,
        "start_time": "2022-12-03T13:37:39.728Z"
      },
      {
        "duration": 0,
        "start_time": "2022-12-03T13:37:39.729Z"
      },
      {
        "duration": 0,
        "start_time": "2022-12-03T13:37:39.731Z"
      },
      {
        "duration": 0,
        "start_time": "2022-12-03T13:37:39.732Z"
      },
      {
        "duration": 0,
        "start_time": "2022-12-03T13:37:39.733Z"
      },
      {
        "duration": 0,
        "start_time": "2022-12-03T13:37:39.734Z"
      },
      {
        "duration": 1,
        "start_time": "2022-12-03T13:37:39.735Z"
      },
      {
        "duration": 0,
        "start_time": "2022-12-03T13:37:39.737Z"
      },
      {
        "duration": 0,
        "start_time": "2022-12-03T13:37:39.738Z"
      },
      {
        "duration": 0,
        "start_time": "2022-12-03T13:37:39.740Z"
      },
      {
        "duration": 0,
        "start_time": "2022-12-03T13:37:39.741Z"
      },
      {
        "duration": 0,
        "start_time": "2022-12-03T13:37:39.742Z"
      },
      {
        "duration": 0,
        "start_time": "2022-12-03T13:37:39.745Z"
      },
      {
        "duration": 0,
        "start_time": "2022-12-03T13:37:39.746Z"
      },
      {
        "duration": 0,
        "start_time": "2022-12-03T13:37:39.748Z"
      },
      {
        "duration": 0,
        "start_time": "2022-12-03T13:37:39.749Z"
      },
      {
        "duration": 2367,
        "start_time": "2022-12-03T16:22:55.626Z"
      },
      {
        "duration": 1551,
        "start_time": "2022-12-03T16:22:57.997Z"
      },
      {
        "duration": 0,
        "start_time": "2022-12-03T16:22:59.551Z"
      },
      {
        "duration": 0,
        "start_time": "2022-12-03T16:22:59.552Z"
      },
      {
        "duration": 0,
        "start_time": "2022-12-03T16:22:59.553Z"
      },
      {
        "duration": 0,
        "start_time": "2022-12-03T16:22:59.554Z"
      },
      {
        "duration": 0,
        "start_time": "2022-12-03T16:22:59.555Z"
      },
      {
        "duration": 0,
        "start_time": "2022-12-03T16:22:59.557Z"
      },
      {
        "duration": 0,
        "start_time": "2022-12-03T16:22:59.558Z"
      },
      {
        "duration": 0,
        "start_time": "2022-12-03T16:22:59.559Z"
      },
      {
        "duration": 0,
        "start_time": "2022-12-03T16:22:59.560Z"
      },
      {
        "duration": 0,
        "start_time": "2022-12-03T16:22:59.561Z"
      },
      {
        "duration": 0,
        "start_time": "2022-12-03T16:22:59.562Z"
      },
      {
        "duration": 0,
        "start_time": "2022-12-03T16:22:59.563Z"
      },
      {
        "duration": 0,
        "start_time": "2022-12-03T16:22:59.578Z"
      },
      {
        "duration": 0,
        "start_time": "2022-12-03T16:22:59.579Z"
      },
      {
        "duration": 0,
        "start_time": "2022-12-03T16:22:59.586Z"
      },
      {
        "duration": 0,
        "start_time": "2022-12-03T16:22:59.587Z"
      },
      {
        "duration": 0,
        "start_time": "2022-12-03T16:22:59.588Z"
      },
      {
        "duration": 0,
        "start_time": "2022-12-03T16:22:59.589Z"
      },
      {
        "duration": 0,
        "start_time": "2022-12-03T16:22:59.590Z"
      },
      {
        "duration": 0,
        "start_time": "2022-12-03T16:22:59.591Z"
      },
      {
        "duration": 0,
        "start_time": "2022-12-03T16:22:59.592Z"
      },
      {
        "duration": 0,
        "start_time": "2022-12-03T16:22:59.593Z"
      },
      {
        "duration": 0,
        "start_time": "2022-12-03T16:22:59.594Z"
      },
      {
        "duration": 0,
        "start_time": "2022-12-03T16:22:59.595Z"
      },
      {
        "duration": 0,
        "start_time": "2022-12-03T16:22:59.597Z"
      },
      {
        "duration": 0,
        "start_time": "2022-12-03T16:22:59.598Z"
      },
      {
        "duration": 0,
        "start_time": "2022-12-03T16:22:59.599Z"
      },
      {
        "duration": 0,
        "start_time": "2022-12-03T16:22:59.600Z"
      },
      {
        "duration": 0,
        "start_time": "2022-12-03T16:22:59.601Z"
      },
      {
        "duration": 0,
        "start_time": "2022-12-03T16:22:59.602Z"
      },
      {
        "duration": 0,
        "start_time": "2022-12-03T16:22:59.604Z"
      },
      {
        "duration": 0,
        "start_time": "2022-12-03T16:22:59.605Z"
      },
      {
        "duration": 0,
        "start_time": "2022-12-03T16:22:59.606Z"
      },
      {
        "duration": 0,
        "start_time": "2022-12-03T16:22:59.607Z"
      },
      {
        "duration": 0,
        "start_time": "2022-12-03T16:22:59.608Z"
      },
      {
        "duration": 0,
        "start_time": "2022-12-03T16:22:59.609Z"
      },
      {
        "duration": 0,
        "start_time": "2022-12-03T16:22:59.611Z"
      },
      {
        "duration": 0,
        "start_time": "2022-12-03T16:22:59.612Z"
      },
      {
        "duration": 0,
        "start_time": "2022-12-03T16:22:59.613Z"
      },
      {
        "duration": 0,
        "start_time": "2022-12-03T16:22:59.614Z"
      },
      {
        "duration": 0,
        "start_time": "2022-12-03T16:22:59.616Z"
      },
      {
        "duration": 0,
        "start_time": "2022-12-03T16:22:59.617Z"
      },
      {
        "duration": 0,
        "start_time": "2022-12-03T16:22:59.618Z"
      },
      {
        "duration": 0,
        "start_time": "2022-12-03T16:22:59.620Z"
      },
      {
        "duration": 0,
        "start_time": "2022-12-03T16:22:59.621Z"
      },
      {
        "duration": 0,
        "start_time": "2022-12-03T16:22:59.622Z"
      },
      {
        "duration": 0,
        "start_time": "2022-12-03T16:22:59.624Z"
      },
      {
        "duration": 0,
        "start_time": "2022-12-03T16:22:59.625Z"
      },
      {
        "duration": 0,
        "start_time": "2022-12-03T16:22:59.626Z"
      },
      {
        "duration": 0,
        "start_time": "2022-12-03T16:22:59.628Z"
      },
      {
        "duration": 0,
        "start_time": "2022-12-03T16:22:59.678Z"
      },
      {
        "duration": 0,
        "start_time": "2022-12-03T16:22:59.679Z"
      },
      {
        "duration": 0,
        "start_time": "2022-12-03T16:22:59.680Z"
      },
      {
        "duration": 0,
        "start_time": "2022-12-03T16:22:59.684Z"
      },
      {
        "duration": 0,
        "start_time": "2022-12-03T16:22:59.684Z"
      },
      {
        "duration": 0,
        "start_time": "2022-12-03T16:22:59.687Z"
      },
      {
        "duration": 0,
        "start_time": "2022-12-03T16:22:59.688Z"
      },
      {
        "duration": 0,
        "start_time": "2022-12-03T16:22:59.688Z"
      },
      {
        "duration": 0,
        "start_time": "2022-12-03T16:22:59.689Z"
      },
      {
        "duration": 0,
        "start_time": "2022-12-03T16:22:59.696Z"
      },
      {
        "duration": 0,
        "start_time": "2022-12-03T16:22:59.697Z"
      },
      {
        "duration": 0,
        "start_time": "2022-12-03T16:22:59.697Z"
      },
      {
        "duration": 0,
        "start_time": "2022-12-03T16:22:59.698Z"
      },
      {
        "duration": 0,
        "start_time": "2022-12-03T16:22:59.699Z"
      },
      {
        "duration": 0,
        "start_time": "2022-12-03T16:22:59.700Z"
      },
      {
        "duration": 0,
        "start_time": "2022-12-03T16:22:59.700Z"
      },
      {
        "duration": 0,
        "start_time": "2022-12-03T16:22:59.701Z"
      },
      {
        "duration": 0,
        "start_time": "2022-12-03T16:22:59.702Z"
      },
      {
        "duration": 0,
        "start_time": "2022-12-03T16:22:59.703Z"
      },
      {
        "duration": 0,
        "start_time": "2022-12-03T16:22:59.704Z"
      },
      {
        "duration": 0,
        "start_time": "2022-12-03T16:22:59.706Z"
      },
      {
        "duration": 0,
        "start_time": "2022-12-03T16:22:59.707Z"
      },
      {
        "duration": 0,
        "start_time": "2022-12-03T16:22:59.708Z"
      },
      {
        "duration": 0,
        "start_time": "2022-12-03T16:22:59.709Z"
      },
      {
        "duration": 0,
        "start_time": "2022-12-03T16:22:59.710Z"
      },
      {
        "duration": 2379,
        "start_time": "2022-12-03T16:24:20.108Z"
      },
      {
        "duration": 1283,
        "start_time": "2022-12-03T16:24:22.489Z"
      },
      {
        "duration": 2157,
        "start_time": "2022-12-03T16:24:23.774Z"
      },
      {
        "duration": 0,
        "start_time": "2022-12-03T16:24:25.934Z"
      },
      {
        "duration": 0,
        "start_time": "2022-12-03T16:24:25.935Z"
      },
      {
        "duration": 0,
        "start_time": "2022-12-03T16:24:25.936Z"
      },
      {
        "duration": 0,
        "start_time": "2022-12-03T16:24:25.938Z"
      },
      {
        "duration": 0,
        "start_time": "2022-12-03T16:24:25.939Z"
      },
      {
        "duration": 0,
        "start_time": "2022-12-03T16:24:25.940Z"
      },
      {
        "duration": 0,
        "start_time": "2022-12-03T16:24:25.941Z"
      },
      {
        "duration": 0,
        "start_time": "2022-12-03T16:24:25.942Z"
      },
      {
        "duration": 0,
        "start_time": "2022-12-03T16:24:25.944Z"
      },
      {
        "duration": 0,
        "start_time": "2022-12-03T16:24:25.945Z"
      },
      {
        "duration": 0,
        "start_time": "2022-12-03T16:24:25.946Z"
      },
      {
        "duration": 0,
        "start_time": "2022-12-03T16:24:25.947Z"
      },
      {
        "duration": 0,
        "start_time": "2022-12-03T16:24:25.948Z"
      },
      {
        "duration": 0,
        "start_time": "2022-12-03T16:24:25.949Z"
      },
      {
        "duration": 0,
        "start_time": "2022-12-03T16:24:25.950Z"
      },
      {
        "duration": 0,
        "start_time": "2022-12-03T16:24:25.951Z"
      },
      {
        "duration": 0,
        "start_time": "2022-12-03T16:24:25.952Z"
      },
      {
        "duration": 0,
        "start_time": "2022-12-03T16:24:25.953Z"
      },
      {
        "duration": 0,
        "start_time": "2022-12-03T16:24:25.954Z"
      },
      {
        "duration": 0,
        "start_time": "2022-12-03T16:24:25.955Z"
      },
      {
        "duration": 0,
        "start_time": "2022-12-03T16:24:25.957Z"
      },
      {
        "duration": 0,
        "start_time": "2022-12-03T16:24:25.958Z"
      },
      {
        "duration": 0,
        "start_time": "2022-12-03T16:24:25.959Z"
      },
      {
        "duration": 0,
        "start_time": "2022-12-03T16:24:25.960Z"
      },
      {
        "duration": 0,
        "start_time": "2022-12-03T16:24:25.961Z"
      },
      {
        "duration": 0,
        "start_time": "2022-12-03T16:24:25.963Z"
      },
      {
        "duration": 0,
        "start_time": "2022-12-03T16:24:25.964Z"
      },
      {
        "duration": 1,
        "start_time": "2022-12-03T16:24:25.964Z"
      },
      {
        "duration": 0,
        "start_time": "2022-12-03T16:24:25.966Z"
      },
      {
        "duration": 0,
        "start_time": "2022-12-03T16:24:25.967Z"
      },
      {
        "duration": 0,
        "start_time": "2022-12-03T16:24:25.967Z"
      },
      {
        "duration": 0,
        "start_time": "2022-12-03T16:24:25.979Z"
      },
      {
        "duration": 0,
        "start_time": "2022-12-03T16:24:25.980Z"
      },
      {
        "duration": 0,
        "start_time": "2022-12-03T16:24:25.981Z"
      },
      {
        "duration": 0,
        "start_time": "2022-12-03T16:24:25.981Z"
      },
      {
        "duration": 0,
        "start_time": "2022-12-03T16:24:25.982Z"
      },
      {
        "duration": 0,
        "start_time": "2022-12-03T16:24:25.983Z"
      },
      {
        "duration": 0,
        "start_time": "2022-12-03T16:24:25.983Z"
      },
      {
        "duration": 0,
        "start_time": "2022-12-03T16:24:25.984Z"
      },
      {
        "duration": 0,
        "start_time": "2022-12-03T16:24:25.985Z"
      },
      {
        "duration": 0,
        "start_time": "2022-12-03T16:24:25.985Z"
      },
      {
        "duration": 0,
        "start_time": "2022-12-03T16:24:25.986Z"
      },
      {
        "duration": 0,
        "start_time": "2022-12-03T16:24:25.992Z"
      },
      {
        "duration": 0,
        "start_time": "2022-12-03T16:24:25.999Z"
      },
      {
        "duration": 1,
        "start_time": "2022-12-03T16:24:25.999Z"
      },
      {
        "duration": 0,
        "start_time": "2022-12-03T16:24:26.002Z"
      },
      {
        "duration": 0,
        "start_time": "2022-12-03T16:24:26.003Z"
      },
      {
        "duration": 0,
        "start_time": "2022-12-03T16:24:26.008Z"
      },
      {
        "duration": 0,
        "start_time": "2022-12-03T16:24:26.010Z"
      },
      {
        "duration": 0,
        "start_time": "2022-12-03T16:24:26.011Z"
      },
      {
        "duration": 0,
        "start_time": "2022-12-03T16:24:26.013Z"
      },
      {
        "duration": 0,
        "start_time": "2022-12-03T16:24:26.016Z"
      },
      {
        "duration": 0,
        "start_time": "2022-12-03T16:24:26.017Z"
      },
      {
        "duration": 0,
        "start_time": "2022-12-03T16:24:26.017Z"
      },
      {
        "duration": 0,
        "start_time": "2022-12-03T16:24:26.020Z"
      },
      {
        "duration": 0,
        "start_time": "2022-12-03T16:24:26.021Z"
      },
      {
        "duration": 0,
        "start_time": "2022-12-03T16:24:26.023Z"
      },
      {
        "duration": 0,
        "start_time": "2022-12-03T16:24:26.024Z"
      },
      {
        "duration": 0,
        "start_time": "2022-12-03T16:24:26.026Z"
      },
      {
        "duration": 0,
        "start_time": "2022-12-03T16:24:26.028Z"
      },
      {
        "duration": 0,
        "start_time": "2022-12-03T16:24:26.029Z"
      },
      {
        "duration": 0,
        "start_time": "2022-12-03T16:24:26.031Z"
      },
      {
        "duration": 0,
        "start_time": "2022-12-03T16:24:26.078Z"
      },
      {
        "duration": 0,
        "start_time": "2022-12-03T16:24:26.079Z"
      },
      {
        "duration": 0,
        "start_time": "2022-12-03T16:24:26.083Z"
      },
      {
        "duration": 0,
        "start_time": "2022-12-03T16:24:26.084Z"
      },
      {
        "duration": 0,
        "start_time": "2022-12-03T16:24:26.085Z"
      },
      {
        "duration": 0,
        "start_time": "2022-12-03T16:24:26.088Z"
      },
      {
        "duration": 0,
        "start_time": "2022-12-03T16:24:26.095Z"
      },
      {
        "duration": 0,
        "start_time": "2022-12-03T16:24:26.096Z"
      },
      {
        "duration": 0,
        "start_time": "2022-12-03T16:24:26.097Z"
      },
      {
        "duration": 0,
        "start_time": "2022-12-03T16:24:26.098Z"
      },
      {
        "duration": 0,
        "start_time": "2022-12-03T16:24:26.099Z"
      },
      {
        "duration": 0,
        "start_time": "2022-12-03T16:24:26.100Z"
      },
      {
        "duration": 2097,
        "start_time": "2022-12-03T16:25:40.254Z"
      },
      {
        "duration": 2425,
        "start_time": "2022-12-03T16:25:53.174Z"
      },
      {
        "duration": 1228,
        "start_time": "2022-12-03T16:25:55.601Z"
      },
      {
        "duration": 2097,
        "start_time": "2022-12-03T16:25:56.830Z"
      },
      {
        "duration": 1,
        "start_time": "2022-12-03T16:25:58.931Z"
      },
      {
        "duration": 0,
        "start_time": "2022-12-03T16:25:58.933Z"
      },
      {
        "duration": 0,
        "start_time": "2022-12-03T16:25:58.934Z"
      },
      {
        "duration": 0,
        "start_time": "2022-12-03T16:25:58.935Z"
      },
      {
        "duration": 0,
        "start_time": "2022-12-03T16:25:58.936Z"
      },
      {
        "duration": 0,
        "start_time": "2022-12-03T16:25:58.937Z"
      },
      {
        "duration": 0,
        "start_time": "2022-12-03T16:25:58.938Z"
      },
      {
        "duration": 0,
        "start_time": "2022-12-03T16:25:58.939Z"
      },
      {
        "duration": 0,
        "start_time": "2022-12-03T16:25:58.940Z"
      },
      {
        "duration": 0,
        "start_time": "2022-12-03T16:25:58.941Z"
      },
      {
        "duration": 0,
        "start_time": "2022-12-03T16:25:58.943Z"
      },
      {
        "duration": 0,
        "start_time": "2022-12-03T16:25:58.944Z"
      },
      {
        "duration": 0,
        "start_time": "2022-12-03T16:25:58.945Z"
      },
      {
        "duration": 0,
        "start_time": "2022-12-03T16:25:58.946Z"
      },
      {
        "duration": 0,
        "start_time": "2022-12-03T16:25:58.947Z"
      },
      {
        "duration": 0,
        "start_time": "2022-12-03T16:25:58.949Z"
      },
      {
        "duration": 0,
        "start_time": "2022-12-03T16:25:58.950Z"
      },
      {
        "duration": 0,
        "start_time": "2022-12-03T16:25:58.951Z"
      },
      {
        "duration": 0,
        "start_time": "2022-12-03T16:25:58.952Z"
      },
      {
        "duration": 0,
        "start_time": "2022-12-03T16:25:58.953Z"
      },
      {
        "duration": 0,
        "start_time": "2022-12-03T16:25:58.954Z"
      },
      {
        "duration": 0,
        "start_time": "2022-12-03T16:25:58.955Z"
      },
      {
        "duration": 0,
        "start_time": "2022-12-03T16:25:58.956Z"
      },
      {
        "duration": 0,
        "start_time": "2022-12-03T16:25:58.957Z"
      },
      {
        "duration": 0,
        "start_time": "2022-12-03T16:25:58.958Z"
      },
      {
        "duration": 0,
        "start_time": "2022-12-03T16:25:58.960Z"
      },
      {
        "duration": 0,
        "start_time": "2022-12-03T16:25:58.961Z"
      },
      {
        "duration": 0,
        "start_time": "2022-12-03T16:25:58.962Z"
      },
      {
        "duration": 0,
        "start_time": "2022-12-03T16:25:58.963Z"
      },
      {
        "duration": 0,
        "start_time": "2022-12-03T16:25:58.981Z"
      },
      {
        "duration": 0,
        "start_time": "2022-12-03T16:25:58.984Z"
      },
      {
        "duration": 0,
        "start_time": "2022-12-03T16:25:58.990Z"
      },
      {
        "duration": 0,
        "start_time": "2022-12-03T16:25:58.991Z"
      },
      {
        "duration": 0,
        "start_time": "2022-12-03T16:25:58.991Z"
      },
      {
        "duration": 0,
        "start_time": "2022-12-03T16:25:58.992Z"
      },
      {
        "duration": 0,
        "start_time": "2022-12-03T16:25:58.993Z"
      },
      {
        "duration": 0,
        "start_time": "2022-12-03T16:25:58.994Z"
      },
      {
        "duration": 0,
        "start_time": "2022-12-03T16:25:58.997Z"
      },
      {
        "duration": 0,
        "start_time": "2022-12-03T16:25:58.998Z"
      },
      {
        "duration": 0,
        "start_time": "2022-12-03T16:25:58.999Z"
      },
      {
        "duration": 0,
        "start_time": "2022-12-03T16:25:59.000Z"
      },
      {
        "duration": 0,
        "start_time": "2022-12-03T16:25:59.001Z"
      },
      {
        "duration": 0,
        "start_time": "2022-12-03T16:25:59.002Z"
      },
      {
        "duration": 0,
        "start_time": "2022-12-03T16:25:59.003Z"
      },
      {
        "duration": 0,
        "start_time": "2022-12-03T16:25:59.005Z"
      },
      {
        "duration": 0,
        "start_time": "2022-12-03T16:25:59.006Z"
      },
      {
        "duration": 0,
        "start_time": "2022-12-03T16:25:59.007Z"
      },
      {
        "duration": 0,
        "start_time": "2022-12-03T16:25:59.008Z"
      },
      {
        "duration": 0,
        "start_time": "2022-12-03T16:25:59.009Z"
      },
      {
        "duration": 0,
        "start_time": "2022-12-03T16:25:59.010Z"
      },
      {
        "duration": 0,
        "start_time": "2022-12-03T16:25:59.020Z"
      },
      {
        "duration": 0,
        "start_time": "2022-12-03T16:25:59.022Z"
      },
      {
        "duration": 0,
        "start_time": "2022-12-03T16:25:59.023Z"
      },
      {
        "duration": 0,
        "start_time": "2022-12-03T16:25:59.027Z"
      },
      {
        "duration": 0,
        "start_time": "2022-12-03T16:25:59.028Z"
      },
      {
        "duration": 0,
        "start_time": "2022-12-03T16:25:59.029Z"
      },
      {
        "duration": 0,
        "start_time": "2022-12-03T16:25:59.031Z"
      },
      {
        "duration": 0,
        "start_time": "2022-12-03T16:25:59.033Z"
      },
      {
        "duration": 0,
        "start_time": "2022-12-03T16:25:59.034Z"
      },
      {
        "duration": 0,
        "start_time": "2022-12-03T16:25:59.081Z"
      },
      {
        "duration": 6,
        "start_time": "2022-12-03T16:25:59.082Z"
      },
      {
        "duration": 0,
        "start_time": "2022-12-03T16:25:59.089Z"
      },
      {
        "duration": 0,
        "start_time": "2022-12-03T16:25:59.090Z"
      },
      {
        "duration": 0,
        "start_time": "2022-12-03T16:25:59.091Z"
      },
      {
        "duration": 0,
        "start_time": "2022-12-03T16:25:59.092Z"
      },
      {
        "duration": 0,
        "start_time": "2022-12-03T16:25:59.093Z"
      },
      {
        "duration": 0,
        "start_time": "2022-12-03T16:25:59.094Z"
      },
      {
        "duration": 0,
        "start_time": "2022-12-03T16:25:59.096Z"
      },
      {
        "duration": 0,
        "start_time": "2022-12-03T16:25:59.097Z"
      },
      {
        "duration": 0,
        "start_time": "2022-12-03T16:25:59.098Z"
      },
      {
        "duration": 0,
        "start_time": "2022-12-03T16:25:59.099Z"
      },
      {
        "duration": 0,
        "start_time": "2022-12-03T16:25:59.100Z"
      },
      {
        "duration": 0,
        "start_time": "2022-12-03T16:25:59.101Z"
      },
      {
        "duration": 0,
        "start_time": "2022-12-03T16:25:59.103Z"
      },
      {
        "duration": 2487,
        "start_time": "2022-12-03T16:26:19.885Z"
      },
      {
        "duration": 1263,
        "start_time": "2022-12-03T16:26:22.374Z"
      },
      {
        "duration": 2312,
        "start_time": "2022-12-03T16:26:23.638Z"
      },
      {
        "duration": 0,
        "start_time": "2022-12-03T16:26:25.954Z"
      },
      {
        "duration": 0,
        "start_time": "2022-12-03T16:26:25.955Z"
      },
      {
        "duration": 0,
        "start_time": "2022-12-03T16:26:25.957Z"
      },
      {
        "duration": 0,
        "start_time": "2022-12-03T16:26:25.958Z"
      },
      {
        "duration": 0,
        "start_time": "2022-12-03T16:26:25.960Z"
      },
      {
        "duration": 0,
        "start_time": "2022-12-03T16:26:25.960Z"
      },
      {
        "duration": 0,
        "start_time": "2022-12-03T16:26:25.962Z"
      },
      {
        "duration": 1,
        "start_time": "2022-12-03T16:26:25.962Z"
      },
      {
        "duration": 0,
        "start_time": "2022-12-03T16:26:25.964Z"
      },
      {
        "duration": 0,
        "start_time": "2022-12-03T16:26:25.965Z"
      },
      {
        "duration": 0,
        "start_time": "2022-12-03T16:26:25.966Z"
      },
      {
        "duration": 0,
        "start_time": "2022-12-03T16:26:25.967Z"
      },
      {
        "duration": 0,
        "start_time": "2022-12-03T16:26:25.968Z"
      },
      {
        "duration": 0,
        "start_time": "2022-12-03T16:26:25.969Z"
      },
      {
        "duration": 0,
        "start_time": "2022-12-03T16:26:25.970Z"
      },
      {
        "duration": 0,
        "start_time": "2022-12-03T16:26:25.971Z"
      },
      {
        "duration": 0,
        "start_time": "2022-12-03T16:26:25.973Z"
      },
      {
        "duration": 0,
        "start_time": "2022-12-03T16:26:25.974Z"
      },
      {
        "duration": 0,
        "start_time": "2022-12-03T16:26:25.975Z"
      },
      {
        "duration": 0,
        "start_time": "2022-12-03T16:26:25.976Z"
      },
      {
        "duration": 0,
        "start_time": "2022-12-03T16:26:25.979Z"
      },
      {
        "duration": 0,
        "start_time": "2022-12-03T16:26:25.980Z"
      },
      {
        "duration": 0,
        "start_time": "2022-12-03T16:26:25.980Z"
      },
      {
        "duration": 0,
        "start_time": "2022-12-03T16:26:25.981Z"
      },
      {
        "duration": 0,
        "start_time": "2022-12-03T16:26:25.982Z"
      },
      {
        "duration": 0,
        "start_time": "2022-12-03T16:26:25.986Z"
      },
      {
        "duration": 0,
        "start_time": "2022-12-03T16:26:25.987Z"
      },
      {
        "duration": 0,
        "start_time": "2022-12-03T16:26:25.987Z"
      },
      {
        "duration": 0,
        "start_time": "2022-12-03T16:26:25.988Z"
      },
      {
        "duration": 0,
        "start_time": "2022-12-03T16:26:25.989Z"
      },
      {
        "duration": 0,
        "start_time": "2022-12-03T16:26:25.990Z"
      },
      {
        "duration": 0,
        "start_time": "2022-12-03T16:26:25.990Z"
      },
      {
        "duration": 0,
        "start_time": "2022-12-03T16:26:25.991Z"
      },
      {
        "duration": 0,
        "start_time": "2022-12-03T16:26:25.994Z"
      },
      {
        "duration": 0,
        "start_time": "2022-12-03T16:26:25.995Z"
      },
      {
        "duration": 0,
        "start_time": "2022-12-03T16:26:25.995Z"
      },
      {
        "duration": 0,
        "start_time": "2022-12-03T16:26:26.000Z"
      },
      {
        "duration": 0,
        "start_time": "2022-12-03T16:26:26.001Z"
      },
      {
        "duration": 0,
        "start_time": "2022-12-03T16:26:26.002Z"
      },
      {
        "duration": 0,
        "start_time": "2022-12-03T16:26:26.002Z"
      },
      {
        "duration": 0,
        "start_time": "2022-12-03T16:26:26.003Z"
      },
      {
        "duration": 0,
        "start_time": "2022-12-03T16:26:26.004Z"
      },
      {
        "duration": 0,
        "start_time": "2022-12-03T16:26:26.005Z"
      },
      {
        "duration": 0,
        "start_time": "2022-12-03T16:26:26.010Z"
      },
      {
        "duration": 0,
        "start_time": "2022-12-03T16:26:26.011Z"
      },
      {
        "duration": 0,
        "start_time": "2022-12-03T16:26:26.015Z"
      },
      {
        "duration": 0,
        "start_time": "2022-12-03T16:26:26.016Z"
      },
      {
        "duration": 0,
        "start_time": "2022-12-03T16:26:26.018Z"
      },
      {
        "duration": 0,
        "start_time": "2022-12-03T16:26:26.019Z"
      },
      {
        "duration": 0,
        "start_time": "2022-12-03T16:26:26.020Z"
      },
      {
        "duration": 0,
        "start_time": "2022-12-03T16:26:26.021Z"
      },
      {
        "duration": 0,
        "start_time": "2022-12-03T16:26:26.023Z"
      },
      {
        "duration": 0,
        "start_time": "2022-12-03T16:26:26.024Z"
      },
      {
        "duration": 0,
        "start_time": "2022-12-03T16:26:26.025Z"
      },
      {
        "duration": 0,
        "start_time": "2022-12-03T16:26:26.026Z"
      },
      {
        "duration": 0,
        "start_time": "2022-12-03T16:26:26.027Z"
      },
      {
        "duration": 0,
        "start_time": "2022-12-03T16:26:26.028Z"
      },
      {
        "duration": 0,
        "start_time": "2022-12-03T16:26:26.029Z"
      },
      {
        "duration": 0,
        "start_time": "2022-12-03T16:26:26.030Z"
      },
      {
        "duration": 0,
        "start_time": "2022-12-03T16:26:26.031Z"
      },
      {
        "duration": 0,
        "start_time": "2022-12-03T16:26:26.032Z"
      },
      {
        "duration": 0,
        "start_time": "2022-12-03T16:26:26.033Z"
      },
      {
        "duration": 0,
        "start_time": "2022-12-03T16:26:26.034Z"
      },
      {
        "duration": 0,
        "start_time": "2022-12-03T16:26:26.077Z"
      },
      {
        "duration": 0,
        "start_time": "2022-12-03T16:26:26.078Z"
      },
      {
        "duration": 0,
        "start_time": "2022-12-03T16:26:26.079Z"
      },
      {
        "duration": 0,
        "start_time": "2022-12-03T16:26:26.079Z"
      },
      {
        "duration": 0,
        "start_time": "2022-12-03T16:26:26.082Z"
      },
      {
        "duration": 0,
        "start_time": "2022-12-03T16:26:26.083Z"
      },
      {
        "duration": 0,
        "start_time": "2022-12-03T16:26:26.087Z"
      },
      {
        "duration": 0,
        "start_time": "2022-12-03T16:26:26.088Z"
      },
      {
        "duration": 0,
        "start_time": "2022-12-03T16:26:26.089Z"
      },
      {
        "duration": 0,
        "start_time": "2022-12-03T16:26:26.092Z"
      },
      {
        "duration": 0,
        "start_time": "2022-12-03T16:26:26.093Z"
      },
      {
        "duration": 2354,
        "start_time": "2022-12-03T16:27:26.157Z"
      },
      {
        "duration": 29,
        "start_time": "2022-12-03T16:39:16.870Z"
      },
      {
        "duration": 4,
        "start_time": "2022-12-03T16:39:28.150Z"
      },
      {
        "duration": 2265,
        "start_time": "2022-12-03T16:39:33.076Z"
      },
      {
        "duration": 94,
        "start_time": "2022-12-03T16:45:01.551Z"
      },
      {
        "duration": 1306,
        "start_time": "2022-12-03T16:45:19.640Z"
      },
      {
        "duration": 82,
        "start_time": "2022-12-03T16:46:15.425Z"
      },
      {
        "duration": 67,
        "start_time": "2022-12-03T16:46:24.944Z"
      },
      {
        "duration": 2402,
        "start_time": "2022-12-03T16:49:49.209Z"
      },
      {
        "duration": 1230,
        "start_time": "2022-12-03T16:49:51.613Z"
      },
      {
        "duration": 1211,
        "start_time": "2022-12-03T16:49:52.844Z"
      },
      {
        "duration": 106,
        "start_time": "2022-12-03T16:49:54.057Z"
      },
      {
        "duration": 21,
        "start_time": "2022-12-03T16:49:54.165Z"
      },
      {
        "duration": 276,
        "start_time": "2022-12-03T16:49:54.189Z"
      },
      {
        "duration": 18,
        "start_time": "2022-12-03T16:49:54.466Z"
      },
      {
        "duration": 56,
        "start_time": "2022-12-03T16:49:54.486Z"
      },
      {
        "duration": 151,
        "start_time": "2022-12-03T16:49:54.544Z"
      },
      {
        "duration": 14,
        "start_time": "2022-12-03T16:49:54.698Z"
      },
      {
        "duration": 18,
        "start_time": "2022-12-03T16:49:54.713Z"
      },
      {
        "duration": 42,
        "start_time": "2022-12-03T16:49:54.733Z"
      },
      {
        "duration": 20,
        "start_time": "2022-12-03T16:49:54.777Z"
      },
      {
        "duration": 27,
        "start_time": "2022-12-03T16:49:54.798Z"
      },
      {
        "duration": 20,
        "start_time": "2022-12-03T16:49:54.827Z"
      },
      {
        "duration": 50,
        "start_time": "2022-12-03T16:49:54.849Z"
      },
      {
        "duration": 58,
        "start_time": "2022-12-03T16:49:54.901Z"
      },
      {
        "duration": 294,
        "start_time": "2022-12-03T16:49:54.961Z"
      },
      {
        "duration": 7,
        "start_time": "2022-12-03T16:49:55.256Z"
      },
      {
        "duration": 29,
        "start_time": "2022-12-03T16:49:55.265Z"
      },
      {
        "duration": 14,
        "start_time": "2022-12-03T16:49:55.295Z"
      },
      {
        "duration": 7,
        "start_time": "2022-12-03T16:49:55.310Z"
      },
      {
        "duration": 288,
        "start_time": "2022-12-03T16:49:55.319Z"
      },
      {
        "duration": 4,
        "start_time": "2022-12-03T16:49:55.609Z"
      },
      {
        "duration": 13,
        "start_time": "2022-12-03T16:49:55.614Z"
      },
      {
        "duration": 17,
        "start_time": "2022-12-03T16:49:55.629Z"
      },
      {
        "duration": 9,
        "start_time": "2022-12-03T16:49:55.647Z"
      },
      {
        "duration": 60,
        "start_time": "2022-12-03T16:49:55.660Z"
      },
      {
        "duration": 13,
        "start_time": "2022-12-03T16:49:55.722Z"
      },
      {
        "duration": 5,
        "start_time": "2022-12-03T16:49:55.737Z"
      },
      {
        "duration": 10,
        "start_time": "2022-12-03T16:49:55.744Z"
      },
      {
        "duration": 10,
        "start_time": "2022-12-03T16:49:55.756Z"
      },
      {
        "duration": 7,
        "start_time": "2022-12-03T16:49:55.768Z"
      },
      {
        "duration": 20,
        "start_time": "2022-12-03T16:49:55.777Z"
      },
      {
        "duration": 26,
        "start_time": "2022-12-03T16:49:55.803Z"
      },
      {
        "duration": 18,
        "start_time": "2022-12-03T16:49:55.831Z"
      },
      {
        "duration": 5,
        "start_time": "2022-12-03T16:49:55.851Z"
      },
      {
        "duration": 15,
        "start_time": "2022-12-03T16:49:55.857Z"
      },
      {
        "duration": 292,
        "start_time": "2022-12-03T16:49:55.874Z"
      },
      {
        "duration": 30,
        "start_time": "2022-12-03T16:49:56.168Z"
      },
      {
        "duration": 16,
        "start_time": "2022-12-03T16:49:56.202Z"
      },
      {
        "duration": 8,
        "start_time": "2022-12-03T16:49:56.219Z"
      },
      {
        "duration": 14,
        "start_time": "2022-12-03T16:49:56.228Z"
      },
      {
        "duration": 11,
        "start_time": "2022-12-03T16:49:56.244Z"
      },
      {
        "duration": 2,
        "start_time": "2022-12-03T16:49:56.257Z"
      },
      {
        "duration": 54,
        "start_time": "2022-12-03T16:49:56.261Z"
      },
      {
        "duration": 16,
        "start_time": "2022-12-03T16:49:56.317Z"
      },
      {
        "duration": 238,
        "start_time": "2022-12-03T16:49:56.334Z"
      },
      {
        "duration": 32,
        "start_time": "2022-12-03T16:49:56.574Z"
      },
      {
        "duration": 122,
        "start_time": "2022-12-03T16:49:56.609Z"
      },
      {
        "duration": 13,
        "start_time": "2022-12-03T16:49:56.733Z"
      },
      {
        "duration": 29,
        "start_time": "2022-12-03T16:49:56.747Z"
      },
      {
        "duration": 35,
        "start_time": "2022-12-03T16:49:56.783Z"
      },
      {
        "duration": 4,
        "start_time": "2022-12-03T16:49:56.820Z"
      },
      {
        "duration": 13,
        "start_time": "2022-12-03T16:49:56.826Z"
      },
      {
        "duration": 15,
        "start_time": "2022-12-03T16:49:56.841Z"
      },
      {
        "duration": 3,
        "start_time": "2022-12-03T16:49:56.857Z"
      },
      {
        "duration": 17,
        "start_time": "2022-12-03T16:49:56.862Z"
      },
      {
        "duration": 29,
        "start_time": "2022-12-03T16:49:56.883Z"
      },
      {
        "duration": 13,
        "start_time": "2022-12-03T16:49:56.914Z"
      },
      {
        "duration": 217,
        "start_time": "2022-12-03T16:49:56.929Z"
      },
      {
        "duration": 3,
        "start_time": "2022-12-03T16:49:57.147Z"
      },
      {
        "duration": 38,
        "start_time": "2022-12-03T16:49:57.152Z"
      },
      {
        "duration": 20,
        "start_time": "2022-12-03T16:49:57.202Z"
      },
      {
        "duration": 139,
        "start_time": "2022-12-03T16:49:57.224Z"
      },
      {
        "duration": 236,
        "start_time": "2022-12-03T16:49:57.365Z"
      },
      {
        "duration": 11,
        "start_time": "2022-12-03T16:49:57.602Z"
      },
      {
        "duration": 434,
        "start_time": "2022-12-03T16:49:57.614Z"
      },
      {
        "duration": 9,
        "start_time": "2022-12-03T16:49:58.050Z"
      },
      {
        "duration": 40,
        "start_time": "2022-12-03T16:49:58.061Z"
      },
      {
        "duration": 17,
        "start_time": "2022-12-03T16:49:58.105Z"
      },
      {
        "duration": 233,
        "start_time": "2022-12-03T16:49:58.124Z"
      },
      {
        "duration": 11,
        "start_time": "2022-12-03T16:49:58.359Z"
      },
      {
        "duration": 44,
        "start_time": "2022-12-03T16:49:58.371Z"
      },
      {
        "duration": 4,
        "start_time": "2022-12-03T16:49:58.416Z"
      },
      {
        "duration": 82,
        "start_time": "2022-12-03T16:49:58.421Z"
      },
      {
        "duration": 19,
        "start_time": "2022-12-03T16:49:58.504Z"
      },
      {
        "duration": 2310,
        "start_time": "2022-12-03T21:15:46.303Z"
      },
      {
        "duration": 1330,
        "start_time": "2022-12-03T21:15:48.615Z"
      },
      {
        "duration": 1488,
        "start_time": "2022-12-03T21:15:49.946Z"
      },
      {
        "duration": 111,
        "start_time": "2022-12-03T21:15:51.436Z"
      },
      {
        "duration": 12,
        "start_time": "2022-12-03T21:15:51.548Z"
      },
      {
        "duration": 202,
        "start_time": "2022-12-03T21:15:51.561Z"
      },
      {
        "duration": 17,
        "start_time": "2022-12-03T21:15:51.764Z"
      },
      {
        "duration": 10,
        "start_time": "2022-12-03T21:15:51.783Z"
      },
      {
        "duration": 120,
        "start_time": "2022-12-03T21:15:51.794Z"
      },
      {
        "duration": 17,
        "start_time": "2022-12-03T21:15:51.918Z"
      },
      {
        "duration": 15,
        "start_time": "2022-12-03T21:15:51.937Z"
      },
      {
        "duration": 143,
        "start_time": "2022-12-03T21:15:51.953Z"
      },
      {
        "duration": 10,
        "start_time": "2022-12-03T21:15:52.098Z"
      },
      {
        "duration": 14,
        "start_time": "2022-12-03T21:15:52.109Z"
      },
      {
        "duration": 31,
        "start_time": "2022-12-03T21:15:52.125Z"
      },
      {
        "duration": 35,
        "start_time": "2022-12-03T21:15:52.158Z"
      },
      {
        "duration": 69,
        "start_time": "2022-12-03T21:15:52.194Z"
      },
      {
        "duration": 271,
        "start_time": "2022-12-03T21:15:52.265Z"
      },
      {
        "duration": 8,
        "start_time": "2022-12-03T21:15:52.538Z"
      },
      {
        "duration": 16,
        "start_time": "2022-12-03T21:15:52.547Z"
      },
      {
        "duration": 5,
        "start_time": "2022-12-03T21:15:52.565Z"
      },
      {
        "duration": 23,
        "start_time": "2022-12-03T21:15:52.571Z"
      },
      {
        "duration": 304,
        "start_time": "2022-12-03T21:15:52.596Z"
      },
      {
        "duration": 4,
        "start_time": "2022-12-03T21:15:52.902Z"
      },
      {
        "duration": 11,
        "start_time": "2022-12-03T21:15:52.917Z"
      },
      {
        "duration": 25,
        "start_time": "2022-12-03T21:15:52.930Z"
      },
      {
        "duration": 6,
        "start_time": "2022-12-03T21:15:52.957Z"
      },
      {
        "duration": 12,
        "start_time": "2022-12-03T21:15:52.967Z"
      },
      {
        "duration": 9,
        "start_time": "2022-12-03T21:15:52.980Z"
      },
      {
        "duration": 28,
        "start_time": "2022-12-03T21:15:52.991Z"
      },
      {
        "duration": 24,
        "start_time": "2022-12-03T21:15:53.021Z"
      },
      {
        "duration": 10,
        "start_time": "2022-12-03T21:15:53.047Z"
      },
      {
        "duration": 6,
        "start_time": "2022-12-03T21:15:53.059Z"
      },
      {
        "duration": 11,
        "start_time": "2022-12-03T21:15:53.067Z"
      },
      {
        "duration": 11,
        "start_time": "2022-12-03T21:15:53.079Z"
      },
      {
        "duration": 31,
        "start_time": "2022-12-03T21:15:53.092Z"
      },
      {
        "duration": 24,
        "start_time": "2022-12-03T21:15:53.127Z"
      },
      {
        "duration": 11,
        "start_time": "2022-12-03T21:15:53.153Z"
      },
      {
        "duration": 294,
        "start_time": "2022-12-03T21:15:53.166Z"
      },
      {
        "duration": 11,
        "start_time": "2022-12-03T21:15:53.462Z"
      },
      {
        "duration": 6,
        "start_time": "2022-12-03T21:15:53.475Z"
      },
      {
        "duration": 4,
        "start_time": "2022-12-03T21:15:53.482Z"
      },
      {
        "duration": 40,
        "start_time": "2022-12-03T21:15:53.488Z"
      },
      {
        "duration": 13,
        "start_time": "2022-12-03T21:15:53.530Z"
      },
      {
        "duration": 3,
        "start_time": "2022-12-03T21:15:53.545Z"
      },
      {
        "duration": 39,
        "start_time": "2022-12-03T21:15:53.549Z"
      },
      {
        "duration": 40,
        "start_time": "2022-12-03T21:15:53.590Z"
      },
      {
        "duration": 238,
        "start_time": "2022-12-03T21:15:53.632Z"
      },
      {
        "duration": 10,
        "start_time": "2022-12-03T21:15:53.872Z"
      },
      {
        "duration": 123,
        "start_time": "2022-12-03T21:15:53.884Z"
      },
      {
        "duration": 18,
        "start_time": "2022-12-03T21:15:54.009Z"
      },
      {
        "duration": 31,
        "start_time": "2022-12-03T21:15:54.030Z"
      },
      {
        "duration": 27,
        "start_time": "2022-12-03T21:15:54.063Z"
      },
      {
        "duration": 3,
        "start_time": "2022-12-03T21:15:54.092Z"
      },
      {
        "duration": 16,
        "start_time": "2022-12-03T21:15:54.115Z"
      },
      {
        "duration": 16,
        "start_time": "2022-12-03T21:15:54.133Z"
      },
      {
        "duration": 5,
        "start_time": "2022-12-03T21:15:54.151Z"
      },
      {
        "duration": 11,
        "start_time": "2022-12-03T21:15:54.157Z"
      },
      {
        "duration": 18,
        "start_time": "2022-12-03T21:15:54.170Z"
      },
      {
        "duration": 35,
        "start_time": "2022-12-03T21:15:54.190Z"
      },
      {
        "duration": 229,
        "start_time": "2022-12-03T21:15:54.227Z"
      },
      {
        "duration": 3,
        "start_time": "2022-12-03T21:15:54.457Z"
      },
      {
        "duration": 28,
        "start_time": "2022-12-03T21:15:54.462Z"
      },
      {
        "duration": 26,
        "start_time": "2022-12-03T21:15:54.492Z"
      },
      {
        "duration": 163,
        "start_time": "2022-12-03T21:15:54.520Z"
      },
      {
        "duration": 10,
        "start_time": "2022-12-03T21:15:54.684Z"
      },
      {
        "duration": 477,
        "start_time": "2022-12-03T21:15:54.696Z"
      },
      {
        "duration": 10,
        "start_time": "2022-12-03T21:15:55.175Z"
      },
      {
        "duration": 38,
        "start_time": "2022-12-03T21:15:55.187Z"
      },
      {
        "duration": 46,
        "start_time": "2022-12-03T21:15:55.227Z"
      },
      {
        "duration": 395,
        "start_time": "2022-12-03T21:15:55.274Z"
      },
      {
        "duration": 11,
        "start_time": "2022-12-03T21:15:55.670Z"
      },
      {
        "duration": 67,
        "start_time": "2022-12-03T21:15:55.683Z"
      },
      {
        "duration": 4,
        "start_time": "2022-12-03T21:15:55.752Z"
      },
      {
        "duration": 91,
        "start_time": "2022-12-03T21:15:55.758Z"
      },
      {
        "duration": 55,
        "start_time": "2022-12-03T21:15:55.851Z"
      }
    ],
    "colab": {
      "provenance": [],
      "toc_visible": true
    },
    "kernelspec": {
      "display_name": "Python 3 (ipykernel)",
      "language": "python",
      "name": "python3"
    },
    "language_info": {
      "codemirror_mode": {
        "name": "ipython",
        "version": 3
      },
      "file_extension": ".py",
      "mimetype": "text/x-python",
      "name": "python",
      "nbconvert_exporter": "python",
      "pygments_lexer": "ipython3",
      "version": "3.9.5"
    },
    "toc": {
      "base_numbering": 1,
      "nav_menu": {},
      "number_sections": true,
      "sideBar": true,
      "skip_h1_title": true,
      "title_cell": "Table of Contents",
      "title_sidebar": "Contents",
      "toc_cell": false,
      "toc_position": {},
      "toc_section_display": true,
      "toc_window_display": true
    }
  },
  "nbformat": 4,
  "nbformat_minor": 0
}