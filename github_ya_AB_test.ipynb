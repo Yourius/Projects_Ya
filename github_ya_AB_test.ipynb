{
  "cells": [
    {
      "cell_type": "markdown",
      "metadata": {
        "id": "R6H6a4A-EZMa"
      },
      "source": [
        "# Проект по подготовке гипотез и анализу A\\B-теста для крупного интернет-магазина. Цель - увеличение выручки"
      ]
    },
    {
      "cell_type": "markdown",
      "metadata": {
        "id": "M1ZnQ2gjE3Tq"
      },
      "source": [
        "## Описание проекта:\n"
      ]
    },
    {
      "cell_type": "markdown",
      "metadata": {
        "id": "pc7ixWlSGYce"
      },
      "source": [
        "Вы — аналитик крупного интернет-магазина. Вместе с отделом маркетинга вы подготовили список гипотез для увеличения выручки.\n",
        "\n",
        "Приоритизируйте гипотезы, запустите A/B-тест и проанализируйте результаты."
      ]
    },
    {
      "cell_type": "markdown",
      "metadata": {
        "id": "yJJfN4VsFEVa"
      },
      "source": [
        "## Описание данных\n"
      ]
    },
    {
      "cell_type": "markdown",
      "metadata": {
        "id": "Y5vlj7gUFS5P"
      },
      "source": [
        "**Данные для первой части**\n",
        "\n",
        "Файл hypothesis.csv:\n",
        "\n",
        "    Hypothesis — краткое описание гипотезы;\n",
        "    Reach — охват пользователей по 10-балльной шкале;\n",
        "    Impact — влияние на пользователей по 10-балльной шкале;\n",
        "    Confidence — уверенность в гипотезе по 10-балльной шкале;\n",
        "    Efforts — затраты ресурсов на проверку гипотезы по 10-балльной шкале. Чем больше значение Efforts, тем дороже проверка гипотезы.\n",
        "\n",
        "\n",
        "**Данные для второй части**\n",
        "\n",
        "Файл orders.csv:\n",
        "\n",
        "    transactionId — идентификатор заказа;\n",
        "    visitorId — идентификатор пользователя, совершившего заказ;\n",
        "    date — дата, когда был совершён заказ;\n",
        "    revenue — выручка заказа;\n",
        "    group — группа A/B-теста, в которую попал заказ.\n",
        "\n",
        "Файл visitors.csv:\n",
        "\n",
        "    date — дата;\n",
        "    group — группа A/B-теста;\n",
        "    visitors — количество пользователей в указанную дату в указанной группе A/B-теста"
      ]
    },
    {
      "cell_type": "markdown",
      "metadata": {
        "id": "91XY-bODTKq4"
      },
      "source": [
        "## Загрузим библиотеки"
      ]
    },
    {
      "cell_type": "code",
      "execution_count": null,
      "metadata": {
        "id": "yF0G4AgCKsru"
      },
      "outputs": [],
      "source": [
        "import pandas as pd\n",
        "import seaborn as sns\n",
        "import matplotlib.pyplot as plt\n",
        "import datetime as dt\n",
        "import numpy as np\n",
        "from datetime import datetime, timedelta\n",
        "from scipy import stats as st\n",
        "from pandas.plotting import register_matplotlib_converters\n",
        "import pylab \n",
        "\n",
        "pd.set_option('display.float_format', '{:,.2f}'.format)\n",
        "pd.set_option('display.max_colwidth', None)"
      ]
    },
    {
      "cell_type": "markdown",
      "metadata": {
        "id": "oL4MA2uCGiD9"
      },
      "source": [
        "## Часть 1. Определим приоритетный порядок гипотез"
      ]
    },
    {
      "cell_type": "markdown",
      "metadata": {
        "id": "HZyMwTKrRlJP"
      },
      "source": [
        "Для этого используем два фреймворка - ICE и RICE:  \n",
        "\n",
        "$$ICE = \\frac{Impact * Confidence}{Efforts}$$\n",
        "\n",
        "$$RICE = \\frac{Rearch * Impact * Confidence}{Efforts}$$"
      ]
    },
    {
      "cell_type": "markdown",
      "metadata": {
        "id": "k-4J8o4dGwzY"
      },
      "source": [
        "### Применим фреймворк ICE для приоритизации гипотез. \n"
      ]
    },
    {
      "cell_type": "code",
      "execution_count": null,
      "metadata": {
        "id": "Up0TZ6avMhHZ"
      },
      "outputs": [],
      "source": [
        "try:\n",
        "    data = pd.read_csv('https://code.s3.yandex.net/datasets/hypothesis.csv')\n",
        "except:\n",
        "    data = pd.read_csv('/datasets/hypothesis.csv')"
      ]
    },
    {
      "cell_type": "code",
      "execution_count": null,
      "metadata": {
        "colab": {
          "base_uri": "https://localhost:8080/"
        },
        "id": "uMPsW-B4Nr1t",
        "outputId": "3181b29d-8b0f-47e2-ae81-25f94a18ab13"
      },
      "outputs": [
        {
          "name": "stdout",
          "output_type": "stream",
          "text": [
            "<class 'pandas.core.frame.DataFrame'>\n",
            "RangeIndex: 9 entries, 0 to 8\n",
            "Data columns (total 5 columns):\n",
            " #   Column      Non-Null Count  Dtype \n",
            "---  ------      --------------  ----- \n",
            " 0   Hypothesis  9 non-null      object\n",
            " 1   Reach       9 non-null      int64 \n",
            " 2   Impact      9 non-null      int64 \n",
            " 3   Confidence  9 non-null      int64 \n",
            " 4   Efforts     9 non-null      int64 \n",
            "dtypes: int64(4), object(1)\n",
            "memory usage: 488.0+ bytes\n"
          ]
        }
      ],
      "source": [
        "data.info()"
      ]
    },
    {
      "cell_type": "code",
      "execution_count": null,
      "metadata": {
        "id": "jRduf1-qOMlA"
      },
      "outputs": [],
      "source": [
        "data['ICE']=data['Impact'] * data['Confidence']/data['Efforts']"
      ]
    },
    {
      "cell_type": "markdown",
      "metadata": {
        "id": "AEKoebcWG9el"
      },
      "source": [
        "### Применим фреймворк RICE для приоритизации гипотез.\n"
      ]
    },
    {
      "cell_type": "code",
      "execution_count": null,
      "metadata": {
        "id": "6JEw_8omPzEH"
      },
      "outputs": [],
      "source": [
        "data['RICE'] = data['Reach']*data['Impact']*data['Confidence']/data['Efforts']"
      ]
    },
    {
      "cell_type": "markdown",
      "metadata": {
        "id": "WqCd5-xAd2_5"
      },
      "source": [
        "Выведем общую таблицу. Приоритетные гипотезы по ICE и RICE подкрашены от темного к более светлому цвету."
      ]
    },
    {
      "cell_type": "code",
      "execution_count": null,
      "metadata": {
        "colab": {
          "base_uri": "https://localhost:8080/",
          "height": 401
        },
        "id": "aRp7YeBRUIYF",
        "outputId": "555e5a46-4988-43ab-b8d2-fb3cbf3d9315"
      },
      "outputs": [
        {
          "data": {
            "text/html": [
              "<style  type=\"text/css\" >\n",
              "#T_1264b_row0_col5{\n",
              "            background-color:  #303030;\n",
              "            color:  #f1f1f1;\n",
              "        }#T_1264b_row0_col6,#T_1264b_row6_col6{\n",
              "            background-color:  #a9a9a9;\n",
              "            color:  #000000;\n",
              "        }#T_1264b_row1_col5{\n",
              "            background-color:  #efefef;\n",
              "            color:  #000000;\n",
              "        }#T_1264b_row1_col6,#T_1264b_row3_col5,#T_1264b_row5_col6{\n",
              "            background-color:  #fdfdfd;\n",
              "            color:  #000000;\n",
              "        }#T_1264b_row2_col5{\n",
              "            background-color:  #9a9a9a;\n",
              "            color:  #000000;\n",
              "        }#T_1264b_row2_col6{\n",
              "            background-color:  #838383;\n",
              "            color:  #000000;\n",
              "        }#T_1264b_row3_col6{\n",
              "            background-color:  #f1f1f1;\n",
              "            color:  #000000;\n",
              "        }#T_1264b_row4_col5,#T_1264b_row4_col6{\n",
              "            background-color:  #ffffff;\n",
              "            color:  #000000;\n",
              "        }#T_1264b_row5_col5{\n",
              "            background-color:  #fafafa;\n",
              "            color:  #000000;\n",
              "        }#T_1264b_row6_col5{\n",
              "            background-color:  #8a8a8a;\n",
              "            color:  #000000;\n",
              "        }#T_1264b_row7_col1{\n",
              "            background-color:  black;\n",
              "        }#T_1264b_row7_col5{\n",
              "            background-color:  #545454;\n",
              "            color:  #f1f1f1;\n",
              "        }#T_1264b_row7_col6,#T_1264b_row8_col5{\n",
              "            background-color:  #000000;\n",
              "            color:  #f1f1f1;\n",
              "        }#T_1264b_row8_col1{\n",
              "            background-color:  grey;\n",
              "        }#T_1264b_row8_col6{\n",
              "            background-color:  #e0e0e0;\n",
              "            color:  #000000;\n",
              "        }</style><table id=\"T_1264b_\" ><thead>    <tr>        <th class=\"blank level0\" ></th>        <th class=\"col_heading level0 col0\" >Hypothesis</th>        <th class=\"col_heading level0 col1\" >Reach</th>        <th class=\"col_heading level0 col2\" >Impact</th>        <th class=\"col_heading level0 col3\" >Confidence</th>        <th class=\"col_heading level0 col4\" >Efforts</th>        <th class=\"col_heading level0 col5\" >ICE</th>        <th class=\"col_heading level0 col6\" >RICE</th>    </tr></thead><tbody>\n",
              "                <tr>\n",
              "                        <th id=\"T_1264b_level0_row0\" class=\"row_heading level0 row0\" >0</th>\n",
              "                        <td id=\"T_1264b_row0_col0\" class=\"data row0 col0\" >Добавить два новых канала привлечения трафика, что позволит привлекать на 30% больше пользователей</td>\n",
              "                        <td id=\"T_1264b_row0_col1\" class=\"data row0 col1\" >3</td>\n",
              "                        <td id=\"T_1264b_row0_col2\" class=\"data row0 col2\" >10</td>\n",
              "                        <td id=\"T_1264b_row0_col3\" class=\"data row0 col3\" >8</td>\n",
              "                        <td id=\"T_1264b_row0_col4\" class=\"data row0 col4\" >6</td>\n",
              "                        <td id=\"T_1264b_row0_col5\" class=\"data row0 col5\" >13.33</td>\n",
              "                        <td id=\"T_1264b_row0_col6\" class=\"data row0 col6\" >40.00</td>\n",
              "            </tr>\n",
              "            <tr>\n",
              "                        <th id=\"T_1264b_level0_row1\" class=\"row_heading level0 row1\" >1</th>\n",
              "                        <td id=\"T_1264b_row1_col0\" class=\"data row1 col0\" >Запустить собственную службу доставки, что сократит срок доставки заказов</td>\n",
              "                        <td id=\"T_1264b_row1_col1\" class=\"data row1 col1\" >2</td>\n",
              "                        <td id=\"T_1264b_row1_col2\" class=\"data row1 col2\" >5</td>\n",
              "                        <td id=\"T_1264b_row1_col3\" class=\"data row1 col3\" >4</td>\n",
              "                        <td id=\"T_1264b_row1_col4\" class=\"data row1 col4\" >10</td>\n",
              "                        <td id=\"T_1264b_row1_col5\" class=\"data row1 col5\" >2.00</td>\n",
              "                        <td id=\"T_1264b_row1_col6\" class=\"data row1 col6\" >4.00</td>\n",
              "            </tr>\n",
              "            <tr>\n",
              "                        <th id=\"T_1264b_level0_row2\" class=\"row_heading level0 row2\" >2</th>\n",
              "                        <td id=\"T_1264b_row2_col0\" class=\"data row2 col0\" >Добавить блоки рекомендаций товаров на сайт интернет магазина, чтобы повысить конверсию и средний чек заказа</td>\n",
              "                        <td id=\"T_1264b_row2_col1\" class=\"data row2 col1\" >8</td>\n",
              "                        <td id=\"T_1264b_row2_col2\" class=\"data row2 col2\" >3</td>\n",
              "                        <td id=\"T_1264b_row2_col3\" class=\"data row2 col3\" >7</td>\n",
              "                        <td id=\"T_1264b_row2_col4\" class=\"data row2 col4\" >3</td>\n",
              "                        <td id=\"T_1264b_row2_col5\" class=\"data row2 col5\" >7.00</td>\n",
              "                        <td id=\"T_1264b_row2_col6\" class=\"data row2 col6\" >56.00</td>\n",
              "            </tr>\n",
              "            <tr>\n",
              "                        <th id=\"T_1264b_level0_row3\" class=\"row_heading level0 row3\" >3</th>\n",
              "                        <td id=\"T_1264b_row3_col0\" class=\"data row3 col0\" >Изменить структура категорий, что увеличит конверсию, т.к. пользователи быстрее найдут нужный товар</td>\n",
              "                        <td id=\"T_1264b_row3_col1\" class=\"data row3 col1\" >8</td>\n",
              "                        <td id=\"T_1264b_row3_col2\" class=\"data row3 col2\" >3</td>\n",
              "                        <td id=\"T_1264b_row3_col3\" class=\"data row3 col3\" >3</td>\n",
              "                        <td id=\"T_1264b_row3_col4\" class=\"data row3 col4\" >8</td>\n",
              "                        <td id=\"T_1264b_row3_col5\" class=\"data row3 col5\" >1.12</td>\n",
              "                        <td id=\"T_1264b_row3_col6\" class=\"data row3 col6\" >9.00</td>\n",
              "            </tr>\n",
              "            <tr>\n",
              "                        <th id=\"T_1264b_level0_row4\" class=\"row_heading level0 row4\" >4</th>\n",
              "                        <td id=\"T_1264b_row4_col0\" class=\"data row4 col0\" >Изменить цвет фона главной страницы, чтобы увеличить вовлеченность пользователей</td>\n",
              "                        <td id=\"T_1264b_row4_col1\" class=\"data row4 col1\" >3</td>\n",
              "                        <td id=\"T_1264b_row4_col2\" class=\"data row4 col2\" >1</td>\n",
              "                        <td id=\"T_1264b_row4_col3\" class=\"data row4 col3\" >1</td>\n",
              "                        <td id=\"T_1264b_row4_col4\" class=\"data row4 col4\" >1</td>\n",
              "                        <td id=\"T_1264b_row4_col5\" class=\"data row4 col5\" >1.00</td>\n",
              "                        <td id=\"T_1264b_row4_col6\" class=\"data row4 col6\" >3.00</td>\n",
              "            </tr>\n",
              "            <tr>\n",
              "                        <th id=\"T_1264b_level0_row5\" class=\"row_heading level0 row5\" >5</th>\n",
              "                        <td id=\"T_1264b_row5_col0\" class=\"data row5 col0\" >Добавить страницу отзывов клиентов о магазине, что позволит увеличить количество заказов</td>\n",
              "                        <td id=\"T_1264b_row5_col1\" class=\"data row5 col1\" >3</td>\n",
              "                        <td id=\"T_1264b_row5_col2\" class=\"data row5 col2\" >2</td>\n",
              "                        <td id=\"T_1264b_row5_col3\" class=\"data row5 col3\" >2</td>\n",
              "                        <td id=\"T_1264b_row5_col4\" class=\"data row5 col4\" >3</td>\n",
              "                        <td id=\"T_1264b_row5_col5\" class=\"data row5 col5\" >1.33</td>\n",
              "                        <td id=\"T_1264b_row5_col6\" class=\"data row5 col6\" >4.00</td>\n",
              "            </tr>\n",
              "            <tr>\n",
              "                        <th id=\"T_1264b_level0_row6\" class=\"row_heading level0 row6\" >6</th>\n",
              "                        <td id=\"T_1264b_row6_col0\" class=\"data row6 col0\" >Показать на главной странице баннеры с актуальными акциями и распродажами, чтобы увеличить конверсию</td>\n",
              "                        <td id=\"T_1264b_row6_col1\" class=\"data row6 col1\" >5</td>\n",
              "                        <td id=\"T_1264b_row6_col2\" class=\"data row6 col2\" >3</td>\n",
              "                        <td id=\"T_1264b_row6_col3\" class=\"data row6 col3\" >8</td>\n",
              "                        <td id=\"T_1264b_row6_col4\" class=\"data row6 col4\" >3</td>\n",
              "                        <td id=\"T_1264b_row6_col5\" class=\"data row6 col5\" >8.00</td>\n",
              "                        <td id=\"T_1264b_row6_col6\" class=\"data row6 col6\" >40.00</td>\n",
              "            </tr>\n",
              "            <tr>\n",
              "                        <th id=\"T_1264b_level0_row7\" class=\"row_heading level0 row7\" >7</th>\n",
              "                        <td id=\"T_1264b_row7_col0\" class=\"data row7 col0\" >Добавить форму подписки на все основные страницы, чтобы собрать базу клиентов для email-рассылок</td>\n",
              "                        <td id=\"T_1264b_row7_col1\" class=\"data row7 col1\" >10</td>\n",
              "                        <td id=\"T_1264b_row7_col2\" class=\"data row7 col2\" >7</td>\n",
              "                        <td id=\"T_1264b_row7_col3\" class=\"data row7 col3\" >8</td>\n",
              "                        <td id=\"T_1264b_row7_col4\" class=\"data row7 col4\" >5</td>\n",
              "                        <td id=\"T_1264b_row7_col5\" class=\"data row7 col5\" >11.20</td>\n",
              "                        <td id=\"T_1264b_row7_col6\" class=\"data row7 col6\" >112.00</td>\n",
              "            </tr>\n",
              "            <tr>\n",
              "                        <th id=\"T_1264b_level0_row8\" class=\"row_heading level0 row8\" >8</th>\n",
              "                        <td id=\"T_1264b_row8_col0\" class=\"data row8 col0\" >Запустить акцию, дающую скидку на товар в день рождения</td>\n",
              "                        <td id=\"T_1264b_row8_col1\" class=\"data row8 col1\" >1</td>\n",
              "                        <td id=\"T_1264b_row8_col2\" class=\"data row8 col2\" >9</td>\n",
              "                        <td id=\"T_1264b_row8_col3\" class=\"data row8 col3\" >9</td>\n",
              "                        <td id=\"T_1264b_row8_col4\" class=\"data row8 col4\" >5</td>\n",
              "                        <td id=\"T_1264b_row8_col5\" class=\"data row8 col5\" >16.20</td>\n",
              "                        <td id=\"T_1264b_row8_col6\" class=\"data row8 col6\" >16.20</td>\n",
              "            </tr>\n",
              "    </tbody></table>"
            ],
            "text/plain": [
              "<pandas.io.formats.style.Styler at 0x7f7069ef6610>"
            ]
          },
          "execution_count": 6,
          "metadata": {},
          "output_type": "execute_result"
        }
      ],
      "source": [
        "data.style.format({'ICE' : '{:.2f}', 'RICE' : '{:.2f}'}).background_gradient(subset=['ICE', 'RICE'], cmap='binary')\\\n",
        ".highlight_max(subset=['Reach'], color='black').highlight_min(subset=['Reach'], color='grey')"
      ]
    },
    {
      "cell_type": "markdown",
      "metadata": {
        "id": "KI8cfmeVPBzB"
      },
      "source": [
        "Наиболее перспективные гипотезы по ICE: 8, 0, 7, 6."
      ]
    },
    {
      "cell_type": "markdown",
      "metadata": {
        "id": "v9sEHdaUQ2-Z"
      },
      "source": [
        "Наиболее перспективные гипотезы по RICE: 7, 2, 0, 6.\n",
        "\n",
        "В перспективных гипотезах по RICE нет гипотезы 8, зато добавилась гипотеза 2. Расположение гипотез по их приоритету в двух фреймворках отличается. Чтобы понять, почему так произошло, достаточно взглянуть на баллы формулообразующих параметров исследуемых гипотез для фреймворков ICE и RICE.  \n",
        "\n",
        "У гипотезы 8, которая на первом месте по ICE, высокие баллы параметров Impact (показывает, насколько сильно изменение повлияет на охваченных пользователей), \tConfidence (показывает, насколько мы уверены в оценках других параметров),\tEfforts (показывает, во сколько компании обойдется проверка данной гипотезы). \n",
        "\n",
        "В рейтинге по RICE добавляется еще один параметр оценки гипотез - Reach (охват пользователей при проверке данной гипотезы). Он у гипотезы 7 равен максимальным 10 баллам при сравнительно высоких баллах и по другим параметрам, то есть охватит хотя бы половину пользователей компании, в то время как у гипотезы 8 балл по охвату пользователей равен единице, то есть минимальный.\n",
        "\n",
        "Таким образом, приоритетными после \"просеивания\" гипотез по двум фреймворкам считаем гипотезы 7, 0, 6. Последовательность определили, исходя из рейтинга по RICE, поскольку он учитывает дополнительный важный параметр, демонстрирующий охват пользователей."
      ]
    },
    {
      "cell_type": "markdown",
      "metadata": {
        "id": "-tZYuwPWHncN"
      },
      "source": [
        "## Часть 2. Проведем анализ A/B-теста"
      ]
    },
    {
      "cell_type": "markdown",
      "metadata": {
        "id": "jN62WkJWK7ym"
      },
      "source": [
        "Прочтём данные из файлов с результатами A/B-тестирования."
      ]
    },
    {
      "cell_type": "code",
      "execution_count": null,
      "metadata": {
        "colab": {
          "base_uri": "https://localhost:8080/"
        },
        "id": "ZtBUBaiLACy6",
        "outputId": "88d1a73c-90a2-4ffe-8903-79da305b1153"
      },
      "outputs": [
        {
          "name": "stdout",
          "output_type": "stream",
          "text": [
            "<class 'pandas.core.frame.DataFrame'>\n",
            "RangeIndex: 1197 entries, 0 to 1196\n",
            "Data columns (total 5 columns):\n",
            " #   Column         Non-Null Count  Dtype \n",
            "---  ------         --------------  ----- \n",
            " 0   transactionId  1197 non-null   int64 \n",
            " 1   visitorId      1197 non-null   int64 \n",
            " 2   date           1197 non-null   object\n",
            " 3   revenue        1197 non-null   int64 \n",
            " 4   group          1197 non-null   object\n",
            "dtypes: int64(3), object(2)\n",
            "memory usage: 46.9+ KB\n"
          ]
        }
      ],
      "source": [
        "try:\n",
        "    orders = pd.read_csv('https://code.s3.yandex.net/datasets/orders.csv')\n",
        "except:\n",
        "    orders = pd.read_csv('/datasets/orders.csv')\n",
        "\n",
        "orders.info()"
      ]
    },
    {
      "cell_type": "code",
      "execution_count": null,
      "metadata": {
        "colab": {
          "base_uri": "https://localhost:8080/"
        },
        "id": "flcsfyD4oIc9",
        "outputId": "18cb2071-ba2f-4a3e-c8ba-72dd401ed45a"
      },
      "outputs": [
        {
          "data": {
            "text/plain": [
              "transactionId   0.00\n",
              "visitorId       0.00\n",
              "date            0.00\n",
              "revenue         0.00\n",
              "group           0.00\n",
              "dtype: float64"
            ]
          },
          "execution_count": 8,
          "metadata": {},
          "output_type": "execute_result"
        }
      ],
      "source": [
        "orders.isna().mean()"
      ]
    },
    {
      "cell_type": "code",
      "execution_count": null,
      "metadata": {
        "colab": {
          "base_uri": "https://localhost:8080/"
        },
        "id": "dIJeLfiFoQGW",
        "outputId": "82b39483-c194-446c-9601-aebbe81ce059"
      },
      "outputs": [
        {
          "data": {
            "text/plain": [
              "0"
            ]
          },
          "execution_count": 9,
          "metadata": {},
          "output_type": "execute_result"
        }
      ],
      "source": [
        "orders.duplicated().sum()"
      ]
    },
    {
      "cell_type": "code",
      "execution_count": null,
      "metadata": {
        "colab": {
          "base_uri": "https://localhost:8080/"
        },
        "id": "cZPPyGq4qvZJ",
        "outputId": "0cbe2941-8368-4a34-ccf0-7c68e9ef801b"
      },
      "outputs": [
        {
          "data": {
            "text/plain": [
              "B   0.53\n",
              "A   0.47\n",
              "Name: group, dtype: float64"
            ]
          },
          "execution_count": 10,
          "metadata": {},
          "output_type": "execute_result"
        }
      ],
      "source": [
        "orders['group'].value_counts(normalize=True)"
      ]
    },
    {
      "cell_type": "markdown",
      "metadata": {
        "id": "ekVLTL3nwa4S"
      },
      "source": [
        "Группы по размеру разные. Возможно, с пользователями в группе В работали более эффективно или причина просто в лучшей конверсии. "
      ]
    },
    {
      "cell_type": "code",
      "execution_count": null,
      "metadata": {
        "colab": {
          "base_uri": "https://localhost:8080/"
        },
        "id": "1X6mvLKCLH2L",
        "outputId": "25942224-71b1-44c0-bf9c-d85aaf601950"
      },
      "outputs": [
        {
          "data": {
            "text/plain": [
              "array(['2019-08-01', '2019-08-02', '2019-08-03', '2019-08-04',\n",
              "       '2019-08-05', '2019-08-06', '2019-08-07', '2019-08-08',\n",
              "       '2019-08-09', '2019-08-10', '2019-08-11', '2019-08-12',\n",
              "       '2019-08-13', '2019-08-14', '2019-08-15', '2019-08-16',\n",
              "       '2019-08-17', '2019-08-18', '2019-08-19', '2019-08-20',\n",
              "       '2019-08-21', '2019-08-22', '2019-08-23', '2019-08-24',\n",
              "       '2019-08-25', '2019-08-26', '2019-08-27', '2019-08-28',\n",
              "       '2019-08-29', '2019-08-30', '2019-08-31'], dtype=object)"
            ]
          },
          "execution_count": 11,
          "metadata": {},
          "output_type": "execute_result"
        }
      ],
      "source": [
        "orders['date'].sort_values().unique()"
      ]
    },
    {
      "cell_type": "markdown",
      "metadata": {
        "id": "AIvQe1mpIv7u"
      },
      "source": [
        "АВ-тестирование длилось один месяц - август 2019 года."
      ]
    },
    {
      "cell_type": "markdown",
      "metadata": {
        "id": "cSDWUR-Uw35R"
      },
      "source": [
        "Проверим, есть ли у нас пересекающиеся пользователи, которые оказались в обеих группах сразу."
      ]
    },
    {
      "cell_type": "code",
      "execution_count": null,
      "metadata": {
        "colab": {
          "base_uri": "https://localhost:8080/"
        },
        "id": "rkDOkMoWxSb2",
        "outputId": "022b5d6e-91c8-4dc5-c938-8a6785400bac"
      },
      "outputs": [
        {
          "data": {
            "text/plain": [
              "58"
            ]
          },
          "execution_count": 12,
          "metadata": {},
          "output_type": "execute_result"
        }
      ],
      "source": [
        "orders.groupby('group').agg({'visitorId': 'nunique'}).sum()[0] - orders['visitorId'].nunique()"
      ]
    },
    {
      "cell_type": "markdown",
      "metadata": {
        "id": "ZT0uQKy9zzSs"
      },
      "source": [
        "Да, таких 58 человек. Найдем их и исключим из теста для чистоты эксперимента."
      ]
    },
    {
      "cell_type": "code",
      "execution_count": null,
      "metadata": {
        "id": "bKMCHFjCw4X2"
      },
      "outputs": [],
      "source": [
        "user_A = orders.query('group == \"A\"').agg({'visitorId': 'unique'})\n",
        "user_B = orders.query('group == \"B\"').agg({'visitorId': 'unique'})\n",
        " \n",
        "user_duplicates = list(set(user_A[0]).intersection(set(user_B[0])))"
      ]
    },
    {
      "cell_type": "code",
      "execution_count": null,
      "metadata": {
        "id": "WOYQptkP3o_x"
      },
      "outputs": [],
      "source": [
        "orders = orders.query('visitorId != @user_duplicates').copy()"
      ]
    },
    {
      "cell_type": "code",
      "execution_count": null,
      "metadata": {
        "colab": {
          "base_uri": "https://localhost:8080/"
        },
        "id": "IYejUx6a0O3H",
        "outputId": "59d1ca59-511e-4edb-eeff-fe2d4f804b2c"
      },
      "outputs": [
        {
          "data": {
            "text/plain": [
              "0"
            ]
          },
          "execution_count": 15,
          "metadata": {},
          "output_type": "execute_result"
        }
      ],
      "source": [
        "orders.groupby('group').agg({'visitorId': 'nunique'}).sum()[0] - orders['visitorId'].nunique()"
      ]
    },
    {
      "cell_type": "code",
      "execution_count": null,
      "metadata": {
        "colab": {
          "base_uri": "https://localhost:8080/"
        },
        "id": "2axub-YbI9vm",
        "outputId": "6336e742-7b7b-4a97-dcbd-1557dfa8e68f"
      },
      "outputs": [
        {
          "data": {
            "text/plain": [
              "B   0.54\n",
              "A   0.46\n",
              "Name: group, dtype: float64"
            ]
          },
          "execution_count": 16,
          "metadata": {},
          "output_type": "execute_result"
        }
      ],
      "source": [
        "orders['group'].value_counts(normalize=True)"
      ]
    },
    {
      "cell_type": "markdown",
      "metadata": {
        "id": "HgnnD9ZSJkBd"
      },
      "source": [
        "Разница в группах немного увеличилась на 1 процентный пункт. Такое бывает. На причины возможной разницы мы указали, будем считать, что она небольшая и в пределах нормы."
      ]
    },
    {
      "cell_type": "code",
      "execution_count": null,
      "metadata": {
        "id": "_6EWRmmyMiF-"
      },
      "outputs": [],
      "source": [
        "orders['date'] = orders['date'].map(\n",
        "    lambda x: dt.datetime.strptime(x, '%Y-%m-%d')\n",
        ")"
      ]
    },
    {
      "cell_type": "code",
      "execution_count": null,
      "metadata": {
        "colab": {
          "base_uri": "https://localhost:8080/"
        },
        "id": "pzAyixDWI6E7",
        "outputId": "76a095f7-a33f-4d9a-c41e-2df71fb967dd"
      },
      "outputs": [
        {
          "name": "stdout",
          "output_type": "stream",
          "text": [
            "<class 'pandas.core.frame.DataFrame'>\n",
            "RangeIndex: 62 entries, 0 to 61\n",
            "Data columns (total 3 columns):\n",
            " #   Column    Non-Null Count  Dtype \n",
            "---  ------    --------------  ----- \n",
            " 0   date      62 non-null     object\n",
            " 1   group     62 non-null     object\n",
            " 2   visitors  62 non-null     int64 \n",
            "dtypes: int64(1), object(2)\n",
            "memory usage: 1.6+ KB\n"
          ]
        }
      ],
      "source": [
        "try:\n",
        "    visitors = pd.read_csv('https://code.s3.yandex.net/datasets/visitors.csv')\n",
        "except:\n",
        "    visitors = pd.read_csv('/datasets/visitors.csv')\n",
        "    \n",
        "visitors.info()"
      ]
    },
    {
      "cell_type": "code",
      "execution_count": null,
      "metadata": {
        "colab": {
          "base_uri": "https://localhost:8080/"
        },
        "id": "ydd24VfWoteY",
        "outputId": "a78d7e14-7648-437a-84b6-24584dcc1aad"
      },
      "outputs": [
        {
          "data": {
            "text/plain": [
              "date       0.00\n",
              "group      0.00\n",
              "visitors   0.00\n",
              "dtype: float64"
            ]
          },
          "execution_count": 19,
          "metadata": {},
          "output_type": "execute_result"
        }
      ],
      "source": [
        "visitors.isna().mean()"
      ]
    },
    {
      "cell_type": "code",
      "execution_count": null,
      "metadata": {
        "colab": {
          "base_uri": "https://localhost:8080/"
        },
        "id": "ZolDpt1tpDMA",
        "outputId": "5696c477-1497-420b-8b2d-6a23efe8d5a2"
      },
      "outputs": [
        {
          "data": {
            "text/plain": [
              "0"
            ]
          },
          "execution_count": 20,
          "metadata": {},
          "output_type": "execute_result"
        }
      ],
      "source": [
        "visitors.duplicated().sum()"
      ]
    },
    {
      "cell_type": "code",
      "execution_count": null,
      "metadata": {
        "colab": {
          "base_uri": "https://localhost:8080/"
        },
        "id": "LrfIXKKRrQhp",
        "outputId": "a613b528-9ff5-4a7d-e3a1-0107f6c40c8b"
      },
      "outputs": [
        {
          "data": {
            "text/plain": [
              "B   0.50\n",
              "A   0.50\n",
              "Name: group, dtype: float64"
            ]
          },
          "execution_count": 21,
          "metadata": {},
          "output_type": "execute_result"
        }
      ],
      "source": [
        "visitors['group'].value_counts(normalize=True)"
      ]
    },
    {
      "cell_type": "markdown",
      "metadata": {
        "id": "ztSvPj6UwQKr"
      },
      "source": [
        "Здесь группы распределены поровну."
      ]
    },
    {
      "cell_type": "code",
      "execution_count": null,
      "metadata": {
        "id": "kmSnVTt1Jd3_"
      },
      "outputs": [],
      "source": [
        "visitors['date'] = visitors['date'].map(\n",
        "    lambda x: dt.datetime.strptime(x, '%Y-%m-%d')\n",
        ")"
      ]
    },
    {
      "cell_type": "code",
      "execution_count": null,
      "metadata": {
        "colab": {
          "base_uri": "https://localhost:8080/",
          "height": 206
        },
        "id": "RqrxEwabN8oQ",
        "outputId": "1abc0c91-d757-4a83-fbeb-868b576ddc64"
      },
      "outputs": [
        {
          "data": {
            "text/html": [
              "<div>\n",
              "<style scoped>\n",
              "    .dataframe tbody tr th:only-of-type {\n",
              "        vertical-align: middle;\n",
              "    }\n",
              "\n",
              "    .dataframe tbody tr th {\n",
              "        vertical-align: top;\n",
              "    }\n",
              "\n",
              "    .dataframe thead th {\n",
              "        text-align: right;\n",
              "    }\n",
              "</style>\n",
              "<table border=\"1\" class=\"dataframe\">\n",
              "  <thead>\n",
              "    <tr style=\"text-align: right;\">\n",
              "      <th></th>\n",
              "      <th>transactionId</th>\n",
              "      <th>visitorId</th>\n",
              "      <th>date</th>\n",
              "      <th>revenue</th>\n",
              "      <th>group</th>\n",
              "    </tr>\n",
              "  </thead>\n",
              "  <tbody>\n",
              "    <tr>\n",
              "      <th>0</th>\n",
              "      <td>3667963787</td>\n",
              "      <td>3312258926</td>\n",
              "      <td>2019-08-15</td>\n",
              "      <td>1650</td>\n",
              "      <td>B</td>\n",
              "    </tr>\n",
              "    <tr>\n",
              "      <th>1</th>\n",
              "      <td>2804400009</td>\n",
              "      <td>3642806036</td>\n",
              "      <td>2019-08-15</td>\n",
              "      <td>730</td>\n",
              "      <td>B</td>\n",
              "    </tr>\n",
              "    <tr>\n",
              "      <th>3</th>\n",
              "      <td>3797467345</td>\n",
              "      <td>1196621759</td>\n",
              "      <td>2019-08-15</td>\n",
              "      <td>9759</td>\n",
              "      <td>B</td>\n",
              "    </tr>\n",
              "    <tr>\n",
              "      <th>4</th>\n",
              "      <td>2282983706</td>\n",
              "      <td>2322279887</td>\n",
              "      <td>2019-08-15</td>\n",
              "      <td>2308</td>\n",
              "      <td>B</td>\n",
              "    </tr>\n",
              "    <tr>\n",
              "      <th>5</th>\n",
              "      <td>182168103</td>\n",
              "      <td>935554773</td>\n",
              "      <td>2019-08-15</td>\n",
              "      <td>2210</td>\n",
              "      <td>B</td>\n",
              "    </tr>\n",
              "  </tbody>\n",
              "</table>\n",
              "</div>"
            ],
            "text/plain": [
              "   transactionId   visitorId       date  revenue group\n",
              "0     3667963787  3312258926 2019-08-15     1650     B\n",
              "1     2804400009  3642806036 2019-08-15      730     B\n",
              "3     3797467345  1196621759 2019-08-15     9759     B\n",
              "4     2282983706  2322279887 2019-08-15     2308     B\n",
              "5      182168103   935554773 2019-08-15     2210     B"
            ]
          },
          "execution_count": 23,
          "metadata": {},
          "output_type": "execute_result"
        }
      ],
      "source": [
        "orders.head(5)"
      ]
    },
    {
      "cell_type": "code",
      "execution_count": null,
      "metadata": {
        "colab": {
          "base_uri": "https://localhost:8080/",
          "height": 206
        },
        "id": "nHIEcH4AOW0G",
        "outputId": "72a77915-38a5-45ed-d4f1-8a97aff09d2b"
      },
      "outputs": [
        {
          "data": {
            "text/html": [
              "<div>\n",
              "<style scoped>\n",
              "    .dataframe tbody tr th:only-of-type {\n",
              "        vertical-align: middle;\n",
              "    }\n",
              "\n",
              "    .dataframe tbody tr th {\n",
              "        vertical-align: top;\n",
              "    }\n",
              "\n",
              "    .dataframe thead th {\n",
              "        text-align: right;\n",
              "    }\n",
              "</style>\n",
              "<table border=\"1\" class=\"dataframe\">\n",
              "  <thead>\n",
              "    <tr style=\"text-align: right;\">\n",
              "      <th></th>\n",
              "      <th>date</th>\n",
              "      <th>group</th>\n",
              "      <th>visitors</th>\n",
              "    </tr>\n",
              "  </thead>\n",
              "  <tbody>\n",
              "    <tr>\n",
              "      <th>0</th>\n",
              "      <td>2019-08-01</td>\n",
              "      <td>A</td>\n",
              "      <td>719</td>\n",
              "    </tr>\n",
              "    <tr>\n",
              "      <th>1</th>\n",
              "      <td>2019-08-02</td>\n",
              "      <td>A</td>\n",
              "      <td>619</td>\n",
              "    </tr>\n",
              "    <tr>\n",
              "      <th>2</th>\n",
              "      <td>2019-08-03</td>\n",
              "      <td>A</td>\n",
              "      <td>507</td>\n",
              "    </tr>\n",
              "    <tr>\n",
              "      <th>3</th>\n",
              "      <td>2019-08-04</td>\n",
              "      <td>A</td>\n",
              "      <td>717</td>\n",
              "    </tr>\n",
              "    <tr>\n",
              "      <th>4</th>\n",
              "      <td>2019-08-05</td>\n",
              "      <td>A</td>\n",
              "      <td>756</td>\n",
              "    </tr>\n",
              "  </tbody>\n",
              "</table>\n",
              "</div>"
            ],
            "text/plain": [
              "        date group  visitors\n",
              "0 2019-08-01     A       719\n",
              "1 2019-08-02     A       619\n",
              "2 2019-08-03     A       507\n",
              "3 2019-08-04     A       717\n",
              "4 2019-08-05     A       756"
            ]
          },
          "execution_count": 24,
          "metadata": {},
          "output_type": "execute_result"
        }
      ],
      "source": [
        "visitors.head(5)"
      ]
    },
    {
      "cell_type": "markdown",
      "metadata": {
        "id": "xJGmO-QMPA1b"
      },
      "source": [
        "Создадим массив уникальных пар значений дат и групп теста."
      ]
    },
    {
      "cell_type": "code",
      "execution_count": null,
      "metadata": {
        "id": "IeFpncLsPEI9"
      },
      "outputs": [],
      "source": [
        "datesGroups = orders[['date','group']].drop_duplicates()"
      ]
    },
    {
      "cell_type": "markdown",
      "metadata": {
        "id": "eedPyefYPkwj"
      },
      "source": [
        "Получим агрегированные кумулятивные по дням данные о заказах."
      ]
    },
    {
      "cell_type": "code",
      "execution_count": null,
      "metadata": {
        "id": "EdGKjKKUPrkS"
      },
      "outputs": [],
      "source": [
        "ordersAggregated = datesGroups.apply(lambda x: orders[np.logical_and(orders['date'] <= x['date'], orders['group'] == x['group'])]\\\n",
        ".agg({'date' : 'max', 'group' : 'max', 'transactionId' : 'nunique', 'visitorId' : 'nunique', 'revenue' : 'sum'}), axis=1)\\\n",
        ".sort_values(by=['date','group'])"
      ]
    },
    {
      "cell_type": "markdown",
      "metadata": {
        "id": "gQB0PHMQQgxV"
      },
      "source": [
        "Получим агрегированные кумулятивные по дням данные о посетителях интернет-магазина."
      ]
    },
    {
      "cell_type": "code",
      "execution_count": null,
      "metadata": {
        "id": "0b9IIggtQnG5"
      },
      "outputs": [],
      "source": [
        "visitorsAggregated = datesGroups.apply(lambda x: visitors[np.logical_and(visitors['date'] <= x['date'], visitors['group'] == x['group'])]\\\n",
        ".agg({'date' : 'max', 'group' : 'max', 'visitors' : 'sum'}), axis=1).sort_values(by=['date','group'])"
      ]
    },
    {
      "cell_type": "markdown",
      "metadata": {
        "id": "vH3pbX42OtLB"
      },
      "source": [
        "Объединим кумулятивные данные в одной таблице cumulativeData и присвоим ее столбцам понятные названия:\n",
        "\n",
        "    date — дата;\n",
        "    group — группа A/B-теста (A или B);\n",
        "    orders — кумулятивное количество заказов на указанную дату в указанной группе;\n",
        "    buyers — кумулятивное количество пользователей, совершивших хотя бы один заказ, на указанную дату в указанной группе;\n",
        "    revenue — кумулятивная выручка на указанную дату в указанной группе (средний чек);\n",
        "    visitors — кумулятивное количество посетителей интернет-магазина на указанную дату в определённой группе."
      ]
    },
    {
      "cell_type": "code",
      "execution_count": null,
      "metadata": {
        "id": "WEYwILRWSJ1d"
      },
      "outputs": [],
      "source": [
        "cumulativeData = ordersAggregated.merge(visitorsAggregated, left_on=['date', 'group'], right_on=['date', 'group'])\n",
        "cumulativeData.columns = ['date', 'group', 'orders', 'buyers', 'revenue', 'visitors']"
      ]
    },
    {
      "cell_type": "markdown",
      "metadata": {
        "id": "6lm24Dx6IC5j"
      },
      "source": [
        "### 1. Построим график кумулятивной выручки по группам. "
      ]
    },
    {
      "cell_type": "markdown",
      "metadata": {
        "id": "nGmytZa0SflF"
      },
      "source": [
        "Объявим переменные cumulativeRevenueA и cumulativeRevenueB, в которых сохраним данные о датах, выручке и числе заказов в группах A и B."
      ]
    },
    {
      "cell_type": "code",
      "execution_count": null,
      "metadata": {
        "id": "sPHlAiNqSmJW"
      },
      "outputs": [],
      "source": [
        "cumulativeRevenueA = cumulativeData[cumulativeData['group']=='A'][['date','revenue', 'orders']]\n",
        "cumulativeRevenueB = cumulativeData[cumulativeData['group']=='B'][['date','revenue', 'orders']]"
      ]
    },
    {
      "cell_type": "markdown",
      "metadata": {
        "id": "3Ef4ZTd2TN49"
      },
      "source": [
        "Построим графики кумулятивной выручки по дням по группам."
      ]
    },
    {
      "cell_type": "code",
      "execution_count": null,
      "metadata": {
        "colab": {
          "base_uri": "https://localhost:8080/",
          "height": 418
        },
        "id": "DCuNmJnqTS9-",
        "outputId": "7e6c3430-43d4-4a36-a72c-3b6ec650490e"
      },
      "outputs": [
        {
          "data": {
            "image/png": "[encoded data removed]",
            "text/plain": [
              "<Figure size 1080x432 with 1 Axes>"
            ]
          },
          "metadata": {
            "needs_background": "light"
          },
          "output_type": "display_data"
        }
      ],
      "source": [
        "plt.figure(figsize=(15, 6))\n",
        "\n",
        "plt.plot(cumulativeRevenueA['date'], cumulativeRevenueA['revenue'], label='A')\n",
        "plt.plot(cumulativeRevenueB['date'], cumulativeRevenueB['revenue'], label='B')\n",
        "\n",
        "plt.title('Кумулятивная выручка по дням и группам A/B-тестирования', pad=20)\n",
        "plt.xlabel('Дата')\n",
        "plt.ylabel('Выручка')\n",
        "plt.legend(['Группа А', 'Группа B'])\n",
        "\n",
        "plt.show()"
      ]
    },
    {
      "cell_type": "markdown",
      "metadata": {
        "id": "X7qINmA9WE4B"
      },
      "source": [
        "Выручка увеличивается во время теста, и это радует. У группы А более равномерно, зато у группы В ее показатели выше. \n",
        "У группы В наблюдается всплеск выручки во второй половине месяца, что проводился тест. Возможно, число заказов действительно выросло, однако нельзя исключать появление очень дорогих заказов в выборке, которые могут исказить общую картину. "
      ]
    },
    {
      "cell_type": "markdown",
      "metadata": {
        "id": "Co9PFc2SIMHC"
      },
      "source": [
        "### 2. Построим график кумулятивного среднего чека по группам."
      ]
    },
    {
      "cell_type": "code",
      "execution_count": null,
      "metadata": {
        "colab": {
          "base_uri": "https://localhost:8080/",
          "height": 418
        },
        "id": "fkcSimfoYwH0",
        "outputId": "cfd0ac9e-52a2-4dd3-8ebc-101f2593825b"
      },
      "outputs": [
        {
          "data": {
            "image/png": "[encoded data removed]",
            "text/plain": [
              "<Figure size 1080x432 with 1 Axes>"
            ]
          },
          "metadata": {
            "needs_background": "light"
          },
          "output_type": "display_data"
        }
      ],
      "source": [
        "plt.figure(figsize=(15, 6))\n",
        "\n",
        "plt.plot(cumulativeRevenueA['date'], cumulativeRevenueA['revenue']/cumulativeRevenueA['orders'], label='A')\n",
        "plt.plot(cumulativeRevenueB['date'], cumulativeRevenueB['revenue']/cumulativeRevenueB['orders'], label='B')\n",
        "\n",
        "plt.title('Кумулятивный средний чек по группам A/B-тестирования', pad=20)\n",
        "plt.xlabel('Дата')\n",
        "plt.ylabel('Средний чек')\n",
        "plt.legend(['Группа А', 'Группа В'])\n",
        "\n",
        "plt.show()"
      ]
    },
    {
      "cell_type": "markdown",
      "metadata": {
        "id": "_8rYaUibZo6Z"
      },
      "source": [
        "Кумулятивное значение среднего чека сильно колеблется в первой половине месяца. Во второй значение среднего чека у группы А стабилизируется в районе отметки в 7000 рублей, у группы В наблюдается резкий всплеск среднего чека до 10000 за четыре дня, потом значение плавно спадает до 9000 рублей и там стабилизируется. \n",
        "\n",
        "Требуется анализ выбросов, которые могут сильно искажать результат. "
      ]
    },
    {
      "cell_type": "markdown",
      "metadata": {
        "id": "LRhXtIw-IZ_a"
      },
      "source": [
        "### 3. Построим график относительного изменения кумулятивного среднего чека группы B к группе A. "
      ]
    },
    {
      "cell_type": "markdown",
      "metadata": {
        "id": "VDSNI1xxbJMx"
      },
      "source": [
        "Соберем данные в одну таблицу."
      ]
    },
    {
      "cell_type": "code",
      "execution_count": null,
      "metadata": {
        "id": "lAWNBiwPbO6L"
      },
      "outputs": [],
      "source": [
        "mergedCumulativeRevenue = cumulativeRevenueA.merge(cumulativeRevenueB, left_on='date', right_on='date', how='left', suffixes=['A', 'B'])"
      ]
    },
    {
      "cell_type": "markdown",
      "metadata": {
        "id": "YnpGwHaQbbAT"
      },
      "source": [
        "Построим график."
      ]
    },
    {
      "cell_type": "code",
      "execution_count": null,
      "metadata": {
        "colab": {
          "base_uri": "https://localhost:8080/",
          "height": 418
        },
        "id": "w1w8VyAwbjen",
        "outputId": "c16621cb-4a40-4970-ea51-682f65b2d5f2"
      },
      "outputs": [
        {
          "data": {
            "image/png": "[encoded data removed]",
            "text/plain": [
              "<Figure size 1080x432 with 1 Axes>"
            ]
          },
          "metadata": {
            "needs_background": "light"
          },
          "output_type": "display_data"
        }
      ],
      "source": [
        "plt.figure(figsize=(15, 6))\n",
        "\n",
        "plt.plot(mergedCumulativeRevenue['date'],\\\n",
        "         (mergedCumulativeRevenue['revenueB']/mergedCumulativeRevenue['ordersB'])/(mergedCumulativeRevenue['revenueA']/mergedCumulativeRevenue['ordersA'])-1)\n",
        "plt.axhline(y=0, color='black', linestyle='--') \n",
        "\n",
        "plt.title('Относительное изменение кумулятивного среднего чека группы B к группе A', pad=20)\n",
        "plt.xlabel('Дата')\n",
        "plt.ylabel('Относительное изменение')\n",
        "\n",
        "plt.show()"
      ]
    },
    {
      "cell_type": "markdown",
      "metadata": {
        "id": "4-NULTdQcWeT"
      },
      "source": [
        "Различия по среднему чеку в группах резко скачут в те же дни, что и на предыдущем графике. Видимо, в эти дни и были совершены аномальные заказы."
      ]
    },
    {
      "cell_type": "markdown",
      "metadata": {
        "id": "2sfywQuhImIz"
      },
      "source": [
        "### 4. Построим график кумулятивной конверсии по группам."
      ]
    },
    {
      "cell_type": "markdown",
      "metadata": {
        "id": "uH6kS-NfeX8E"
      },
      "source": [
        "Посчитаем общую кумулятивную конверсию."
      ]
    },
    {
      "cell_type": "code",
      "execution_count": null,
      "metadata": {
        "id": "9DJMU0JTeBJK"
      },
      "outputs": [],
      "source": [
        "cumulativeData['conversion'] = cumulativeData['orders']/cumulativeData['visitors']"
      ]
    },
    {
      "cell_type": "markdown",
      "metadata": {
        "id": "oeBKP3elelhq"
      },
      "source": [
        "Разделим данные по группам."
      ]
    },
    {
      "cell_type": "code",
      "execution_count": null,
      "metadata": {
        "id": "R7kw2zwPerAx"
      },
      "outputs": [],
      "source": [
        "cumulativeDataA = cumulativeData[cumulativeData['group'] == 'A']\n",
        "cumulativeDataB = cumulativeData[cumulativeData['group'] == 'B']"
      ]
    },
    {
      "cell_type": "markdown",
      "metadata": {
        "id": "wu97_LGaezhg"
      },
      "source": [
        "Построим график и зададим масштаб осей."
      ]
    },
    {
      "cell_type": "code",
      "execution_count": null,
      "metadata": {
        "colab": {
          "base_uri": "https://localhost:8080/",
          "height": 418
        },
        "id": "yn4xZnQ2e9eW",
        "outputId": "2765d72a-53cf-4498-a21b-186618be911e"
      },
      "outputs": [
        {
          "data": {
            "image/png": "[encoded data removed]",
            "text/plain": [
              "<Figure size 1080x432 with 1 Axes>"
            ]
          },
          "metadata": {
            "needs_background": "light"
          },
          "output_type": "display_data"
        }
      ],
      "source": [
        "plt.figure(figsize=(15, 6))\n",
        "\n",
        "plt.plot(cumulativeDataA['date'], cumulativeDataA['conversion'], label='A')\n",
        "plt.plot(cumulativeDataB['date'], cumulativeDataB['conversion'], label='B')\n",
        "\n",
        "plt.axis([dt.datetime(2019, 8, 1), dt.datetime(2019, 8, 31), 0, 0.05])\n",
        "\n",
        "plt.title('Кумулятивная конверсия по группам A/B-тестирования', pad=20)\n",
        "plt.xlabel('Дата')\n",
        "plt.ylabel('Конверсия')\n",
        "plt.legend(['Группа А', 'Группа В'])\n",
        "\n",
        "plt.show()"
      ]
    },
    {
      "cell_type": "markdown",
      "metadata": {
        "id": "i1Tts6JAfnae"
      },
      "source": [
        "Соревнуясь с  группой В в самом начале за одно значение, группа А на несколько дней опередила конкурента по кумулятивной конверсии, затем конверсия группы В вырвалась вперед и зафиксировалась. Конферсия группы А снизилась и тоже зафиксировалась. Изменение масштабов осей помогло определить, что конверсия установилась около своего среднего значения. Иначе мы бы могли сделать неверный вывод, будто колебания продолжаются. "
      ]
    },
    {
      "cell_type": "markdown",
      "metadata": {
        "id": "csUm79QxIwLM"
      },
      "source": [
        "### 5. Построим график относительного изменения кумулятивной конверсии группы B к группе A. "
      ]
    },
    {
      "cell_type": "code",
      "execution_count": null,
      "metadata": {
        "id": "lDaREZ0gjNe5"
      },
      "outputs": [],
      "source": [
        "mergedCumulativeConversions = cumulativeDataA[['date','conversion']]\\\n",
        ".merge(cumulativeDataB[['date','conversion']], left_on='date', right_on='date', how='left', suffixes=['A', 'B'])"
      ]
    },
    {
      "cell_type": "code",
      "execution_count": null,
      "metadata": {
        "colab": {
          "base_uri": "https://localhost:8080/",
          "height": 418
        },
        "id": "ajmLZpRejmUE",
        "outputId": "a04138c8-fd13-486d-c27f-c96c33219192"
      },
      "outputs": [
        {
          "data": {
            "image/png": "[encoded data removed]",
            "text/plain": [
              "<Figure size 1080x432 with 1 Axes>"
            ]
          },
          "metadata": {
            "needs_background": "light"
          },
          "output_type": "display_data"
        }
      ],
      "source": [
        "plt.figure(figsize=(15, 6))\n",
        "\n",
        "plt.plot(mergedCumulativeConversions['date'], mergedCumulativeConversions['conversionB']\\\n",
        "         /mergedCumulativeConversions['conversionA']-1, label=\"Относительный прирост конверсии группы B к группе A\")\n",
        "\n",
        "plt.title('Относительные изменения кумулятивной конверсии группы B к группе A', pad=20)\n",
        "plt.xlabel('Дата')\n",
        "plt.ylabel('Конверсия')\n",
        "\n",
        "plt.axhline(y=0, color='black', linestyle='--')\n",
        "plt.axhline(y=0.2, color='grey', linestyle='--')\n",
        "\n",
        "plt.show()"
      ]
    },
    {
      "cell_type": "markdown",
      "metadata": {
        "id": "W6aEKtUwmQz9"
      },
      "source": [
        "С первой недели группа В опередила группу А и росла по конверсии. Пик в 20% относительно группы А пришелся на середину теста, после этого конверсия группы В стала снижаться скачками до 10-15%. К концу исследуемого периода наблюдается небольшой рост. Необходимо проанализировать аномалии, они могут изменить картину.  "
      ]
    },
    {
      "cell_type": "markdown",
      "metadata": {
        "id": "fWbYK7mHI7ik"
      },
      "source": [
        "### 6. Построим точечный график количества заказов по пользователям."
      ]
    },
    {
      "cell_type": "markdown",
      "metadata": {
        "id": "R6ORSd9qq7Sj"
      },
      "source": [
        "Посчитаем количество заказов по пользователям."
      ]
    },
    {
      "cell_type": "code",
      "execution_count": null,
      "metadata": {
        "id": "blIO4yN_r2jE"
      },
      "outputs": [],
      "source": [
        "ordersByUsers = (\n",
        "    orders.groupby('visitorId', as_index=False)\n",
        "    .agg({'transactionId': 'nunique'})\n",
        ")\n",
        "\n",
        "ordersByUsers.columns = ['userId', 'orders']"
      ]
    },
    {
      "cell_type": "markdown",
      "metadata": {
        "id": "TzaAAV3kIIHT"
      },
      "source": [
        "Построим график."
      ]
    },
    {
      "cell_type": "code",
      "execution_count": null,
      "metadata": {
        "colab": {
          "base_uri": "https://localhost:8080/",
          "height": 418
        },
        "id": "iBTuFnG1GV0M",
        "outputId": "87f1f07d-a74e-4059-9d5e-a8b3afe17629"
      },
      "outputs": [
        {
          "data": {
            "image/png": "[encoded data removed]",
            "text/plain": [
              "<Figure size 1080x432 with 1 Axes>"
            ]
          },
          "metadata": {
            "needs_background": "light"
          },
          "output_type": "display_data"
        }
      ],
      "source": [
        "x_values = pd.Series(range(0, len(ordersByUsers)))\n",
        "\n",
        "plt.figure(figsize=(15, 6))\n",
        "plt.scatter(x_values, ordersByUsers['orders']) \n",
        "\n",
        "plt.title('Количество заказов по польззователям в A/B-тестировании', pad=20)\n",
        "plt.xlabel('Пользователи')\n",
        "plt.ylabel('Количество заказов')\n",
        "\n",
        "plt.show()"
      ]
    },
    {
      "cell_type": "markdown",
      "metadata": {
        "id": "Up9ttT7jJOSz"
      },
      "source": [
        "Большинство пользователей оставляли один заказ в рамках A\\B-тестирования, есть пользователи с двумя и тремя заказами. Чтобы установить границу для определения аномальных пользователей, посчитаем выборочные перцентили количества заказов на одного пользователя."
      ]
    },
    {
      "cell_type": "markdown",
      "metadata": {
        "id": "wZwfWbz4JGZ7"
      },
      "source": [
        "### 7. Посчитаем 95-й и 99-й перцентили количества заказов на пользователя."
      ]
    },
    {
      "cell_type": "code",
      "execution_count": null,
      "metadata": {
        "colab": {
          "base_uri": "https://localhost:8080/"
        },
        "id": "bwzcAUbZKH34",
        "outputId": "adf29567-94ae-4057-bda9-12a185928968"
      },
      "outputs": [
        {
          "data": {
            "text/plain": [
              "[1, 2]"
            ]
          },
          "execution_count": 41,
          "metadata": {},
          "output_type": "execute_result"
        }
      ],
      "source": [
        "np.percentile(ordersByUsers['orders'], [95, 99]).astype(int).tolist()"
      ]
    },
    {
      "cell_type": "markdown",
      "metadata": {
        "id": "qZu8RTo4LD49"
      },
      "source": [
        "Не более 5% пользователей совершали больше одного заказа. Не более 1% пользователей - больше двух заказов.\n",
        "\n",
        "Считаем разумным выбрать два заказа на одного пользователя за верхнюю границу числа заказов, а остальных пользователей считать аномальными."
      ]
    },
    {
      "cell_type": "markdown",
      "metadata": {
        "id": "wcJxEdmzJVZ2"
      },
      "source": [
        "### 8. Построим точечный график стоимостей заказов. "
      ]
    },
    {
      "cell_type": "code",
      "execution_count": null,
      "metadata": {
        "colab": {
          "base_uri": "https://localhost:8080/",
          "height": 418
        },
        "id": "u5zGyjZxMMaW",
        "outputId": "c02de025-0894-4291-9026-cdebe3716472"
      },
      "outputs": [
        {
          "data": {
            "image/png": "[encoded data removed]",
            "text/plain": [
              "<Figure size 1080x432 with 1 Axes>"
            ]
          },
          "metadata": {
            "needs_background": "light"
          },
          "output_type": "display_data"
        }
      ],
      "source": [
        "x_values = pd.Series(range(0, len(orders['revenue'])))\n",
        "\n",
        "plt.figure(figsize=(15, 6))\n",
        "plt.scatter(x_values, orders['revenue']) \n",
        "\n",
        "plt.title('График стоимостей заказов в A/B-тестировании', pad=20)\n",
        "plt.xlabel('Заказы')\n",
        "plt.ylabel('Стоимость')\n",
        "\n",
        "plt.show()"
      ]
    },
    {
      "cell_type": "markdown",
      "metadata": {
        "id": "ONT77fe5Oqjg"
      },
      "source": [
        "Львиная доля заказов на сумму - меньше 100 000 рублей. Аномальным выглядит заказ за 1 250 000 рублей. Для более корректной оценки следует расчитать перцентили."
      ]
    },
    {
      "cell_type": "markdown",
      "metadata": {
        "id": "Ydy1Su0fJbxW"
      },
      "source": [
        "### 9. Посчитаем 95-й и 99-й перцентили стоимости заказов. "
      ]
    },
    {
      "cell_type": "code",
      "execution_count": null,
      "metadata": {
        "colab": {
          "base_uri": "https://localhost:8080/"
        },
        "id": "69fB9zt2Pk9Q",
        "outputId": "304fd164-2e44-4b8f-9e9a-20cea7216b94"
      },
      "outputs": [
        {
          "data": {
            "text/plain": [
              "[26785, 53904]"
            ]
          },
          "execution_count": 43,
          "metadata": {},
          "output_type": "execute_result"
        }
      ],
      "source": [
        "np.percentile(orders['revenue'], [95, 99]).astype(int).tolist()"
      ]
    },
    {
      "cell_type": "markdown",
      "metadata": {
        "id": "mfJfoDP8QnCs"
      },
      "source": [
        "Не более 5% заказов на сумму больше 27 000 рублей. Не более 1% заказов - больше 54 000 рублей.\n",
        "\n",
        "Определим верхней границей заказ в 30 000 рублей, а остальные будем считать аномальными."
      ]
    },
    {
      "cell_type": "markdown",
      "metadata": {
        "id": "qLrYEAxbJmMH"
      },
      "source": [
        "### 10. Посчитаем статистическую значимость различий в конверсии между группами по «сырым» данным, без удаления аномальных пользователей."
      ]
    },
    {
      "cell_type": "markdown",
      "metadata": {
        "id": "_oZhypd2UKev"
      },
      "source": [
        "Для начала подготовим данные и объединим их в таблицу data. \n",
        "Зададим названия столбцов в датафрейме:\n",
        "\n",
        "    date — дата;\n",
        "    ordersPerDateA — количество заказов в выбранную дату в группе A;\n",
        "    revenuePerDateA — суммарная выручка в выбранную дату в группе A;\n",
        "    ordersPerDateB — количество заказов в выбранную дату в группе B;\n",
        "    revenuePerDateB — суммарная выручка в выбранную дату в группе B;\n",
        "    ordersCummulativeA — суммарное число заказов до выбранной даты включительно в группе A;\n",
        "    revenueCummulativeA — суммарная выручка до выбранной даты включительно в группе A;\n",
        "    ordersCummulativeB — суммарное количество заказов до выбранной даты включительно в группе B;\n",
        "    revenueCummulativeB — суммарная выручка до выбранной даты включительно в группе B;\n",
        "    visitorsPerDateA — количество пользователей в выбранную дату в группе A;\n",
        "    visitorsPerDateB — количество пользователей в выбранную дату в группе B;\n",
        "    visitorsCummulativeA — количество пользователей до выбранной даты включительно в группе A;\n",
        "    visitorsCummulativeB — количество пользователей до выбранной даты включительно в группе B."
      ]
    },
    {
      "cell_type": "code",
      "execution_count": null,
      "metadata": {
        "colab": {
          "base_uri": "https://localhost:8080/",
          "height": 259
        },
        "id": "TKbpp2_dUSEc",
        "outputId": "02dfbe71-ad9c-48e1-9ba9-9809ca309de7"
      },
      "outputs": [
        {
          "data": {
            "text/html": [
              "<div>\n",
              "<style scoped>\n",
              "    .dataframe tbody tr th:only-of-type {\n",
              "        vertical-align: middle;\n",
              "    }\n",
              "\n",
              "    .dataframe tbody tr th {\n",
              "        vertical-align: top;\n",
              "    }\n",
              "\n",
              "    .dataframe thead th {\n",
              "        text-align: right;\n",
              "    }\n",
              "</style>\n",
              "<table border=\"1\" class=\"dataframe\">\n",
              "  <thead>\n",
              "    <tr style=\"text-align: right;\">\n",
              "      <th></th>\n",
              "      <th>date</th>\n",
              "      <th>ordersPerDateA</th>\n",
              "      <th>revenuePerDateA</th>\n",
              "      <th>ordersPerDateB</th>\n",
              "      <th>revenuePerDateB</th>\n",
              "      <th>ordersCummulativeA</th>\n",
              "      <th>revenueCummulativeA</th>\n",
              "      <th>ordersCummulativeB</th>\n",
              "      <th>revenueCummulativeB</th>\n",
              "      <th>visitorsPerDateA</th>\n",
              "      <th>visitorsPerDateB</th>\n",
              "      <th>visitorsCummulativeA</th>\n",
              "      <th>visitorsCummulativeB</th>\n",
              "    </tr>\n",
              "  </thead>\n",
              "  <tbody>\n",
              "    <tr>\n",
              "      <th>0</th>\n",
              "      <td>2019-08-01</td>\n",
              "      <td>23</td>\n",
              "      <td>142779</td>\n",
              "      <td>17</td>\n",
              "      <td>59758</td>\n",
              "      <td>23</td>\n",
              "      <td>142779</td>\n",
              "      <td>17</td>\n",
              "      <td>59758</td>\n",
              "      <td>719</td>\n",
              "      <td>713</td>\n",
              "      <td>719</td>\n",
              "      <td>713</td>\n",
              "    </tr>\n",
              "    <tr>\n",
              "      <th>1</th>\n",
              "      <td>2019-08-02</td>\n",
              "      <td>19</td>\n",
              "      <td>91602</td>\n",
              "      <td>23</td>\n",
              "      <td>162043</td>\n",
              "      <td>42</td>\n",
              "      <td>234381</td>\n",
              "      <td>40</td>\n",
              "      <td>221801</td>\n",
              "      <td>619</td>\n",
              "      <td>581</td>\n",
              "      <td>1338</td>\n",
              "      <td>1294</td>\n",
              "    </tr>\n",
              "    <tr>\n",
              "      <th>2</th>\n",
              "      <td>2019-08-03</td>\n",
              "      <td>24</td>\n",
              "      <td>112473</td>\n",
              "      <td>14</td>\n",
              "      <td>67049</td>\n",
              "      <td>66</td>\n",
              "      <td>346854</td>\n",
              "      <td>54</td>\n",
              "      <td>288850</td>\n",
              "      <td>507</td>\n",
              "      <td>509</td>\n",
              "      <td>1845</td>\n",
              "      <td>1803</td>\n",
              "    </tr>\n",
              "  </tbody>\n",
              "</table>\n",
              "</div>"
            ],
            "text/plain": [
              "        date  ordersPerDateA  revenuePerDateA  ordersPerDateB  \\\n",
              "0 2019-08-01              23           142779              17   \n",
              "1 2019-08-02              19            91602              23   \n",
              "2 2019-08-03              24           112473              14   \n",
              "\n",
              "   revenuePerDateB  ordersCummulativeA  revenueCummulativeA  \\\n",
              "0            59758                  23               142779   \n",
              "1           162043                  42               234381   \n",
              "2            67049                  66               346854   \n",
              "\n",
              "   ordersCummulativeB  revenueCummulativeB  visitorsPerDateA  \\\n",
              "0                  17                59758               719   \n",
              "1                  40               221801               619   \n",
              "2                  54               288850               507   \n",
              "\n",
              "   visitorsPerDateB  visitorsCummulativeA  visitorsCummulativeB  \n",
              "0               713                   719                   713  \n",
              "1               581                  1338                  1294  \n",
              "2               509                  1845                  1803  "
            ]
          },
          "execution_count": 44,
          "metadata": {},
          "output_type": "execute_result"
        }
      ],
      "source": [
        "visitorsADaily = visitors[visitors['group'] == 'A'][['date', 'visitors']]\n",
        "visitorsADaily.columns = ['date', 'visitorsPerDateA']\n",
        "\n",
        "visitorsACummulative = visitorsADaily.apply(\n",
        "    lambda x: visitorsADaily[visitorsADaily['date'] <= x['date']].agg(\n",
        "        {'date': 'max', 'visitorsPerDateA': 'sum'}\n",
        "    ),\n",
        "    axis=1,\n",
        ")\n",
        "visitorsACummulative.columns = ['date', 'visitorsCummulativeA']\n",
        "\n",
        "visitorsBDaily = visitors[visitors['group'] == 'B'][['date', 'visitors']]\n",
        "visitorsBDaily.columns = ['date', 'visitorsPerDateB']\n",
        "\n",
        "visitorsBCummulative = visitorsBDaily.apply(\n",
        "    lambda x: visitorsBDaily[visitorsBDaily['date'] <= x['date']].agg(\n",
        "        {'date': 'max', 'visitorsPerDateB': 'sum'}\n",
        "    ),\n",
        "    axis=1,\n",
        ")\n",
        "visitorsBCummulative.columns = ['date', 'visitorsCummulativeB']\n",
        "\n",
        "ordersADaily = (\n",
        "    orders[orders['group'] == 'A'][['date', 'transactionId', 'visitorId', 'revenue']]\n",
        "    .groupby('date', as_index=False)\n",
        "    .agg({'transactionId': pd.Series.nunique, 'revenue': 'sum'})\n",
        ")\n",
        "ordersADaily.columns = ['date', 'ordersPerDateA', 'revenuePerDateA']\n",
        "\n",
        "ordersACummulative = ordersADaily.apply(\n",
        "    lambda x: ordersADaily[ordersADaily['date'] <= x['date']].agg(\n",
        "        {'date': 'max', 'ordersPerDateA': 'sum', 'revenuePerDateA': 'sum'}\n",
        "    ),\n",
        "    axis=1,\n",
        ").sort_values(by=['date'])\n",
        "ordersACummulative.columns = [\n",
        "    'date',\n",
        "    'ordersCummulativeA',\n",
        "    'revenueCummulativeA',\n",
        "]\n",
        "\n",
        "ordersBDaily = (\n",
        "    orders[orders['group'] == 'B'][['date', 'transactionId', 'visitorId', 'revenue']]\n",
        "    .groupby('date', as_index=False)\n",
        "    .agg({'transactionId': pd.Series.nunique, 'revenue': 'sum'})\n",
        ")\n",
        "ordersBDaily.columns = ['date', 'ordersPerDateB', 'revenuePerDateB']\n",
        "\n",
        "ordersBCummulative = ordersBDaily.apply(\n",
        "    lambda x: ordersBDaily[ordersBDaily['date'] <= x['date']].agg(\n",
        "        {'date': 'max', 'ordersPerDateB': 'sum', 'revenuePerDateB': 'sum'}\n",
        "    ),\n",
        "    axis=1,\n",
        ").sort_values(by=['date'])\n",
        "ordersBCummulative.columns = [\n",
        "    'date',\n",
        "    'ordersCummulativeB',\n",
        "    'revenueCummulativeB',\n",
        "]\n",
        "\n",
        "data = (\n",
        "    ordersADaily.merge(\n",
        "        ordersBDaily, left_on='date', right_on='date', how='left'\n",
        "    )\n",
        "    .merge(ordersACummulative, left_on='date', right_on='date', how='left')\n",
        "    .merge(ordersBCummulative, left_on='date', right_on='date', how='left')\n",
        "    .merge(visitorsADaily, left_on='date', right_on='date', how='left')\n",
        "    .merge(visitorsBDaily, left_on='date', right_on='date', how='left')\n",
        "    .merge(visitorsACummulative, left_on='date', right_on='date', how='left')\n",
        "    .merge(visitorsBCummulative, left_on='date', right_on='date', how='left')\n",
        ")\n",
        "\n",
        "data.head(3)"
      ]
    },
    {
      "cell_type": "markdown",
      "metadata": {
        "id": "hMUzUEtlZnQA"
      },
      "source": [
        "Посчитаем статистическую значимость различия в среднем количестве заказов между группами."
      ]
    },
    {
      "cell_type": "code",
      "execution_count": null,
      "metadata": {
        "id": "99etKD0ybCP-"
      },
      "outputs": [],
      "source": [
        "ordersByUsersA = (\n",
        "    orders[orders['group'] == 'A']\n",
        "    .groupby('visitorId', as_index=False)\n",
        "    .agg({'transactionId': pd.Series.nunique})\n",
        ")\n",
        "ordersByUsersA.columns = ['userId', 'orders']\n",
        "\n",
        "ordersByUsersB = (\n",
        "    orders[orders['group'] == 'B']\n",
        "    .groupby('visitorId', as_index=False)\n",
        "    .agg({'transactionId': pd.Series.nunique})\n",
        ")\n",
        "ordersByUsersB.columns = ['userId', 'orders'] "
      ]
    },
    {
      "cell_type": "markdown",
      "metadata": {
        "id": "z071LNsIcTet"
      },
      "source": [
        "Объявим переменные sampleA и sampleB, в которых пользователям из разных групп будет соответствовать количество заказов. Тем, кто ничего не заказал, будут соответствовать нули. "
      ]
    },
    {
      "cell_type": "code",
      "execution_count": null,
      "metadata": {
        "id": "ywk2MZ5dckqU"
      },
      "outputs": [],
      "source": [
        "sampleA = pd.concat([ordersByUsersA['orders'],pd.Series(0, index=np.arange(data['visitorsPerDateA']\\\n",
        "                                                                           .sum() - len(ordersByUsersA['orders'])), name='orders')],axis=0)\n",
        "sampleB = pd.concat([ordersByUsersB['orders'],pd.Series(0, index=np.arange(data['visitorsPerDateB']\\\n",
        "                                                                           .sum() - len(ordersByUsersB['orders'])), name='orders')],axis=0) "
      ]
    },
    {
      "cell_type": "markdown",
      "metadata": {
        "id": "Xb4V31bWEVs8"
      },
      "source": [
        "Определим, какой из тестов мы будем проводить для выявления статистической значимости различий. Напомним, T-test проводим при нормальном распределении среднего, тест Манна-Уитни - при ненормальном распределении среднего. Осталось разобраться, какой именно тип распределения среднего в наших переменных. Для этого посмотрим на него через qq-график."
      ]
    },
    {
      "cell_type": "code",
      "execution_count": null,
      "metadata": {
        "colab": {
          "base_uri": "https://localhost:8080/",
          "height": 418
        },
        "id": "JG9K68KOCBQB",
        "outputId": "a025d8a1-15d5-49a9-a8ae-5f26cbf7a8ce"
      },
      "outputs": [
        {
          "data": {
            "image/png": "[encoded data removed]",
            "text/plain": [
              "<Figure size 1080x432 with 1 Axes>"
            ]
          },
          "metadata": {
            "needs_background": "light"
          },
          "output_type": "display_data"
        }
      ],
      "source": [
        "plt.figure(figsize=(15, 6))\n",
        "\n",
        "st.probplot(sampleA, dist=\"norm\", plot=pylab)\n",
        "\n",
        "plt.title('QQ-график среднего распределения переменной sampleA ', pad=20)\n",
        "plt.xlabel('Квантили переменной sampleA')\n",
        "plt.ylabel('Квантили стандартного нормального распределения')\n",
        "pylab.show()"
      ]
    },
    {
      "cell_type": "code",
      "execution_count": null,
      "metadata": {
        "colab": {
          "base_uri": "https://localhost:8080/",
          "height": 418
        },
        "id": "35hbYLDMCeRe",
        "outputId": "6ce40596-abaf-41fc-a631-96e37e591453"
      },
      "outputs": [
        {
          "data": {
            "image/png": "[encoded data removed]",
            "text/plain": [
              "<Figure size 1080x432 with 1 Axes>"
            ]
          },
          "metadata": {
            "needs_background": "light"
          },
          "output_type": "display_data"
        }
      ],
      "source": [
        "plt.figure(figsize=(15, 6))\n",
        "\n",
        "st.probplot(sampleB, dist=\"norm\", plot=pylab)\n",
        "\n",
        "plt.title('QQ-график среднего распределения переменной sampleB', pad=20)\n",
        "plt.xlabel('Квантили переменной sampleB')\n",
        "plt.ylabel('Квантили стандартного нормального распределения')\n",
        "pylab.show()"
      ]
    },
    {
      "cell_type": "markdown",
      "metadata": {
        "id": "5YxRqqOHQ7KC"
      },
      "source": [
        "Если бы синие точки повторяли красную линию, которая бы шла вверх под углом, близким к 45 градусам, данные в переменных были бы распределены нормально. Мы же имеем дело с ненормально распределенными данными. Следовательно, для статистического теста будем использовать тест Манна-Уитни."
      ]
    },
    {
      "cell_type": "markdown",
      "metadata": {
        "id": "oUB3XrqicqBB"
      },
      "source": [
        "Проведем тест. Сформулируем гипотезы. Нулевая, по традиции, консервативная. alpha установим на уровне 0,05 - это общепринятое пороговое значение.\n",
        "\n",
        "    H_0: Среднее количество заказов группы А = среднему количеству заказов группы В\n",
        "    Н_а: Среднее количество заказов группы А ≠ среднему количеству заказов группы В\n",
        "   \n",
        "    alpha = 0.05"
      ]
    },
    {
      "cell_type": "code",
      "execution_count": null,
      "metadata": {
        "colab": {
          "base_uri": "https://localhost:8080/"
        },
        "id": "aCN2epf6hcUF",
        "outputId": "2c0ece78-c7b5-4b1d-d223-5706cf20523b"
      },
      "outputs": [
        {
          "name": "stdout",
          "output_type": "stream",
          "text": [
            "p-value = 0.011 при alpha = 0.05 \n",
            "Отвергаем нулевую гипотезу\n",
            "\n",
            "Изменение в конверсии между двумя группами = 16.0 %\n"
          ]
        }
      ],
      "source": [
        "results = st.mannwhitneyu(sampleA, sampleB, alternative=\"two-sided\")[1]\n",
        "\n",
        "alpha = 0.05 \n",
        "\n",
        "print('p-value =', \"{0:.3f}\".format(results), 'при alpha = 0.05 ')\n",
        "\n",
        "if results < alpha:\n",
        "  print('Отвергаем нулевую гипотезу')\n",
        "else:\n",
        "  print('Не получилось отвергнуть нулевую гипотезу')\n",
        "\n",
        "print()\n",
        "print('Изменение в конверсии между двумя группами =',\\\n",
        "      \"{0:.1f}\".format((sampleB.mean() / sampleA.mean() - 1)*100), '%')"
      ]
    },
    {
      "cell_type": "markdown",
      "metadata": {
        "id": "WXOSBEITqGJp"
      },
      "source": [
        "Нулевая гипотеза отвергнута. Судя по неочищенным данным, в среднем количестве заказов двух групп есть статистически значимые различия. Относительный прирост среднего группы Б к конверсии группы А равен 16%."
      ]
    },
    {
      "cell_type": "markdown",
      "metadata": {
        "id": "j55wInwQJvZR"
      },
      "source": [
        "### 11. Посчитаем статистическую значимость различий в среднем чеке заказа между группами по «сырым» данным. "
      ]
    },
    {
      "cell_type": "markdown",
      "metadata": {
        "id": "C8fapDU1sKWO"
      },
      "source": [
        "Формулируем гипотезы:\n",
        "\n",
        "    H_0: Средний чек заказа из группы А = среднему чеку заказа из группы В\n",
        "    Н_а: Средний чек заказа из группы А ≠ среднему чеку заказа из группы В\n",
        "   \n",
        "    alpha = 0.05"
      ]
    },
    {
      "cell_type": "code",
      "execution_count": null,
      "metadata": {
        "colab": {
          "base_uri": "https://localhost:8080/"
        },
        "id": "UamnK9VVr7WV",
        "outputId": "f84de755-a63e-4d04-f67e-2d81de36afcd"
      },
      "outputs": [
        {
          "name": "stdout",
          "output_type": "stream",
          "text": [
            "p-value = 0.829 при alpha = 0.05\n",
            "Не получилось отвергнуть нулевую гипотезу\n",
            "\n",
            "Изменение различий в среднем чеке между двумя группами = 28.7 %\n"
          ]
        }
      ],
      "source": [
        "results = st.mannwhitneyu(orders[orders['group']=='A']['revenue'], orders[orders['group']=='B']['revenue'], alternative=\"two-sided\")[1]\n",
        "\n",
        "alpha = 0.05 \n",
        "\n",
        "print('p-value =', \"{0:.3f}\".format(results), 'при alpha = 0.05')\n",
        "\n",
        "if results < alpha:\n",
        "  print('Отвергаем нулевую гипотезу')\n",
        "else:\n",
        "  print('Не получилось отвергнуть нулевую гипотезу')\n",
        "\n",
        "print()\n",
        "print('Изменение различий в среднем чеке между двумя группами =',\\\n",
        "      \"{0:.1f}\".format((orders[orders['group']=='B']['revenue'].mean()/orders[orders['group']=='A']['revenue'].mean()-1)*100), '%')"
      ]
    },
    {
      "cell_type": "markdown",
      "metadata": {
        "id": "U2ZfF4SE5rX0"
      },
      "source": [
        "P-value значительно больше 0,05, из чего следует, что статистически значимых отличий в среднем чеке между группами нет. Однако относительное различие чека между сегментами составляет солидные почти 29%.\n",
        "Избавимся от аномалий."
      ]
    },
    {
      "cell_type": "markdown",
      "metadata": {
        "id": "arqbDg35J47t"
      },
      "source": [
        "### 12. Посчитаем статистическую значимость различий в конверсии между группами по «очищенным» данным. "
      ]
    },
    {
      "cell_type": "markdown",
      "metadata": {
        "id": "CPmBc-J78Fan"
      },
      "source": [
        "Подготовим данные. \n",
        "Сделаем срезы пользователей с числом заказов больше 3-х — usersWithManyOrders и пользователей, совершивших заказы дороже 30 000 рублей — usersWithExpensiveOrders. Объединим их в таблице abnormalUsers, удалим дубликаты, отсортируем по возрастанию.\n",
        "\n",
        "Напомним, заказы больше двух и дороже 30 000 рублей мы решили считать аномальными."
      ]
    },
    {
      "cell_type": "code",
      "execution_count": null,
      "metadata": {
        "id": "_6DiwTT_7OT9"
      },
      "outputs": [],
      "source": [
        "usersWithManyOrders = pd.concat(\n",
        "    [\n",
        "        ordersByUsersA[ordersByUsersA['orders'] > 2]['userId'],\n",
        "        ordersByUsersB[ordersByUsersB['orders'] > 2]['userId'],\n",
        "    ],\n",
        "    axis=0,\n",
        ")\n",
        "usersWithExpensiveOrders = orders[orders['revenue'] > 30000]['visitorId']\n",
        "abnormalUsers = (\n",
        "    pd.concat([usersWithManyOrders, usersWithExpensiveOrders], axis=0)\n",
        "    .drop_duplicates()\n",
        "    .sort_values()\n",
        ")"
      ]
    },
    {
      "cell_type": "markdown",
      "metadata": {
        "id": "T8_XwS53-Dw2"
      },
      "source": [
        "Зададим переменные sampleAFiltered и sampleBFiltered, в которых сохраним очищенные данные о заказах без аномальных пользователей."
      ]
    },
    {
      "cell_type": "code",
      "execution_count": null,
      "metadata": {
        "id": "W3KD8iQP-Oq3"
      },
      "outputs": [],
      "source": [
        "sampleAFiltered = pd.concat([ordersByUsersA[np.logical_not(ordersByUsersA['userId'].isin(abnormalUsers))]['orders'],\n",
        "        pd.Series(0, index=np.arange(data['visitorsPerDateA'].sum() - len(ordersByUsersA['orders'])),\n",
        "            name='orders', ),], axis=0,)\n",
        "\n",
        "sampleBFiltered = pd.concat([ordersByUsersB[np.logical_not(ordersByUsersB['userId'].isin(abnormalUsers))]['orders'],\n",
        "        pd.Series(0, index=np.arange(data['visitorsPerDateB'].sum() - len(ordersByUsersB['orders'])),\n",
        "            name='orders',),], axis=0,) "
      ]
    },
    {
      "cell_type": "markdown",
      "metadata": {
        "id": "fGyLeBtU-bhj"
      },
      "source": [
        "Формулируем гипотезы:\n",
        "\n",
        "    H_0: Среднее количество заказов группы А (без аномалий) = среднему количеству заказов группы В (без аномалий)\n",
        "    Н_а: Среднее количество заказов группы А (без аномалий) ≠ среднему количеству заказов группы В (без аномалий)\n",
        "   \n",
        "    alpha = 0.05"
      ]
    },
    {
      "cell_type": "code",
      "execution_count": null,
      "metadata": {
        "colab": {
          "base_uri": "https://localhost:8080/"
        },
        "id": "K92LQjXQ_EpG",
        "outputId": "90a02f5c-4364-47bd-9fff-72b49c20af4f"
      },
      "outputs": [
        {
          "name": "stdout",
          "output_type": "stream",
          "text": [
            "p-value = 0.010 при alpha = 0.05 \n",
            "Отвергаем нулевую гипотезу\n",
            "\n",
            "Изменение результатов по конверсии между двумя группами с \"очищенными\" данными = 18.7 %\n"
          ]
        }
      ],
      "source": [
        "results = st.mannwhitneyu(sampleAFiltered, sampleBFiltered, alternative=\"two-sided\")[1]\n",
        "\n",
        "alpha = 0.05 \n",
        "\n",
        "print('p-value =', \"{0:.3f}\".format(results), 'при alpha = 0.05 ')\n",
        "\n",
        "if results < alpha:\n",
        "  print('Отвергаем нулевую гипотезу')\n",
        "else:\n",
        "  print('Не получилось отвергнуть нулевую гипотезу')\n",
        "\n",
        "print()\n",
        "print('Изменение результатов по конверсии между двумя группами с \"очищенными\" данными =',\\\n",
        "      \"{0:.1f}\".format((sampleBFiltered.mean()/sampleAFiltered.mean()-1)*100), '%')"
      ]
    },
    {
      "cell_type": "markdown",
      "metadata": {
        "id": "PARTJxI_Dy2n"
      },
      "source": [
        "Нулевая гипотеза отвергнута и с оцищенными данными тоже. Относительный прирост среднего группы Б к конверсии группы А равен 18,7%, даже почти на три процента  больше, чем в ситуации с \"сырыми\" данными."
      ]
    },
    {
      "cell_type": "markdown",
      "metadata": {
        "id": "ChoFooS4KDPf"
      },
      "source": [
        "### 13. Посчитаем статистическую значимость различий в среднем чеке заказа между группами после удаления аномальных пользователей. "
      ]
    },
    {
      "cell_type": "markdown",
      "metadata": {
        "id": "CWAr22-LKR0L"
      },
      "source": [
        "Формулируем гипотезы:\n",
        "\n",
        "    H_0: Средний чек заказа из группы А (без аномалий) = среднему чеку заказа из группы В (без аномалий)\n",
        "    Н_а: Средний чек заказа из группы А (без аномалий) ≠ среднему чеку заказа из группы В (без аномалий)\n",
        "   \n",
        "    alpha = 0.05"
      ]
    },
    {
      "cell_type": "code",
      "execution_count": null,
      "metadata": {
        "colab": {
          "base_uri": "https://localhost:8080/"
        },
        "id": "PqwG6KHw_DDH",
        "outputId": "35c13ad6-1119-4792-9ef6-b467740d1c9c"
      },
      "outputs": [
        {
          "name": "stdout",
          "output_type": "stream",
          "text": [
            "p-value = 0.741 при alpha = 0.05 \n",
            "Не получилось отвергнуть нулевую гипотезу\n",
            "\n",
            "Изменение различий в среднем чеке между двумя группами (без аномалий) = -2.7 %\n"
          ]
        }
      ],
      "source": [
        "results = st.mannwhitneyu(orders[np.logical_and(orders['group'] == 'A',\n",
        "                    np.logical_not(orders['visitorId'].isin(abnormalUsers)),)]['revenue'],\n",
        "                    orders[np.logical_and(orders['group'] == 'B',\n",
        "                    np.logical_not(orders['visitorId'].isin(abnormalUsers)),)]['revenue'], alternative=\"two-sided\")[1]\n",
        "\n",
        "alpha = 0.05 \n",
        "\n",
        "print('p-value =', \"{0:.3f}\".format(results), 'при alpha = 0.05 ')\n",
        "\n",
        "if results < alpha:\n",
        "  print('Отвергаем нулевую гипотезу')\n",
        "else:\n",
        "  print('Не получилось отвергнуть нулевую гипотезу')\n",
        "\n",
        "print()\n",
        "print('Изменение различий в среднем чеке между двумя группами (без аномалий) =',\\\n",
        "      \"{0:.1f}\".format((orders[np.logical_and(orders['group'] == 'B',\n",
        "                np.logical_not(orders['visitorId'].isin(abnormalUsers)),)]['revenue'].mean()\\\n",
        "        / orders[np.logical_and(orders['group'] == 'A',\n",
        "                np.logical_not(orders['visitorId'].isin(abnormalUsers)),)]['revenue'].mean() - 1)*100), '%')"
      ]
    },
    {
      "cell_type": "markdown",
      "metadata": {
        "id": "rh8SNNNFNJqN"
      },
      "source": [
        "P-value высокий, следовательно, статистически значимых отличий в среднем чеке между группами точно нет. Относительное различие чека между сегментами при этом незначительное, -2,7%.\n",
        "\n",
        "Итого:\n",
        "- Cтатистическая значимость различий в конверсии между группами по «сырым» данным = 16%, p-value = 0.011, количество заказов отличается.;\n",
        "- Cтатистическая значимость различий в конверсии между группами по «очищенным» данным = 28.7%, p-value = 0.829, количество заказов отличается.\n",
        "- Cтатистическая значимость различий по среднему чеку между группами по «сырым» данным = 18.7%, p-value = 0.010, средний чек не отличается;\n",
        "- Cтатистическая значимость различий по среднему чеку между группами по «очищенным» данным = -2.7%, p-value = 0.741, средний чек не отличается.\n",
        "\n",
        "Общие результаты гипотез не изменились. Сделаем выводы."
      ]
    },
    {
      "cell_type": "markdown",
      "metadata": {
        "id": "AwE1uNgoEz96"
      },
      "source": [
        "### 13. Выводы\n"
      ]
    },
    {
      "cell_type": "markdown",
      "metadata": {
        "id": "3L3D2MAmKdOQ"
      },
      "source": [
        "1. Есть статистически значимые различия по среднему количеству заказов между группами и по «сырым», и по данным после фильтрации аномалий;\n",
        "\n",
        "2. Нет статистически значимого различия по среднему чеку между группами ни по «сырым», ни по данным после фильтрации аномалий;\n",
        "\n",
        "3. График различия конверсии между группами сообщает, что результаты группы B лучше группы A как минимум на 10%, и в данный момент показатель растет:\n"
      ]
    },
    {
      "cell_type": "code",
      "execution_count": null,
      "metadata": {
        "colab": {
          "base_uri": "https://localhost:8080/",
          "height": 309
        },
        "id": "eX4jbcOFKcL6",
        "outputId": "aaf27abd-2496-4a65-ec81-7fdb3fbae2f7"
      },
      "outputs": [
        {
          "data": {
            "image/png": "[encoded data removed]",
            "text/plain": [
              "<Figure size 864x288 with 1 Axes>"
            ]
          },
          "metadata": {
            "needs_background": "light"
          },
          "output_type": "display_data"
        }
      ],
      "source": [
        "plt.figure(figsize=(12, 4))\n",
        "\n",
        "plt.plot(mergedCumulativeConversions['date'], mergedCumulativeConversions['conversionB']\\\n",
        "         /mergedCumulativeConversions['conversionA']-1, label=\"Относительный прирост конверсии группы B к группе A\")\n",
        "\n",
        "plt.title('Относительные изменения кумулятивной конверсии группы B к группе A', pad=20)\n",
        "plt.xlabel('Дата')\n",
        "plt.ylabel('Конверсия')\n",
        "\n",
        "plt.axhline(y=0, color='black', linestyle='--')\n",
        "plt.axhline(y=0.2, color='grey', linestyle='--')\n",
        "\n",
        "plt.show()"
      ]
    },
    {
      "cell_type": "markdown",
      "metadata": {
        "id": "Vgj5sWSXU1BZ"
      },
      "source": [
        "4. График различия среднего чека говорит о том, что результаты группы B улучшились на 50%, потом снизились до 30%, в данный момент наблюдается стабилизация:"
      ]
    },
    {
      "cell_type": "code",
      "execution_count": null,
      "metadata": {
        "colab": {
          "base_uri": "https://localhost:8080/",
          "height": 309
        },
        "id": "VYiS1EjMT96Q",
        "outputId": "e16edb97-94e1-43ac-959f-7bc7ba4ca6bc"
      },
      "outputs": [
        {
          "data": {
            "image/png": "[encoded data removed]",
            "text/plain": [
              "<Figure size 864x288 with 1 Axes>"
            ]
          },
          "metadata": {
            "needs_background": "light"
          },
          "output_type": "display_data"
        }
      ],
      "source": [
        "plt.figure(figsize=(12, 4))\n",
        "\n",
        "plt.plot(mergedCumulativeRevenue['date'],\\\n",
        "         (mergedCumulativeRevenue['revenueB']/mergedCumulativeRevenue['ordersB'])/(mergedCumulativeRevenue['revenueA']/mergedCumulativeRevenue['ordersA'])-1)\n",
        "plt.axhline(y=0, color='black', linestyle='--') \n",
        "\n",
        "plt.title('Относительное изменение кумулятивного среднего чека группы B к группе A', pad=20)\n",
        "plt.xlabel('Дата')\n",
        "plt.ylabel('Относительное изменение')\n",
        "\n",
        "plt.show()"
      ]
    },
    {
      "cell_type": "markdown",
      "metadata": {
        "id": "5wsSLUOcV0Me"
      },
      "source": [
        "\n",
        "Считаем, тест следует остановить и признать его успешным. Исследование длится месяц - достаточный срок, чтобы собрать данные. Группа B по графикам выигрывает. Даже если статистически средний чек не изменился, конверсия выросла."
      ]
    }
  ],
  "metadata": {
    "ExecuteTimeLog": [
      {
        "duration": 1288,
        "start_time": "2022-09-28T13:10:59.227Z"
      },
      {
        "duration": 66,
        "start_time": "2022-09-28T13:11:00.518Z"
      },
      {
        "duration": 11,
        "start_time": "2022-09-28T13:11:00.585Z"
      },
      {
        "duration": 37,
        "start_time": "2022-09-28T13:11:00.598Z"
      },
      {
        "duration": 32,
        "start_time": "2022-09-28T13:11:00.636Z"
      },
      {
        "duration": 21,
        "start_time": "2022-09-28T13:11:00.670Z"
      },
      {
        "duration": 28,
        "start_time": "2022-09-28T13:11:00.692Z"
      },
      {
        "duration": 34,
        "start_time": "2022-09-28T13:11:00.721Z"
      },
      {
        "duration": 52,
        "start_time": "2022-09-28T13:11:00.757Z"
      },
      {
        "duration": 4,
        "start_time": "2022-09-28T13:11:00.812Z"
      },
      {
        "duration": 25,
        "start_time": "2022-09-28T13:11:00.818Z"
      },
      {
        "duration": 44,
        "start_time": "2022-09-28T13:11:00.845Z"
      },
      {
        "duration": 4,
        "start_time": "2022-09-28T13:11:00.890Z"
      },
      {
        "duration": 54,
        "start_time": "2022-09-28T13:11:00.895Z"
      },
      {
        "duration": 25,
        "start_time": "2022-09-28T13:11:00.950Z"
      },
      {
        "duration": 15,
        "start_time": "2022-09-28T13:11:00.977Z"
      },
      {
        "duration": 168,
        "start_time": "2022-09-28T13:11:00.993Z"
      },
      {
        "duration": 127,
        "start_time": "2022-09-28T13:11:01.162Z"
      },
      {
        "duration": 42,
        "start_time": "2022-09-28T13:11:01.291Z"
      },
      {
        "duration": 46,
        "start_time": "2022-09-28T13:11:01.334Z"
      },
      {
        "duration": 307,
        "start_time": "2022-09-28T13:11:01.381Z"
      },
      {
        "duration": 218,
        "start_time": "2022-09-28T13:11:01.690Z"
      },
      {
        "duration": 6,
        "start_time": "2022-09-28T13:11:01.910Z"
      },
      {
        "duration": 351,
        "start_time": "2022-09-28T13:11:01.917Z"
      },
      {
        "duration": 4,
        "start_time": "2022-09-28T13:11:02.271Z"
      },
      {
        "duration": 14,
        "start_time": "2022-09-28T13:11:02.277Z"
      },
      {
        "duration": 193,
        "start_time": "2022-09-28T13:11:02.293Z"
      },
      {
        "duration": 6,
        "start_time": "2022-09-28T13:11:02.489Z"
      },
      {
        "duration": 319,
        "start_time": "2022-09-28T13:11:02.497Z"
      },
      {
        "duration": 6,
        "start_time": "2022-09-28T13:11:02.817Z"
      },
      {
        "duration": 160,
        "start_time": "2022-09-28T13:11:02.825Z"
      },
      {
        "duration": 4,
        "start_time": "2022-09-28T13:11:02.987Z"
      },
      {
        "duration": 172,
        "start_time": "2022-09-28T13:11:02.993Z"
      },
      {
        "duration": 6,
        "start_time": "2022-09-28T13:11:03.166Z"
      },
      {
        "duration": 228,
        "start_time": "2022-09-28T13:11:03.173Z"
      },
      {
        "duration": 160,
        "start_time": "2022-09-28T13:11:03.403Z"
      },
      {
        "duration": 5,
        "start_time": "2022-09-28T13:11:03.564Z"
      },
      {
        "duration": 260,
        "start_time": "2022-09-28T13:11:03.571Z"
      },
      {
        "duration": 111,
        "start_time": "2022-09-28T13:11:03.833Z"
      },
      {
        "duration": 0,
        "start_time": "2022-09-28T13:11:03.946Z"
      },
      {
        "duration": 0,
        "start_time": "2022-09-28T13:11:03.947Z"
      },
      {
        "duration": 0,
        "start_time": "2022-09-28T13:11:03.947Z"
      },
      {
        "duration": 0,
        "start_time": "2022-09-28T13:11:03.948Z"
      },
      {
        "duration": 0,
        "start_time": "2022-09-28T13:11:03.950Z"
      },
      {
        "duration": 1,
        "start_time": "2022-09-28T13:11:03.950Z"
      },
      {
        "duration": 0,
        "start_time": "2022-09-28T13:11:03.952Z"
      },
      {
        "duration": 0,
        "start_time": "2022-09-28T13:11:03.953Z"
      },
      {
        "duration": 25,
        "start_time": "2022-09-28T13:11:12.616Z"
      },
      {
        "duration": 11,
        "start_time": "2022-09-28T13:11:15.061Z"
      },
      {
        "duration": 7,
        "start_time": "2022-09-28T13:11:16.889Z"
      },
      {
        "duration": 7,
        "start_time": "2022-09-28T13:11:18.587Z"
      },
      {
        "duration": 23,
        "start_time": "2022-09-28T13:11:20.091Z"
      },
      {
        "duration": 15,
        "start_time": "2022-09-28T13:11:21.788Z"
      },
      {
        "duration": 287,
        "start_time": "2022-09-28T13:11:23.708Z"
      },
      {
        "duration": 241,
        "start_time": "2022-09-28T13:11:26.257Z"
      },
      {
        "duration": 1230,
        "start_time": "2022-09-29T12:27:43.759Z"
      },
      {
        "duration": 74,
        "start_time": "2022-09-29T12:27:44.991Z"
      },
      {
        "duration": 13,
        "start_time": "2022-09-29T12:27:45.066Z"
      },
      {
        "duration": 24,
        "start_time": "2022-09-29T12:27:45.081Z"
      },
      {
        "duration": 13,
        "start_time": "2022-09-29T12:27:45.106Z"
      },
      {
        "duration": 64,
        "start_time": "2022-09-29T12:27:45.120Z"
      },
      {
        "duration": 124,
        "start_time": "2022-09-29T12:27:45.186Z"
      },
      {
        "duration": 7,
        "start_time": "2022-09-29T12:27:45.311Z"
      },
      {
        "duration": 12,
        "start_time": "2022-09-29T12:27:45.319Z"
      },
      {
        "duration": 5,
        "start_time": "2022-09-29T12:27:45.334Z"
      },
      {
        "duration": 8,
        "start_time": "2022-09-29T12:27:45.341Z"
      },
      {
        "duration": 12,
        "start_time": "2022-09-29T12:27:45.351Z"
      },
      {
        "duration": 12,
        "start_time": "2022-09-29T12:27:45.364Z"
      },
      {
        "duration": 8,
        "start_time": "2022-09-29T12:27:45.378Z"
      },
      {
        "duration": 23,
        "start_time": "2022-09-29T12:27:45.387Z"
      },
      {
        "duration": 13,
        "start_time": "2022-09-29T12:27:45.411Z"
      },
      {
        "duration": 13,
        "start_time": "2022-09-29T12:27:45.426Z"
      },
      {
        "duration": 56,
        "start_time": "2022-09-29T12:27:45.441Z"
      },
      {
        "duration": 6,
        "start_time": "2022-09-29T12:27:45.499Z"
      },
      {
        "duration": 20,
        "start_time": "2022-09-29T12:27:45.507Z"
      },
      {
        "duration": 8,
        "start_time": "2022-09-29T12:27:45.529Z"
      },
      {
        "duration": 10,
        "start_time": "2022-09-29T12:27:45.539Z"
      },
      {
        "duration": 19,
        "start_time": "2022-09-29T12:27:45.550Z"
      },
      {
        "duration": 13,
        "start_time": "2022-09-29T12:27:45.570Z"
      },
      {
        "duration": 12,
        "start_time": "2022-09-29T12:27:45.584Z"
      },
      {
        "duration": 177,
        "start_time": "2022-09-29T12:27:45.598Z"
      },
      {
        "duration": 131,
        "start_time": "2022-09-29T12:27:45.776Z"
      },
      {
        "duration": 7,
        "start_time": "2022-09-29T12:27:45.920Z"
      },
      {
        "duration": 23,
        "start_time": "2022-09-29T12:27:45.929Z"
      },
      {
        "duration": 342,
        "start_time": "2022-09-29T12:27:45.953Z"
      },
      {
        "duration": 246,
        "start_time": "2022-09-29T12:27:46.297Z"
      },
      {
        "duration": 6,
        "start_time": "2022-09-29T12:27:46.545Z"
      },
      {
        "duration": 345,
        "start_time": "2022-09-29T12:27:46.552Z"
      },
      {
        "duration": 5,
        "start_time": "2022-09-29T12:27:46.899Z"
      },
      {
        "duration": 39,
        "start_time": "2022-09-29T12:27:46.905Z"
      },
      {
        "duration": 225,
        "start_time": "2022-09-29T12:27:46.946Z"
      },
      {
        "duration": 7,
        "start_time": "2022-09-29T12:27:47.173Z"
      },
      {
        "duration": 356,
        "start_time": "2022-09-29T12:27:47.182Z"
      },
      {
        "duration": 6,
        "start_time": "2022-09-29T12:27:47.540Z"
      },
      {
        "duration": 218,
        "start_time": "2022-09-29T12:27:47.547Z"
      },
      {
        "duration": 5,
        "start_time": "2022-09-29T12:27:47.766Z"
      },
      {
        "duration": 202,
        "start_time": "2022-09-29T12:27:47.773Z"
      },
      {
        "duration": 5,
        "start_time": "2022-09-29T12:27:47.977Z"
      },
      {
        "duration": 310,
        "start_time": "2022-09-29T12:27:47.983Z"
      },
      {
        "duration": 150,
        "start_time": "2022-09-29T12:27:48.295Z"
      },
      {
        "duration": 6,
        "start_time": "2022-09-29T12:27:48.447Z"
      },
      {
        "duration": 230,
        "start_time": "2022-09-29T12:27:48.455Z"
      },
      {
        "duration": 227,
        "start_time": "2022-09-29T12:27:48.687Z"
      },
      {
        "duration": 31,
        "start_time": "2022-09-29T12:27:48.916Z"
      },
      {
        "duration": 15,
        "start_time": "2022-09-29T12:27:48.949Z"
      },
      {
        "duration": 21,
        "start_time": "2022-09-29T12:27:48.967Z"
      },
      {
        "duration": 18,
        "start_time": "2022-09-29T12:27:48.990Z"
      },
      {
        "duration": 31,
        "start_time": "2022-09-29T12:27:49.021Z"
      },
      {
        "duration": 20,
        "start_time": "2022-09-29T12:27:49.054Z"
      },
      {
        "duration": 348,
        "start_time": "2022-09-29T12:27:49.076Z"
      },
      {
        "duration": 299,
        "start_time": "2022-09-29T12:27:49.426Z"
      }
    ],
    "colab": {
      "collapsed_sections": [],
      "provenance": []
    },
    "kernelspec": {
      "display_name": "Python 3 (ipykernel)",
      "language": "python",
      "name": "python3"
    },
    "language_info": {
      "codemirror_mode": {
        "name": "ipython",
        "version": 3
      },
      "file_extension": ".py",
      "mimetype": "text/x-python",
      "name": "python",
      "nbconvert_exporter": "python",
      "pygments_lexer": "ipython3",
      "version": "3.9.5"
    },
    "toc": {
      "base_numbering": 1,
      "nav_menu": {},
      "number_sections": true,
      "sideBar": true,
      "skip_h1_title": true,
      "title_cell": "Table of Contents",
      "title_sidebar": "Contents",
      "toc_cell": false,
      "toc_position": {},
      "toc_section_display": true,
      "toc_window_display": false
    }
  },
  "nbformat": 4,
  "nbformat_minor": 0
}