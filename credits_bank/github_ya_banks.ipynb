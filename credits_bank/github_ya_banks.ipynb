{
  "cells": [
    {
      "cell_type": "markdown",
      "id": "c81daeeb",
      "metadata": {
        "deletable": false,
        "id": "c81daeeb"
      },
      "source": [
        "# Исследование надежности заемщиков банка\n"
      ]
    },
    {
      "cell_type": "markdown",
      "source": [
        "Заказчик — кредитный отдел банка. Нужно разобраться, влияет ли семейное положение и количество детей клиента на факт погашения кредита в срок. Входные данные от банка — статистика о платёжеспособности клиентов.\n",
        "Результаты исследования будут учтены при построении модели кредитного скоринга "
      ],
      "metadata": {
        "id": "XqS-CgBJ2o0Q"
      },
      "id": "XqS-CgBJ2o0Q"
    },
    {
      "cell_type": "markdown",
      "source": [
        "## Описание данных"
      ],
      "metadata": {
        "id": "i9yy_SHw3lvA"
      },
      "id": "i9yy_SHw3lvA"
    },
    {
      "cell_type": "markdown",
      "source": [
        "children — количество детей в семье\n",
        "\n",
        "days_employed — общий трудовой стаж в днях\n",
        "\n",
        "dob_years — возраст клиента в годах\n",
        "\n",
        "education — уровень образования клиента\n",
        "\n",
        "education_id — идентификатор уровня образования\n",
        "\n",
        "family_status — семейное положение\n",
        "\n",
        "family_status_id — идентификатор семейного положения\n",
        "\n",
        "gender — пол клиента\n",
        "\n",
        "income_type — тип занятости\n",
        "\n",
        "debt — имел ли задолженность по возврату кредитов\n",
        "\n",
        "total_income — ежемесячный доход\n",
        "\n",
        "purpose — цель получения кредита"
      ],
      "metadata": {
        "id": "riiY-gdf3tbR"
      },
      "id": "riiY-gdf3tbR"
    },
    {
      "cell_type": "markdown",
      "id": "744d7639",
      "metadata": {
        "deletable": false,
        "id": "744d7639"
      },
      "source": [
        "## Откроем таблицу и изучим общую информацию о данных"
      ]
    },
    {
      "cell_type": "code",
      "execution_count": null,
      "id": "7bcf75c9",
      "metadata": {
        "deletable": false,
        "id": "7bcf75c9"
      },
      "outputs": [],
      "source": [
        "import pandas as pd\n",
        "\n",
        "try:\n",
        "    data = pd.read_csv('/datasets/data.csv')\n",
        "except:\n",
        "    data = pd.read_csv('https://code.s3.yandex.net/datasets/data.csv')\n",
        "    "
      ]
    },
    {
      "cell_type": "code",
      "execution_count": null,
      "id": "2a7cab99",
      "metadata": {
        "deletable": false,
        "id": "2a7cab99",
        "outputId": "c38bdfe0-c5c2-4ca2-f286-cd25e27681bc",
        "colab": {
          "base_uri": "https://localhost:8080/",
          "height": 677
        }
      },
      "outputs": [
        {
          "output_type": "execute_result",
          "data": {
            "text/plain": [
              "    children  days_employed  dob_years            education  education_id  \\\n",
              "0          1   -8437.673028         42               высшее             0   \n",
              "1          1   -4024.803754         36              среднее             1   \n",
              "2          0   -5623.422610         33              Среднее             1   \n",
              "3          3   -4124.747207         32              среднее             1   \n",
              "4          0  340266.072047         53              среднее             1   \n",
              "5          0    -926.185831         27               высшее             0   \n",
              "6          0   -2879.202052         43               высшее             0   \n",
              "7          0    -152.779569         50              СРЕДНЕЕ             1   \n",
              "8          2   -6929.865299         35               ВЫСШЕЕ             0   \n",
              "9          0   -2188.756445         41              среднее             1   \n",
              "10         2   -4171.483647         36               высшее             0   \n",
              "11         0    -792.701887         40              среднее             1   \n",
              "12         0            NaN         65              среднее             1   \n",
              "13         0   -1846.641941         54  неоконченное высшее             2   \n",
              "14         0   -1844.956182         56               высшее             0   \n",
              "15         1    -972.364419         26              среднее             1   \n",
              "16         0   -1719.934226         35              среднее             1   \n",
              "17         0   -2369.999720         33               высшее             0   \n",
              "18         0  400281.136913         53              среднее             1   \n",
              "19         0  -10038.818549         48              СРЕДНЕЕ             1   \n",
              "\n",
              "       family_status  family_status_id gender income_type  debt  \\\n",
              "0    женат / замужем                 0      F   сотрудник     0   \n",
              "1    женат / замужем                 0      F   сотрудник     0   \n",
              "2    женат / замужем                 0      M   сотрудник     0   \n",
              "3    женат / замужем                 0      M   сотрудник     0   \n",
              "4   гражданский брак                 1      F   пенсионер     0   \n",
              "5   гражданский брак                 1      M   компаньон     0   \n",
              "6    женат / замужем                 0      F   компаньон     0   \n",
              "7    женат / замужем                 0      M   сотрудник     0   \n",
              "8   гражданский брак                 1      F   сотрудник     0   \n",
              "9    женат / замужем                 0      M   сотрудник     0   \n",
              "10   женат / замужем                 0      M   компаньон     0   \n",
              "11   женат / замужем                 0      F   сотрудник     0   \n",
              "12  гражданский брак                 1      M   пенсионер     0   \n",
              "13   женат / замужем                 0      F   сотрудник     0   \n",
              "14  гражданский брак                 1      F   компаньон     1   \n",
              "15   женат / замужем                 0      F   сотрудник     0   \n",
              "16   женат / замужем                 0      F   сотрудник     0   \n",
              "17  гражданский брак                 1      M   сотрудник     0   \n",
              "18    вдовец / вдова                 2      F   пенсионер     0   \n",
              "19         в разводе                 3      F   сотрудник     0   \n",
              "\n",
              "     total_income                                 purpose  \n",
              "0   253875.639453                           покупка жилья  \n",
              "1   112080.014102                 приобретение автомобиля  \n",
              "2   145885.952297                           покупка жилья  \n",
              "3   267628.550329              дополнительное образование  \n",
              "4   158616.077870                         сыграть свадьбу  \n",
              "5   255763.565419                           покупка жилья  \n",
              "6   240525.971920                       операции с жильем  \n",
              "7   135823.934197                             образование  \n",
              "8    95856.832424                   на проведение свадьбы  \n",
              "9   144425.938277                 покупка жилья для семьи  \n",
              "10  113943.491460                    покупка недвижимости  \n",
              "11   77069.234271       покупка коммерческой недвижимости  \n",
              "12            NaN                         сыграть свадьбу  \n",
              "13  130458.228857                 приобретение автомобиля  \n",
              "14  165127.911772              покупка жилой недвижимости  \n",
              "15  116820.904450  строительство собственной недвижимости  \n",
              "16  289202.704229                            недвижимость  \n",
              "17   90410.586745              строительство недвижимости  \n",
              "18   56823.777243      на покупку подержанного автомобиля  \n",
              "19  242831.107982            на покупку своего автомобиля  "
            ],
            "text/html": [
              "\n",
              "  <div id=\"df-45c0b22c-7ce8-4351-a738-fd90c111fabf\">\n",
              "    <div class=\"colab-df-container\">\n",
              "      <div>\n",
              "<style scoped>\n",
              "    .dataframe tbody tr th:only-of-type {\n",
              "        vertical-align: middle;\n",
              "    }\n",
              "\n",
              "    .dataframe tbody tr th {\n",
              "        vertical-align: top;\n",
              "    }\n",
              "\n",
              "    .dataframe thead th {\n",
              "        text-align: right;\n",
              "    }\n",
              "</style>\n",
              "<table border=\"1\" class=\"dataframe\">\n",
              "  <thead>\n",
              "    <tr style=\"text-align: right;\">\n",
              "      <th></th>\n",
              "      <th>children</th>\n",
              "      <th>days_employed</th>\n",
              "      <th>dob_years</th>\n",
              "      <th>education</th>\n",
              "      <th>education_id</th>\n",
              "      <th>family_status</th>\n",
              "      <th>family_status_id</th>\n",
              "      <th>gender</th>\n",
              "      <th>income_type</th>\n",
              "      <th>debt</th>\n",
              "      <th>total_income</th>\n",
              "      <th>purpose</th>\n",
              "    </tr>\n",
              "  </thead>\n",
              "  <tbody>\n",
              "    <tr>\n",
              "      <th>0</th>\n",
              "      <td>1</td>\n",
              "      <td>-8437.673028</td>\n",
              "      <td>42</td>\n",
              "      <td>высшее</td>\n",
              "      <td>0</td>\n",
              "      <td>женат / замужем</td>\n",
              "      <td>0</td>\n",
              "      <td>F</td>\n",
              "      <td>сотрудник</td>\n",
              "      <td>0</td>\n",
              "      <td>253875.639453</td>\n",
              "      <td>покупка жилья</td>\n",
              "    </tr>\n",
              "    <tr>\n",
              "      <th>1</th>\n",
              "      <td>1</td>\n",
              "      <td>-4024.803754</td>\n",
              "      <td>36</td>\n",
              "      <td>среднее</td>\n",
              "      <td>1</td>\n",
              "      <td>женат / замужем</td>\n",
              "      <td>0</td>\n",
              "      <td>F</td>\n",
              "      <td>сотрудник</td>\n",
              "      <td>0</td>\n",
              "      <td>112080.014102</td>\n",
              "      <td>приобретение автомобиля</td>\n",
              "    </tr>\n",
              "    <tr>\n",
              "      <th>2</th>\n",
              "      <td>0</td>\n",
              "      <td>-5623.422610</td>\n",
              "      <td>33</td>\n",
              "      <td>Среднее</td>\n",
              "      <td>1</td>\n",
              "      <td>женат / замужем</td>\n",
              "      <td>0</td>\n",
              "      <td>M</td>\n",
              "      <td>сотрудник</td>\n",
              "      <td>0</td>\n",
              "      <td>145885.952297</td>\n",
              "      <td>покупка жилья</td>\n",
              "    </tr>\n",
              "    <tr>\n",
              "      <th>3</th>\n",
              "      <td>3</td>\n",
              "      <td>-4124.747207</td>\n",
              "      <td>32</td>\n",
              "      <td>среднее</td>\n",
              "      <td>1</td>\n",
              "      <td>женат / замужем</td>\n",
              "      <td>0</td>\n",
              "      <td>M</td>\n",
              "      <td>сотрудник</td>\n",
              "      <td>0</td>\n",
              "      <td>267628.550329</td>\n",
              "      <td>дополнительное образование</td>\n",
              "    </tr>\n",
              "    <tr>\n",
              "      <th>4</th>\n",
              "      <td>0</td>\n",
              "      <td>340266.072047</td>\n",
              "      <td>53</td>\n",
              "      <td>среднее</td>\n",
              "      <td>1</td>\n",
              "      <td>гражданский брак</td>\n",
              "      <td>1</td>\n",
              "      <td>F</td>\n",
              "      <td>пенсионер</td>\n",
              "      <td>0</td>\n",
              "      <td>158616.077870</td>\n",
              "      <td>сыграть свадьбу</td>\n",
              "    </tr>\n",
              "    <tr>\n",
              "      <th>5</th>\n",
              "      <td>0</td>\n",
              "      <td>-926.185831</td>\n",
              "      <td>27</td>\n",
              "      <td>высшее</td>\n",
              "      <td>0</td>\n",
              "      <td>гражданский брак</td>\n",
              "      <td>1</td>\n",
              "      <td>M</td>\n",
              "      <td>компаньон</td>\n",
              "      <td>0</td>\n",
              "      <td>255763.565419</td>\n",
              "      <td>покупка жилья</td>\n",
              "    </tr>\n",
              "    <tr>\n",
              "      <th>6</th>\n",
              "      <td>0</td>\n",
              "      <td>-2879.202052</td>\n",
              "      <td>43</td>\n",
              "      <td>высшее</td>\n",
              "      <td>0</td>\n",
              "      <td>женат / замужем</td>\n",
              "      <td>0</td>\n",
              "      <td>F</td>\n",
              "      <td>компаньон</td>\n",
              "      <td>0</td>\n",
              "      <td>240525.971920</td>\n",
              "      <td>операции с жильем</td>\n",
              "    </tr>\n",
              "    <tr>\n",
              "      <th>7</th>\n",
              "      <td>0</td>\n",
              "      <td>-152.779569</td>\n",
              "      <td>50</td>\n",
              "      <td>СРЕДНЕЕ</td>\n",
              "      <td>1</td>\n",
              "      <td>женат / замужем</td>\n",
              "      <td>0</td>\n",
              "      <td>M</td>\n",
              "      <td>сотрудник</td>\n",
              "      <td>0</td>\n",
              "      <td>135823.934197</td>\n",
              "      <td>образование</td>\n",
              "    </tr>\n",
              "    <tr>\n",
              "      <th>8</th>\n",
              "      <td>2</td>\n",
              "      <td>-6929.865299</td>\n",
              "      <td>35</td>\n",
              "      <td>ВЫСШЕЕ</td>\n",
              "      <td>0</td>\n",
              "      <td>гражданский брак</td>\n",
              "      <td>1</td>\n",
              "      <td>F</td>\n",
              "      <td>сотрудник</td>\n",
              "      <td>0</td>\n",
              "      <td>95856.832424</td>\n",
              "      <td>на проведение свадьбы</td>\n",
              "    </tr>\n",
              "    <tr>\n",
              "      <th>9</th>\n",
              "      <td>0</td>\n",
              "      <td>-2188.756445</td>\n",
              "      <td>41</td>\n",
              "      <td>среднее</td>\n",
              "      <td>1</td>\n",
              "      <td>женат / замужем</td>\n",
              "      <td>0</td>\n",
              "      <td>M</td>\n",
              "      <td>сотрудник</td>\n",
              "      <td>0</td>\n",
              "      <td>144425.938277</td>\n",
              "      <td>покупка жилья для семьи</td>\n",
              "    </tr>\n",
              "    <tr>\n",
              "      <th>10</th>\n",
              "      <td>2</td>\n",
              "      <td>-4171.483647</td>\n",
              "      <td>36</td>\n",
              "      <td>высшее</td>\n",
              "      <td>0</td>\n",
              "      <td>женат / замужем</td>\n",
              "      <td>0</td>\n",
              "      <td>M</td>\n",
              "      <td>компаньон</td>\n",
              "      <td>0</td>\n",
              "      <td>113943.491460</td>\n",
              "      <td>покупка недвижимости</td>\n",
              "    </tr>\n",
              "    <tr>\n",
              "      <th>11</th>\n",
              "      <td>0</td>\n",
              "      <td>-792.701887</td>\n",
              "      <td>40</td>\n",
              "      <td>среднее</td>\n",
              "      <td>1</td>\n",
              "      <td>женат / замужем</td>\n",
              "      <td>0</td>\n",
              "      <td>F</td>\n",
              "      <td>сотрудник</td>\n",
              "      <td>0</td>\n",
              "      <td>77069.234271</td>\n",
              "      <td>покупка коммерческой недвижимости</td>\n",
              "    </tr>\n",
              "    <tr>\n",
              "      <th>12</th>\n",
              "      <td>0</td>\n",
              "      <td>NaN</td>\n",
              "      <td>65</td>\n",
              "      <td>среднее</td>\n",
              "      <td>1</td>\n",
              "      <td>гражданский брак</td>\n",
              "      <td>1</td>\n",
              "      <td>M</td>\n",
              "      <td>пенсионер</td>\n",
              "      <td>0</td>\n",
              "      <td>NaN</td>\n",
              "      <td>сыграть свадьбу</td>\n",
              "    </tr>\n",
              "    <tr>\n",
              "      <th>13</th>\n",
              "      <td>0</td>\n",
              "      <td>-1846.641941</td>\n",
              "      <td>54</td>\n",
              "      <td>неоконченное высшее</td>\n",
              "      <td>2</td>\n",
              "      <td>женат / замужем</td>\n",
              "      <td>0</td>\n",
              "      <td>F</td>\n",
              "      <td>сотрудник</td>\n",
              "      <td>0</td>\n",
              "      <td>130458.228857</td>\n",
              "      <td>приобретение автомобиля</td>\n",
              "    </tr>\n",
              "    <tr>\n",
              "      <th>14</th>\n",
              "      <td>0</td>\n",
              "      <td>-1844.956182</td>\n",
              "      <td>56</td>\n",
              "      <td>высшее</td>\n",
              "      <td>0</td>\n",
              "      <td>гражданский брак</td>\n",
              "      <td>1</td>\n",
              "      <td>F</td>\n",
              "      <td>компаньон</td>\n",
              "      <td>1</td>\n",
              "      <td>165127.911772</td>\n",
              "      <td>покупка жилой недвижимости</td>\n",
              "    </tr>\n",
              "    <tr>\n",
              "      <th>15</th>\n",
              "      <td>1</td>\n",
              "      <td>-972.364419</td>\n",
              "      <td>26</td>\n",
              "      <td>среднее</td>\n",
              "      <td>1</td>\n",
              "      <td>женат / замужем</td>\n",
              "      <td>0</td>\n",
              "      <td>F</td>\n",
              "      <td>сотрудник</td>\n",
              "      <td>0</td>\n",
              "      <td>116820.904450</td>\n",
              "      <td>строительство собственной недвижимости</td>\n",
              "    </tr>\n",
              "    <tr>\n",
              "      <th>16</th>\n",
              "      <td>0</td>\n",
              "      <td>-1719.934226</td>\n",
              "      <td>35</td>\n",
              "      <td>среднее</td>\n",
              "      <td>1</td>\n",
              "      <td>женат / замужем</td>\n",
              "      <td>0</td>\n",
              "      <td>F</td>\n",
              "      <td>сотрудник</td>\n",
              "      <td>0</td>\n",
              "      <td>289202.704229</td>\n",
              "      <td>недвижимость</td>\n",
              "    </tr>\n",
              "    <tr>\n",
              "      <th>17</th>\n",
              "      <td>0</td>\n",
              "      <td>-2369.999720</td>\n",
              "      <td>33</td>\n",
              "      <td>высшее</td>\n",
              "      <td>0</td>\n",
              "      <td>гражданский брак</td>\n",
              "      <td>1</td>\n",
              "      <td>M</td>\n",
              "      <td>сотрудник</td>\n",
              "      <td>0</td>\n",
              "      <td>90410.586745</td>\n",
              "      <td>строительство недвижимости</td>\n",
              "    </tr>\n",
              "    <tr>\n",
              "      <th>18</th>\n",
              "      <td>0</td>\n",
              "      <td>400281.136913</td>\n",
              "      <td>53</td>\n",
              "      <td>среднее</td>\n",
              "      <td>1</td>\n",
              "      <td>вдовец / вдова</td>\n",
              "      <td>2</td>\n",
              "      <td>F</td>\n",
              "      <td>пенсионер</td>\n",
              "      <td>0</td>\n",
              "      <td>56823.777243</td>\n",
              "      <td>на покупку подержанного автомобиля</td>\n",
              "    </tr>\n",
              "    <tr>\n",
              "      <th>19</th>\n",
              "      <td>0</td>\n",
              "      <td>-10038.818549</td>\n",
              "      <td>48</td>\n",
              "      <td>СРЕДНЕЕ</td>\n",
              "      <td>1</td>\n",
              "      <td>в разводе</td>\n",
              "      <td>3</td>\n",
              "      <td>F</td>\n",
              "      <td>сотрудник</td>\n",
              "      <td>0</td>\n",
              "      <td>242831.107982</td>\n",
              "      <td>на покупку своего автомобиля</td>\n",
              "    </tr>\n",
              "  </tbody>\n",
              "</table>\n",
              "</div>\n",
              "      <button class=\"colab-df-convert\" onclick=\"convertToInteractive('df-45c0b22c-7ce8-4351-a738-fd90c111fabf')\"\n",
              "              title=\"Convert this dataframe to an interactive table.\"\n",
              "              style=\"display:none;\">\n",
              "        \n",
              "  <svg xmlns=\"http://www.w3.org/2000/svg\" height=\"24px\"viewBox=\"0 0 24 24\"\n",
              "       width=\"24px\">\n",
              "    <path d=\"M0 0h24v24H0V0z\" fill=\"none\"/>\n",
              "    <path d=\"M18.56 5.44l.94 2.06.94-2.06 2.06-.94-2.06-.94-.94-2.06-.94 2.06-2.06.94zm-11 1L8.5 8.5l.94-2.06 2.06-.94-2.06-.94L8.5 2.5l-.94 2.06-2.06.94zm10 10l.94 2.06.94-2.06 2.06-.94-2.06-.94-.94-2.06-.94 2.06-2.06.94z\"/><path d=\"M17.41 7.96l-1.37-1.37c-.4-.4-.92-.59-1.43-.59-.52 0-1.04.2-1.43.59L10.3 9.45l-7.72 7.72c-.78.78-.78 2.05 0 2.83L4 21.41c.39.39.9.59 1.41.59.51 0 1.02-.2 1.41-.59l7.78-7.78 2.81-2.81c.8-.78.8-2.07 0-2.86zM5.41 20L4 18.59l7.72-7.72 1.47 1.35L5.41 20z\"/>\n",
              "  </svg>\n",
              "      </button>\n",
              "      \n",
              "  <style>\n",
              "    .colab-df-container {\n",
              "      display:flex;\n",
              "      flex-wrap:wrap;\n",
              "      gap: 12px;\n",
              "    }\n",
              "\n",
              "    .colab-df-convert {\n",
              "      background-color: #E8F0FE;\n",
              "      border: none;\n",
              "      border-radius: 50%;\n",
              "      cursor: pointer;\n",
              "      display: none;\n",
              "      fill: #1967D2;\n",
              "      height: 32px;\n",
              "      padding: 0 0 0 0;\n",
              "      width: 32px;\n",
              "    }\n",
              "\n",
              "    .colab-df-convert:hover {\n",
              "      background-color: #E2EBFA;\n",
              "      box-shadow: 0px 1px 2px rgba(60, 64, 67, 0.3), 0px 1px 3px 1px rgba(60, 64, 67, 0.15);\n",
              "      fill: #174EA6;\n",
              "    }\n",
              "\n",
              "    [theme=dark] .colab-df-convert {\n",
              "      background-color: #3B4455;\n",
              "      fill: #D2E3FC;\n",
              "    }\n",
              "\n",
              "    [theme=dark] .colab-df-convert:hover {\n",
              "      background-color: #434B5C;\n",
              "      box-shadow: 0px 1px 3px 1px rgba(0, 0, 0, 0.15);\n",
              "      filter: drop-shadow(0px 1px 2px rgba(0, 0, 0, 0.3));\n",
              "      fill: #FFFFFF;\n",
              "    }\n",
              "  </style>\n",
              "\n",
              "      <script>\n",
              "        const buttonEl =\n",
              "          document.querySelector('#df-45c0b22c-7ce8-4351-a738-fd90c111fabf button.colab-df-convert');\n",
              "        buttonEl.style.display =\n",
              "          google.colab.kernel.accessAllowed ? 'block' : 'none';\n",
              "\n",
              "        async function convertToInteractive(key) {\n",
              "          const element = document.querySelector('#df-45c0b22c-7ce8-4351-a738-fd90c111fabf');\n",
              "          const dataTable =\n",
              "            await google.colab.kernel.invokeFunction('convertToInteractive',\n",
              "                                                     [key], {});\n",
              "          if (!dataTable) return;\n",
              "\n",
              "          const docLinkHtml = 'Like what you see? Visit the ' +\n",
              "            '<a target=\"_blank\" href=https://colab.research.google.com/notebooks/data_table.ipynb>data table notebook</a>'\n",
              "            + ' to learn more about interactive tables.';\n",
              "          element.innerHTML = '';\n",
              "          dataTable['output_type'] = 'display_data';\n",
              "          await google.colab.output.renderOutput(dataTable, element);\n",
              "          const docLink = document.createElement('div');\n",
              "          docLink.innerHTML = docLinkHtml;\n",
              "          element.appendChild(docLink);\n",
              "        }\n",
              "      </script>\n",
              "    </div>\n",
              "  </div>\n",
              "  "
            ]
          },
          "metadata": {},
          "execution_count": 43
        }
      ],
      "source": [
        "data.head(20)"
      ]
    },
    {
      "cell_type": "code",
      "execution_count": null,
      "id": "2b757bca",
      "metadata": {
        "deletable": false,
        "id": "2b757bca",
        "outputId": "682f247d-fd60-4943-fb7d-c70af10e6976",
        "colab": {
          "base_uri": "https://localhost:8080/"
        }
      },
      "outputs": [
        {
          "output_type": "stream",
          "name": "stdout",
          "text": [
            "<class 'pandas.core.frame.DataFrame'>\n",
            "RangeIndex: 21525 entries, 0 to 21524\n",
            "Data columns (total 12 columns):\n",
            " #   Column            Non-Null Count  Dtype  \n",
            "---  ------            --------------  -----  \n",
            " 0   children          21525 non-null  int64  \n",
            " 1   days_employed     19351 non-null  float64\n",
            " 2   dob_years         21525 non-null  int64  \n",
            " 3   education         21525 non-null  object \n",
            " 4   education_id      21525 non-null  int64  \n",
            " 5   family_status     21525 non-null  object \n",
            " 6   family_status_id  21525 non-null  int64  \n",
            " 7   gender            21525 non-null  object \n",
            " 8   income_type       21525 non-null  object \n",
            " 9   debt              21525 non-null  int64  \n",
            " 10  total_income      19351 non-null  float64\n",
            " 11  purpose           21525 non-null  object \n",
            "dtypes: float64(2), int64(5), object(5)\n",
            "memory usage: 2.0+ MB\n"
          ]
        }
      ],
      "source": [
        "data.info()"
      ]
    },
    {
      "cell_type": "markdown",
      "id": "333ec665",
      "metadata": {
        "deletable": false,
        "id": "333ec665"
      },
      "source": [
        "## Выполним предобработку данных"
      ]
    },
    {
      "cell_type": "code",
      "execution_count": null,
      "id": "7f9b2309",
      "metadata": {
        "deletable": false,
        "id": "7f9b2309",
        "outputId": "6f1b643d-deb0-4915-f514-4f3a18011d5e",
        "colab": {
          "base_uri": "https://localhost:8080/"
        }
      },
      "outputs": [
        {
          "output_type": "execute_result",
          "data": {
            "text/plain": [
              "children               0\n",
              "days_employed       2174\n",
              "dob_years              0\n",
              "education              0\n",
              "education_id           0\n",
              "family_status          0\n",
              "family_status_id       0\n",
              "gender                 0\n",
              "income_type            0\n",
              "debt                   0\n",
              "total_income        2174\n",
              "purpose                0\n",
              "dtype: int64"
            ]
          },
          "metadata": {},
          "execution_count": 45
        }
      ],
      "source": [
        "data.isna().sum()"
      ]
    },
    {
      "cell_type": "markdown",
      "source": [
        "Заполним пропуски в столбце \"total_income\" медианными значениями для каждого типа занятости \"income_type\"."
      ],
      "metadata": {
        "id": "YEpJ5UF24mSg"
      },
      "id": "YEpJ5UF24mSg"
    },
    {
      "cell_type": "code",
      "execution_count": null,
      "id": "42006a93",
      "metadata": {
        "deletable": false,
        "id": "42006a93"
      },
      "outputs": [],
      "source": [
        "for t in data['income_type'].unique():\n",
        "    data.loc[(data['income_type'] == t) & (data['total_income'].isna()), 'total_income'] = \\\n",
        "    data.loc[(data['income_type'] == t), 'total_income'].median()"
      ]
    },
    {
      "cell_type": "markdown",
      "id": "89da5ece",
      "metadata": {
        "deletable": false,
        "id": "89da5ece"
      },
      "source": [
        "### Обработаем аномальные значения"
      ]
    },
    {
      "cell_type": "code",
      "execution_count": null,
      "id": "f6f055bf",
      "metadata": {
        "deletable": false,
        "id": "f6f055bf"
      },
      "outputs": [],
      "source": [
        "data['days_employed'] = data['days_employed'].abs()"
      ]
    },
    {
      "cell_type": "code",
      "execution_count": null,
      "id": "85a5faf6",
      "metadata": {
        "deletable": false,
        "id": "85a5faf6",
        "outputId": "3eb13121-c167-42c5-dc72-8a468a9dc3c7",
        "colab": {
          "base_uri": "https://localhost:8080/"
        }
      },
      "outputs": [
        {
          "output_type": "execute_result",
          "data": {
            "text/plain": [
              "income_type\n",
              "безработный        366413.652744\n",
              "в декрете            3296.759962\n",
              "госслужащий          2689.368353\n",
              "компаньон            1547.382223\n",
              "пенсионер          365213.306266\n",
              "предприниматель       520.848083\n",
              "сотрудник            1574.202821\n",
              "студент               578.751554\n",
              "Name: days_employed, dtype: float64"
            ]
          },
          "metadata": {},
          "execution_count": 48
        }
      ],
      "source": [
        "data.groupby('income_type')['days_employed'].agg('median')"
      ]
    },
    {
      "cell_type": "markdown",
      "id": "38d1a030",
      "metadata": {
        "deletable": false,
        "id": "38d1a030"
      },
      "source": [
        "У двух типов (безработные и пенсионеры) аномально большие значения. Исправить такие значения сложно, поэтому оставим их как есть. Тем более этот столбец не понадобится нам для исследования."
      ]
    },
    {
      "cell_type": "code",
      "execution_count": null,
      "id": "ef5056eb",
      "metadata": {
        "deletable": false,
        "id": "ef5056eb",
        "outputId": "2308297b-82bc-4c9a-ee81-cfaa4a82c2dc",
        "colab": {
          "base_uri": "https://localhost:8080/"
        }
      },
      "outputs": [
        {
          "output_type": "execute_result",
          "data": {
            "text/plain": [
              "array([ 1,  0,  3,  2, -1,  4, 20,  5])"
            ]
          },
          "metadata": {},
          "execution_count": 49
        }
      ],
      "source": [
        "data['children'].unique()"
      ]
    },
    {
      "cell_type": "markdown",
      "id": "40b9ebf2",
      "metadata": {
        "deletable": false,
        "id": "40b9ebf2"
      },
      "source": [
        "В столбце \"children\" есть два аномальных значения. Удалим строки, в которых встречаются такие аномальные значения из датафрейма."
      ]
    },
    {
      "cell_type": "code",
      "execution_count": null,
      "id": "3ff9801d",
      "metadata": {
        "deletable": false,
        "id": "3ff9801d"
      },
      "outputs": [],
      "source": [
        "data = data[(data['children'] != -1) & (data['children'] != 20)]"
      ]
    },
    {
      "cell_type": "code",
      "execution_count": null,
      "id": "ad4fa8b7",
      "metadata": {
        "deletable": false,
        "id": "ad4fa8b7",
        "outputId": "cc999266-6cb5-4e96-8fed-86826cc3761a",
        "colab": {
          "base_uri": "https://localhost:8080/"
        }
      },
      "outputs": [
        {
          "output_type": "execute_result",
          "data": {
            "text/plain": [
              "array([1, 0, 3, 2, 4, 5])"
            ]
          },
          "metadata": {},
          "execution_count": 51
        }
      ],
      "source": [
        "data['children'].unique()"
      ]
    },
    {
      "cell_type": "markdown",
      "id": "f4ea573f",
      "metadata": {
        "deletable": false,
        "id": "f4ea573f"
      },
      "source": [
        "Заполним пропуски в столбце \"days_employed\" медианными значениями для каждого типа занятости \"income_type\"."
      ]
    },
    {
      "cell_type": "code",
      "execution_count": null,
      "id": "af6b1a7e",
      "metadata": {
        "deletable": false,
        "id": "af6b1a7e"
      },
      "outputs": [],
      "source": [
        "for t in data['income_type'].unique():\n",
        "    data.loc[(data['income_type'] == t) & (data['days_employed'].isna()), 'days_employed'] = \\\n",
        "    data.loc[(data['income_type'] == t), 'days_employed'].median()"
      ]
    },
    {
      "cell_type": "code",
      "execution_count": null,
      "id": "55f78bc2",
      "metadata": {
        "deletable": false,
        "id": "55f78bc2",
        "outputId": "7cfb072e-2df1-4831-bcfe-74fb19b216c7",
        "colab": {
          "base_uri": "https://localhost:8080/"
        }
      },
      "outputs": [
        {
          "output_type": "execute_result",
          "data": {
            "text/plain": [
              "children            0\n",
              "days_employed       0\n",
              "dob_years           0\n",
              "education           0\n",
              "education_id        0\n",
              "family_status       0\n",
              "family_status_id    0\n",
              "gender              0\n",
              "income_type         0\n",
              "debt                0\n",
              "total_income        0\n",
              "purpose             0\n",
              "dtype: int64"
            ]
          },
          "metadata": {},
          "execution_count": 53
        }
      ],
      "source": [
        "data.isna().sum()"
      ]
    },
    {
      "cell_type": "markdown",
      "id": "ddc81e43",
      "metadata": {
        "deletable": false,
        "id": "ddc81e43"
      },
      "source": [
        "### Измененим типы данных"
      ]
    },
    {
      "cell_type": "code",
      "execution_count": null,
      "id": "920b65ad",
      "metadata": {
        "deletable": false,
        "id": "920b65ad"
      },
      "outputs": [],
      "source": [
        "data['total_income'] = data['total_income'].astype(int)"
      ]
    },
    {
      "cell_type": "markdown",
      "id": "80c420ba",
      "metadata": {
        "deletable": false,
        "id": "80c420ba"
      },
      "source": [
        "### Обработаем дубликаты  и неявные дубликаты"
      ]
    },
    {
      "cell_type": "code",
      "execution_count": null,
      "id": "3ee445e4",
      "metadata": {
        "deletable": false,
        "id": "3ee445e4",
        "outputId": "5fe36449-463f-4502-bb6f-1b7512b82897",
        "colab": {
          "base_uri": "https://localhost:8080/"
        }
      },
      "outputs": [
        {
          "output_type": "execute_result",
          "data": {
            "text/plain": [
              "54"
            ]
          },
          "metadata": {},
          "execution_count": 55
        }
      ],
      "source": [
        "data.duplicated().sum()"
      ]
    },
    {
      "cell_type": "code",
      "execution_count": null,
      "id": "8575fe05",
      "metadata": {
        "deletable": false,
        "id": "8575fe05"
      },
      "outputs": [],
      "source": [
        "data = data.drop_duplicates()"
      ]
    },
    {
      "cell_type": "code",
      "execution_count": null,
      "id": "a9f8e2bf",
      "metadata": {
        "deletable": false,
        "id": "a9f8e2bf"
      },
      "outputs": [],
      "source": [
        "data['education'] = data['education'].str.lower()"
      ]
    },
    {
      "cell_type": "markdown",
      "id": "9904cf55",
      "metadata": {
        "deletable": false,
        "id": "9904cf55"
      },
      "source": [
        "### Разобьем данные на категории"
      ]
    },
    {
      "cell_type": "markdown",
      "id": "72fcc8a2",
      "metadata": {
        "deletable": false,
        "id": "72fcc8a2"
      },
      "source": [
        "На основании диапазонов, указанных ниже, создадим столбец с категориями:\n",
        "\n",
        "- 0–30000 — `'E'`;\n",
        "- 30001–50000 — `'D'`;\n",
        "- 50001–200000 — `'C'`;\n",
        "- 200001–1000000 — `'B'`;\n",
        "- 1000001 и выше — `'A'`."
      ]
    },
    {
      "cell_type": "code",
      "execution_count": null,
      "id": "e1771346",
      "metadata": {
        "deletable": false,
        "id": "e1771346"
      },
      "outputs": [],
      "source": [
        "def categorize_income(income):\n",
        "    try:\n",
        "        if 0 <= income <= 30000:\n",
        "            return 'E'\n",
        "        elif 30001 <= income <= 50000:\n",
        "            return 'D'\n",
        "        elif 50001 <= income <= 200000:\n",
        "            return 'C'\n",
        "        elif 200001 <= income <= 1000000:\n",
        "            return 'B'\n",
        "        elif income >= 1000001:\n",
        "            return 'A'\n",
        "    except:\n",
        "        pass   \n"
      ]
    },
    {
      "cell_type": "code",
      "execution_count": null,
      "id": "d5f3586d",
      "metadata": {
        "deletable": false,
        "id": "d5f3586d"
      },
      "outputs": [],
      "source": [
        "data['total_income_category'] = data['total_income'].apply(categorize_income)"
      ]
    },
    {
      "cell_type": "markdown",
      "id": "dde49b5c",
      "metadata": {
        "deletable": false,
        "id": "dde49b5c"
      },
      "source": [
        "### Рассмотрим уникальные цели взятия кредита"
      ]
    },
    {
      "cell_type": "code",
      "execution_count": null,
      "id": "f67ce9b3",
      "metadata": {
        "deletable": false,
        "id": "f67ce9b3",
        "outputId": "af5a5e0a-1d6f-43b5-c9c5-bca3ccacaf66",
        "colab": {
          "base_uri": "https://localhost:8080/"
        }
      },
      "outputs": [
        {
          "output_type": "execute_result",
          "data": {
            "text/plain": [
              "array(['покупка жилья', 'приобретение автомобиля',\n",
              "       'дополнительное образование', 'сыграть свадьбу',\n",
              "       'операции с жильем', 'образование', 'на проведение свадьбы',\n",
              "       'покупка жилья для семьи', 'покупка недвижимости',\n",
              "       'покупка коммерческой недвижимости', 'покупка жилой недвижимости',\n",
              "       'строительство собственной недвижимости', 'недвижимость',\n",
              "       'строительство недвижимости', 'на покупку подержанного автомобиля',\n",
              "       'на покупку своего автомобиля',\n",
              "       'операции с коммерческой недвижимостью',\n",
              "       'строительство жилой недвижимости', 'жилье',\n",
              "       'операции со своей недвижимостью', 'автомобили',\n",
              "       'заняться образованием', 'сделка с подержанным автомобилем',\n",
              "       'получение образования', 'автомобиль', 'свадьба',\n",
              "       'получение дополнительного образования', 'покупка своего жилья',\n",
              "       'операции с недвижимостью', 'получение высшего образования',\n",
              "       'свой автомобиль', 'сделка с автомобилем',\n",
              "       'профильное образование', 'высшее образование',\n",
              "       'покупка жилья для сдачи', 'на покупку автомобиля', 'ремонт жилью',\n",
              "       'заняться высшим образованием'], dtype=object)"
            ]
          },
          "metadata": {},
          "execution_count": 60
        }
      ],
      "source": [
        "data['purpose'].unique()"
      ]
    },
    {
      "cell_type": "markdown",
      "id": "85d0aef0",
      "metadata": {
        "deletable": false,
        "id": "85d0aef0"
      },
      "source": [
        "Разобьем цели на 4 категории:\n",
        "\n",
        "- `'операции с автомобилем'`,\n",
        "- `'операции с недвижимостью'`,\n",
        "- `'проведение свадьбы'`,\n",
        "- `'получение образования'`."
      ]
    },
    {
      "cell_type": "code",
      "execution_count": null,
      "id": "e149fab4",
      "metadata": {
        "deletable": false,
        "id": "e149fab4"
      },
      "outputs": [],
      "source": [
        "def categorize_purpose(row):\n",
        "    try:\n",
        "        if 'автом' in row:\n",
        "            return 'операции с автомобилем'\n",
        "        elif 'жил' in row or 'недвиж' in row:\n",
        "            return 'операции с недвижимостью'\n",
        "        elif 'свад' in row:\n",
        "            return 'проведение свадьбы'\n",
        "        elif 'образов' in row:\n",
        "            return 'получение образования'\n",
        "    except:\n",
        "        return 'нет категории'"
      ]
    },
    {
      "cell_type": "code",
      "execution_count": null,
      "id": "bf36e69b",
      "metadata": {
        "deletable": false,
        "id": "bf36e69b"
      },
      "outputs": [],
      "source": [
        "data['purpose_category'] = data['purpose'].apply(categorize_purpose)"
      ]
    },
    {
      "cell_type": "markdown",
      "id": "09b242bf",
      "metadata": {
        "deletable": false,
        "editable": false,
        "id": "09b242bf"
      },
      "source": [
        "## Исследуем данные"
      ]
    },
    {
      "cell_type": "markdown",
      "id": "c5d66278",
      "metadata": {
        "deletable": false,
        "editable": false,
        "id": "c5d66278"
      },
      "source": [
        "Есть ли зависимость между количеством детей и возвратом кредита в срок?"
      ]
    },
    {
      "cell_type": "code",
      "execution_count": null,
      "id": "d69f7426",
      "metadata": {
        "colab": {
          "base_uri": "https://localhost:8080/"
        },
        "id": "d69f7426",
        "outputId": "c00d80c9-738d-41e9-e529-255b1d9fcb0e"
      },
      "outputs": [
        {
          "output_type": "execute_result",
          "data": {
            "text/plain": [
              "0    0.918868\n",
              "1    0.081132\n",
              "Name: debt, dtype: float64"
            ]
          },
          "metadata": {},
          "execution_count": 63
        }
      ],
      "source": [
        "data['debt'].value_counts(normalize=True)"
      ]
    },
    {
      "cell_type": "code",
      "execution_count": null,
      "id": "94d54dde",
      "metadata": {
        "colab": {
          "base_uri": "https://localhost:8080/"
        },
        "id": "94d54dde",
        "outputId": "92e4a5ea-b57f-4165-8785-6c2c3997c431"
      },
      "outputs": [
        {
          "output_type": "execute_result",
          "data": {
            "text/plain": [
              "0    0.660811\n",
              "1    0.225267\n",
              "2    0.096121\n",
              "3    0.015458\n",
              "4    0.001921\n",
              "5    0.000422\n",
              "Name: children, dtype: float64"
            ]
          },
          "metadata": {},
          "execution_count": 64
        }
      ],
      "source": [
        "data['children'].value_counts(normalize=True)"
      ]
    },
    {
      "cell_type": "code",
      "source": [
        "data['children'].value_counts().plot(kind='bar');"
      ],
      "metadata": {
        "colab": {
          "base_uri": "https://localhost:8080/",
          "height": 262
        },
        "id": "azg4okt-1JRn",
        "outputId": "ef6f9e85-8660-4a61-b11d-d19d4df10a41"
      },
      "id": "azg4okt-1JRn",
      "execution_count": null,
      "outputs": [
        {
          "output_type": "display_data",
          "data": {
            "text/plain": [
              "<Figure size 432x288 with 1 Axes>"
            ],
            "image/png": "[encoded data removed]"
          },
          "metadata": {
            "needs_background": "light"
          }
        }
      ]
    },
    {
      "cell_type": "code",
      "execution_count": null,
      "id": "f83b7530",
      "metadata": {
        "colab": {
          "base_uri": "https://localhost:8080/",
          "height": 269
        },
        "id": "f83b7530",
        "outputId": "2a331846-16da-404b-a935-7819037c1195"
      },
      "outputs": [
        {
          "output_type": "execute_result",
          "data": {
            "text/plain": [
              "debt            0       1  Всего кредитополучателей  Всего должников  \\\n",
              "children                                                               \n",
              "0         13044.0  1063.0                   14107.0           1063.0   \n",
              "1          4365.0   444.0                    4809.0            444.0   \n",
              "2          1858.0   194.0                    2052.0            194.0   \n",
              "3           303.0    27.0                     330.0             27.0   \n",
              "4            37.0     4.0                      41.0              4.0   \n",
              "5             9.0     NaN                       NaN              NaN   \n",
              "\n",
              "debt      Доля должников  \n",
              "children                  \n",
              "0               0.075353  \n",
              "1               0.092327  \n",
              "2               0.094542  \n",
              "3               0.081818  \n",
              "4               0.097561  \n",
              "5                    NaN  "
            ],
            "text/html": [
              "\n",
              "  <div id=\"df-d3b91b28-3997-441e-9e2c-ae4063cd8582\">\n",
              "    <div class=\"colab-df-container\">\n",
              "      <div>\n",
              "<style scoped>\n",
              "    .dataframe tbody tr th:only-of-type {\n",
              "        vertical-align: middle;\n",
              "    }\n",
              "\n",
              "    .dataframe tbody tr th {\n",
              "        vertical-align: top;\n",
              "    }\n",
              "\n",
              "    .dataframe thead th {\n",
              "        text-align: right;\n",
              "    }\n",
              "</style>\n",
              "<table border=\"1\" class=\"dataframe\">\n",
              "  <thead>\n",
              "    <tr style=\"text-align: right;\">\n",
              "      <th>debt</th>\n",
              "      <th>0</th>\n",
              "      <th>1</th>\n",
              "      <th>Всего кредитополучателей</th>\n",
              "      <th>Всего должников</th>\n",
              "      <th>Доля должников</th>\n",
              "    </tr>\n",
              "    <tr>\n",
              "      <th>children</th>\n",
              "      <th></th>\n",
              "      <th></th>\n",
              "      <th></th>\n",
              "      <th></th>\n",
              "      <th></th>\n",
              "    </tr>\n",
              "  </thead>\n",
              "  <tbody>\n",
              "    <tr>\n",
              "      <th>0</th>\n",
              "      <td>13044.0</td>\n",
              "      <td>1063.0</td>\n",
              "      <td>14107.0</td>\n",
              "      <td>1063.0</td>\n",
              "      <td>0.075353</td>\n",
              "    </tr>\n",
              "    <tr>\n",
              "      <th>1</th>\n",
              "      <td>4365.0</td>\n",
              "      <td>444.0</td>\n",
              "      <td>4809.0</td>\n",
              "      <td>444.0</td>\n",
              "      <td>0.092327</td>\n",
              "    </tr>\n",
              "    <tr>\n",
              "      <th>2</th>\n",
              "      <td>1858.0</td>\n",
              "      <td>194.0</td>\n",
              "      <td>2052.0</td>\n",
              "      <td>194.0</td>\n",
              "      <td>0.094542</td>\n",
              "    </tr>\n",
              "    <tr>\n",
              "      <th>3</th>\n",
              "      <td>303.0</td>\n",
              "      <td>27.0</td>\n",
              "      <td>330.0</td>\n",
              "      <td>27.0</td>\n",
              "      <td>0.081818</td>\n",
              "    </tr>\n",
              "    <tr>\n",
              "      <th>4</th>\n",
              "      <td>37.0</td>\n",
              "      <td>4.0</td>\n",
              "      <td>41.0</td>\n",
              "      <td>4.0</td>\n",
              "      <td>0.097561</td>\n",
              "    </tr>\n",
              "    <tr>\n",
              "      <th>5</th>\n",
              "      <td>9.0</td>\n",
              "      <td>NaN</td>\n",
              "      <td>NaN</td>\n",
              "      <td>NaN</td>\n",
              "      <td>NaN</td>\n",
              "    </tr>\n",
              "  </tbody>\n",
              "</table>\n",
              "</div>\n",
              "      <button class=\"colab-df-convert\" onclick=\"convertToInteractive('df-d3b91b28-3997-441e-9e2c-ae4063cd8582')\"\n",
              "              title=\"Convert this dataframe to an interactive table.\"\n",
              "              style=\"display:none;\">\n",
              "        \n",
              "  <svg xmlns=\"http://www.w3.org/2000/svg\" height=\"24px\"viewBox=\"0 0 24 24\"\n",
              "       width=\"24px\">\n",
              "    <path d=\"M0 0h24v24H0V0z\" fill=\"none\"/>\n",
              "    <path d=\"M18.56 5.44l.94 2.06.94-2.06 2.06-.94-2.06-.94-.94-2.06-.94 2.06-2.06.94zm-11 1L8.5 8.5l.94-2.06 2.06-.94-2.06-.94L8.5 2.5l-.94 2.06-2.06.94zm10 10l.94 2.06.94-2.06 2.06-.94-2.06-.94-.94-2.06-.94 2.06-2.06.94z\"/><path d=\"M17.41 7.96l-1.37-1.37c-.4-.4-.92-.59-1.43-.59-.52 0-1.04.2-1.43.59L10.3 9.45l-7.72 7.72c-.78.78-.78 2.05 0 2.83L4 21.41c.39.39.9.59 1.41.59.51 0 1.02-.2 1.41-.59l7.78-7.78 2.81-2.81c.8-.78.8-2.07 0-2.86zM5.41 20L4 18.59l7.72-7.72 1.47 1.35L5.41 20z\"/>\n",
              "  </svg>\n",
              "      </button>\n",
              "      \n",
              "  <style>\n",
              "    .colab-df-container {\n",
              "      display:flex;\n",
              "      flex-wrap:wrap;\n",
              "      gap: 12px;\n",
              "    }\n",
              "\n",
              "    .colab-df-convert {\n",
              "      background-color: #E8F0FE;\n",
              "      border: none;\n",
              "      border-radius: 50%;\n",
              "      cursor: pointer;\n",
              "      display: none;\n",
              "      fill: #1967D2;\n",
              "      height: 32px;\n",
              "      padding: 0 0 0 0;\n",
              "      width: 32px;\n",
              "    }\n",
              "\n",
              "    .colab-df-convert:hover {\n",
              "      background-color: #E2EBFA;\n",
              "      box-shadow: 0px 1px 2px rgba(60, 64, 67, 0.3), 0px 1px 3px 1px rgba(60, 64, 67, 0.15);\n",
              "      fill: #174EA6;\n",
              "    }\n",
              "\n",
              "    [theme=dark] .colab-df-convert {\n",
              "      background-color: #3B4455;\n",
              "      fill: #D2E3FC;\n",
              "    }\n",
              "\n",
              "    [theme=dark] .colab-df-convert:hover {\n",
              "      background-color: #434B5C;\n",
              "      box-shadow: 0px 1px 3px 1px rgba(0, 0, 0, 0.15);\n",
              "      filter: drop-shadow(0px 1px 2px rgba(0, 0, 0, 0.3));\n",
              "      fill: #FFFFFF;\n",
              "    }\n",
              "  </style>\n",
              "\n",
              "      <script>\n",
              "        const buttonEl =\n",
              "          document.querySelector('#df-d3b91b28-3997-441e-9e2c-ae4063cd8582 button.colab-df-convert');\n",
              "        buttonEl.style.display =\n",
              "          google.colab.kernel.accessAllowed ? 'block' : 'none';\n",
              "\n",
              "        async function convertToInteractive(key) {\n",
              "          const element = document.querySelector('#df-d3b91b28-3997-441e-9e2c-ae4063cd8582');\n",
              "          const dataTable =\n",
              "            await google.colab.kernel.invokeFunction('convertToInteractive',\n",
              "                                                     [key], {});\n",
              "          if (!dataTable) return;\n",
              "\n",
              "          const docLinkHtml = 'Like what you see? Visit the ' +\n",
              "            '<a target=\"_blank\" href=https://colab.research.google.com/notebooks/data_table.ipynb>data table notebook</a>'\n",
              "            + ' to learn more about interactive tables.';\n",
              "          element.innerHTML = '';\n",
              "          dataTable['output_type'] = 'display_data';\n",
              "          await google.colab.output.renderOutput(dataTable, element);\n",
              "          const docLink = document.createElement('div');\n",
              "          docLink.innerHTML = docLinkHtml;\n",
              "          element.appendChild(docLink);\n",
              "        }\n",
              "      </script>\n",
              "    </div>\n",
              "  </div>\n",
              "  "
            ]
          },
          "metadata": {},
          "execution_count": 66
        }
      ],
      "source": [
        "def data_share(row):\n",
        "  data_pivot = data.pivot_table(index = [row], columns = 'debt', values = 'gender', aggfunc = 'count').copy()\n",
        "  data_pivot['Всего кредитополучателей'] = data_pivot[0] + data_pivot[1]\n",
        "  data_pivot['Всего должников'] = data_pivot[1]\n",
        "  data_pivot['Доля должников'] = data_pivot[1] / (data_pivot[0] + data_pivot[1])\n",
        "  return data_pivot\n",
        "\n",
        "data_share('children')"
      ]
    },
    {
      "cell_type": "markdown",
      "id": "3a6b99ec",
      "metadata": {
        "deletable": false,
        "id": "3a6b99ec"
      },
      "source": [
        "**Вывод:** \n",
        "1. У клиентов без детей реже случаются просрочки по выплате кредитов. Процент должников среди клиентов без детей равен 7%, тогда как у клиентов с детьми этот показатель равен 8-9%. \n",
        "2. Исключение составляют клиенты, у которых 5 детей. В этой категории 100% клиентов исправно выплачивают кредиты, однако число таких клиентов крайне незначительно. Составляет 0,04% от всех клиентов."
      ]
    },
    {
      "cell_type": "markdown",
      "id": "97be82ca",
      "metadata": {
        "deletable": false,
        "editable": false,
        "id": "97be82ca"
      },
      "source": [
        "Есть ли зависимость между семейным положением и возвратом кредита в срок?"
      ]
    },
    {
      "cell_type": "code",
      "execution_count": null,
      "id": "dc3f7ee8",
      "metadata": {
        "id": "dc3f7ee8",
        "colab": {
          "base_uri": "https://localhost:8080/"
        },
        "outputId": "777eda84-1ec1-4142-a53f-07c0d9a3afa1"
      },
      "outputs": [
        {
          "output_type": "execute_result",
          "data": {
            "text/plain": [
              "array(['женат / замужем', 'гражданский брак', 'вдовец / вдова',\n",
              "       'в разводе', 'Не женат / не замужем'], dtype=object)"
            ]
          },
          "metadata": {},
          "execution_count": 67
        }
      ],
      "source": [
        "data['family_status'].unique()# Ваш код будет здесь. Вы можете создавать новые ячейки."
      ]
    },
    {
      "cell_type": "code",
      "execution_count": null,
      "id": "bc54a1c5",
      "metadata": {
        "colab": {
          "base_uri": "https://localhost:8080/"
        },
        "id": "bc54a1c5",
        "outputId": "acb2eb95-2f6a-4f25-ce54-ec6b99711131"
      },
      "outputs": [
        {
          "output_type": "execute_result",
          "data": {
            "text/plain": [
              "женат / замужем          0.574574\n",
              "гражданский брак         0.194210\n",
              "Не женат / не замужем    0.130972\n",
              "в разводе                0.055696\n",
              "вдовец / вдова           0.044547\n",
              "Name: family_status, dtype: float64"
            ]
          },
          "metadata": {},
          "execution_count": 68
        }
      ],
      "source": [
        "data['family_status'].value_counts(normalize=True)"
      ]
    },
    {
      "cell_type": "markdown",
      "id": "2815c791",
      "metadata": {
        "id": "2815c791"
      },
      "source": [
        "Разделим подкатегории столбца \"семейное положение\" на две категории: \"женат / замужем\" и \"не женат / не замужем\". Вначале внесём клиентов, живущих в гражданском браке, в категорию \"женат / замужем\"."
      ]
    },
    {
      "cell_type": "code",
      "execution_count": null,
      "id": "0cb8959d",
      "metadata": {
        "id": "0cb8959d"
      },
      "outputs": [],
      "source": [
        "def fam_category(f):\n",
        "    if (f == 'женат / замужем') or (f == 'гражданский брак'):\n",
        "        return 'женат / замужем'\n",
        "    return 'не женат / не замужем'\n",
        "\n",
        "data['family_status_category'] = data['family_status'].apply(fam_category)"
      ]
    },
    {
      "cell_type": "code",
      "execution_count": null,
      "id": "f3878a6d",
      "metadata": {
        "colab": {
          "base_uri": "https://localhost:8080/",
          "height": 143
        },
        "id": "f3878a6d",
        "outputId": "fb1cfad9-eb27-4b38-b4b5-f1fe17899f61"
      },
      "outputs": [
        {
          "output_type": "execute_result",
          "data": {
            "text/plain": [
              "debt                        0     1  Всего кредитополучателей  \\\n",
              "family_status_category                                          \n",
              "женат / замужем         15100  1312                     16412   \n",
              "не женат / не замужем    4516   420                      4936   \n",
              "\n",
              "debt                    Всего должников  Доля должников  \n",
              "family_status_category                                   \n",
              "женат / замужем                    1312        0.079942  \n",
              "не женат / не замужем               420        0.085089  "
            ],
            "text/html": [
              "\n",
              "  <div id=\"df-84e77544-8550-4922-9890-11572cc9d338\">\n",
              "    <div class=\"colab-df-container\">\n",
              "      <div>\n",
              "<style scoped>\n",
              "    .dataframe tbody tr th:only-of-type {\n",
              "        vertical-align: middle;\n",
              "    }\n",
              "\n",
              "    .dataframe tbody tr th {\n",
              "        vertical-align: top;\n",
              "    }\n",
              "\n",
              "    .dataframe thead th {\n",
              "        text-align: right;\n",
              "    }\n",
              "</style>\n",
              "<table border=\"1\" class=\"dataframe\">\n",
              "  <thead>\n",
              "    <tr style=\"text-align: right;\">\n",
              "      <th>debt</th>\n",
              "      <th>0</th>\n",
              "      <th>1</th>\n",
              "      <th>Всего кредитополучателей</th>\n",
              "      <th>Всего должников</th>\n",
              "      <th>Доля должников</th>\n",
              "    </tr>\n",
              "    <tr>\n",
              "      <th>family_status_category</th>\n",
              "      <th></th>\n",
              "      <th></th>\n",
              "      <th></th>\n",
              "      <th></th>\n",
              "      <th></th>\n",
              "    </tr>\n",
              "  </thead>\n",
              "  <tbody>\n",
              "    <tr>\n",
              "      <th>женат / замужем</th>\n",
              "      <td>15100</td>\n",
              "      <td>1312</td>\n",
              "      <td>16412</td>\n",
              "      <td>1312</td>\n",
              "      <td>0.079942</td>\n",
              "    </tr>\n",
              "    <tr>\n",
              "      <th>не женат / не замужем</th>\n",
              "      <td>4516</td>\n",
              "      <td>420</td>\n",
              "      <td>4936</td>\n",
              "      <td>420</td>\n",
              "      <td>0.085089</td>\n",
              "    </tr>\n",
              "  </tbody>\n",
              "</table>\n",
              "</div>\n",
              "      <button class=\"colab-df-convert\" onclick=\"convertToInteractive('df-84e77544-8550-4922-9890-11572cc9d338')\"\n",
              "              title=\"Convert this dataframe to an interactive table.\"\n",
              "              style=\"display:none;\">\n",
              "        \n",
              "  <svg xmlns=\"http://www.w3.org/2000/svg\" height=\"24px\"viewBox=\"0 0 24 24\"\n",
              "       width=\"24px\">\n",
              "    <path d=\"M0 0h24v24H0V0z\" fill=\"none\"/>\n",
              "    <path d=\"M18.56 5.44l.94 2.06.94-2.06 2.06-.94-2.06-.94-.94-2.06-.94 2.06-2.06.94zm-11 1L8.5 8.5l.94-2.06 2.06-.94-2.06-.94L8.5 2.5l-.94 2.06-2.06.94zm10 10l.94 2.06.94-2.06 2.06-.94-2.06-.94-.94-2.06-.94 2.06-2.06.94z\"/><path d=\"M17.41 7.96l-1.37-1.37c-.4-.4-.92-.59-1.43-.59-.52 0-1.04.2-1.43.59L10.3 9.45l-7.72 7.72c-.78.78-.78 2.05 0 2.83L4 21.41c.39.39.9.59 1.41.59.51 0 1.02-.2 1.41-.59l7.78-7.78 2.81-2.81c.8-.78.8-2.07 0-2.86zM5.41 20L4 18.59l7.72-7.72 1.47 1.35L5.41 20z\"/>\n",
              "  </svg>\n",
              "      </button>\n",
              "      \n",
              "  <style>\n",
              "    .colab-df-container {\n",
              "      display:flex;\n",
              "      flex-wrap:wrap;\n",
              "      gap: 12px;\n",
              "    }\n",
              "\n",
              "    .colab-df-convert {\n",
              "      background-color: #E8F0FE;\n",
              "      border: none;\n",
              "      border-radius: 50%;\n",
              "      cursor: pointer;\n",
              "      display: none;\n",
              "      fill: #1967D2;\n",
              "      height: 32px;\n",
              "      padding: 0 0 0 0;\n",
              "      width: 32px;\n",
              "    }\n",
              "\n",
              "    .colab-df-convert:hover {\n",
              "      background-color: #E2EBFA;\n",
              "      box-shadow: 0px 1px 2px rgba(60, 64, 67, 0.3), 0px 1px 3px 1px rgba(60, 64, 67, 0.15);\n",
              "      fill: #174EA6;\n",
              "    }\n",
              "\n",
              "    [theme=dark] .colab-df-convert {\n",
              "      background-color: #3B4455;\n",
              "      fill: #D2E3FC;\n",
              "    }\n",
              "\n",
              "    [theme=dark] .colab-df-convert:hover {\n",
              "      background-color: #434B5C;\n",
              "      box-shadow: 0px 1px 3px 1px rgba(0, 0, 0, 0.15);\n",
              "      filter: drop-shadow(0px 1px 2px rgba(0, 0, 0, 0.3));\n",
              "      fill: #FFFFFF;\n",
              "    }\n",
              "  </style>\n",
              "\n",
              "      <script>\n",
              "        const buttonEl =\n",
              "          document.querySelector('#df-84e77544-8550-4922-9890-11572cc9d338 button.colab-df-convert');\n",
              "        buttonEl.style.display =\n",
              "          google.colab.kernel.accessAllowed ? 'block' : 'none';\n",
              "\n",
              "        async function convertToInteractive(key) {\n",
              "          const element = document.querySelector('#df-84e77544-8550-4922-9890-11572cc9d338');\n",
              "          const dataTable =\n",
              "            await google.colab.kernel.invokeFunction('convertToInteractive',\n",
              "                                                     [key], {});\n",
              "          if (!dataTable) return;\n",
              "\n",
              "          const docLinkHtml = 'Like what you see? Visit the ' +\n",
              "            '<a target=\"_blank\" href=https://colab.research.google.com/notebooks/data_table.ipynb>data table notebook</a>'\n",
              "            + ' to learn more about interactive tables.';\n",
              "          element.innerHTML = '';\n",
              "          dataTable['output_type'] = 'display_data';\n",
              "          await google.colab.output.renderOutput(dataTable, element);\n",
              "          const docLink = document.createElement('div');\n",
              "          docLink.innerHTML = docLinkHtml;\n",
              "          element.appendChild(docLink);\n",
              "        }\n",
              "      </script>\n",
              "    </div>\n",
              "  </div>\n",
              "  "
            ]
          },
          "metadata": {},
          "execution_count": 70
        }
      ],
      "source": [
        "data_share('family_status_category')"
      ]
    },
    {
      "cell_type": "markdown",
      "id": "e936f48a",
      "metadata": {
        "id": "e936f48a"
      },
      "source": [
        "Теперь отнесём кредитополучателей, живущих в гражданском браке, в категорию \"не женат / не замужем\". И сравним с результатом предыдущей таблицы."
      ]
    },
    {
      "cell_type": "code",
      "execution_count": null,
      "id": "5002f7a8",
      "metadata": {
        "id": "5002f7a8"
      },
      "outputs": [],
      "source": [
        "def fam_category(f):\n",
        "    if (f == 'женат / замужем'):\n",
        "        return 'женат / замужем'\n",
        "    return 'не женат / не замужем'\n",
        "\n",
        "data['family_status_category'] = data['family_status'].apply(fam_category)"
      ]
    },
    {
      "cell_type": "code",
      "execution_count": null,
      "id": "2bbab566",
      "metadata": {
        "colab": {
          "base_uri": "https://localhost:8080/",
          "height": 143
        },
        "id": "2bbab566",
        "outputId": "48bfab8d-2bb0-4703-9c47-f1696d075c35"
      },
      "outputs": [
        {
          "output_type": "execute_result",
          "data": {
            "text/plain": [
              "debt                        0    1  Всего кредитополучателей  Всего должников  \\\n",
              "family_status_category                                                          \n",
              "женат / замужем         11339  927                     12266              927   \n",
              "не женат / не замужем    8277  805                      9082              805   \n",
              "\n",
              "debt                    Доля должников  \n",
              "family_status_category                  \n",
              "женат / замужем               0.075575  \n",
              "не женат / не замужем         0.088637  "
            ],
            "text/html": [
              "\n",
              "  <div id=\"df-bd7b3a24-e4e9-4fe4-a1c2-d137eacee21f\">\n",
              "    <div class=\"colab-df-container\">\n",
              "      <div>\n",
              "<style scoped>\n",
              "    .dataframe tbody tr th:only-of-type {\n",
              "        vertical-align: middle;\n",
              "    }\n",
              "\n",
              "    .dataframe tbody tr th {\n",
              "        vertical-align: top;\n",
              "    }\n",
              "\n",
              "    .dataframe thead th {\n",
              "        text-align: right;\n",
              "    }\n",
              "</style>\n",
              "<table border=\"1\" class=\"dataframe\">\n",
              "  <thead>\n",
              "    <tr style=\"text-align: right;\">\n",
              "      <th>debt</th>\n",
              "      <th>0</th>\n",
              "      <th>1</th>\n",
              "      <th>Всего кредитополучателей</th>\n",
              "      <th>Всего должников</th>\n",
              "      <th>Доля должников</th>\n",
              "    </tr>\n",
              "    <tr>\n",
              "      <th>family_status_category</th>\n",
              "      <th></th>\n",
              "      <th></th>\n",
              "      <th></th>\n",
              "      <th></th>\n",
              "      <th></th>\n",
              "    </tr>\n",
              "  </thead>\n",
              "  <tbody>\n",
              "    <tr>\n",
              "      <th>женат / замужем</th>\n",
              "      <td>11339</td>\n",
              "      <td>927</td>\n",
              "      <td>12266</td>\n",
              "      <td>927</td>\n",
              "      <td>0.075575</td>\n",
              "    </tr>\n",
              "    <tr>\n",
              "      <th>не женат / не замужем</th>\n",
              "      <td>8277</td>\n",
              "      <td>805</td>\n",
              "      <td>9082</td>\n",
              "      <td>805</td>\n",
              "      <td>0.088637</td>\n",
              "    </tr>\n",
              "  </tbody>\n",
              "</table>\n",
              "</div>\n",
              "      <button class=\"colab-df-convert\" onclick=\"convertToInteractive('df-bd7b3a24-e4e9-4fe4-a1c2-d137eacee21f')\"\n",
              "              title=\"Convert this dataframe to an interactive table.\"\n",
              "              style=\"display:none;\">\n",
              "        \n",
              "  <svg xmlns=\"http://www.w3.org/2000/svg\" height=\"24px\"viewBox=\"0 0 24 24\"\n",
              "       width=\"24px\">\n",
              "    <path d=\"M0 0h24v24H0V0z\" fill=\"none\"/>\n",
              "    <path d=\"M18.56 5.44l.94 2.06.94-2.06 2.06-.94-2.06-.94-.94-2.06-.94 2.06-2.06.94zm-11 1L8.5 8.5l.94-2.06 2.06-.94-2.06-.94L8.5 2.5l-.94 2.06-2.06.94zm10 10l.94 2.06.94-2.06 2.06-.94-2.06-.94-.94-2.06-.94 2.06-2.06.94z\"/><path d=\"M17.41 7.96l-1.37-1.37c-.4-.4-.92-.59-1.43-.59-.52 0-1.04.2-1.43.59L10.3 9.45l-7.72 7.72c-.78.78-.78 2.05 0 2.83L4 21.41c.39.39.9.59 1.41.59.51 0 1.02-.2 1.41-.59l7.78-7.78 2.81-2.81c.8-.78.8-2.07 0-2.86zM5.41 20L4 18.59l7.72-7.72 1.47 1.35L5.41 20z\"/>\n",
              "  </svg>\n",
              "      </button>\n",
              "      \n",
              "  <style>\n",
              "    .colab-df-container {\n",
              "      display:flex;\n",
              "      flex-wrap:wrap;\n",
              "      gap: 12px;\n",
              "    }\n",
              "\n",
              "    .colab-df-convert {\n",
              "      background-color: #E8F0FE;\n",
              "      border: none;\n",
              "      border-radius: 50%;\n",
              "      cursor: pointer;\n",
              "      display: none;\n",
              "      fill: #1967D2;\n",
              "      height: 32px;\n",
              "      padding: 0 0 0 0;\n",
              "      width: 32px;\n",
              "    }\n",
              "\n",
              "    .colab-df-convert:hover {\n",
              "      background-color: #E2EBFA;\n",
              "      box-shadow: 0px 1px 2px rgba(60, 64, 67, 0.3), 0px 1px 3px 1px rgba(60, 64, 67, 0.15);\n",
              "      fill: #174EA6;\n",
              "    }\n",
              "\n",
              "    [theme=dark] .colab-df-convert {\n",
              "      background-color: #3B4455;\n",
              "      fill: #D2E3FC;\n",
              "    }\n",
              "\n",
              "    [theme=dark] .colab-df-convert:hover {\n",
              "      background-color: #434B5C;\n",
              "      box-shadow: 0px 1px 3px 1px rgba(0, 0, 0, 0.15);\n",
              "      filter: drop-shadow(0px 1px 2px rgba(0, 0, 0, 0.3));\n",
              "      fill: #FFFFFF;\n",
              "    }\n",
              "  </style>\n",
              "\n",
              "      <script>\n",
              "        const buttonEl =\n",
              "          document.querySelector('#df-bd7b3a24-e4e9-4fe4-a1c2-d137eacee21f button.colab-df-convert');\n",
              "        buttonEl.style.display =\n",
              "          google.colab.kernel.accessAllowed ? 'block' : 'none';\n",
              "\n",
              "        async function convertToInteractive(key) {\n",
              "          const element = document.querySelector('#df-bd7b3a24-e4e9-4fe4-a1c2-d137eacee21f');\n",
              "          const dataTable =\n",
              "            await google.colab.kernel.invokeFunction('convertToInteractive',\n",
              "                                                     [key], {});\n",
              "          if (!dataTable) return;\n",
              "\n",
              "          const docLinkHtml = 'Like what you see? Visit the ' +\n",
              "            '<a target=\"_blank\" href=https://colab.research.google.com/notebooks/data_table.ipynb>data table notebook</a>'\n",
              "            + ' to learn more about interactive tables.';\n",
              "          element.innerHTML = '';\n",
              "          dataTable['output_type'] = 'display_data';\n",
              "          await google.colab.output.renderOutput(dataTable, element);\n",
              "          const docLink = document.createElement('div');\n",
              "          docLink.innerHTML = docLinkHtml;\n",
              "          element.appendChild(docLink);\n",
              "        }\n",
              "      </script>\n",
              "    </div>\n",
              "  </div>\n",
              "  "
            ]
          },
          "metadata": {},
          "execution_count": 72
        }
      ],
      "source": [
        "data_share('family_status_category')"
      ]
    },
    {
      "cell_type": "markdown",
      "id": "d6df34ce",
      "metadata": {
        "id": "d6df34ce"
      },
      "source": [
        "В долевом значении результаты одинаковы. Посмотрим отдельно на долю должников среди клиентов, состоящих в гражданском браке."
      ]
    },
    {
      "cell_type": "code",
      "execution_count": null,
      "id": "39e4cc2e",
      "metadata": {
        "colab": {
          "base_uri": "https://localhost:8080/",
          "height": 238
        },
        "id": "39e4cc2e",
        "outputId": "88f6e732-42f7-48db-a1ae-5e1b78fc8036"
      },
      "outputs": [
        {
          "output_type": "execute_result",
          "data": {
            "text/plain": [
              "debt                       0    1  Всего кредитополучателей  Всего должников  \\\n",
              "family_status                                                                  \n",
              "Не женат / не замужем   2523  273                      2796              273   \n",
              "в разводе               1105   84                      1189               84   \n",
              "вдовец / вдова           888   63                       951               63   \n",
              "гражданский брак        3761  385                      4146              385   \n",
              "женат / замужем        11339  927                     12266              927   \n",
              "\n",
              "debt                   Доля должников  \n",
              "family_status                          \n",
              "Не женат / не замужем        0.097639  \n",
              "в разводе                    0.070648  \n",
              "вдовец / вдова               0.066246  \n",
              "гражданский брак             0.092861  \n",
              "женат / замужем              0.075575  "
            ],
            "text/html": [
              "\n",
              "  <div id=\"df-479f60db-f07b-49e4-8799-a1b564aa5dee\">\n",
              "    <div class=\"colab-df-container\">\n",
              "      <div>\n",
              "<style scoped>\n",
              "    .dataframe tbody tr th:only-of-type {\n",
              "        vertical-align: middle;\n",
              "    }\n",
              "\n",
              "    .dataframe tbody tr th {\n",
              "        vertical-align: top;\n",
              "    }\n",
              "\n",
              "    .dataframe thead th {\n",
              "        text-align: right;\n",
              "    }\n",
              "</style>\n",
              "<table border=\"1\" class=\"dataframe\">\n",
              "  <thead>\n",
              "    <tr style=\"text-align: right;\">\n",
              "      <th>debt</th>\n",
              "      <th>0</th>\n",
              "      <th>1</th>\n",
              "      <th>Всего кредитополучателей</th>\n",
              "      <th>Всего должников</th>\n",
              "      <th>Доля должников</th>\n",
              "    </tr>\n",
              "    <tr>\n",
              "      <th>family_status</th>\n",
              "      <th></th>\n",
              "      <th></th>\n",
              "      <th></th>\n",
              "      <th></th>\n",
              "      <th></th>\n",
              "    </tr>\n",
              "  </thead>\n",
              "  <tbody>\n",
              "    <tr>\n",
              "      <th>Не женат / не замужем</th>\n",
              "      <td>2523</td>\n",
              "      <td>273</td>\n",
              "      <td>2796</td>\n",
              "      <td>273</td>\n",
              "      <td>0.097639</td>\n",
              "    </tr>\n",
              "    <tr>\n",
              "      <th>в разводе</th>\n",
              "      <td>1105</td>\n",
              "      <td>84</td>\n",
              "      <td>1189</td>\n",
              "      <td>84</td>\n",
              "      <td>0.070648</td>\n",
              "    </tr>\n",
              "    <tr>\n",
              "      <th>вдовец / вдова</th>\n",
              "      <td>888</td>\n",
              "      <td>63</td>\n",
              "      <td>951</td>\n",
              "      <td>63</td>\n",
              "      <td>0.066246</td>\n",
              "    </tr>\n",
              "    <tr>\n",
              "      <th>гражданский брак</th>\n",
              "      <td>3761</td>\n",
              "      <td>385</td>\n",
              "      <td>4146</td>\n",
              "      <td>385</td>\n",
              "      <td>0.092861</td>\n",
              "    </tr>\n",
              "    <tr>\n",
              "      <th>женат / замужем</th>\n",
              "      <td>11339</td>\n",
              "      <td>927</td>\n",
              "      <td>12266</td>\n",
              "      <td>927</td>\n",
              "      <td>0.075575</td>\n",
              "    </tr>\n",
              "  </tbody>\n",
              "</table>\n",
              "</div>\n",
              "      <button class=\"colab-df-convert\" onclick=\"convertToInteractive('df-479f60db-f07b-49e4-8799-a1b564aa5dee')\"\n",
              "              title=\"Convert this dataframe to an interactive table.\"\n",
              "              style=\"display:none;\">\n",
              "        \n",
              "  <svg xmlns=\"http://www.w3.org/2000/svg\" height=\"24px\"viewBox=\"0 0 24 24\"\n",
              "       width=\"24px\">\n",
              "    <path d=\"M0 0h24v24H0V0z\" fill=\"none\"/>\n",
              "    <path d=\"M18.56 5.44l.94 2.06.94-2.06 2.06-.94-2.06-.94-.94-2.06-.94 2.06-2.06.94zm-11 1L8.5 8.5l.94-2.06 2.06-.94-2.06-.94L8.5 2.5l-.94 2.06-2.06.94zm10 10l.94 2.06.94-2.06 2.06-.94-2.06-.94-.94-2.06-.94 2.06-2.06.94z\"/><path d=\"M17.41 7.96l-1.37-1.37c-.4-.4-.92-.59-1.43-.59-.52 0-1.04.2-1.43.59L10.3 9.45l-7.72 7.72c-.78.78-.78 2.05 0 2.83L4 21.41c.39.39.9.59 1.41.59.51 0 1.02-.2 1.41-.59l7.78-7.78 2.81-2.81c.8-.78.8-2.07 0-2.86zM5.41 20L4 18.59l7.72-7.72 1.47 1.35L5.41 20z\"/>\n",
              "  </svg>\n",
              "      </button>\n",
              "      \n",
              "  <style>\n",
              "    .colab-df-container {\n",
              "      display:flex;\n",
              "      flex-wrap:wrap;\n",
              "      gap: 12px;\n",
              "    }\n",
              "\n",
              "    .colab-df-convert {\n",
              "      background-color: #E8F0FE;\n",
              "      border: none;\n",
              "      border-radius: 50%;\n",
              "      cursor: pointer;\n",
              "      display: none;\n",
              "      fill: #1967D2;\n",
              "      height: 32px;\n",
              "      padding: 0 0 0 0;\n",
              "      width: 32px;\n",
              "    }\n",
              "\n",
              "    .colab-df-convert:hover {\n",
              "      background-color: #E2EBFA;\n",
              "      box-shadow: 0px 1px 2px rgba(60, 64, 67, 0.3), 0px 1px 3px 1px rgba(60, 64, 67, 0.15);\n",
              "      fill: #174EA6;\n",
              "    }\n",
              "\n",
              "    [theme=dark] .colab-df-convert {\n",
              "      background-color: #3B4455;\n",
              "      fill: #D2E3FC;\n",
              "    }\n",
              "\n",
              "    [theme=dark] .colab-df-convert:hover {\n",
              "      background-color: #434B5C;\n",
              "      box-shadow: 0px 1px 3px 1px rgba(0, 0, 0, 0.15);\n",
              "      filter: drop-shadow(0px 1px 2px rgba(0, 0, 0, 0.3));\n",
              "      fill: #FFFFFF;\n",
              "    }\n",
              "  </style>\n",
              "\n",
              "      <script>\n",
              "        const buttonEl =\n",
              "          document.querySelector('#df-479f60db-f07b-49e4-8799-a1b564aa5dee button.colab-df-convert');\n",
              "        buttonEl.style.display =\n",
              "          google.colab.kernel.accessAllowed ? 'block' : 'none';\n",
              "\n",
              "        async function convertToInteractive(key) {\n",
              "          const element = document.querySelector('#df-479f60db-f07b-49e4-8799-a1b564aa5dee');\n",
              "          const dataTable =\n",
              "            await google.colab.kernel.invokeFunction('convertToInteractive',\n",
              "                                                     [key], {});\n",
              "          if (!dataTable) return;\n",
              "\n",
              "          const docLinkHtml = 'Like what you see? Visit the ' +\n",
              "            '<a target=\"_blank\" href=https://colab.research.google.com/notebooks/data_table.ipynb>data table notebook</a>'\n",
              "            + ' to learn more about interactive tables.';\n",
              "          element.innerHTML = '';\n",
              "          dataTable['output_type'] = 'display_data';\n",
              "          await google.colab.output.renderOutput(dataTable, element);\n",
              "          const docLink = document.createElement('div');\n",
              "          docLink.innerHTML = docLinkHtml;\n",
              "          element.appendChild(docLink);\n",
              "        }\n",
              "      </script>\n",
              "    </div>\n",
              "  </div>\n",
              "  "
            ]
          },
          "metadata": {},
          "execution_count": 73
        }
      ],
      "source": [
        "data_share('family_status')"
      ]
    },
    {
      "cell_type": "markdown",
      "id": "1cef7837",
      "metadata": {
        "deletable": false,
        "id": "1cef7837"
      },
      "source": [
        "**Вывод:** \n",
        "1. Кредитному отделу следует с осторожностью относиться к клиентам, которые в гражданском браке, либо не состоят в браке. \n",
        "2. У клиентов, которые состоят в браке или разведены, меньше задолженностей по кредитам, чем у клиентов, состоящих в гражданском браке или неженатых. \n",
        "3. У вдовцов реже всего случаются просрочки по кредитам. "
      ]
    },
    {
      "cell_type": "markdown",
      "id": "1e8b2fca",
      "metadata": {
        "deletable": false,
        "editable": false,
        "id": "1e8b2fca"
      },
      "source": [
        "Есть ли зависимость между уровнем дохода и возвратом кредита в срок?"
      ]
    },
    {
      "cell_type": "code",
      "execution_count": null,
      "id": "ebfa514b",
      "metadata": {
        "colab": {
          "base_uri": "https://localhost:8080/",
          "height": 238
        },
        "id": "ebfa514b",
        "outputId": "1e5ccec3-792b-4c4b-e9ef-a3ffd52b675a"
      },
      "outputs": [
        {
          "output_type": "execute_result",
          "data": {
            "text/plain": [
              "debt                       0     1  Всего кредитополучателей  Всего должников  \\\n",
              "total_income_category                                                           \n",
              "A                         23     2                        25                2   \n",
              "B                       4660   354                      5014              354   \n",
              "C                      14585  1353                     15938             1353   \n",
              "D                        328    21                       349               21   \n",
              "E                         20     2                        22                2   \n",
              "\n",
              "debt                   Доля должников  \n",
              "total_income_category                  \n",
              "A                            0.080000  \n",
              "B                            0.070602  \n",
              "C                            0.084891  \n",
              "D                            0.060172  \n",
              "E                            0.090909  "
            ],
            "text/html": [
              "\n",
              "  <div id=\"df-d953e114-89b8-448b-b57a-8930bbf927be\">\n",
              "    <div class=\"colab-df-container\">\n",
              "      <div>\n",
              "<style scoped>\n",
              "    .dataframe tbody tr th:only-of-type {\n",
              "        vertical-align: middle;\n",
              "    }\n",
              "\n",
              "    .dataframe tbody tr th {\n",
              "        vertical-align: top;\n",
              "    }\n",
              "\n",
              "    .dataframe thead th {\n",
              "        text-align: right;\n",
              "    }\n",
              "</style>\n",
              "<table border=\"1\" class=\"dataframe\">\n",
              "  <thead>\n",
              "    <tr style=\"text-align: right;\">\n",
              "      <th>debt</th>\n",
              "      <th>0</th>\n",
              "      <th>1</th>\n",
              "      <th>Всего кредитополучателей</th>\n",
              "      <th>Всего должников</th>\n",
              "      <th>Доля должников</th>\n",
              "    </tr>\n",
              "    <tr>\n",
              "      <th>total_income_category</th>\n",
              "      <th></th>\n",
              "      <th></th>\n",
              "      <th></th>\n",
              "      <th></th>\n",
              "      <th></th>\n",
              "    </tr>\n",
              "  </thead>\n",
              "  <tbody>\n",
              "    <tr>\n",
              "      <th>A</th>\n",
              "      <td>23</td>\n",
              "      <td>2</td>\n",
              "      <td>25</td>\n",
              "      <td>2</td>\n",
              "      <td>0.080000</td>\n",
              "    </tr>\n",
              "    <tr>\n",
              "      <th>B</th>\n",
              "      <td>4660</td>\n",
              "      <td>354</td>\n",
              "      <td>5014</td>\n",
              "      <td>354</td>\n",
              "      <td>0.070602</td>\n",
              "    </tr>\n",
              "    <tr>\n",
              "      <th>C</th>\n",
              "      <td>14585</td>\n",
              "      <td>1353</td>\n",
              "      <td>15938</td>\n",
              "      <td>1353</td>\n",
              "      <td>0.084891</td>\n",
              "    </tr>\n",
              "    <tr>\n",
              "      <th>D</th>\n",
              "      <td>328</td>\n",
              "      <td>21</td>\n",
              "      <td>349</td>\n",
              "      <td>21</td>\n",
              "      <td>0.060172</td>\n",
              "    </tr>\n",
              "    <tr>\n",
              "      <th>E</th>\n",
              "      <td>20</td>\n",
              "      <td>2</td>\n",
              "      <td>22</td>\n",
              "      <td>2</td>\n",
              "      <td>0.090909</td>\n",
              "    </tr>\n",
              "  </tbody>\n",
              "</table>\n",
              "</div>\n",
              "      <button class=\"colab-df-convert\" onclick=\"convertToInteractive('df-d953e114-89b8-448b-b57a-8930bbf927be')\"\n",
              "              title=\"Convert this dataframe to an interactive table.\"\n",
              "              style=\"display:none;\">\n",
              "        \n",
              "  <svg xmlns=\"http://www.w3.org/2000/svg\" height=\"24px\"viewBox=\"0 0 24 24\"\n",
              "       width=\"24px\">\n",
              "    <path d=\"M0 0h24v24H0V0z\" fill=\"none\"/>\n",
              "    <path d=\"M18.56 5.44l.94 2.06.94-2.06 2.06-.94-2.06-.94-.94-2.06-.94 2.06-2.06.94zm-11 1L8.5 8.5l.94-2.06 2.06-.94-2.06-.94L8.5 2.5l-.94 2.06-2.06.94zm10 10l.94 2.06.94-2.06 2.06-.94-2.06-.94-.94-2.06-.94 2.06-2.06.94z\"/><path d=\"M17.41 7.96l-1.37-1.37c-.4-.4-.92-.59-1.43-.59-.52 0-1.04.2-1.43.59L10.3 9.45l-7.72 7.72c-.78.78-.78 2.05 0 2.83L4 21.41c.39.39.9.59 1.41.59.51 0 1.02-.2 1.41-.59l7.78-7.78 2.81-2.81c.8-.78.8-2.07 0-2.86zM5.41 20L4 18.59l7.72-7.72 1.47 1.35L5.41 20z\"/>\n",
              "  </svg>\n",
              "      </button>\n",
              "      \n",
              "  <style>\n",
              "    .colab-df-container {\n",
              "      display:flex;\n",
              "      flex-wrap:wrap;\n",
              "      gap: 12px;\n",
              "    }\n",
              "\n",
              "    .colab-df-convert {\n",
              "      background-color: #E8F0FE;\n",
              "      border: none;\n",
              "      border-radius: 50%;\n",
              "      cursor: pointer;\n",
              "      display: none;\n",
              "      fill: #1967D2;\n",
              "      height: 32px;\n",
              "      padding: 0 0 0 0;\n",
              "      width: 32px;\n",
              "    }\n",
              "\n",
              "    .colab-df-convert:hover {\n",
              "      background-color: #E2EBFA;\n",
              "      box-shadow: 0px 1px 2px rgba(60, 64, 67, 0.3), 0px 1px 3px 1px rgba(60, 64, 67, 0.15);\n",
              "      fill: #174EA6;\n",
              "    }\n",
              "\n",
              "    [theme=dark] .colab-df-convert {\n",
              "      background-color: #3B4455;\n",
              "      fill: #D2E3FC;\n",
              "    }\n",
              "\n",
              "    [theme=dark] .colab-df-convert:hover {\n",
              "      background-color: #434B5C;\n",
              "      box-shadow: 0px 1px 3px 1px rgba(0, 0, 0, 0.15);\n",
              "      filter: drop-shadow(0px 1px 2px rgba(0, 0, 0, 0.3));\n",
              "      fill: #FFFFFF;\n",
              "    }\n",
              "  </style>\n",
              "\n",
              "      <script>\n",
              "        const buttonEl =\n",
              "          document.querySelector('#df-d953e114-89b8-448b-b57a-8930bbf927be button.colab-df-convert');\n",
              "        buttonEl.style.display =\n",
              "          google.colab.kernel.accessAllowed ? 'block' : 'none';\n",
              "\n",
              "        async function convertToInteractive(key) {\n",
              "          const element = document.querySelector('#df-d953e114-89b8-448b-b57a-8930bbf927be');\n",
              "          const dataTable =\n",
              "            await google.colab.kernel.invokeFunction('convertToInteractive',\n",
              "                                                     [key], {});\n",
              "          if (!dataTable) return;\n",
              "\n",
              "          const docLinkHtml = 'Like what you see? Visit the ' +\n",
              "            '<a target=\"_blank\" href=https://colab.research.google.com/notebooks/data_table.ipynb>data table notebook</a>'\n",
              "            + ' to learn more about interactive tables.';\n",
              "          element.innerHTML = '';\n",
              "          dataTable['output_type'] = 'display_data';\n",
              "          await google.colab.output.renderOutput(dataTable, element);\n",
              "          const docLink = document.createElement('div');\n",
              "          docLink.innerHTML = docLinkHtml;\n",
              "          element.appendChild(docLink);\n",
              "        }\n",
              "      </script>\n",
              "    </div>\n",
              "  </div>\n",
              "  "
            ]
          },
          "metadata": {},
          "execution_count": 74
        }
      ],
      "source": [
        "data_share('total_income_category')"
      ]
    },
    {
      "cell_type": "code",
      "execution_count": null,
      "id": "a26cc176",
      "metadata": {
        "colab": {
          "base_uri": "https://localhost:8080/"
        },
        "id": "a26cc176",
        "outputId": "2306a394-dc7a-4059-c585-763b7878863c"
      },
      "outputs": [
        {
          "output_type": "execute_result",
          "data": {
            "text/plain": [
              "C    0.746580\n",
              "B    0.234870\n",
              "D    0.016348\n",
              "A    0.001171\n",
              "E    0.001031\n",
              "Name: total_income_category, dtype: float64"
            ]
          },
          "metadata": {},
          "execution_count": 75
        }
      ],
      "source": [
        "data['total_income_category'].value_counts(normalize=True)"
      ]
    },
    {
      "cell_type": "markdown",
      "id": "e8593def",
      "metadata": {
        "deletable": false,
        "id": "e8593def"
      },
      "source": [
        "**Вывод:** \n",
        "1. Наибольшее количество должников в группе с самым низким доходом до 30 тыс. рублей в месяц (Е). При этом доля клиентов с подобным уровнем дохода составляет 0,1% от их общего числа.\n",
        "2. Наименьшее количество должников в группе с доходом 30—50 тыс. рублей в месяц.\n",
        "3. Большинство клиентов банка (почти 75%) - граждане с ежемесячным доходом 50—200 тыс. рублей. Еще у 23% клиентов доход от 200 тыс. до 1 млн рублей. В этих категориях процент просрочек по кредитам - 8% и 7% соответственно."
      ]
    },
    {
      "cell_type": "markdown",
      "id": "99ecbd1f",
      "metadata": {
        "deletable": false,
        "editable": false,
        "id": "99ecbd1f"
      },
      "source": [
        "Как разные цели кредита влияют на его возврат в срок?"
      ]
    },
    {
      "cell_type": "code",
      "execution_count": null,
      "id": "2b687290",
      "metadata": {
        "id": "2b687290",
        "colab": {
          "base_uri": "https://localhost:8080/",
          "height": 206
        },
        "outputId": "be9d1e04-5236-4f59-aba4-d098b8db60ab"
      },
      "outputs": [
        {
          "output_type": "execute_result",
          "data": {
            "text/plain": [
              "debt                         0    1  Всего кредитополучателей  \\\n",
              "purpose_category                                                \n",
              "операции с автомобилем    3881  400                      4281   \n",
              "операции с недвижимостью  9974  780                     10754   \n",
              "получение образования     3620  369                      3989   \n",
              "проведение свадьбы        2141  183                      2324   \n",
              "\n",
              "debt                      Всего должников  Доля должников  \n",
              "purpose_category                                           \n",
              "операции с автомобилем                400        0.093436  \n",
              "операции с недвижимостью              780        0.072531  \n",
              "получение образования                 369        0.092504  \n",
              "проведение свадьбы                    183        0.078744  "
            ],
            "text/html": [
              "\n",
              "  <div id=\"df-61339a61-df4b-4924-8c5d-5402a747dcdf\">\n",
              "    <div class=\"colab-df-container\">\n",
              "      <div>\n",
              "<style scoped>\n",
              "    .dataframe tbody tr th:only-of-type {\n",
              "        vertical-align: middle;\n",
              "    }\n",
              "\n",
              "    .dataframe tbody tr th {\n",
              "        vertical-align: top;\n",
              "    }\n",
              "\n",
              "    .dataframe thead th {\n",
              "        text-align: right;\n",
              "    }\n",
              "</style>\n",
              "<table border=\"1\" class=\"dataframe\">\n",
              "  <thead>\n",
              "    <tr style=\"text-align: right;\">\n",
              "      <th>debt</th>\n",
              "      <th>0</th>\n",
              "      <th>1</th>\n",
              "      <th>Всего кредитополучателей</th>\n",
              "      <th>Всего должников</th>\n",
              "      <th>Доля должников</th>\n",
              "    </tr>\n",
              "    <tr>\n",
              "      <th>purpose_category</th>\n",
              "      <th></th>\n",
              "      <th></th>\n",
              "      <th></th>\n",
              "      <th></th>\n",
              "      <th></th>\n",
              "    </tr>\n",
              "  </thead>\n",
              "  <tbody>\n",
              "    <tr>\n",
              "      <th>операции с автомобилем</th>\n",
              "      <td>3881</td>\n",
              "      <td>400</td>\n",
              "      <td>4281</td>\n",
              "      <td>400</td>\n",
              "      <td>0.093436</td>\n",
              "    </tr>\n",
              "    <tr>\n",
              "      <th>операции с недвижимостью</th>\n",
              "      <td>9974</td>\n",
              "      <td>780</td>\n",
              "      <td>10754</td>\n",
              "      <td>780</td>\n",
              "      <td>0.072531</td>\n",
              "    </tr>\n",
              "    <tr>\n",
              "      <th>получение образования</th>\n",
              "      <td>3620</td>\n",
              "      <td>369</td>\n",
              "      <td>3989</td>\n",
              "      <td>369</td>\n",
              "      <td>0.092504</td>\n",
              "    </tr>\n",
              "    <tr>\n",
              "      <th>проведение свадьбы</th>\n",
              "      <td>2141</td>\n",
              "      <td>183</td>\n",
              "      <td>2324</td>\n",
              "      <td>183</td>\n",
              "      <td>0.078744</td>\n",
              "    </tr>\n",
              "  </tbody>\n",
              "</table>\n",
              "</div>\n",
              "      <button class=\"colab-df-convert\" onclick=\"convertToInteractive('df-61339a61-df4b-4924-8c5d-5402a747dcdf')\"\n",
              "              title=\"Convert this dataframe to an interactive table.\"\n",
              "              style=\"display:none;\">\n",
              "        \n",
              "  <svg xmlns=\"http://www.w3.org/2000/svg\" height=\"24px\"viewBox=\"0 0 24 24\"\n",
              "       width=\"24px\">\n",
              "    <path d=\"M0 0h24v24H0V0z\" fill=\"none\"/>\n",
              "    <path d=\"M18.56 5.44l.94 2.06.94-2.06 2.06-.94-2.06-.94-.94-2.06-.94 2.06-2.06.94zm-11 1L8.5 8.5l.94-2.06 2.06-.94-2.06-.94L8.5 2.5l-.94 2.06-2.06.94zm10 10l.94 2.06.94-2.06 2.06-.94-2.06-.94-.94-2.06-.94 2.06-2.06.94z\"/><path d=\"M17.41 7.96l-1.37-1.37c-.4-.4-.92-.59-1.43-.59-.52 0-1.04.2-1.43.59L10.3 9.45l-7.72 7.72c-.78.78-.78 2.05 0 2.83L4 21.41c.39.39.9.59 1.41.59.51 0 1.02-.2 1.41-.59l7.78-7.78 2.81-2.81c.8-.78.8-2.07 0-2.86zM5.41 20L4 18.59l7.72-7.72 1.47 1.35L5.41 20z\"/>\n",
              "  </svg>\n",
              "      </button>\n",
              "      \n",
              "  <style>\n",
              "    .colab-df-container {\n",
              "      display:flex;\n",
              "      flex-wrap:wrap;\n",
              "      gap: 12px;\n",
              "    }\n",
              "\n",
              "    .colab-df-convert {\n",
              "      background-color: #E8F0FE;\n",
              "      border: none;\n",
              "      border-radius: 50%;\n",
              "      cursor: pointer;\n",
              "      display: none;\n",
              "      fill: #1967D2;\n",
              "      height: 32px;\n",
              "      padding: 0 0 0 0;\n",
              "      width: 32px;\n",
              "    }\n",
              "\n",
              "    .colab-df-convert:hover {\n",
              "      background-color: #E2EBFA;\n",
              "      box-shadow: 0px 1px 2px rgba(60, 64, 67, 0.3), 0px 1px 3px 1px rgba(60, 64, 67, 0.15);\n",
              "      fill: #174EA6;\n",
              "    }\n",
              "\n",
              "    [theme=dark] .colab-df-convert {\n",
              "      background-color: #3B4455;\n",
              "      fill: #D2E3FC;\n",
              "    }\n",
              "\n",
              "    [theme=dark] .colab-df-convert:hover {\n",
              "      background-color: #434B5C;\n",
              "      box-shadow: 0px 1px 3px 1px rgba(0, 0, 0, 0.15);\n",
              "      filter: drop-shadow(0px 1px 2px rgba(0, 0, 0, 0.3));\n",
              "      fill: #FFFFFF;\n",
              "    }\n",
              "  </style>\n",
              "\n",
              "      <script>\n",
              "        const buttonEl =\n",
              "          document.querySelector('#df-61339a61-df4b-4924-8c5d-5402a747dcdf button.colab-df-convert');\n",
              "        buttonEl.style.display =\n",
              "          google.colab.kernel.accessAllowed ? 'block' : 'none';\n",
              "\n",
              "        async function convertToInteractive(key) {\n",
              "          const element = document.querySelector('#df-61339a61-df4b-4924-8c5d-5402a747dcdf');\n",
              "          const dataTable =\n",
              "            await google.colab.kernel.invokeFunction('convertToInteractive',\n",
              "                                                     [key], {});\n",
              "          if (!dataTable) return;\n",
              "\n",
              "          const docLinkHtml = 'Like what you see? Visit the ' +\n",
              "            '<a target=\"_blank\" href=https://colab.research.google.com/notebooks/data_table.ipynb>data table notebook</a>'\n",
              "            + ' to learn more about interactive tables.';\n",
              "          element.innerHTML = '';\n",
              "          dataTable['output_type'] = 'display_data';\n",
              "          await google.colab.output.renderOutput(dataTable, element);\n",
              "          const docLink = document.createElement('div');\n",
              "          docLink.innerHTML = docLinkHtml;\n",
              "          element.appendChild(docLink);\n",
              "        }\n",
              "      </script>\n",
              "    </div>\n",
              "  </div>\n",
              "  "
            ]
          },
          "metadata": {},
          "execution_count": 76
        }
      ],
      "source": [
        "data_share('purpose_category')"
      ]
    },
    {
      "cell_type": "markdown",
      "id": "b4bb2ce6",
      "metadata": {
        "deletable": false,
        "id": "b4bb2ce6"
      },
      "source": [
        "**Вывод:** \n",
        "1. У клиентов, которые берут кредиты на покупку авто или получение образования, просроченность по выплатам возникает чаще - в 9% случаев. Клиенты, которые берут кредиты на покупку жилья или проведение свадебных торжеств, задалживают выплаты в 7% случаев."
      ]
    },
    {
      "cell_type": "markdown",
      "id": "6db5255a",
      "metadata": {
        "deletable": false,
        "editable": false,
        "id": "6db5255a"
      },
      "source": [
        "## Общий вывод"
      ]
    },
    {
      "cell_type": "markdown",
      "id": "bad65432",
      "metadata": {
        "id": "bad65432"
      },
      "source": [
        "Чаще других гасят кредит в срок:\n",
        "* клиенты без детей \n",
        "* женатые клиенты \n",
        "* клиенты в доходом 30—50 тыс. рублей в месяц\n",
        "* клиенты, берущие кредит на покупку жилья или проведение свадебных торжеств\n",
        "\n",
        "Наиболее рискованным являются клиенты:\n",
        "* с 1, 2 или 4 детьми\n",
        "* состоящие в гражданском браке или разведенные\n",
        "* доходом до 30 тыс. рублей в месяц\n",
        "* берущие кредит на покупку авто или получение образования"
      ]
    }
  ],
  "metadata": {
    "ExecuteTimeLog": [
      {
        "duration": 9,
        "start_time": "2022-06-19T12:33:28.950Z"
      },
      {
        "duration": 104,
        "start_time": "2022-06-19T13:05:23.903Z"
      },
      {
        "duration": 10,
        "start_time": "2022-06-19T13:59:20.550Z"
      },
      {
        "duration": 2635,
        "start_time": "2022-06-19T14:01:45.174Z"
      },
      {
        "duration": 43,
        "start_time": "2022-06-19T14:01:47.812Z"
      },
      {
        "duration": 27,
        "start_time": "2022-06-19T14:01:47.857Z"
      },
      {
        "duration": 13,
        "start_time": "2022-06-19T14:01:47.887Z"
      },
      {
        "duration": 61,
        "start_time": "2022-06-19T14:01:47.902Z"
      },
      {
        "duration": 8,
        "start_time": "2022-06-19T14:01:47.972Z"
      },
      {
        "duration": 18,
        "start_time": "2022-06-19T14:01:47.982Z"
      },
      {
        "duration": 7,
        "start_time": "2022-06-19T14:01:48.003Z"
      },
      {
        "duration": 26,
        "start_time": "2022-06-19T14:01:48.012Z"
      },
      {
        "duration": 45,
        "start_time": "2022-06-19T14:01:48.042Z"
      },
      {
        "duration": 73,
        "start_time": "2022-06-19T14:01:48.088Z"
      },
      {
        "duration": 16,
        "start_time": "2022-06-19T14:01:48.170Z"
      },
      {
        "duration": 9,
        "start_time": "2022-06-19T14:01:48.188Z"
      },
      {
        "duration": 28,
        "start_time": "2022-06-19T14:01:48.199Z"
      },
      {
        "duration": 35,
        "start_time": "2022-06-19T14:01:48.234Z"
      },
      {
        "duration": 23,
        "start_time": "2022-06-19T14:01:48.271Z"
      },
      {
        "duration": 13,
        "start_time": "2022-06-19T14:01:48.296Z"
      },
      {
        "duration": 24,
        "start_time": "2022-06-19T14:01:48.311Z"
      },
      {
        "duration": 39,
        "start_time": "2022-06-19T14:01:48.351Z"
      },
      {
        "duration": 15,
        "start_time": "2022-06-19T14:01:48.392Z"
      },
      {
        "duration": 28,
        "start_time": "2022-06-19T14:01:48.409Z"
      },
      {
        "duration": 39,
        "start_time": "2022-06-19T14:01:48.444Z"
      },
      {
        "duration": 7,
        "start_time": "2022-06-19T14:01:48.485Z"
      },
      {
        "duration": 14,
        "start_time": "2022-06-19T14:01:48.494Z"
      },
      {
        "duration": 22,
        "start_time": "2022-06-19T14:01:48.510Z"
      },
      {
        "duration": 1740,
        "start_time": "2022-06-19T14:01:48.534Z"
      },
      {
        "duration": 18,
        "start_time": "2022-06-19T14:01:50.277Z"
      },
      {
        "duration": 6,
        "start_time": "2022-06-19T14:01:50.301Z"
      },
      {
        "duration": 19,
        "start_time": "2022-06-19T14:01:50.309Z"
      },
      {
        "duration": 56,
        "start_time": "2022-06-19T14:01:50.334Z"
      },
      {
        "duration": 7,
        "start_time": "2022-06-19T17:28:18.878Z"
      },
      {
        "duration": 13,
        "start_time": "2022-06-19T17:28:47.439Z"
      },
      {
        "duration": 9,
        "start_time": "2022-06-19T17:29:28.673Z"
      },
      {
        "duration": 11,
        "start_time": "2022-06-19T17:29:44.119Z"
      },
      {
        "duration": 7,
        "start_time": "2022-06-19T17:30:17.246Z"
      },
      {
        "duration": 11,
        "start_time": "2022-06-19T17:30:53.516Z"
      },
      {
        "duration": 13,
        "start_time": "2022-06-19T17:31:34.616Z"
      },
      {
        "duration": 31,
        "start_time": "2022-06-19T17:32:16.485Z"
      },
      {
        "duration": 25,
        "start_time": "2022-06-19T17:32:41.193Z"
      },
      {
        "duration": 21,
        "start_time": "2022-06-19T17:33:01.784Z"
      },
      {
        "duration": 26,
        "start_time": "2022-06-19T17:33:32.281Z"
      },
      {
        "duration": 7,
        "start_time": "2022-06-19T17:33:57.235Z"
      },
      {
        "duration": 6,
        "start_time": "2022-06-19T17:34:03.232Z"
      },
      {
        "duration": 11,
        "start_time": "2022-06-19T17:34:12.499Z"
      },
      {
        "duration": 16,
        "start_time": "2022-06-19T18:49:17.457Z"
      },
      {
        "duration": 12,
        "start_time": "2022-06-19T19:21:33.074Z"
      },
      {
        "duration": 12,
        "start_time": "2022-06-19T19:23:41.714Z"
      },
      {
        "duration": 45,
        "start_time": "2022-06-20T11:34:24.638Z"
      },
      {
        "duration": 634,
        "start_time": "2022-06-20T11:34:30.312Z"
      },
      {
        "duration": 23,
        "start_time": "2022-06-20T11:34:30.948Z"
      },
      {
        "duration": 22,
        "start_time": "2022-06-20T11:34:30.972Z"
      },
      {
        "duration": 9,
        "start_time": "2022-06-20T11:34:30.996Z"
      },
      {
        "duration": 42,
        "start_time": "2022-06-20T11:34:31.007Z"
      },
      {
        "duration": 3,
        "start_time": "2022-06-20T11:34:31.058Z"
      },
      {
        "duration": 31,
        "start_time": "2022-06-20T11:34:31.063Z"
      },
      {
        "duration": 19,
        "start_time": "2022-06-20T11:34:31.096Z"
      },
      {
        "duration": 22,
        "start_time": "2022-06-20T11:34:31.117Z"
      },
      {
        "duration": 29,
        "start_time": "2022-06-20T11:34:31.141Z"
      },
      {
        "duration": 59,
        "start_time": "2022-06-20T11:34:31.172Z"
      },
      {
        "duration": 9,
        "start_time": "2022-06-20T11:34:31.233Z"
      },
      {
        "duration": 4,
        "start_time": "2022-06-20T11:34:31.243Z"
      },
      {
        "duration": 21,
        "start_time": "2022-06-20T11:34:31.249Z"
      },
      {
        "duration": 15,
        "start_time": "2022-06-20T11:34:31.272Z"
      },
      {
        "duration": 10,
        "start_time": "2022-06-20T11:34:31.288Z"
      },
      {
        "duration": 24,
        "start_time": "2022-06-20T11:34:31.300Z"
      },
      {
        "duration": 17,
        "start_time": "2022-06-20T11:34:31.325Z"
      },
      {
        "duration": 19,
        "start_time": "2022-06-20T11:34:31.343Z"
      },
      {
        "duration": 10,
        "start_time": "2022-06-20T11:34:31.364Z"
      },
      {
        "duration": 25,
        "start_time": "2022-06-20T11:34:31.376Z"
      },
      {
        "duration": 21,
        "start_time": "2022-06-20T11:34:31.403Z"
      },
      {
        "duration": 21,
        "start_time": "2022-06-20T11:34:31.426Z"
      },
      {
        "duration": 9,
        "start_time": "2022-06-20T11:34:31.449Z"
      },
      {
        "duration": 15,
        "start_time": "2022-06-20T11:34:31.461Z"
      },
      {
        "duration": 384,
        "start_time": "2022-06-20T11:34:31.478Z"
      },
      {
        "duration": 47,
        "start_time": "2022-06-20T11:34:34.710Z"
      },
      {
        "duration": 247238,
        "start_time": "2022-06-20T11:34:47.001Z"
      },
      {
        "duration": 125,
        "start_time": "2022-06-20T12:07:13.921Z"
      },
      {
        "duration": 5,
        "start_time": "2022-06-20T12:08:42.142Z"
      },
      {
        "duration": 129,
        "start_time": "2022-06-20T12:11:37.093Z"
      },
      {
        "duration": 128,
        "start_time": "2022-06-20T12:12:10.283Z"
      },
      {
        "duration": 72,
        "start_time": "2022-06-20T13:08:28.358Z"
      },
      {
        "duration": 16,
        "start_time": "2022-06-20T13:08:28.432Z"
      },
      {
        "duration": 27,
        "start_time": "2022-06-20T13:08:28.449Z"
      },
      {
        "duration": 15,
        "start_time": "2022-06-20T13:08:28.478Z"
      },
      {
        "duration": 36,
        "start_time": "2022-06-20T13:08:28.494Z"
      },
      {
        "duration": 4,
        "start_time": "2022-06-20T13:08:28.532Z"
      },
      {
        "duration": 28,
        "start_time": "2022-06-20T13:08:28.538Z"
      },
      {
        "duration": 8,
        "start_time": "2022-06-20T13:08:28.574Z"
      },
      {
        "duration": 10,
        "start_time": "2022-06-20T13:08:28.584Z"
      },
      {
        "duration": 5,
        "start_time": "2022-06-20T13:08:28.596Z"
      },
      {
        "duration": 40,
        "start_time": "2022-06-20T13:08:28.602Z"
      },
      {
        "duration": 31,
        "start_time": "2022-06-20T13:08:28.643Z"
      },
      {
        "duration": 11,
        "start_time": "2022-06-20T13:08:28.676Z"
      },
      {
        "duration": 19,
        "start_time": "2022-06-20T13:08:28.688Z"
      },
      {
        "duration": 18,
        "start_time": "2022-06-20T13:08:28.708Z"
      },
      {
        "duration": 10,
        "start_time": "2022-06-20T13:08:28.728Z"
      },
      {
        "duration": 28,
        "start_time": "2022-06-20T13:08:28.740Z"
      },
      {
        "duration": 33,
        "start_time": "2022-06-20T13:08:28.770Z"
      },
      {
        "duration": 13,
        "start_time": "2022-06-20T13:08:28.805Z"
      },
      {
        "duration": 8,
        "start_time": "2022-06-20T13:08:28.819Z"
      },
      {
        "duration": 16,
        "start_time": "2022-06-20T13:08:28.828Z"
      },
      {
        "duration": 6,
        "start_time": "2022-06-20T13:08:28.846Z"
      },
      {
        "duration": 21,
        "start_time": "2022-06-20T13:08:28.854Z"
      },
      {
        "duration": 9,
        "start_time": "2022-06-20T13:08:28.877Z"
      },
      {
        "duration": 8,
        "start_time": "2022-06-20T13:08:28.887Z"
      },
      {
        "duration": 135,
        "start_time": "2022-06-20T13:08:28.896Z"
      },
      {
        "duration": 8,
        "start_time": "2022-06-20T13:08:29.033Z"
      },
      {
        "duration": 5,
        "start_time": "2022-06-20T13:08:29.045Z"
      },
      {
        "duration": 29,
        "start_time": "2022-06-20T13:08:29.051Z"
      },
      {
        "duration": 10,
        "start_time": "2022-06-20T13:08:29.082Z"
      },
      {
        "duration": 15,
        "start_time": "2022-06-20T13:08:29.094Z"
      },
      {
        "duration": 11,
        "start_time": "2022-06-20T13:08:29.111Z"
      },
      {
        "duration": 13,
        "start_time": "2022-06-20T13:08:29.124Z"
      },
      {
        "duration": 11,
        "start_time": "2022-06-20T13:08:29.138Z"
      },
      {
        "duration": 31,
        "start_time": "2022-06-20T13:08:29.150Z"
      },
      {
        "duration": 5,
        "start_time": "2022-06-20T13:08:29.183Z"
      },
      {
        "duration": 14,
        "start_time": "2022-06-20T13:08:29.189Z"
      },
      {
        "duration": 19,
        "start_time": "2022-06-20T13:08:29.204Z"
      },
      {
        "duration": 12,
        "start_time": "2022-06-20T13:08:29.225Z"
      },
      {
        "duration": 25,
        "start_time": "2022-06-20T13:08:29.239Z"
      },
      {
        "duration": 18,
        "start_time": "2022-06-20T13:08:29.268Z"
      },
      {
        "duration": 13,
        "start_time": "2022-06-20T13:08:29.288Z"
      },
      {
        "duration": 8,
        "start_time": "2022-06-20T13:08:29.302Z"
      },
      {
        "duration": 11,
        "start_time": "2022-06-20T13:08:29.312Z"
      },
      {
        "duration": 13,
        "start_time": "2022-06-20T13:08:29.325Z"
      },
      {
        "duration": 5,
        "start_time": "2022-06-20T13:10:23.191Z"
      },
      {
        "duration": 4,
        "start_time": "2022-06-20T13:10:50.103Z"
      },
      {
        "duration": 79,
        "start_time": "2022-06-20T13:27:33.501Z"
      },
      {
        "duration": 63,
        "start_time": "2022-06-20T19:20:21.599Z"
      },
      {
        "duration": 6,
        "start_time": "2022-06-20T19:20:37.251Z"
      },
      {
        "duration": 6,
        "start_time": "2022-06-20T19:20:42.636Z"
      },
      {
        "duration": 1042,
        "start_time": "2022-06-20T19:25:07.575Z"
      },
      {
        "duration": 37,
        "start_time": "2022-06-20T19:25:08.620Z"
      },
      {
        "duration": 26,
        "start_time": "2022-06-20T19:25:08.660Z"
      },
      {
        "duration": 23,
        "start_time": "2022-06-20T19:25:08.695Z"
      },
      {
        "duration": 116,
        "start_time": "2022-06-20T19:25:08.721Z"
      },
      {
        "duration": 6,
        "start_time": "2022-06-20T19:25:08.849Z"
      },
      {
        "duration": 24,
        "start_time": "2022-06-20T19:25:08.858Z"
      },
      {
        "duration": 63,
        "start_time": "2022-06-20T19:25:08.885Z"
      },
      {
        "duration": 32,
        "start_time": "2022-06-20T19:25:08.950Z"
      },
      {
        "duration": 30,
        "start_time": "2022-06-20T19:25:08.986Z"
      },
      {
        "duration": 107,
        "start_time": "2022-06-20T19:25:09.018Z"
      },
      {
        "duration": 60,
        "start_time": "2022-06-20T19:25:09.128Z"
      },
      {
        "duration": 77,
        "start_time": "2022-06-20T19:25:09.191Z"
      },
      {
        "duration": 59,
        "start_time": "2022-06-20T19:25:09.270Z"
      },
      {
        "duration": 104,
        "start_time": "2022-06-20T19:25:09.332Z"
      },
      {
        "duration": 52,
        "start_time": "2022-06-20T19:25:09.440Z"
      },
      {
        "duration": 88,
        "start_time": "2022-06-20T19:25:09.494Z"
      },
      {
        "duration": 97,
        "start_time": "2022-06-20T19:25:09.584Z"
      },
      {
        "duration": 93,
        "start_time": "2022-06-20T19:25:09.684Z"
      },
      {
        "duration": 88,
        "start_time": "2022-06-20T19:25:09.780Z"
      },
      {
        "duration": 17,
        "start_time": "2022-06-20T19:25:09.870Z"
      },
      {
        "duration": 8,
        "start_time": "2022-06-20T19:25:09.889Z"
      },
      {
        "duration": 71,
        "start_time": "2022-06-20T19:25:09.899Z"
      },
      {
        "duration": 10,
        "start_time": "2022-06-20T19:25:09.975Z"
      },
      {
        "duration": 18,
        "start_time": "2022-06-20T19:25:09.987Z"
      },
      {
        "duration": 943,
        "start_time": "2022-06-20T19:25:10.008Z"
      },
      {
        "duration": 11,
        "start_time": "2022-06-20T19:25:10.953Z"
      },
      {
        "duration": 10,
        "start_time": "2022-06-20T19:25:10.968Z"
      },
      {
        "duration": 21,
        "start_time": "2022-06-20T19:25:10.980Z"
      },
      {
        "duration": 47,
        "start_time": "2022-06-20T19:25:11.004Z"
      },
      {
        "duration": 22,
        "start_time": "2022-06-20T19:25:11.054Z"
      },
      {
        "duration": 9,
        "start_time": "2022-06-20T19:25:11.078Z"
      },
      {
        "duration": 75,
        "start_time": "2022-06-20T19:25:11.089Z"
      },
      {
        "duration": 15,
        "start_time": "2022-06-20T19:25:11.166Z"
      },
      {
        "duration": 36,
        "start_time": "2022-06-20T19:25:11.183Z"
      },
      {
        "duration": 43,
        "start_time": "2022-06-20T19:25:11.221Z"
      },
      {
        "duration": 13,
        "start_time": "2022-06-20T19:25:11.268Z"
      },
      {
        "duration": 25,
        "start_time": "2022-06-20T19:25:11.283Z"
      },
      {
        "duration": 57,
        "start_time": "2022-06-20T19:25:11.311Z"
      },
      {
        "duration": 6,
        "start_time": "2022-06-20T19:25:11.370Z"
      },
      {
        "duration": 25,
        "start_time": "2022-06-20T19:25:11.378Z"
      },
      {
        "duration": 71,
        "start_time": "2022-06-20T19:25:11.405Z"
      },
      {
        "duration": 9,
        "start_time": "2022-06-20T19:25:11.479Z"
      },
      {
        "duration": 68,
        "start_time": "2022-06-20T19:25:11.490Z"
      },
      {
        "duration": 22,
        "start_time": "2022-06-20T19:25:11.561Z"
      },
      {
        "duration": 37,
        "start_time": "2022-06-20T20:29:24.936Z"
      },
      {
        "duration": 31,
        "start_time": "2022-06-20T20:45:55.590Z"
      },
      {
        "duration": 3,
        "start_time": "2022-06-20T20:47:30.220Z"
      },
      {
        "duration": 23,
        "start_time": "2022-06-20T20:52:03.155Z"
      },
      {
        "duration": 30,
        "start_time": "2022-06-20T20:53:09.014Z"
      },
      {
        "duration": 115,
        "start_time": "2022-06-20T20:53:47.466Z"
      },
      {
        "duration": 23,
        "start_time": "2022-06-20T20:55:33.143Z"
      },
      {
        "duration": 20,
        "start_time": "2022-06-20T20:57:06.257Z"
      },
      {
        "duration": 7,
        "start_time": "2022-06-20T21:00:21.174Z"
      },
      {
        "duration": 22,
        "start_time": "2022-06-20T21:00:24.970Z"
      },
      {
        "duration": 22,
        "start_time": "2022-06-20T21:00:35.066Z"
      },
      {
        "duration": 53,
        "start_time": "2022-06-20T21:01:30.391Z"
      },
      {
        "duration": 443,
        "start_time": "2022-06-20T21:01:43.252Z"
      },
      {
        "duration": 22,
        "start_time": "2022-06-20T21:01:43.697Z"
      },
      {
        "duration": 16,
        "start_time": "2022-06-20T21:01:43.721Z"
      },
      {
        "duration": 9,
        "start_time": "2022-06-20T21:01:43.739Z"
      },
      {
        "duration": 57,
        "start_time": "2022-06-20T21:01:43.750Z"
      },
      {
        "duration": 3,
        "start_time": "2022-06-20T21:01:43.809Z"
      },
      {
        "duration": 14,
        "start_time": "2022-06-20T21:01:43.813Z"
      },
      {
        "duration": 4,
        "start_time": "2022-06-20T21:01:43.829Z"
      },
      {
        "duration": 8,
        "start_time": "2022-06-20T21:01:43.835Z"
      },
      {
        "duration": 4,
        "start_time": "2022-06-20T21:01:43.846Z"
      },
      {
        "duration": 67,
        "start_time": "2022-06-20T21:01:43.852Z"
      },
      {
        "duration": 11,
        "start_time": "2022-06-20T21:01:43.921Z"
      },
      {
        "duration": 5,
        "start_time": "2022-06-20T21:01:43.934Z"
      },
      {
        "duration": 21,
        "start_time": "2022-06-20T21:01:43.941Z"
      },
      {
        "duration": 43,
        "start_time": "2022-06-20T21:01:43.964Z"
      },
      {
        "duration": 11,
        "start_time": "2022-06-20T21:01:44.009Z"
      },
      {
        "duration": 5,
        "start_time": "2022-06-20T21:01:44.021Z"
      },
      {
        "duration": 17,
        "start_time": "2022-06-20T21:01:44.028Z"
      },
      {
        "duration": 7,
        "start_time": "2022-06-20T21:01:44.046Z"
      },
      {
        "duration": 15,
        "start_time": "2022-06-20T21:01:44.055Z"
      },
      {
        "duration": 27,
        "start_time": "2022-06-20T21:01:44.072Z"
      },
      {
        "duration": 4,
        "start_time": "2022-06-20T21:01:44.100Z"
      },
      {
        "duration": 7,
        "start_time": "2022-06-20T21:01:44.106Z"
      },
      {
        "duration": 7,
        "start_time": "2022-06-20T21:01:44.115Z"
      },
      {
        "duration": 8,
        "start_time": "2022-06-20T21:01:44.123Z"
      },
      {
        "duration": 363,
        "start_time": "2022-06-20T21:01:44.133Z"
      },
      {
        "duration": 29,
        "start_time": "2022-06-20T21:01:44.498Z"
      },
      {
        "duration": 5,
        "start_time": "2022-06-20T21:01:44.529Z"
      },
      {
        "duration": 10,
        "start_time": "2022-06-20T21:01:44.535Z"
      },
      {
        "duration": 9,
        "start_time": "2022-06-20T21:01:44.547Z"
      },
      {
        "duration": 57,
        "start_time": "2022-06-20T21:01:44.557Z"
      },
      {
        "duration": 6,
        "start_time": "2022-06-20T21:01:44.615Z"
      },
      {
        "duration": 23,
        "start_time": "2022-06-20T21:01:44.623Z"
      },
      {
        "duration": 9,
        "start_time": "2022-06-20T21:01:44.648Z"
      },
      {
        "duration": 44,
        "start_time": "2022-06-20T21:01:44.658Z"
      },
      {
        "duration": 4,
        "start_time": "2022-06-20T21:01:44.704Z"
      },
      {
        "duration": 19,
        "start_time": "2022-06-20T21:01:44.710Z"
      },
      {
        "duration": 17,
        "start_time": "2022-06-20T21:01:44.731Z"
      },
      {
        "duration": 13,
        "start_time": "2022-06-20T21:01:44.750Z"
      },
      {
        "duration": 5,
        "start_time": "2022-06-20T21:01:44.764Z"
      },
      {
        "duration": 24,
        "start_time": "2022-06-20T21:01:44.771Z"
      },
      {
        "duration": 7,
        "start_time": "2022-06-20T21:01:44.797Z"
      },
      {
        "duration": 10,
        "start_time": "2022-06-20T21:01:44.806Z"
      },
      {
        "duration": 5,
        "start_time": "2022-06-20T21:01:44.817Z"
      },
      {
        "duration": 13,
        "start_time": "2022-06-20T21:01:44.823Z"
      },
      {
        "duration": 94,
        "start_time": "2022-06-20T21:03:28.061Z"
      },
      {
        "duration": 17,
        "start_time": "2022-06-20T21:03:42.714Z"
      },
      {
        "duration": 10,
        "start_time": "2022-06-20T21:04:13.105Z"
      },
      {
        "duration": 16,
        "start_time": "2022-06-20T21:05:03.325Z"
      },
      {
        "duration": 22,
        "start_time": "2022-06-20T21:07:00.710Z"
      },
      {
        "duration": 17,
        "start_time": "2022-06-20T21:15:20.636Z"
      },
      {
        "duration": 27,
        "start_time": "2022-06-20T21:20:11.168Z"
      },
      {
        "duration": 11,
        "start_time": "2022-06-20T21:24:14.157Z"
      },
      {
        "duration": 27,
        "start_time": "2022-06-20T21:24:33.826Z"
      },
      {
        "duration": 51,
        "start_time": "2022-06-20T21:26:35.467Z"
      },
      {
        "duration": 53,
        "start_time": "2022-06-20T21:27:23.109Z"
      },
      {
        "duration": 13,
        "start_time": "2022-06-20T21:27:43.155Z"
      },
      {
        "duration": 19,
        "start_time": "2022-06-20T21:28:11.210Z"
      },
      {
        "duration": 9,
        "start_time": "2022-06-20T21:28:53.490Z"
      },
      {
        "duration": 21,
        "start_time": "2022-06-20T21:29:55.316Z"
      },
      {
        "duration": 10,
        "start_time": "2022-06-20T21:31:56.455Z"
      },
      {
        "duration": 10,
        "start_time": "2022-06-20T21:32:22.730Z"
      },
      {
        "duration": 53,
        "start_time": "2022-06-20T21:36:05.970Z"
      },
      {
        "duration": 5,
        "start_time": "2022-06-20T21:36:26.161Z"
      },
      {
        "duration": 6,
        "start_time": "2022-06-20T21:36:34.452Z"
      },
      {
        "duration": 6,
        "start_time": "2022-06-20T21:37:07.136Z"
      },
      {
        "duration": 5,
        "start_time": "2022-06-20T21:37:50.746Z"
      },
      {
        "duration": 7,
        "start_time": "2022-06-20T21:38:09.058Z"
      },
      {
        "duration": 31,
        "start_time": "2022-06-20T21:39:37.668Z"
      },
      {
        "duration": 18,
        "start_time": "2022-06-20T21:43:31.144Z"
      },
      {
        "duration": 23,
        "start_time": "2022-06-20T21:45:15.115Z"
      },
      {
        "duration": 21,
        "start_time": "2022-06-20T21:46:09.380Z"
      },
      {
        "duration": 7,
        "start_time": "2022-06-20T21:46:19.498Z"
      },
      {
        "duration": 20,
        "start_time": "2022-06-20T21:47:26.911Z"
      },
      {
        "duration": 23,
        "start_time": "2022-06-20T21:47:42.142Z"
      },
      {
        "duration": 21,
        "start_time": "2022-06-20T22:09:40.693Z"
      },
      {
        "duration": 20,
        "start_time": "2022-06-20T22:18:06.773Z"
      },
      {
        "duration": 24,
        "start_time": "2022-06-20T22:46:51.739Z"
      },
      {
        "duration": 24,
        "start_time": "2022-06-20T22:47:41.080Z"
      },
      {
        "duration": 25,
        "start_time": "2022-06-20T22:48:23.816Z"
      },
      {
        "duration": 23,
        "start_time": "2022-06-20T22:48:55.245Z"
      },
      {
        "duration": 8,
        "start_time": "2022-06-20T22:53:08.449Z"
      },
      {
        "duration": 20,
        "start_time": "2022-06-20T22:53:12.663Z"
      },
      {
        "duration": 8,
        "start_time": "2022-06-20T22:53:19.303Z"
      },
      {
        "duration": 20,
        "start_time": "2022-06-20T22:53:22.807Z"
      },
      {
        "duration": 695,
        "start_time": "2022-06-21T13:07:07.751Z"
      },
      {
        "duration": 20,
        "start_time": "2022-06-21T13:07:08.448Z"
      },
      {
        "duration": 15,
        "start_time": "2022-06-21T13:07:08.470Z"
      },
      {
        "duration": 11,
        "start_time": "2022-06-21T13:07:08.488Z"
      },
      {
        "duration": 50,
        "start_time": "2022-06-21T13:07:08.500Z"
      },
      {
        "duration": 4,
        "start_time": "2022-06-21T13:07:08.552Z"
      },
      {
        "duration": 20,
        "start_time": "2022-06-21T13:07:08.557Z"
      },
      {
        "duration": 8,
        "start_time": "2022-06-21T13:07:08.579Z"
      },
      {
        "duration": 9,
        "start_time": "2022-06-21T13:07:08.589Z"
      },
      {
        "duration": 8,
        "start_time": "2022-06-21T13:07:08.601Z"
      },
      {
        "duration": 47,
        "start_time": "2022-06-21T13:07:08.611Z"
      },
      {
        "duration": 10,
        "start_time": "2022-06-21T13:07:08.660Z"
      },
      {
        "duration": 9,
        "start_time": "2022-06-21T13:07:08.671Z"
      },
      {
        "duration": 24,
        "start_time": "2022-06-21T13:07:08.682Z"
      },
      {
        "duration": 33,
        "start_time": "2022-06-21T13:07:08.708Z"
      },
      {
        "duration": 30,
        "start_time": "2022-06-21T13:07:08.742Z"
      },
      {
        "duration": 11,
        "start_time": "2022-06-21T13:07:08.774Z"
      },
      {
        "duration": 14,
        "start_time": "2022-06-21T13:07:08.787Z"
      },
      {
        "duration": 7,
        "start_time": "2022-06-21T13:07:08.803Z"
      },
      {
        "duration": 6,
        "start_time": "2022-06-21T13:07:08.812Z"
      },
      {
        "duration": 17,
        "start_time": "2022-06-21T13:07:08.819Z"
      },
      {
        "duration": 12,
        "start_time": "2022-06-21T13:07:08.838Z"
      },
      {
        "duration": 17,
        "start_time": "2022-06-21T13:07:08.852Z"
      },
      {
        "duration": 44,
        "start_time": "2022-06-21T13:07:08.872Z"
      },
      {
        "duration": 20,
        "start_time": "2022-06-21T13:07:11.402Z"
      },
      {
        "duration": 7,
        "start_time": "2022-06-21T13:07:17.653Z"
      }
    ],
    "colab": {
      "provenance": []
    },
    "kernelspec": {
      "display_name": "Python 3 (ipykernel)",
      "language": "python",
      "name": "python3"
    },
    "language_info": {
      "codemirror_mode": {
        "name": "ipython",
        "version": 3
      },
      "file_extension": ".py",
      "mimetype": "text/x-python",
      "name": "python",
      "nbconvert_exporter": "python",
      "pygments_lexer": "ipython3",
      "version": "3.9.5"
    },
    "toc": {
      "base_numbering": 1,
      "nav_menu": {},
      "number_sections": true,
      "sideBar": true,
      "skip_h1_title": true,
      "title_cell": "Table of Contents",
      "title_sidebar": "Contents",
      "toc_cell": false,
      "toc_position": {},
      "toc_section_display": true,
      "toc_window_display": false
    }
  },
  "nbformat": 4,
  "nbformat_minor": 5
}