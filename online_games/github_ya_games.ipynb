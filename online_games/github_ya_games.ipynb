{
  "cells": [
    {
      "cell_type": "markdown",
      "metadata": {
        "id": "FCa1ibrufvJE"
      },
      "source": [
        "# Исследование о закономерностях, определяющих успешность компьютерных игр\n",
        "\n",
        "В нашем распоряжении данные интернет-магазина \"Стримчик\", который продает по всему миру компьютерные игры. Доступны сведения о продажах игр, оценки пользователей и экспертов, жанры и платформы до 2016 года включительно. Представим, что сейчас декабрь 2016 года. Соответственно, данные за 2016 год неполные.\n",
        "Необходимо выявить закономерности, определяющие успешность игры, чтобы сделать ставку на потенциально популярный продукт и сплариновать рекламные кампании на 2017 год. \n",
        "\n"
      ]
    },
    {
      "cell_type": "markdown",
      "metadata": {
        "id": "mNqzuS-BjfMN"
      },
      "source": [
        "\n",
        "1. [Откроем файл с данными и изучим общую информацию](#start)\n",
        "2. [Подготовим данные](#preprocessing)\n",
        "    * [Заменим названия столбцов (приведем к нижнему регистру)](#names)\n",
        "    * [Преобразуем данные в нужные типы](#type)\n",
        "    * [Обработаем явные дубликаты и пропущенные значения в столбцах](#skip)\n",
        "    * [Посчитаем суммарные продажи во всех регионах и запишем их в отдельный столбец](#sales)\n",
        "3. [Проведём исследовательский анализ данных](#analys)\n",
        "    * [Посмотрим, сколько игр выпускалось в разные годы и важны ли данные за все периоды](#total)\n",
        "    * [Посмотрим, как менялись продажи по платформам](#sales_platforms)\n",
        "    * [Возьмем данные за актуальный период, чтобы построить прогноз на 2017 год](#actual)\n",
        "    * [Построим график «ящик с усами» по глобальным продажам игр в разбивке по платформам](#boxplot)\n",
        "    * [Посмотрим, как влияют на продажи внутри одной популярной платформы отзывы пользователей и критиков](#reviews)\n",
        "    * [Посмотрим на общее распределение игр по жанрам](#genres)\n",
        "4. [Составим портрет пользователя каждого региона](#user)\n",
        "    * [Определим самые популярные платформы (топ-5)](#popular_platforms)\n",
        "    * [Определим самые популярные жанры (топ-5)](#popular_genres)\n",
        "    * [Определим влияние рейтинга ESRB на продажи](#esrb)\n",
        "5. [Проверим гипотезы](#hypothesis)\n",
        "    * [Средние пользовательские рейтинги платформ Xbox One и PC одинаковые](#h_1)\n",
        "    * [Средние пользовательские рейтинги жанров Action и Sports разные](#h_2)\n",
        "6. [Общий вывод](#conclusion)    "
      ]
    },
    {
      "cell_type": "markdown",
      "metadata": {
        "id": "x1Gnq0neoaN9"
      },
      "source": [
        "<a id=\"preprocessing\">\n",
        "    \n",
        "## Откроем файл с данными и изучим общую информацию </a>"
      ]
    },
    {
      "cell_type": "code",
      "execution_count": null,
      "metadata": {
        "id": "_Wr0NJFpuy3R"
      },
      "outputs": [],
      "source": [
        "import pandas as pd\n",
        "import matplotlib.pyplot as plt\n",
        "import seaborn as sns\n",
        "import numpy as np\n",
        "import math as mt\n",
        "from scipy import stats as st\n",
        "import plotly.express as px\n",
        "\n",
        "try:\n",
        "    df = pd.read_csv('/datasets/games.csv', sep=',')\n",
        "except:\n",
        "    df = pd.read_csv('https://code.s3.yandex.net/datasets/games.csv', sep=',')"
      ]
    },
    {
      "cell_type": "markdown",
      "metadata": {
        "id": "MKf4JL4_wgN3"
      },
      "source": [
        "При запуске метода 'info()' была обнаружена проблема. Все данные склеились в одну строку. Разбили их по колонкам параметром 'sep'."
      ]
    },
    {
      "cell_type": "code",
      "execution_count": null,
      "metadata": {
        "colab": {
          "base_uri": "https://localhost:8080/"
        },
        "id": "4X2hp8TJwOnV",
        "outputId": "15f2fc75-766c-40ac-8f10-513af232805f"
      },
      "outputs": [
        {
          "output_type": "stream",
          "name": "stdout",
          "text": [
            "<class 'pandas.core.frame.DataFrame'>\n",
            "RangeIndex: 16715 entries, 0 to 16714\n",
            "Data columns (total 11 columns):\n",
            " #   Column           Non-Null Count  Dtype  \n",
            "---  ------           --------------  -----  \n",
            " 0   Name             16713 non-null  object \n",
            " 1   Platform         16715 non-null  object \n",
            " 2   Year_of_Release  16446 non-null  float64\n",
            " 3   Genre            16713 non-null  object \n",
            " 4   NA_sales         16715 non-null  float64\n",
            " 5   EU_sales         16715 non-null  float64\n",
            " 6   JP_sales         16715 non-null  float64\n",
            " 7   Other_sales      16715 non-null  float64\n",
            " 8   Critic_Score     8137 non-null   float64\n",
            " 9   User_Score       10014 non-null  object \n",
            " 10  Rating           9949 non-null   object \n",
            "dtypes: float64(6), object(5)\n",
            "memory usage: 1.4+ MB\n"
          ]
        }
      ],
      "source": [
        "df.info()"
      ]
    },
    {
      "cell_type": "code",
      "execution_count": null,
      "metadata": {
        "colab": {
          "base_uri": "https://localhost:8080/",
          "height": 206
        },
        "id": "4zs7aQgKw2KQ",
        "outputId": "53f49fca-9df6-404b-f949-68bc5c400b5b"
      },
      "outputs": [
        {
          "output_type": "execute_result",
          "data": {
            "text/plain": [
              "                       Name Platform  Year_of_Release         Genre  NA_sales  \\\n",
              "0                Wii Sports      Wii           2006.0        Sports     41.36   \n",
              "1         Super Mario Bros.      NES           1985.0      Platform     29.08   \n",
              "2            Mario Kart Wii      Wii           2008.0        Racing     15.68   \n",
              "3         Wii Sports Resort      Wii           2009.0        Sports     15.61   \n",
              "4  Pokemon Red/Pokemon Blue       GB           1996.0  Role-Playing     11.27   \n",
              "\n",
              "   EU_sales  JP_sales  Other_sales  Critic_Score User_Score Rating  \n",
              "0     28.96      3.77         8.45          76.0          8      E  \n",
              "1      3.58      6.81         0.77           NaN        NaN    NaN  \n",
              "2     12.76      3.79         3.29          82.0        8.3      E  \n",
              "3     10.93      3.28         2.95          80.0          8      E  \n",
              "4      8.89     10.22         1.00           NaN        NaN    NaN  "
            ],
            "text/html": [
              "\n",
              "  <div id=\"df-ebeaede7-f8cd-45f8-9cfb-354b7f66c9bf\">\n",
              "    <div class=\"colab-df-container\">\n",
              "      <div>\n",
              "<style scoped>\n",
              "    .dataframe tbody tr th:only-of-type {\n",
              "        vertical-align: middle;\n",
              "    }\n",
              "\n",
              "    .dataframe tbody tr th {\n",
              "        vertical-align: top;\n",
              "    }\n",
              "\n",
              "    .dataframe thead th {\n",
              "        text-align: right;\n",
              "    }\n",
              "</style>\n",
              "<table border=\"1\" class=\"dataframe\">\n",
              "  <thead>\n",
              "    <tr style=\"text-align: right;\">\n",
              "      <th></th>\n",
              "      <th>Name</th>\n",
              "      <th>Platform</th>\n",
              "      <th>Year_of_Release</th>\n",
              "      <th>Genre</th>\n",
              "      <th>NA_sales</th>\n",
              "      <th>EU_sales</th>\n",
              "      <th>JP_sales</th>\n",
              "      <th>Other_sales</th>\n",
              "      <th>Critic_Score</th>\n",
              "      <th>User_Score</th>\n",
              "      <th>Rating</th>\n",
              "    </tr>\n",
              "  </thead>\n",
              "  <tbody>\n",
              "    <tr>\n",
              "      <th>0</th>\n",
              "      <td>Wii Sports</td>\n",
              "      <td>Wii</td>\n",
              "      <td>2006.0</td>\n",
              "      <td>Sports</td>\n",
              "      <td>41.36</td>\n",
              "      <td>28.96</td>\n",
              "      <td>3.77</td>\n",
              "      <td>8.45</td>\n",
              "      <td>76.0</td>\n",
              "      <td>8</td>\n",
              "      <td>E</td>\n",
              "    </tr>\n",
              "    <tr>\n",
              "      <th>1</th>\n",
              "      <td>Super Mario Bros.</td>\n",
              "      <td>NES</td>\n",
              "      <td>1985.0</td>\n",
              "      <td>Platform</td>\n",
              "      <td>29.08</td>\n",
              "      <td>3.58</td>\n",
              "      <td>6.81</td>\n",
              "      <td>0.77</td>\n",
              "      <td>NaN</td>\n",
              "      <td>NaN</td>\n",
              "      <td>NaN</td>\n",
              "    </tr>\n",
              "    <tr>\n",
              "      <th>2</th>\n",
              "      <td>Mario Kart Wii</td>\n",
              "      <td>Wii</td>\n",
              "      <td>2008.0</td>\n",
              "      <td>Racing</td>\n",
              "      <td>15.68</td>\n",
              "      <td>12.76</td>\n",
              "      <td>3.79</td>\n",
              "      <td>3.29</td>\n",
              "      <td>82.0</td>\n",
              "      <td>8.3</td>\n",
              "      <td>E</td>\n",
              "    </tr>\n",
              "    <tr>\n",
              "      <th>3</th>\n",
              "      <td>Wii Sports Resort</td>\n",
              "      <td>Wii</td>\n",
              "      <td>2009.0</td>\n",
              "      <td>Sports</td>\n",
              "      <td>15.61</td>\n",
              "      <td>10.93</td>\n",
              "      <td>3.28</td>\n",
              "      <td>2.95</td>\n",
              "      <td>80.0</td>\n",
              "      <td>8</td>\n",
              "      <td>E</td>\n",
              "    </tr>\n",
              "    <tr>\n",
              "      <th>4</th>\n",
              "      <td>Pokemon Red/Pokemon Blue</td>\n",
              "      <td>GB</td>\n",
              "      <td>1996.0</td>\n",
              "      <td>Role-Playing</td>\n",
              "      <td>11.27</td>\n",
              "      <td>8.89</td>\n",
              "      <td>10.22</td>\n",
              "      <td>1.00</td>\n",
              "      <td>NaN</td>\n",
              "      <td>NaN</td>\n",
              "      <td>NaN</td>\n",
              "    </tr>\n",
              "  </tbody>\n",
              "</table>\n",
              "</div>\n",
              "      <button class=\"colab-df-convert\" onclick=\"convertToInteractive('df-ebeaede7-f8cd-45f8-9cfb-354b7f66c9bf')\"\n",
              "              title=\"Convert this dataframe to an interactive table.\"\n",
              "              style=\"display:none;\">\n",
              "        \n",
              "  <svg xmlns=\"http://www.w3.org/2000/svg\" height=\"24px\"viewBox=\"0 0 24 24\"\n",
              "       width=\"24px\">\n",
              "    <path d=\"M0 0h24v24H0V0z\" fill=\"none\"/>\n",
              "    <path d=\"M18.56 5.44l.94 2.06.94-2.06 2.06-.94-2.06-.94-.94-2.06-.94 2.06-2.06.94zm-11 1L8.5 8.5l.94-2.06 2.06-.94-2.06-.94L8.5 2.5l-.94 2.06-2.06.94zm10 10l.94 2.06.94-2.06 2.06-.94-2.06-.94-.94-2.06-.94 2.06-2.06.94z\"/><path d=\"M17.41 7.96l-1.37-1.37c-.4-.4-.92-.59-1.43-.59-.52 0-1.04.2-1.43.59L10.3 9.45l-7.72 7.72c-.78.78-.78 2.05 0 2.83L4 21.41c.39.39.9.59 1.41.59.51 0 1.02-.2 1.41-.59l7.78-7.78 2.81-2.81c.8-.78.8-2.07 0-2.86zM5.41 20L4 18.59l7.72-7.72 1.47 1.35L5.41 20z\"/>\n",
              "  </svg>\n",
              "      </button>\n",
              "      \n",
              "  <style>\n",
              "    .colab-df-container {\n",
              "      display:flex;\n",
              "      flex-wrap:wrap;\n",
              "      gap: 12px;\n",
              "    }\n",
              "\n",
              "    .colab-df-convert {\n",
              "      background-color: #E8F0FE;\n",
              "      border: none;\n",
              "      border-radius: 50%;\n",
              "      cursor: pointer;\n",
              "      display: none;\n",
              "      fill: #1967D2;\n",
              "      height: 32px;\n",
              "      padding: 0 0 0 0;\n",
              "      width: 32px;\n",
              "    }\n",
              "\n",
              "    .colab-df-convert:hover {\n",
              "      background-color: #E2EBFA;\n",
              "      box-shadow: 0px 1px 2px rgba(60, 64, 67, 0.3), 0px 1px 3px 1px rgba(60, 64, 67, 0.15);\n",
              "      fill: #174EA6;\n",
              "    }\n",
              "\n",
              "    [theme=dark] .colab-df-convert {\n",
              "      background-color: #3B4455;\n",
              "      fill: #D2E3FC;\n",
              "    }\n",
              "\n",
              "    [theme=dark] .colab-df-convert:hover {\n",
              "      background-color: #434B5C;\n",
              "      box-shadow: 0px 1px 3px 1px rgba(0, 0, 0, 0.15);\n",
              "      filter: drop-shadow(0px 1px 2px rgba(0, 0, 0, 0.3));\n",
              "      fill: #FFFFFF;\n",
              "    }\n",
              "  </style>\n",
              "\n",
              "      <script>\n",
              "        const buttonEl =\n",
              "          document.querySelector('#df-ebeaede7-f8cd-45f8-9cfb-354b7f66c9bf button.colab-df-convert');\n",
              "        buttonEl.style.display =\n",
              "          google.colab.kernel.accessAllowed ? 'block' : 'none';\n",
              "\n",
              "        async function convertToInteractive(key) {\n",
              "          const element = document.querySelector('#df-ebeaede7-f8cd-45f8-9cfb-354b7f66c9bf');\n",
              "          const dataTable =\n",
              "            await google.colab.kernel.invokeFunction('convertToInteractive',\n",
              "                                                     [key], {});\n",
              "          if (!dataTable) return;\n",
              "\n",
              "          const docLinkHtml = 'Like what you see? Visit the ' +\n",
              "            '<a target=\"_blank\" href=https://colab.research.google.com/notebooks/data_table.ipynb>data table notebook</a>'\n",
              "            + ' to learn more about interactive tables.';\n",
              "          element.innerHTML = '';\n",
              "          dataTable['output_type'] = 'display_data';\n",
              "          await google.colab.output.renderOutput(dataTable, element);\n",
              "          const docLink = document.createElement('div');\n",
              "          docLink.innerHTML = docLinkHtml;\n",
              "          element.appendChild(docLink);\n",
              "        }\n",
              "      </script>\n",
              "    </div>\n",
              "  </div>\n",
              "  "
            ]
          },
          "metadata": {},
          "execution_count": 44
        }
      ],
      "source": [
        "df.head()"
      ]
    },
    {
      "cell_type": "code",
      "execution_count": null,
      "metadata": {
        "colab": {
          "base_uri": "https://localhost:8080/",
          "height": 501
        },
        "id": "SAT0RWH8xnQ5",
        "outputId": "493c7ede-aa98-41e7-aacb-c5ea52f603b1"
      },
      "outputs": [
        {
          "output_type": "display_data",
          "data": {
            "text/plain": [
              "<Figure size 720x576 with 6 Axes>"
            ],
            "image/png": "[encoded data removed]"
          },
          "metadata": {}
        }
      ],
      "source": [
        "df.hist(figsize=(10, 8));"
      ]
    },
    {
      "cell_type": "markdown",
      "metadata": {
        "id": "A5z3tAHtyH9q"
      },
      "source": [
        "На ряде гистограмм наблюдается концентрация значений в левой части и жирные хвосты в правой части таблиц. Возможно, требуется очистка от выбросов. Также в некоторых  столбцах с числами неверно указан тип, из-за чего невозможно на этапе ознакомления с данными построить гистограмму."
      ]
    },
    {
      "cell_type": "markdown",
      "metadata": {
        "id": "YagStHUYofpo"
      },
      "source": [
        "<a id=\"preprocessing\">\n",
        "    \n",
        "## Подготовим данные </a>"
      ]
    },
    {
      "cell_type": "markdown",
      "metadata": {
        "id": "bcTLwnylrdV3"
      },
      "source": [
        "\n",
        "<a id=\"names\">\n",
        "\n",
        "**Заменим названия столбцов (приведем к нижнему регистру)**\n",
        "</a>"
      ]
    },
    {
      "cell_type": "code",
      "execution_count": null,
      "metadata": {
        "id": "zSirSLrQ9BIE"
      },
      "outputs": [],
      "source": [
        "df.columns = df.columns.str.lower()"
      ]
    },
    {
      "cell_type": "markdown",
      "metadata": {
        "id": "K0D7--Rnrder"
      },
      "source": [
        "<a id=\"type\">\n",
        "\n",
        "**Преобразуем данные в нужные типы**\n",
        "</a>"
      ]
    },
    {
      "cell_type": "code",
      "execution_count": null,
      "metadata": {
        "colab": {
          "base_uri": "https://localhost:8080/"
        },
        "id": "YasDrPWDPPw2",
        "outputId": "49b860ef-e29a-4f7c-93ae-e379c2c9c14f"
      },
      "outputs": [
        {
          "output_type": "execute_result",
          "data": {
            "text/plain": [
              "array(['8', nan, '8.3', '8.5', '6.6', '8.4', '8.6', '7.7', '6.3', '7.4',\n",
              "       '8.2', '9', '7.9', '8.1', '8.7', '7.1', '3.4', '5.3', '4.8', '3.2',\n",
              "       '8.9', '6.4', '7.8', '7.5', '2.6', '7.2', '9.2', '7', '7.3', '4.3',\n",
              "       '7.6', '5.7', '5', '9.1', '6.5', 'tbd', '8.8', '6.9', '9.4', '6.8',\n",
              "       '6.1', '6.7', '5.4', '4', '4.9', '4.5', '9.3', '6.2', '4.2', '6',\n",
              "       '3.7', '4.1', '5.8', '5.6', '5.5', '4.4', '4.6', '5.9', '3.9',\n",
              "       '3.1', '2.9', '5.2', '3.3', '4.7', '5.1', '3.5', '2.5', '1.9', '3',\n",
              "       '2.7', '2.2', '2', '9.5', '2.1', '3.6', '2.8', '1.8', '3.8', '0',\n",
              "       '1.6', '9.6', '2.4', '1.7', '1.1', '0.3', '1.5', '0.7', '1.2',\n",
              "       '2.3', '0.5', '1.3', '0.2', '0.6', '1.4', '0.9', '1', '9.7'],\n",
              "      dtype=object)"
            ]
          },
          "metadata": {},
          "execution_count": 47
        }
      ],
      "source": [
        "df['user_score'].unique()"
      ]
    },
    {
      "cell_type": "code",
      "execution_count": null,
      "metadata": {
        "id": "kw3iZCFS-Gmd"
      },
      "outputs": [],
      "source": [
        "df['year_of_release'] = df['year_of_release'].astype('Int64')\n",
        "df['user_score'] = pd.to_numeric(df['user_score'], errors = 'coerce')"
      ]
    },
    {
      "cell_type": "markdown",
      "metadata": {
        "id": "s-MLt03c-NXv"
      },
      "source": [
        "Данные в столбце \"Год выпуска\" заменили на тип 'int' для более удобного  дальнейшего исследования. Сведения в столбце \"Оценка пользователей\" преобразовали в тип 'float'. Из-за наличия аббревиатуры 'tbd' (\"требует определения\", то есть оценка не выставлена) использовали для столбца метод 'to_numeric'. Возможно, ошибки в типах данных возникли при выгрузке. "
      ]
    },
    {
      "cell_type": "markdown",
      "metadata": {
        "id": "5n4lcZ6TrdmJ"
      },
      "source": [
        "<a id=\"skip\">\n",
        "\n",
        "**Обработаем явные дубликаты и пропущенные значения в столбцах**\n",
        "</a>"
      ]
    },
    {
      "cell_type": "code",
      "execution_count": null,
      "metadata": {
        "colab": {
          "base_uri": "https://localhost:8080/",
          "height": 112
        },
        "id": "t1sP75U1zEi5",
        "outputId": "44801d11-b541-49a2-a73c-4497549c18b6"
      },
      "outputs": [
        {
          "output_type": "execute_result",
          "data": {
            "text/plain": [
              "                name platform  year_of_release   genre  na_sales  eu_sales  \\\n",
              "14244            NaN      GEN             1993     NaN       0.0      0.00   \n",
              "16230  Madden NFL 13      PS3             2012  Sports       0.0      0.01   \n",
              "\n",
              "       jp_sales  other_sales  critic_score  user_score rating  \n",
              "14244      0.03          0.0           NaN         NaN    NaN  \n",
              "16230      0.00          0.0          83.0         5.5      E  "
            ],
            "text/html": [
              "\n",
              "  <div id=\"df-716aa30b-5022-44f1-b39b-e8bce64ebc69\">\n",
              "    <div class=\"colab-df-container\">\n",
              "      <div>\n",
              "<style scoped>\n",
              "    .dataframe tbody tr th:only-of-type {\n",
              "        vertical-align: middle;\n",
              "    }\n",
              "\n",
              "    .dataframe tbody tr th {\n",
              "        vertical-align: top;\n",
              "    }\n",
              "\n",
              "    .dataframe thead th {\n",
              "        text-align: right;\n",
              "    }\n",
              "</style>\n",
              "<table border=\"1\" class=\"dataframe\">\n",
              "  <thead>\n",
              "    <tr style=\"text-align: right;\">\n",
              "      <th></th>\n",
              "      <th>name</th>\n",
              "      <th>platform</th>\n",
              "      <th>year_of_release</th>\n",
              "      <th>genre</th>\n",
              "      <th>na_sales</th>\n",
              "      <th>eu_sales</th>\n",
              "      <th>jp_sales</th>\n",
              "      <th>other_sales</th>\n",
              "      <th>critic_score</th>\n",
              "      <th>user_score</th>\n",
              "      <th>rating</th>\n",
              "    </tr>\n",
              "  </thead>\n",
              "  <tbody>\n",
              "    <tr>\n",
              "      <th>14244</th>\n",
              "      <td>NaN</td>\n",
              "      <td>GEN</td>\n",
              "      <td>1993</td>\n",
              "      <td>NaN</td>\n",
              "      <td>0.0</td>\n",
              "      <td>0.00</td>\n",
              "      <td>0.03</td>\n",
              "      <td>0.0</td>\n",
              "      <td>NaN</td>\n",
              "      <td>NaN</td>\n",
              "      <td>NaN</td>\n",
              "    </tr>\n",
              "    <tr>\n",
              "      <th>16230</th>\n",
              "      <td>Madden NFL 13</td>\n",
              "      <td>PS3</td>\n",
              "      <td>2012</td>\n",
              "      <td>Sports</td>\n",
              "      <td>0.0</td>\n",
              "      <td>0.01</td>\n",
              "      <td>0.00</td>\n",
              "      <td>0.0</td>\n",
              "      <td>83.0</td>\n",
              "      <td>5.5</td>\n",
              "      <td>E</td>\n",
              "    </tr>\n",
              "  </tbody>\n",
              "</table>\n",
              "</div>\n",
              "      <button class=\"colab-df-convert\" onclick=\"convertToInteractive('df-716aa30b-5022-44f1-b39b-e8bce64ebc69')\"\n",
              "              title=\"Convert this dataframe to an interactive table.\"\n",
              "              style=\"display:none;\">\n",
              "        \n",
              "  <svg xmlns=\"http://www.w3.org/2000/svg\" height=\"24px\"viewBox=\"0 0 24 24\"\n",
              "       width=\"24px\">\n",
              "    <path d=\"M0 0h24v24H0V0z\" fill=\"none\"/>\n",
              "    <path d=\"M18.56 5.44l.94 2.06.94-2.06 2.06-.94-2.06-.94-.94-2.06-.94 2.06-2.06.94zm-11 1L8.5 8.5l.94-2.06 2.06-.94-2.06-.94L8.5 2.5l-.94 2.06-2.06.94zm10 10l.94 2.06.94-2.06 2.06-.94-2.06-.94-.94-2.06-.94 2.06-2.06.94z\"/><path d=\"M17.41 7.96l-1.37-1.37c-.4-.4-.92-.59-1.43-.59-.52 0-1.04.2-1.43.59L10.3 9.45l-7.72 7.72c-.78.78-.78 2.05 0 2.83L4 21.41c.39.39.9.59 1.41.59.51 0 1.02-.2 1.41-.59l7.78-7.78 2.81-2.81c.8-.78.8-2.07 0-2.86zM5.41 20L4 18.59l7.72-7.72 1.47 1.35L5.41 20z\"/>\n",
              "  </svg>\n",
              "      </button>\n",
              "      \n",
              "  <style>\n",
              "    .colab-df-container {\n",
              "      display:flex;\n",
              "      flex-wrap:wrap;\n",
              "      gap: 12px;\n",
              "    }\n",
              "\n",
              "    .colab-df-convert {\n",
              "      background-color: #E8F0FE;\n",
              "      border: none;\n",
              "      border-radius: 50%;\n",
              "      cursor: pointer;\n",
              "      display: none;\n",
              "      fill: #1967D2;\n",
              "      height: 32px;\n",
              "      padding: 0 0 0 0;\n",
              "      width: 32px;\n",
              "    }\n",
              "\n",
              "    .colab-df-convert:hover {\n",
              "      background-color: #E2EBFA;\n",
              "      box-shadow: 0px 1px 2px rgba(60, 64, 67, 0.3), 0px 1px 3px 1px rgba(60, 64, 67, 0.15);\n",
              "      fill: #174EA6;\n",
              "    }\n",
              "\n",
              "    [theme=dark] .colab-df-convert {\n",
              "      background-color: #3B4455;\n",
              "      fill: #D2E3FC;\n",
              "    }\n",
              "\n",
              "    [theme=dark] .colab-df-convert:hover {\n",
              "      background-color: #434B5C;\n",
              "      box-shadow: 0px 1px 3px 1px rgba(0, 0, 0, 0.15);\n",
              "      filter: drop-shadow(0px 1px 2px rgba(0, 0, 0, 0.3));\n",
              "      fill: #FFFFFF;\n",
              "    }\n",
              "  </style>\n",
              "\n",
              "      <script>\n",
              "        const buttonEl =\n",
              "          document.querySelector('#df-716aa30b-5022-44f1-b39b-e8bce64ebc69 button.colab-df-convert');\n",
              "        buttonEl.style.display =\n",
              "          google.colab.kernel.accessAllowed ? 'block' : 'none';\n",
              "\n",
              "        async function convertToInteractive(key) {\n",
              "          const element = document.querySelector('#df-716aa30b-5022-44f1-b39b-e8bce64ebc69');\n",
              "          const dataTable =\n",
              "            await google.colab.kernel.invokeFunction('convertToInteractive',\n",
              "                                                     [key], {});\n",
              "          if (!dataTable) return;\n",
              "\n",
              "          const docLinkHtml = 'Like what you see? Visit the ' +\n",
              "            '<a target=\"_blank\" href=https://colab.research.google.com/notebooks/data_table.ipynb>data table notebook</a>'\n",
              "            + ' to learn more about interactive tables.';\n",
              "          element.innerHTML = '';\n",
              "          dataTable['output_type'] = 'display_data';\n",
              "          await google.colab.output.renderOutput(dataTable, element);\n",
              "          const docLink = document.createElement('div');\n",
              "          docLink.innerHTML = docLinkHtml;\n",
              "          element.appendChild(docLink);\n",
              "        }\n",
              "      </script>\n",
              "    </div>\n",
              "  </div>\n",
              "  "
            ]
          },
          "metadata": {},
          "execution_count": 49
        }
      ],
      "source": [
        "df[df.duplicated(subset=['name', 'platform', 'year_of_release'])==True]"
      ]
    },
    {
      "cell_type": "code",
      "execution_count": null,
      "metadata": {
        "id": "fyMX6XE9ShDd"
      },
      "outputs": [],
      "source": [
        "df = df.query('index != 16230').copy()"
      ]
    },
    {
      "cell_type": "code",
      "execution_count": null,
      "metadata": {
        "colab": {
          "base_uri": "https://localhost:8080/"
        },
        "id": "NogViRsDGbzY",
        "outputId": "e0e2d994-526d-4b67-e648-91969621c819"
      },
      "outputs": [
        {
          "output_type": "execute_result",
          "data": {
            "text/plain": [
              "name               0.000120\n",
              "platform           0.000000\n",
              "year_of_release    0.016094\n",
              "genre              0.000120\n",
              "na_sales           0.000000\n",
              "eu_sales           0.000000\n",
              "jp_sales           0.000000\n",
              "other_sales        0.000000\n",
              "critic_score       0.513222\n",
              "user_score         0.545950\n",
              "rating             0.404810\n",
              "dtype: float64"
            ]
          },
          "metadata": {},
          "execution_count": 51
        }
      ],
      "source": [
        "df.isna().mean()"
      ]
    },
    {
      "cell_type": "code",
      "execution_count": null,
      "metadata": {
        "id": "c7vr5EJRShDh"
      },
      "outputs": [],
      "source": [
        "df['rating'] = df['rating'].fillna('unknown')"
      ]
    },
    {
      "cell_type": "markdown",
      "metadata": {
        "id": "FyjNbi1zHi0I"
      },
      "source": [
        "\n",
        "Пропуски в столбце \"Год выпска\" оставим без изменений. Их всего два процента, а заполнение может привести к искажению данных, поскольку речь о конкретных релизах игр.\n",
        "\n",
        "Заполнять оценки пользователей и критиков какими-либо значениями считаем нецелесообразным. Данные столбцы содержат уникальные реакции пользователей, у каждой игры свои особенности по составу и качеству исполнения даже в рамках одного жарна и разработчика.\n",
        "\n",
        "Пропуски в рейтинге ESRB заполним значением 'unknown'. Пропусков в данном столбце много, 40%. Возможно, исследование незаполненных ячеек даст интересную информацию. "
      ]
    },
    {
      "cell_type": "markdown",
      "metadata": {
        "id": "80T7xKgards5"
      },
      "source": [
        "<a id=\"sales\">\n",
        "\n",
        "**Посчитаем суммарные продажи во всех регионах и запишем их в отдельный столбец**\n",
        "</a>"
      ]
    },
    {
      "cell_type": "code",
      "execution_count": null,
      "metadata": {
        "id": "odGPj7UTc_eR"
      },
      "outputs": [],
      "source": [
        "df['total_sales'] = df['na_sales'] + df['eu_sales'] + df['jp_sales'] + df['other_sales']"
      ]
    },
    {
      "cell_type": "markdown",
      "metadata": {
        "id": "gULfI5djovOH"
      },
      "source": [
        "<a id=\"analys\">\n",
        "    \n",
        "## Проведём исследовательский анализ данных </a>"
      ]
    },
    {
      "cell_type": "markdown",
      "metadata": {
        "id": "HjBYCajKsXfH"
      },
      "source": [
        "<a id=\"total\">\n",
        "\n",
        "**Посмотрим, сколько игр выпускалось в разные годы и важны ли данные за все периоды**\n",
        "</a>"
      ]
    },
    {
      "cell_type": "code",
      "execution_count": null,
      "metadata": {
        "colab": {
          "base_uri": "https://localhost:8080/",
          "height": 246
        },
        "id": "gp-BNfnvCSrr",
        "outputId": "048e8678-9b5d-40b4-a657-e46ef9c5d28e"
      },
      "outputs": [
        {
          "output_type": "display_data",
          "data": {
            "text/plain": [
              "<Figure size 1080x216 with 1 Axes>"
            ],
            "image/png": "[encoded data removed]"
          },
          "metadata": {}
        }
      ],
      "source": [
        "df['year_of_release'].plot(kind='hist', bins=37, grid=True, figsize=(15, 3))\n",
        "plt.title('Сколько игр выпускалось в разны годы?')\n",
        "plt.xlabel('Годы')\n",
        "plt.ylabel('Число выпущенных игр');"
      ]
    },
    {
      "cell_type": "markdown",
      "metadata": {
        "id": "MbKtvIhYDSoo"
      },
      "source": [
        "Судя по графику, в 1980-е выходило не больше нескольких десятков игр каждый год, причем количество премьер было одинаковым год от года. Начиная с 1990-го года наблюдается едегожный рост новых релизов. В начале 2000-х - почти двукратный рост выхода новых игр, который достигает пика в 2008-2009 годах (более 1400 новых игр в каждом из двух годов). В 2012-м году - двукратное падение премьер. Ситуация замирает до 2016-го года включительно.   "
      ]
    },
    {
      "cell_type": "markdown",
      "metadata": {
        "id": "hO3m-lgGsX4I"
      },
      "source": [
        "<a id=\"sales_platforms\">\n",
        "\n",
        "**Посмотрим, как менялись продажи по платформам**\n",
        "</a>"
      ]
    },
    {
      "cell_type": "markdown",
      "metadata": {
        "id": "zGS18RppOfUu"
      },
      "source": [
        "Выберем 10 платформ с наибольшими суммарными продажами. \n",
        "\n",
        "Но вначале рассмотрим столбец с суммарными продажами подробнее."
      ]
    },
    {
      "cell_type": "code",
      "execution_count": null,
      "metadata": {
        "colab": {
          "base_uri": "https://localhost:8080/",
          "height": 246
        },
        "id": "dyZaJNXCloB7",
        "outputId": "263888ed-8698-4a3e-aa2b-d6efcbb002d7"
      },
      "outputs": [
        {
          "output_type": "display_data",
          "data": {
            "text/plain": [
              "<Figure size 1080x216 with 1 Axes>"
            ],
            "image/png": "[encoded data removed]"
          },
          "metadata": {}
        }
      ],
      "source": [
        "df['total_sales'].plot(kind='hist', grid=True, figsize=(15, 3))\n",
        "plt.title('Суммарные продажи')\n",
        "plt.xlabel('Миллионы проданных копий')\n",
        "plt.ylabel('Число наблюдений');"
      ]
    },
    {
      "cell_type": "code",
      "execution_count": null,
      "metadata": {
        "colab": {
          "base_uri": "https://localhost:8080/",
          "height": 466
        },
        "id": "gqIB27rxphW2",
        "outputId": "a4968891-e496-4220-fdad-4d3d06da8fe2"
      },
      "outputs": [
        {
          "output_type": "display_data",
          "data": {
            "text/plain": [
              "<Figure size 1080x576 with 1 Axes>"
            ],
            "image/png": "[encoded data removed]"
          },
          "metadata": {}
        }
      ],
      "source": [
        "sns.boxplot(y='total_sales', data=df)\n",
        "plt.ylabel('Миллионы проданных копий');"
      ]
    },
    {
      "cell_type": "code",
      "execution_count": null,
      "metadata": {
        "colab": {
          "base_uri": "https://localhost:8080/"
        },
        "id": "P7fstyQHkKcI",
        "outputId": "a8e7d24f-b04b-403d-ee2f-87c628c442fc"
      },
      "outputs": [
        {
          "output_type": "execute_result",
          "data": {
            "text/plain": [
              "count    16714.000000\n",
              "mean         0.533427\n",
              "std          1.548302\n",
              "min          0.000000\n",
              "25%          0.060000\n",
              "50%          0.170000\n",
              "75%          0.470000\n",
              "max         82.540000\n",
              "Name: total_sales, dtype: float64"
            ]
          },
          "metadata": {},
          "execution_count": 57
        }
      ],
      "source": [
        "df['total_sales'].describe()"
      ]
    },
    {
      "cell_type": "markdown",
      "metadata": {
        "id": "ytyaD3damveY"
      },
      "source": [
        "Наблюдается жирный хвост, который может сильно исказить результаты исследования. Среднее значение выше медианы и даже третьего квартиля.\"Ящик с усами\" при таких значениях вообще не просматривается. Однако такая картина может быть особбенностью рынка видеоигр. Оставим данные без изменений."
      ]
    },
    {
      "cell_type": "code",
      "execution_count": null,
      "metadata": {
        "colab": {
          "base_uri": "https://localhost:8080/",
          "height": 265
        },
        "id": "I4zXyzEGFJ26",
        "outputId": "417112ab-456b-49ea-9554-28b5ab950260"
      },
      "outputs": [
        {
          "output_type": "display_data",
          "data": {
            "text/plain": [
              "<Figure size 1080x216 with 1 Axes>"
            ],
            "image/png": "[encoded data removed]"
          },
          "metadata": {}
        }
      ],
      "source": [
        "top_platforms = df\\\n",
        "              .pivot_table(index='platform', values='total_sales', aggfunc=sum)\\\n",
        "              .sort_values(by=['total_sales'], ascending=False)\\\n",
        "              .head(10)\n",
        "\n",
        "top_platforms.plot(kind='bar', figsize=(15, 3))\n",
        "plt.title('Популярность платформ по суммарным продажам (1980-2016)')\n",
        "plt.xlabel('Платформы')\n",
        "plt.ylabel('Суммарные продажи');"
      ]
    },
    {
      "cell_type": "markdown",
      "metadata": {
        "id": "-4RItIs1O3GI"
      },
      "source": [
        "Лидер суммарных продаж - платформа PS2 (600 тысяч проданных копий). У платформ, занявших 2-6 места в топ-10, - около 400 тысяч проданных копий, это число постепенно снижается. 7-10 места - порядка 250 тысяч проданных копий.\n",
        "\n",
        "Посмотрим на распределение по годам."
      ]
    },
    {
      "cell_type": "code",
      "execution_count": null,
      "metadata": {
        "colab": {
          "base_uri": "https://localhost:8080/",
          "height": 538
        },
        "id": "kteOs5jMMpkg",
        "outputId": "21a20d27-1a1e-4855-c696-5696d98fe59c"
      },
      "outputs": [
        {
          "output_type": "display_data",
          "data": {
            "text/plain": [
              "<Figure size 1080x576 with 2 Axes>"
            ],
            "image/png": "[encoded data removed]"
          },
          "metadata": {}
        }
      ],
      "source": [
        "platform_year_sales = df.pivot_table(\n",
        "                     index=['platform'],  \n",
        "                     columns='year_of_release', \n",
        "                     values='total_sales', \n",
        "                     aggfunc=sum).applymap(float)\n",
        "\n",
        "sns.set(rc = {'figure.figsize':(15,8)})\n",
        "sns.heatmap(platform_year_sales, linewidths=.5)\n",
        "plt.title('Распределение платформ по суммарным продажам по годам (1980-2016)', fontsize = 15)\n",
        "plt.xlabel('Год')\n",
        "plt.ylabel('Платформа');"
      ]
    },
    {
      "cell_type": "markdown",
      "metadata": {
        "id": "DUE30RxD3rUu"
      },
      "source": [
        "Средний срок жизни платформы - 5-8 лет. Практически все платформы-лидеры не \"выстреливали\" сразу, требовалось 1-2 года, чтобы пользователи распробовали новинку. Исключение составляет платформа PC. На фоне средних суммарных продаж для топ-10 платформ, данная платформа демонстрирует завидную живучесть и присутствует на рынке более 12 лет."
      ]
    },
    {
      "cell_type": "markdown",
      "metadata": {
        "id": "3kMgr738sYJv"
      },
      "source": [
        "<a id=\"actual\">\n",
        "\n",
        "**Возьмем данные за актуальный период, чтобы построить прогноз на 2017 год**\n",
        "</a>"
      ]
    },
    {
      "cell_type": "markdown",
      "metadata": {
        "id": "DSXPnoqs_1yZ"
      },
      "source": [
        "Актуальным будем считать период последних трех лет. Этот период соответствует тенденции по количеству премьер после премьерного бума 2008-2009 годов. В него входят платформы и игры, которые и сейчас (декабрь 2016 года) на рынке, и по которым можно строить прогноз на год 2017-й. "
      ]
    },
    {
      "cell_type": "code",
      "execution_count": null,
      "metadata": {
        "colab": {
          "base_uri": "https://localhost:8080/"
        },
        "id": "sfmI-wjT5TSo",
        "outputId": "f36244c6-a594-43b7-a1e1-87a949c754fb"
      },
      "outputs": [
        {
          "output_type": "execute_result",
          "data": {
            "text/plain": [
              "(1689, 12)"
            ]
          },
          "metadata": {},
          "execution_count": 60
        }
      ],
      "source": [
        "df_2014_16 = df[df['year_of_release'].isin([2014, 2015, 2016])].copy()\n",
        "df_2014_16.shape"
      ]
    },
    {
      "cell_type": "code",
      "execution_count": null,
      "metadata": {
        "id": "ACNs40-RShEQ",
        "outputId": "1910e966-ac53-4936-9d0f-ff1dfb673057",
        "colab": {
          "base_uri": "https://localhost:8080/",
          "height": 374
        }
      },
      "outputs": [
        {
          "output_type": "display_data",
          "data": {
            "text/plain": [
              "<Figure size 1080x360 with 1 Axes>"
            ],
            "image/png": "[encoded data removed]"
          },
          "metadata": {}
        }
      ],
      "source": [
        "df_2014_16\\\n",
        "  .pivot_table(index=['platform'], columns='year_of_release', values='total_sales', aggfunc=sum)\\\n",
        "  .plot(kind='bar', figsize=(15, 5))\n",
        "\n",
        "plt.title('Популярность платформ по суммарным продажам за актуальный период по годам')\n",
        "plt.xlabel('Платформы')\n",
        "plt.ylabel('Суммарные продажи');  "
      ]
    },
    {
      "cell_type": "markdown",
      "metadata": {
        "id": "XLpwqVQI6bbo"
      },
      "source": [
        "Продажи игр на всех платформах падают с каждым годом. Лидеры - PS4 (Sony Electronics), XOne (Microsoft) - новички-конкуренты. Обе вышли в 2014-м, и к 2015-му продажи игр для них выросли. Но в 2016-м продажи упали. У XOne более чем вдвое, у PS4 на 45%. Таким образом, и по совокупным продажам, и по снижающейся динамике продаж выглядит наиболее перспективной платформой. \n",
        "\n",
        "В аутсайдерах портативные платформы Wii и PSP, для которой в 2016 году вовсе нет новинок. Поддержка этих платформ прекращена в 2013 и 2014 году, соответственно. "
      ]
    },
    {
      "cell_type": "markdown",
      "metadata": {
        "id": "ajk6bdnxsYYI"
      },
      "source": [
        "<a id=\"boxplot\">\n",
        "\n",
        "**Построим график «ящик с усами» по глобальным продажам игр в разбивке по платформам**\n",
        "</a>"
      ]
    },
    {
      "cell_type": "code",
      "execution_count": null,
      "metadata": {
        "colab": {
          "base_uri": "https://localhost:8080/",
          "height": 518
        },
        "id": "RLmmUoCbA0Xu",
        "outputId": "2e4b5b12-97c8-4333-d991-07c2ab1b9d15"
      },
      "outputs": [
        {
          "output_type": "display_data",
          "data": {
            "text/plain": [
              "<Figure size 1080x576 with 1 Axes>"
            ],
            "image/png": "[encoded data removed]"
          },
          "metadata": {}
        }
      ],
      "source": [
        "sns.boxplot(data = df_2014_16, x = 'platform' , y = 'total_sales')\n",
        "plt.ylim(0, 1.75)\n",
        "plt.title('Суммарные продажи игр за актуальный период в разбивке по платформам')\n",
        "plt.xlabel('Платформы')\n",
        "plt.ylabel('Суммарные продажи');"
      ]
    },
    {
      "cell_type": "markdown",
      "metadata": {
        "id": "BrXgmPMwYEUm"
      },
      "source": [
        "У всех платформ правое от медианного значения плечо гораздо дальше левого. У платформы XOne медианное значение чуть выше, чем у конкурента, платфоры PS4, зато у PS4 третий квартиль и правый ус длиннее, что говорит о перспективах вложения в рекламу для этой площадки. Если продвигать дорогие позици в рекламе, можно привлечь новых клиентов, заказывающих на бОльшие суммы. Предшественник XOne, платформа X360, также имеет перспективные показатели третьего квартиля и правого уса.\n",
        "\n",
        "Отметим портативную платформу WiiU. По размаху правого уса она также имеет перспективы привлечения \"дорогих\" клиентов через рекламу. По уровню правого уса платформа занимает третье место, а ее медиана даже выше, чем у лидера - PS4."
      ]
    },
    {
      "cell_type": "markdown",
      "metadata": {
        "id": "47bbRj9ssYmd"
      },
      "source": [
        "<a id=\"reviews\">\n",
        "\n",
        "**Посмотрим, как влияют на продажи внутри одной популярной платформы отзывы пользователей и критиков**\n",
        "</a>"
      ]
    },
    {
      "cell_type": "markdown",
      "metadata": {
        "id": "331OOFzugtEL"
      },
      "source": [
        "Возьмем платформу XOne."
      ]
    },
    {
      "cell_type": "code",
      "execution_count": null,
      "metadata": {
        "colab": {
          "base_uri": "https://localhost:8080/",
          "height": 372
        },
        "id": "qL-YZDXDg5wY",
        "outputId": "c3827989-bbae-4637-f5c3-a505f46b90cf"
      },
      "outputs": [
        {
          "output_type": "display_data",
          "data": {
            "text/plain": [
              "<Figure size 1080x360 with 1 Axes>"
            ],
            "image/png": "[encoded data removed]"
          },
          "metadata": {}
        },
        {
          "output_type": "stream",
          "name": "stdout",
          "text": [
            "Коэффициент корреляции:  -0.0703839280647581\n"
          ]
        }
      ],
      "source": [
        "df_2014_16_xone = df_2014_16[df_2014_16['platform'].isin(['XOne'])]\n",
        "\n",
        "plt.figure(figsize = (15,5))\n",
        "sns.regplot(x = 'total_sales', y = 'user_score', data = df_2014_16_xone, line_kws={'color':'red'})\n",
        "plt.title('Взаимосвязь между оценками пользователей и продажами на примере платформы XOne за актуальный период')\n",
        "plt.xlabel('Суммарные продажи')\n",
        "plt.ylabel('Оценки пользователей')\n",
        "plt.show()\n",
        "print('Коэффициент корреляции: ', df_2014_16_xone['user_score'].corr(df_2014_16_xone['total_sales']))"
      ]
    },
    {
      "cell_type": "code",
      "execution_count": null,
      "metadata": {
        "colab": {
          "base_uri": "https://localhost:8080/",
          "height": 372
        },
        "id": "e-tJtc1CghIw",
        "outputId": "9f3378bb-fbf3-429a-dd1a-3ee80a792e21"
      },
      "outputs": [
        {
          "output_type": "display_data",
          "data": {
            "text/plain": [
              "<Figure size 1080x360 with 1 Axes>"
            ],
            "image/png": "[encoded data removed]"
          },
          "metadata": {}
        },
        {
          "output_type": "stream",
          "name": "stdout",
          "text": [
            "Коэффициент корреляции:  0.42867694370333226\n"
          ]
        }
      ],
      "source": [
        "plt.figure(figsize = (15,5))\n",
        "sns.regplot(x = 'total_sales', y = 'critic_score', data = df_2014_16_xone, line_kws={'color':'red'})\n",
        "plt.title('Взаимосвязь между оценками критиков и продажами на примере платформы XOne за актуальный период')\n",
        "plt.xlabel('Суммарные продажи')\n",
        "plt.ylabel('Оценки критиков')\n",
        "plt.show()\n",
        "print('Коэффициент корреляции: ', df_2014_16_xone['critic_score'].corr(df_2014_16_xone['total_sales']))"
      ]
    },
    {
      "cell_type": "markdown",
      "metadata": {
        "id": "Lv8ZGkw5jlCh"
      },
      "source": [
        "Оценки пользователей никак не влияют на продажи игр для платформы XOne.\n",
        "Корреляция оценок критиков и продаж очень слабая."
      ]
    },
    {
      "cell_type": "code",
      "execution_count": null,
      "metadata": {
        "colab": {
          "base_uri": "https://localhost:8080/",
          "height": 372
        },
        "id": "PCT_uWUVkUBG",
        "outputId": "7dc2e6d4-34d5-415e-d03e-3862f2048b47"
      },
      "outputs": [
        {
          "output_type": "display_data",
          "data": {
            "text/plain": [
              "<Figure size 1080x360 with 1 Axes>"
            ],
            "image/png": "[encoded data removed]"
          },
          "metadata": {}
        },
        {
          "output_type": "stream",
          "name": "stdout",
          "text": [
            "Коэффициент корреляции:  -0.013070305002484562\n"
          ]
        }
      ],
      "source": [
        "plt.figure(figsize = (15,5))\n",
        "sns.regplot(x = 'total_sales', y = 'user_score', data = df_2014_16, line_kws={'color':'red'})\n",
        "plt.title('Взаимосвязь между оценками пользователей и продажами платформы за актуальный период')\n",
        "plt.xlabel('Суммарные продажи')\n",
        "plt.ylabel('Оценки пользователей')\n",
        "plt.show()\n",
        "print('Коэффициент корреляции: ', df_2014_16['user_score'].corr(df_2014_16['total_sales']))"
      ]
    },
    {
      "cell_type": "code",
      "execution_count": null,
      "metadata": {
        "colab": {
          "base_uri": "https://localhost:8080/",
          "height": 372
        },
        "id": "DpXsfDpvgnIb",
        "outputId": "aee19f1c-05bb-464d-ce43-4287d881a8b1"
      },
      "outputs": [
        {
          "output_type": "display_data",
          "data": {
            "text/plain": [
              "<Figure size 1080x360 with 1 Axes>"
            ],
            "image/png": "[encoded data removed]"
          },
          "metadata": {}
        },
        {
          "output_type": "stream",
          "name": "stdout",
          "text": [
            "Коэффициент корреляции:  0.328105086966363\n"
          ]
        }
      ],
      "source": [
        "plt.figure(figsize = (15,5))\n",
        "sns.regplot(x = 'total_sales', y = 'critic_score', data = df_2014_16, line_kws={'color':'red'})\n",
        "plt.title('Взаимосвязь между оценками критиков и продажами платформы за актуальный период')\n",
        "plt.xlabel('Суммарные продажи')\n",
        "plt.ylabel('Оценки критиков')\n",
        "plt.show()\n",
        "print('Коэффициент корреляции: ', df_2014_16['critic_score'].corr(df_2014_16['total_sales']))"
      ]
    },
    {
      "cell_type": "markdown",
      "metadata": {
        "id": "zk3T8tu1lpXX"
      },
      "source": [
        "Корреляция у других платформ такая же. Оценки пользователей не влияют на продажи, между оценками критиков и продажами очень слабая корреляция. Отметим, что в столбцах с оценками критиков и пользователей около 50% пропусков. Данных может быть недостаточно."
      ]
    },
    {
      "cell_type": "markdown",
      "metadata": {
        "id": "4j151qBBsYzC"
      },
      "source": [
        "<a id=\"genres\">\n",
        "\n",
        "**Посмотрим на общее распределение игр по жанрам**\n",
        "</a>"
      ]
    },
    {
      "cell_type": "markdown",
      "metadata": {
        "id": "KMmOHS0BShEp"
      },
      "source": [
        "Определим количество игр в каждом жанре. "
      ]
    },
    {
      "cell_type": "code",
      "execution_count": null,
      "metadata": {
        "id": "euepOeFiShEq",
        "outputId": "aefa35e1-82c6-4eac-d873-dc8b231d4112",
        "colab": {
          "base_uri": "https://localhost:8080/",
          "height": 304
        }
      },
      "outputs": [
        {
          "output_type": "display_data",
          "data": {
            "text/plain": [
              "<Figure size 1080x216 with 1 Axes>"
            ],
            "image/png": "[encoded data removed]"
          },
          "metadata": {}
        }
      ],
      "source": [
        "top_genre = df_2014_16\\\n",
        "              .pivot_table(index='genre', values='name', aggfunc='count')\\\n",
        "              .sort_values(by=['name'], ascending=False)\n",
        "            \n",
        "top_genre.plot(kind='bar', figsize=(15, 3))\n",
        "plt.title('Количество игр в каждом жанре за актуальный период')\n",
        "plt.xlabel('Жанры')\n",
        "plt.ylabel('Суммарные продажи');"
      ]
    },
    {
      "cell_type": "markdown",
      "metadata": {
        "id": "1Lcoyiw3ShEs"
      },
      "source": [
        "Количество игр сильно различается, поэтому для подсчета продаж игр по жанрам будем использовать медианные значения."
      ]
    },
    {
      "cell_type": "code",
      "execution_count": null,
      "metadata": {
        "colab": {
          "base_uri": "https://localhost:8080/",
          "height": 304
        },
        "id": "eBg__upxnEwu",
        "outputId": "f5c42803-ed7a-45f5-8a38-48ddeed89fc5"
      },
      "outputs": [
        {
          "output_type": "display_data",
          "data": {
            "text/plain": [
              "<Figure size 1080x216 with 1 Axes>"
            ],
            "image/png": "[encoded data removed]"
          },
          "metadata": {}
        }
      ],
      "source": [
        "top_genre = df_2014_16\\\n",
        "              .pivot_table(index='genre', values='total_sales', aggfunc='median')\\\n",
        "              .sort_values(by=['total_sales'], ascending=False)\\\n",
        "             \n",
        "\n",
        "top_genre.plot(kind='bar', figsize=(15, 3))\n",
        "plt.title('Распределение игр по жанрам с точки зрения суммарных продаж за актуальный период')\n",
        "plt.xlabel('Жанры')\n",
        "plt.ylabel('Суммарные продажи');"
      ]
    },
    {
      "cell_type": "markdown",
      "metadata": {
        "id": "RJVrGv94njmY"
      },
      "source": [
        "Судя по медианным значениям, шутеры в безусловных лидерах. Идущие за ними спортивные игры отстают втрое. Далее список жанров по суммарным продажам отличается незначительно.\n",
        "\n",
        "Замыкают список приключенческие игры. Паззлы, идущие перед ними, тоже не в моде у пользователей."
      ]
    },
    {
      "cell_type": "markdown",
      "metadata": {
        "id": "9opdyVA5ovg2"
      },
      "source": [
        "<a id=\"user\">\n",
        "    \n",
        "## Составим портрет пользователя каждого региона </a>"
      ]
    },
    {
      "cell_type": "markdown",
      "metadata": {
        "id": "B8OIZYsqtlh3"
      },
      "source": [
        "<a id=\"popular_platforms\">\n",
        "\n",
        "**Определим самые популярные платформы (топ-5)**\n",
        "</a>"
      ]
    },
    {
      "cell_type": "code",
      "execution_count": null,
      "metadata": {
        "colab": {
          "base_uri": "https://localhost:8080/",
          "height": 266
        },
        "id": "yYB_KPNOf0zK",
        "outputId": "633f129c-c5e1-4839-efe2-65ee4ea45ec1"
      },
      "outputs": [
        {
          "output_type": "display_data",
          "data": {
            "text/plain": [
              "<Figure size 1080x216 with 1 Axes>"
            ],
            "image/png": "[encoded data removed]"
          },
          "metadata": {}
        }
      ],
      "source": [
        "top_platforms_na = df_2014_16.pivot_table(index='platform', values='na_sales', aggfunc=sum)\\\n",
        "                   .sort_values(by=['na_sales'], ascending=False).head(5)\n",
        "\n",
        "top_platforms_na.plot(kind='bar', figsize=(15, 3))\n",
        "plt.title('ТОП-5 популярных платформ в Северной Америке')\n",
        "plt.xlabel('Платформы')\n",
        "plt.ylabel('Суммарные продажи');"
      ]
    },
    {
      "cell_type": "code",
      "execution_count": null,
      "metadata": {
        "colab": {
          "base_uri": "https://localhost:8080/",
          "height": 266
        },
        "id": "K_FFCnKpi6N6",
        "outputId": "c7cfe2f7-b193-45f8-be18-27f7311e0f53"
      },
      "outputs": [
        {
          "output_type": "display_data",
          "data": {
            "text/plain": [
              "<Figure size 1080x216 with 1 Axes>"
            ],
            "image/png": "[encoded data removed]"
          },
          "metadata": {}
        }
      ],
      "source": [
        "top_platforms_eu = df_2014_16.pivot_table(index='platform', values='eu_sales', aggfunc=sum)\\\n",
        "                   .sort_values(by=['eu_sales'], ascending=False).head(5)\n",
        "\n",
        "top_platforms_eu.plot(kind='bar', figsize=(15, 3))\n",
        "plt.title('ТОП-5 популярных платформ в Европе')\n",
        "plt.xlabel('Платформы')\n",
        "plt.ylabel('Суммарные продажи');"
      ]
    },
    {
      "cell_type": "code",
      "execution_count": null,
      "metadata": {
        "colab": {
          "base_uri": "https://localhost:8080/",
          "height": 261
        },
        "id": "HlLMkyypjWQw",
        "outputId": "2ea1659b-2a18-4586-f89c-42e8a7b6ed4f"
      },
      "outputs": [
        {
          "output_type": "display_data",
          "data": {
            "text/plain": [
              "<Figure size 1080x216 with 1 Axes>"
            ],
            "image/png": "[encoded data removed]"
          },
          "metadata": {}
        }
      ],
      "source": [
        "top_platforms_jp = df_2014_16.pivot_table(index='platform', values='jp_sales', aggfunc=sum)\\\n",
        "                   .sort_values(by=['jp_sales'], ascending=False).head(5)\n",
        "\n",
        "top_platforms_jp.plot(kind='bar', figsize=(15, 3))\n",
        "plt.title('ТОП-5 популярных платформ в Японии')\n",
        "plt.xlabel('Платформы')\n",
        "plt.ylabel('Суммарные продажи');"
      ]
    },
    {
      "cell_type": "markdown",
      "metadata": {
        "id": "1BjZR3V_jxBd"
      },
      "source": [
        "Европа играет больше Северной Америки. Япония на третьем месте. \n",
        "Безусловный лидер в европе - японская платформа PS4. В Северной Америке она тоже на первом месте, но там отставание американской XOne, идущей следом, не столь значительно. В Японии самая популярная платформа 3DS. PS4, которая вторая, отстает втрое.\n",
        "3DS, в отличие от лидеров в Северной Америке и Европе, портативная платформа. Может создавать 3D-эффект изображения без использования очков за счет специального экрана. PSV, которая в Японии на третьем месте, также игровая консоль карманного типа."
      ]
    },
    {
      "cell_type": "markdown",
      "metadata": {
        "id": "ITxbND2gtlxS"
      },
      "source": [
        "<a id=\"popular_genres\">\n",
        "\n",
        "**Определим самые популярные жанры (топ-5)**\n",
        "</a>"
      ]
    },
    {
      "cell_type": "code",
      "execution_count": null,
      "metadata": {
        "colab": {
          "base_uri": "https://localhost:8080/",
          "height": 283
        },
        "id": "u8-7ETrMl8lz",
        "outputId": "b53d2396-6112-476d-fa8b-fbfa426b51dc"
      },
      "outputs": [
        {
          "output_type": "display_data",
          "data": {
            "text/plain": [
              "<Figure size 1080x216 with 1 Axes>"
            ],
            "image/png": "[encoded data removed]"
          },
          "metadata": {}
        }
      ],
      "source": [
        "top_genres_na = df_2014_16.pivot_table(index='genre', values='na_sales', aggfunc='median')\\\n",
        "                   .sort_values(by=['na_sales'], ascending=False).head(5)\n",
        "\n",
        "top_genres_na.plot(kind='bar', figsize=(15, 3))\n",
        "plt.title('ТОП-5 популярных жанров в Северной Америке')\n",
        "plt.xlabel('Жанры')\n",
        "plt.ylabel('Суммарные продажи');"
      ]
    },
    {
      "cell_type": "code",
      "execution_count": null,
      "metadata": {
        "colab": {
          "base_uri": "https://localhost:8080/",
          "height": 295
        },
        "id": "zYmkKB2Vmovm",
        "outputId": "c0b4fec1-5f0a-482f-9137-5fdda03097c4"
      },
      "outputs": [
        {
          "output_type": "display_data",
          "data": {
            "text/plain": [
              "<Figure size 1080x216 with 1 Axes>"
            ],
            "image/png": "[encoded data removed]"
          },
          "metadata": {}
        }
      ],
      "source": [
        "top_genres_eu = df_2014_16.pivot_table(index='genre', values='eu_sales', aggfunc='median')\\\n",
        "                   .sort_values(by=['eu_sales'], ascending=False).head(5)\n",
        "\n",
        "top_genres_eu.plot(kind='bar', figsize=(15, 3))\n",
        "plt.title('ТОП-5 популярных жанров в Европе')\n",
        "plt.xlabel('Жанры')\n",
        "plt.ylabel('Суммарные продажи');"
      ]
    },
    {
      "cell_type": "code",
      "execution_count": null,
      "metadata": {
        "colab": {
          "base_uri": "https://localhost:8080/",
          "height": 304
        },
        "id": "cLOlej6Jm1Ob",
        "outputId": "31e775bd-7901-481b-ecf3-6c8498b2d944"
      },
      "outputs": [
        {
          "output_type": "display_data",
          "data": {
            "text/plain": [
              "<Figure size 1080x216 with 1 Axes>"
            ],
            "image/png": "[encoded data removed]"
          },
          "metadata": {}
        }
      ],
      "source": [
        "top_genres_jp = df_2014_16.pivot_table(index='genre', values='jp_sales', aggfunc='median')\\\n",
        "                   .sort_values(by=['jp_sales'], ascending=False).head(5)\n",
        "\n",
        "top_genres_jp.plot(kind='bar', figsize=(15, 3))\n",
        "plt.title('ТОП-5 популярных жанров в Японии')\n",
        "plt.xlabel('Жанры')\n",
        "plt.ylabel('Суммарные продажи');"
      ]
    },
    {
      "cell_type": "markdown",
      "metadata": {
        "id": "SHB_KqJznmz5"
      },
      "source": [
        "Продажи считаем по медиане, поскольку ранее выяснили, что количество игр в жанрах сильно отличается.\n",
        "\n",
        "Шутеры в Северной Америке и Европе - безусловные лидеры. На втором месте в обоих регионах бродилки, сильно отстающие от лидера. \n",
        "В Японии на первом месте ролевые игры, которые популярны в этой стране еще с 1980-х годов.  Второе место делят драки и - самое неожиданное - паззлы. Шутеров в японском ТОП-5 нет и в помине."
      ]
    },
    {
      "cell_type": "markdown",
      "metadata": {
        "id": "ARGpQ-xttl83"
      },
      "source": [
        "<a id=\"esrb\">\n",
        "\n",
        "**Определим влияние рейтинга ESRB на продажи**\n",
        "</a>"
      ]
    },
    {
      "cell_type": "code",
      "execution_count": null,
      "metadata": {
        "colab": {
          "base_uri": "https://localhost:8080/",
          "height": 238
        },
        "id": "_lx_xv4vqXPY",
        "outputId": "fd541374-3fae-4403-8823-69fe9dc860b2"
      },
      "outputs": [
        {
          "output_type": "execute_result",
          "data": {
            "text/plain": [
              "         na_sales  eu_sales  jp_sales  other_sales\n",
              "rating                                            \n",
              "E           50.74     58.06      8.94        15.39\n",
              "E10+        33.23     26.16      4.46         7.83\n",
              "M           96.42     93.44      8.01        28.67\n",
              "T           38.95     34.07     14.78        11.33\n",
              "unknown     64.72     58.95     56.90        18.40"
            ],
            "text/html": [
              "\n",
              "  <div id=\"df-f7d4bae1-834c-46fd-ac0a-52eeea495482\">\n",
              "    <div class=\"colab-df-container\">\n",
              "      <div>\n",
              "<style scoped>\n",
              "    .dataframe tbody tr th:only-of-type {\n",
              "        vertical-align: middle;\n",
              "    }\n",
              "\n",
              "    .dataframe tbody tr th {\n",
              "        vertical-align: top;\n",
              "    }\n",
              "\n",
              "    .dataframe thead th {\n",
              "        text-align: right;\n",
              "    }\n",
              "</style>\n",
              "<table border=\"1\" class=\"dataframe\">\n",
              "  <thead>\n",
              "    <tr style=\"text-align: right;\">\n",
              "      <th></th>\n",
              "      <th>na_sales</th>\n",
              "      <th>eu_sales</th>\n",
              "      <th>jp_sales</th>\n",
              "      <th>other_sales</th>\n",
              "    </tr>\n",
              "    <tr>\n",
              "      <th>rating</th>\n",
              "      <th></th>\n",
              "      <th></th>\n",
              "      <th></th>\n",
              "      <th></th>\n",
              "    </tr>\n",
              "  </thead>\n",
              "  <tbody>\n",
              "    <tr>\n",
              "      <th>E</th>\n",
              "      <td>50.74</td>\n",
              "      <td>58.06</td>\n",
              "      <td>8.94</td>\n",
              "      <td>15.39</td>\n",
              "    </tr>\n",
              "    <tr>\n",
              "      <th>E10+</th>\n",
              "      <td>33.23</td>\n",
              "      <td>26.16</td>\n",
              "      <td>4.46</td>\n",
              "      <td>7.83</td>\n",
              "    </tr>\n",
              "    <tr>\n",
              "      <th>M</th>\n",
              "      <td>96.42</td>\n",
              "      <td>93.44</td>\n",
              "      <td>8.01</td>\n",
              "      <td>28.67</td>\n",
              "    </tr>\n",
              "    <tr>\n",
              "      <th>T</th>\n",
              "      <td>38.95</td>\n",
              "      <td>34.07</td>\n",
              "      <td>14.78</td>\n",
              "      <td>11.33</td>\n",
              "    </tr>\n",
              "    <tr>\n",
              "      <th>unknown</th>\n",
              "      <td>64.72</td>\n",
              "      <td>58.95</td>\n",
              "      <td>56.90</td>\n",
              "      <td>18.40</td>\n",
              "    </tr>\n",
              "  </tbody>\n",
              "</table>\n",
              "</div>\n",
              "      <button class=\"colab-df-convert\" onclick=\"convertToInteractive('df-f7d4bae1-834c-46fd-ac0a-52eeea495482')\"\n",
              "              title=\"Convert this dataframe to an interactive table.\"\n",
              "              style=\"display:none;\">\n",
              "        \n",
              "  <svg xmlns=\"http://www.w3.org/2000/svg\" height=\"24px\"viewBox=\"0 0 24 24\"\n",
              "       width=\"24px\">\n",
              "    <path d=\"M0 0h24v24H0V0z\" fill=\"none\"/>\n",
              "    <path d=\"M18.56 5.44l.94 2.06.94-2.06 2.06-.94-2.06-.94-.94-2.06-.94 2.06-2.06.94zm-11 1L8.5 8.5l.94-2.06 2.06-.94-2.06-.94L8.5 2.5l-.94 2.06-2.06.94zm10 10l.94 2.06.94-2.06 2.06-.94-2.06-.94-.94-2.06-.94 2.06-2.06.94z\"/><path d=\"M17.41 7.96l-1.37-1.37c-.4-.4-.92-.59-1.43-.59-.52 0-1.04.2-1.43.59L10.3 9.45l-7.72 7.72c-.78.78-.78 2.05 0 2.83L4 21.41c.39.39.9.59 1.41.59.51 0 1.02-.2 1.41-.59l7.78-7.78 2.81-2.81c.8-.78.8-2.07 0-2.86zM5.41 20L4 18.59l7.72-7.72 1.47 1.35L5.41 20z\"/>\n",
              "  </svg>\n",
              "      </button>\n",
              "      \n",
              "  <style>\n",
              "    .colab-df-container {\n",
              "      display:flex;\n",
              "      flex-wrap:wrap;\n",
              "      gap: 12px;\n",
              "    }\n",
              "\n",
              "    .colab-df-convert {\n",
              "      background-color: #E8F0FE;\n",
              "      border: none;\n",
              "      border-radius: 50%;\n",
              "      cursor: pointer;\n",
              "      display: none;\n",
              "      fill: #1967D2;\n",
              "      height: 32px;\n",
              "      padding: 0 0 0 0;\n",
              "      width: 32px;\n",
              "    }\n",
              "\n",
              "    .colab-df-convert:hover {\n",
              "      background-color: #E2EBFA;\n",
              "      box-shadow: 0px 1px 2px rgba(60, 64, 67, 0.3), 0px 1px 3px 1px rgba(60, 64, 67, 0.15);\n",
              "      fill: #174EA6;\n",
              "    }\n",
              "\n",
              "    [theme=dark] .colab-df-convert {\n",
              "      background-color: #3B4455;\n",
              "      fill: #D2E3FC;\n",
              "    }\n",
              "\n",
              "    [theme=dark] .colab-df-convert:hover {\n",
              "      background-color: #434B5C;\n",
              "      box-shadow: 0px 1px 3px 1px rgba(0, 0, 0, 0.15);\n",
              "      filter: drop-shadow(0px 1px 2px rgba(0, 0, 0, 0.3));\n",
              "      fill: #FFFFFF;\n",
              "    }\n",
              "  </style>\n",
              "\n",
              "      <script>\n",
              "        const buttonEl =\n",
              "          document.querySelector('#df-f7d4bae1-834c-46fd-ac0a-52eeea495482 button.colab-df-convert');\n",
              "        buttonEl.style.display =\n",
              "          google.colab.kernel.accessAllowed ? 'block' : 'none';\n",
              "\n",
              "        async function convertToInteractive(key) {\n",
              "          const element = document.querySelector('#df-f7d4bae1-834c-46fd-ac0a-52eeea495482');\n",
              "          const dataTable =\n",
              "            await google.colab.kernel.invokeFunction('convertToInteractive',\n",
              "                                                     [key], {});\n",
              "          if (!dataTable) return;\n",
              "\n",
              "          const docLinkHtml = 'Like what you see? Visit the ' +\n",
              "            '<a target=\"_blank\" href=https://colab.research.google.com/notebooks/data_table.ipynb>data table notebook</a>'\n",
              "            + ' to learn more about interactive tables.';\n",
              "          element.innerHTML = '';\n",
              "          dataTable['output_type'] = 'display_data';\n",
              "          await google.colab.output.renderOutput(dataTable, element);\n",
              "          const docLink = document.createElement('div');\n",
              "          docLink.innerHTML = docLinkHtml;\n",
              "          element.appendChild(docLink);\n",
              "        }\n",
              "      </script>\n",
              "    </div>\n",
              "  </div>\n",
              "  "
            ]
          },
          "metadata": {},
          "execution_count": 75
        }
      ],
      "source": [
        "rating_esrb = df_2014_16.groupby('rating')[['na_sales', 'eu_sales', 'jp_sales', 'other_sales']].sum().copy()\n",
        "rating_esrb"
      ]
    },
    {
      "cell_type": "code",
      "execution_count": null,
      "metadata": {
        "id": "-ROzVnBQShFM",
        "outputId": "6704d083-bc31-4b3c-b000-6a6929ef6a66",
        "colab": {
          "base_uri": "https://localhost:8080/",
          "height": 572
        }
      },
      "outputs": [
        {
          "output_type": "display_data",
          "data": {
            "text/plain": [
              "<Figure size 1080x576 with 1 Axes>"
            ],
            "image/png": "[encoded data removed]"
          },
          "metadata": {}
        }
      ],
      "source": [
        "(rating_esrb / rating_esrb.sum()).T.plot.bar(stacked=True)\n",
        "plt.title('Доли продаж, включая \"unknow\", с учетом рейтинга ESRB за актуальный период')\n",
        "plt.xlabel('Пункты рейтинга ESRB')\n",
        "plt.ylabel('Суммарные продажи');"
      ]
    },
    {
      "cell_type": "markdown",
      "metadata": {
        "id": "CNFbXw2s24bi"
      },
      "source": [
        "Популярнее всего в Северной Америке и Европе игры для взрослых (M). Они на 40% опережают категорию, идущую второй. Серебро у игр без возрастных ограничений (Е). За ними идут игры для подростков (Т) и игры для детей старше 10 лет (Е10+). \n",
        "\n",
        "В Японии лидирую игры для подростков (Т). Игры для взрослых (M) интересуют японских пользователей наравне с играми без возрастных ограничений (Е).\n",
        "\n",
        "\"Темная лошадка\" - значения 'unknown'. Доля продаж по регионам со значением \"unknown\" сильно отличается. Если для Северной Америки и Европы доля игр без рейтинга составляет около 20%, то для Японии - 60% (!). Можно сделать вывод, что рейтинг ESRB плохо подходит для анализа рынка Японии.\n",
        "\n",
        "И действительно, ESRB - это рейтинг для Северной Америки, в Европе используют PEGI, а в Японии - CERO."
      ]
    },
    {
      "cell_type": "markdown",
      "metadata": {
        "id": "Zviqz-zhovrW"
      },
      "source": [
        "<a id=\"hypothesis\">\n",
        "    \n",
        "## Проверим гипотезы </a>"
      ]
    },
    {
      "cell_type": "markdown",
      "metadata": {
        "id": "tjOOv5nsuJqr"
      },
      "source": [
        "<a id=\"h_1\">\n",
        "\n",
        "**Средние пользовательские рейтинги платформ Xbox One и PC одинаковые**\n",
        "</a>"
      ]
    },
    {
      "cell_type": "markdown",
      "metadata": {
        "id": "gGzV8JaXuQgf"
      },
      "source": [
        "В столбце с оценками пользователей есть пустые ячейки. Учтем это и будем использовать дополнительный параметр в тесте. Есть сомнения, что выборки одинакового размера, поэтому применим также параметр equal_var=False. "
      ]
    },
    {
      "cell_type": "markdown",
      "metadata": {
        "id": "QcGskc4NsWmB"
      },
      "source": [
        "`H_0: Пользовательские рейтинги платформы Xbox = пользовательским рейтингам платформы PC`\n",
        "\n",
        "`H_a: Пользовательские рейтинги платформы Xbox ≠ пользовательским рейтингам платформы PC`\n",
        "\n",
        "`alpha = 0.05`"
      ]
    },
    {
      "cell_type": "code",
      "execution_count": null,
      "metadata": {
        "colab": {
          "base_uri": "https://localhost:8080/"
        },
        "id": "n-akkwaMtFJs",
        "outputId": "03d90a92-7881-45f7-f5f6-54b8203e9b87"
      },
      "outputs": [
        {
          "output_type": "stream",
          "name": "stdout",
          "text": [
            "0.11601398086668985\n",
            "Не получилось отвергнуть нулевую гипотезу\n"
          ]
        }
      ],
      "source": [
        "xbox = df_2014_16[df_2014_16['platform'] =='XOne']\n",
        "pc = df_2014_16[df_2014_16['platform'] =='PC']\n",
        "\n",
        "results = st.ttest_ind(xbox['user_score'], pc['user_score'], equal_var=False, nan_policy='omit')\n",
        "\n",
        "alpha = 0.05 \n",
        "\n",
        "print(results.pvalue)\n",
        "\n",
        "if results.pvalue < alpha:\n",
        "  print('Отвергаем нулевую гипотезу')\n",
        "else:\n",
        "  print('Не получилось отвергнуть нулевую гипотезу')"
      ]
    },
    {
      "cell_type": "markdown",
      "metadata": {
        "id": "7VAdmkvxuKCF"
      },
      "source": [
        "<a id=\"h_2\">\n",
        "\n",
        "**Средние пользовательские рейтинги жанров Action и Sports разные**\n",
        "</a>"
      ]
    },
    {
      "cell_type": "markdown",
      "metadata": {
        "id": "GvMnOIovwGT6"
      },
      "source": [
        "`H_0: Пользовательские рейтинги жанра Action = пользовательским рейтингам жанра Sports`\n",
        "\n",
        "`H_a: Пользовательские рейтинги жанра Action ≠ пользовательским рейтингам жанра Sports`\n",
        "\n",
        "`alpha = 0.05`"
      ]
    },
    {
      "cell_type": "code",
      "execution_count": null,
      "metadata": {
        "colab": {
          "base_uri": "https://localhost:8080/"
        },
        "id": "VGkeW1Hywdy3",
        "outputId": "a098cd83-9335-42d2-a1ba-c2fa3349e625"
      },
      "outputs": [
        {
          "output_type": "stream",
          "name": "stdout",
          "text": [
            "1.1825550382644845e-14\n",
            "Отвергаем нулевую гипотезу\n"
          ]
        }
      ],
      "source": [
        "action = df_2014_16[df_2014_16['genre'] =='Action']\n",
        "sports = df_2014_16[df_2014_16['genre'] =='Sports']\n",
        "\n",
        "results = st.ttest_ind(action['user_score'], sports['user_score'], equal_var=False, nan_policy='omit')\n",
        "\n",
        "alpha = 0.05 \n",
        "\n",
        "print(results.pvalue)\n",
        "\n",
        "if results.pvalue < alpha:\n",
        "  print('Отвергаем нулевую гипотезу')\n",
        "else:\n",
        "  print('Не получилось отвергнуть нулевую гипотезу')"
      ]
    },
    {
      "cell_type": "markdown",
      "metadata": {
        "id": "mg7p9QHuwRRj"
      },
      "source": [
        "Проведенное исследование показывает:\n",
        "\n",
        "1. Средние пользовательские рейтинги платформ Xbox One и PC одинаковые.\n",
        "2. Средние пользовательские рейтинги жанров Action и Sports разные.\n",
        "\n",
        "В качестве нулевой гипотезы брали консервативную версию, что рейтинги равны.\n",
        "\n",
        "alpha установили на уровне 0,05 - это общепринятые пороговые значения.\n",
        "\n"
      ]
    },
    {
      "cell_type": "markdown",
      "metadata": {
        "id": "rMqK0l4BowQG"
      },
      "source": [
        "<a id=\"conclusion\">\n",
        "    \n",
        "## Общий вывод </a>  "
      ]
    },
    {
      "cell_type": "markdown",
      "metadata": {
        "id": "ac1PRZ6-of0p"
      },
      "source": [
        "1. Европа играет больше Северной Америки. Япония на третьем месте. \n",
        "2. Лидер в Северной Америке - японская платформа PS4 от Sony Electronics. На втором месте американская платформа-конкурент XOne. В Японии в лидерах местная портативная платформа 3DS. PS4 на втором месте, при этом она отстает от карманного лидера втрое.\n",
        "3. Срок жизни платформы - 5-8 лет. С этой точки зрения XOne и PS4 выглядят перспективными. Они в середине жизненного цикла.\n",
        "4. Отметим платформу PC, входящую в ТОП-5 в Европе. На фоне небольших суммарных продаж, данная платформа демонстрирует завидную живучесть и присутствует на рынке более 12 лет. \n",
        "5. Платформа PS4 выглядит немного перспективнее своего конкурента XOne с точки зрения привлечения новых пользователей с помощью рекламы, причем пользователей, заказывающих на бОльшие суммы.\n",
        "6. У портативной платформы WiiU (входит в ТОП-5 в Японии) также высокий рекламный потенциал. По длине правого уса и третего квартиля идет за PS4 и XOne.\n",
        "7. Важно отметить, что с каждым годом падают продажи игр для всех платформ. Если смотреть на лидеров по регионам, у XOne в 2016-м продажи игр сократились на 50% в сравнении с годом предыдущим, у PS4 и 3DS на 40-45%.\n",
        "8. Шутеры - безусловные лидеры в Северной Америке и Европе. Остальные жанры отстают чуть ли не в четыре раза. Япония - особая страна. Японские пользователи любят ролевые компьютерные игры (сказывается пристрастие к компьютерным ролевым играм на внутреннего рынка, сформированное еще в 1980-е), драки и паззлы. Спортивные игры и шутеры, популярные в Европе  и за океаном, в японский ТОП-5 не входят.\n",
        "9. Хуже всего в мире продаются жанр-приключения, паззлы и стратегии.\n",
        "10. Популярнее всего в Северной Америке и Европе игры для взрослых (рейтинг M классификации ESRB). Они на 40% опережают категорию, идущую второй (игры без возрастных ограничений (Е)). В Японии на первом месте игры для подростков (T). Отметим 40% пропусков в рейтингах игр. Данные могут быть неточными. Необходимо больше сведений.\n",
        "11. Оценки польователей и критиков не влияют на продажи, судя по результатам исследования. Отметим, что в столбцах с оценками критиков и пользователей более 50% пропусков. Данных может быть недостаточно. Требуется методика повышения активности пользователей и критиков для сбора большего объема информации и повторного исследования.\n",
        "\n",
        "\n",
        "\n",
        "Портрет идеального пользователя последних трех лет:\n",
        "\n",
        "Северная Америка и Европа - платформа PS4, жанр \"шутер\", рейтинг M;\n",
        "\n",
        "Япония - платфорпа 3DS, жанр ролевые компьютерные игры (сказывается традиция компьютерных ролевых игр для внутреннего рынка, заложенная еще в 1980-е), рейтинг T.\n",
        "\n"
      ]
    }
  ],
  "metadata": {
    "ExecuteTimeLog": [
      {
        "duration": 1747,
        "start_time": "2022-07-27T11:24:49.501Z"
      },
      {
        "duration": 16,
        "start_time": "2022-07-27T11:24:51.250Z"
      },
      {
        "duration": 27,
        "start_time": "2022-07-27T11:24:51.267Z"
      },
      {
        "duration": 636,
        "start_time": "2022-07-27T11:24:51.296Z"
      },
      {
        "duration": 3,
        "start_time": "2022-07-27T11:24:51.934Z"
      },
      {
        "duration": 15,
        "start_time": "2022-07-27T11:24:51.938Z"
      },
      {
        "duration": 8,
        "start_time": "2022-07-27T11:24:51.955Z"
      },
      {
        "duration": 15,
        "start_time": "2022-07-27T11:24:51.964Z"
      },
      {
        "duration": 8,
        "start_time": "2022-07-27T11:24:51.981Z"
      },
      {
        "duration": 6,
        "start_time": "2022-07-27T11:24:51.991Z"
      },
      {
        "duration": 222,
        "start_time": "2022-07-27T11:24:51.998Z"
      },
      {
        "duration": 148,
        "start_time": "2022-07-27T11:24:52.222Z"
      },
      {
        "duration": 87,
        "start_time": "2022-07-27T11:24:52.372Z"
      },
      {
        "duration": 8,
        "start_time": "2022-07-27T11:24:52.461Z"
      },
      {
        "duration": 191,
        "start_time": "2022-07-27T11:24:52.471Z"
      },
      {
        "duration": 3,
        "start_time": "2022-07-27T11:24:52.664Z"
      },
      {
        "duration": 185,
        "start_time": "2022-07-27T11:24:52.669Z"
      },
      {
        "duration": 915,
        "start_time": "2022-07-27T11:24:52.856Z"
      },
      {
        "duration": 9,
        "start_time": "2022-07-27T11:24:53.773Z"
      },
      {
        "duration": 204,
        "start_time": "2022-07-27T11:24:53.784Z"
      },
      {
        "duration": 268,
        "start_time": "2022-07-27T11:24:53.989Z"
      },
      {
        "duration": 266,
        "start_time": "2022-07-27T11:24:54.259Z"
      },
      {
        "duration": 273,
        "start_time": "2022-07-27T11:24:54.527Z"
      },
      {
        "duration": 294,
        "start_time": "2022-07-27T11:24:54.803Z"
      },
      {
        "duration": 298,
        "start_time": "2022-07-27T11:24:55.099Z"
      },
      {
        "duration": 273,
        "start_time": "2022-07-27T11:24:55.399Z"
      },
      {
        "duration": 145,
        "start_time": "2022-07-27T11:24:55.674Z"
      },
      {
        "duration": 154,
        "start_time": "2022-07-27T11:24:55.822Z"
      },
      {
        "duration": 183,
        "start_time": "2022-07-27T11:24:55.978Z"
      },
      {
        "duration": 172,
        "start_time": "2022-07-27T11:24:56.162Z"
      },
      {
        "duration": 160,
        "start_time": "2022-07-27T11:24:56.335Z"
      },
      {
        "duration": 170,
        "start_time": "2022-07-27T11:24:56.496Z"
      },
      {
        "duration": 151,
        "start_time": "2022-07-27T11:24:56.667Z"
      },
      {
        "duration": 10,
        "start_time": "2022-07-27T11:24:56.819Z"
      },
      {
        "duration": 182,
        "start_time": "2022-07-27T11:24:56.831Z"
      },
      {
        "duration": 3,
        "start_time": "2022-07-27T11:24:57.015Z"
      },
      {
        "duration": 8,
        "start_time": "2022-07-27T11:24:57.020Z"
      },
      {
        "duration": 9,
        "start_time": "2022-07-27T11:24:57.030Z"
      },
      {
        "duration": 1907,
        "start_time": "2022-07-27T15:59:32.139Z"
      },
      {
        "duration": 24,
        "start_time": "2022-07-27T15:59:34.050Z"
      },
      {
        "duration": 19,
        "start_time": "2022-07-27T15:59:34.076Z"
      },
      {
        "duration": 894,
        "start_time": "2022-07-27T15:59:34.099Z"
      },
      {
        "duration": 7,
        "start_time": "2022-07-27T15:59:34.996Z"
      },
      {
        "duration": 52,
        "start_time": "2022-07-27T15:59:35.005Z"
      },
      {
        "duration": 30,
        "start_time": "2022-07-27T15:59:35.060Z"
      },
      {
        "duration": 572,
        "start_time": "2022-07-27T15:59:35.092Z"
      },
      {
        "duration": 0,
        "start_time": "2022-07-27T15:59:35.668Z"
      },
      {
        "duration": 0,
        "start_time": "2022-07-27T15:59:35.669Z"
      },
      {
        "duration": 0,
        "start_time": "2022-07-27T15:59:35.671Z"
      },
      {
        "duration": 0,
        "start_time": "2022-07-27T15:59:35.672Z"
      },
      {
        "duration": 0,
        "start_time": "2022-07-27T15:59:35.673Z"
      },
      {
        "duration": 0,
        "start_time": "2022-07-27T15:59:35.674Z"
      },
      {
        "duration": 0,
        "start_time": "2022-07-27T15:59:35.676Z"
      },
      {
        "duration": 0,
        "start_time": "2022-07-27T15:59:35.677Z"
      },
      {
        "duration": 0,
        "start_time": "2022-07-27T15:59:35.679Z"
      },
      {
        "duration": 0,
        "start_time": "2022-07-27T15:59:35.680Z"
      },
      {
        "duration": 0,
        "start_time": "2022-07-27T15:59:35.681Z"
      },
      {
        "duration": 0,
        "start_time": "2022-07-27T15:59:35.682Z"
      },
      {
        "duration": 0,
        "start_time": "2022-07-27T15:59:35.683Z"
      },
      {
        "duration": 0,
        "start_time": "2022-07-27T15:59:35.684Z"
      },
      {
        "duration": 0,
        "start_time": "2022-07-27T15:59:35.685Z"
      },
      {
        "duration": 0,
        "start_time": "2022-07-27T15:59:35.687Z"
      },
      {
        "duration": 0,
        "start_time": "2022-07-27T15:59:35.688Z"
      },
      {
        "duration": 0,
        "start_time": "2022-07-27T15:59:35.689Z"
      },
      {
        "duration": 0,
        "start_time": "2022-07-27T15:59:35.690Z"
      },
      {
        "duration": 0,
        "start_time": "2022-07-27T15:59:35.691Z"
      },
      {
        "duration": 0,
        "start_time": "2022-07-27T15:59:35.692Z"
      },
      {
        "duration": 0,
        "start_time": "2022-07-27T15:59:35.694Z"
      },
      {
        "duration": 0,
        "start_time": "2022-07-27T15:59:35.695Z"
      },
      {
        "duration": 0,
        "start_time": "2022-07-27T15:59:35.696Z"
      },
      {
        "duration": 0,
        "start_time": "2022-07-27T15:59:35.698Z"
      },
      {
        "duration": 0,
        "start_time": "2022-07-27T15:59:35.699Z"
      },
      {
        "duration": 0,
        "start_time": "2022-07-27T15:59:35.708Z"
      },
      {
        "duration": 0,
        "start_time": "2022-07-27T15:59:35.710Z"
      },
      {
        "duration": 0,
        "start_time": "2022-07-27T15:59:35.711Z"
      },
      {
        "duration": 1432,
        "start_time": "2022-07-27T16:00:23.847Z"
      },
      {
        "duration": 1561,
        "start_time": "2022-07-27T16:00:46.980Z"
      },
      {
        "duration": 1696,
        "start_time": "2022-07-27T16:01:04.454Z"
      },
      {
        "duration": 23,
        "start_time": "2022-07-27T16:01:06.153Z"
      },
      {
        "duration": 40,
        "start_time": "2022-07-27T16:01:06.179Z"
      },
      {
        "duration": 735,
        "start_time": "2022-07-27T16:01:06.222Z"
      },
      {
        "duration": 4,
        "start_time": "2022-07-27T16:01:06.959Z"
      },
      {
        "duration": 13,
        "start_time": "2022-07-27T16:01:06.965Z"
      },
      {
        "duration": 38,
        "start_time": "2022-07-27T16:01:06.981Z"
      },
      {
        "duration": 1955,
        "start_time": "2022-07-27T16:01:07.022Z"
      },
      {
        "duration": 0,
        "start_time": "2022-07-27T16:01:08.981Z"
      },
      {
        "duration": 0,
        "start_time": "2022-07-27T16:01:08.983Z"
      },
      {
        "duration": 0,
        "start_time": "2022-07-27T16:01:08.985Z"
      },
      {
        "duration": 0,
        "start_time": "2022-07-27T16:01:08.986Z"
      },
      {
        "duration": 0,
        "start_time": "2022-07-27T16:01:08.987Z"
      },
      {
        "duration": 0,
        "start_time": "2022-07-27T16:01:08.988Z"
      },
      {
        "duration": 0,
        "start_time": "2022-07-27T16:01:08.989Z"
      },
      {
        "duration": 0,
        "start_time": "2022-07-27T16:01:08.991Z"
      },
      {
        "duration": 0,
        "start_time": "2022-07-27T16:01:08.992Z"
      },
      {
        "duration": 0,
        "start_time": "2022-07-27T16:01:08.993Z"
      },
      {
        "duration": 1,
        "start_time": "2022-07-27T16:01:08.994Z"
      },
      {
        "duration": 0,
        "start_time": "2022-07-27T16:01:08.996Z"
      },
      {
        "duration": 0,
        "start_time": "2022-07-27T16:01:09.004Z"
      },
      {
        "duration": 0,
        "start_time": "2022-07-27T16:01:09.004Z"
      },
      {
        "duration": 0,
        "start_time": "2022-07-27T16:01:09.005Z"
      },
      {
        "duration": 0,
        "start_time": "2022-07-27T16:01:09.006Z"
      },
      {
        "duration": 0,
        "start_time": "2022-07-27T16:01:09.006Z"
      },
      {
        "duration": 0,
        "start_time": "2022-07-27T16:01:09.007Z"
      },
      {
        "duration": 0,
        "start_time": "2022-07-27T16:01:09.008Z"
      },
      {
        "duration": 0,
        "start_time": "2022-07-27T16:01:09.009Z"
      },
      {
        "duration": 0,
        "start_time": "2022-07-27T16:01:09.010Z"
      },
      {
        "duration": 0,
        "start_time": "2022-07-27T16:01:09.011Z"
      },
      {
        "duration": 0,
        "start_time": "2022-07-27T16:01:09.012Z"
      },
      {
        "duration": 0,
        "start_time": "2022-07-27T16:01:09.013Z"
      },
      {
        "duration": 0,
        "start_time": "2022-07-27T16:01:09.014Z"
      },
      {
        "duration": 0,
        "start_time": "2022-07-27T16:01:09.015Z"
      },
      {
        "duration": 0,
        "start_time": "2022-07-27T16:01:09.017Z"
      },
      {
        "duration": 0,
        "start_time": "2022-07-27T16:01:09.019Z"
      },
      {
        "duration": 0,
        "start_time": "2022-07-27T16:01:09.020Z"
      },
      {
        "duration": 10,
        "start_time": "2022-07-27T16:04:29.458Z"
      },
      {
        "duration": 18,
        "start_time": "2022-07-27T16:05:32.216Z"
      },
      {
        "duration": 7,
        "start_time": "2022-07-27T16:06:21.316Z"
      },
      {
        "duration": 32,
        "start_time": "2022-07-27T16:06:35.549Z"
      },
      {
        "duration": 74,
        "start_time": "2022-07-27T16:10:29.149Z"
      },
      {
        "duration": 70,
        "start_time": "2022-07-27T16:42:12.522Z"
      },
      {
        "duration": 57,
        "start_time": "2022-07-27T16:42:25.910Z"
      },
      {
        "duration": 29,
        "start_time": "2022-07-27T16:42:36.310Z"
      },
      {
        "duration": 17,
        "start_time": "2022-07-27T16:43:12.344Z"
      },
      {
        "duration": 35,
        "start_time": "2022-07-27T16:45:54.543Z"
      },
      {
        "duration": 34,
        "start_time": "2022-07-27T16:49:18.367Z"
      },
      {
        "duration": 18,
        "start_time": "2022-07-27T16:49:52.639Z"
      },
      {
        "duration": 47,
        "start_time": "2022-07-27T16:50:04.093Z"
      },
      {
        "duration": 21,
        "start_time": "2022-07-27T16:50:17.923Z"
      },
      {
        "duration": 10,
        "start_time": "2022-07-27T16:56:11.022Z"
      },
      {
        "duration": 99,
        "start_time": "2022-07-27T16:56:24.124Z"
      },
      {
        "duration": 10,
        "start_time": "2022-07-27T16:56:29.227Z"
      },
      {
        "duration": 1392,
        "start_time": "2022-07-27T16:56:45.553Z"
      },
      {
        "duration": 16,
        "start_time": "2022-07-27T16:56:57.339Z"
      },
      {
        "duration": 21,
        "start_time": "2022-07-27T16:57:24.582Z"
      },
      {
        "duration": 217,
        "start_time": "2022-07-27T17:01:01.298Z"
      },
      {
        "duration": 981,
        "start_time": "2022-07-27T17:01:07.023Z"
      },
      {
        "duration": 19,
        "start_time": "2022-07-27T17:02:21.089Z"
      },
      {
        "duration": 31,
        "start_time": "2022-07-27T17:03:01.740Z"
      },
      {
        "duration": 16,
        "start_time": "2022-07-27T17:03:25.149Z"
      },
      {
        "duration": 6,
        "start_time": "2022-07-27T17:05:29.765Z"
      },
      {
        "duration": 17,
        "start_time": "2022-07-27T17:05:40.817Z"
      },
      {
        "duration": 9,
        "start_time": "2022-07-27T17:06:38.051Z"
      },
      {
        "duration": 3,
        "start_time": "2022-07-27T17:07:58.672Z"
      },
      {
        "duration": 1544,
        "start_time": "2022-07-27T17:18:52.405Z"
      },
      {
        "duration": 15,
        "start_time": "2022-07-27T17:18:53.952Z"
      },
      {
        "duration": 17,
        "start_time": "2022-07-27T17:18:53.969Z"
      },
      {
        "duration": 625,
        "start_time": "2022-07-27T17:18:53.988Z"
      },
      {
        "duration": 7,
        "start_time": "2022-07-27T17:18:54.615Z"
      },
      {
        "duration": 10,
        "start_time": "2022-07-27T17:18:54.624Z"
      },
      {
        "duration": 23,
        "start_time": "2022-07-27T17:18:54.635Z"
      },
      {
        "duration": 43,
        "start_time": "2022-07-27T17:18:54.661Z"
      },
      {
        "duration": 14,
        "start_time": "2022-07-27T17:18:54.706Z"
      },
      {
        "duration": 9,
        "start_time": "2022-07-27T17:18:54.725Z"
      },
      {
        "duration": 5,
        "start_time": "2022-07-27T17:18:54.736Z"
      },
      {
        "duration": 225,
        "start_time": "2022-07-27T17:18:54.743Z"
      },
      {
        "duration": 173,
        "start_time": "2022-07-27T17:18:54.970Z"
      },
      {
        "duration": 104,
        "start_time": "2022-07-27T17:18:55.145Z"
      },
      {
        "duration": 9,
        "start_time": "2022-07-27T17:18:55.250Z"
      },
      {
        "duration": 4,
        "start_time": "2022-07-27T17:18:55.261Z"
      },
      {
        "duration": 277,
        "start_time": "2022-07-27T17:18:55.266Z"
      },
      {
        "duration": 974,
        "start_time": "2022-07-27T17:18:55.545Z"
      },
      {
        "duration": 8,
        "start_time": "2022-07-27T17:18:56.520Z"
      },
      {
        "duration": 230,
        "start_time": "2022-07-27T17:18:56.529Z"
      },
      {
        "duration": 292,
        "start_time": "2022-07-27T17:18:56.760Z"
      },
      {
        "duration": 275,
        "start_time": "2022-07-27T17:18:57.054Z"
      },
      {
        "duration": 272,
        "start_time": "2022-07-27T17:18:57.331Z"
      },
      {
        "duration": 304,
        "start_time": "2022-07-27T17:18:57.604Z"
      },
      {
        "duration": 299,
        "start_time": "2022-07-27T17:18:57.909Z"
      },
      {
        "duration": 225,
        "start_time": "2022-07-27T17:18:58.209Z"
      },
      {
        "duration": 265,
        "start_time": "2022-07-27T17:18:58.436Z"
      },
      {
        "duration": 173,
        "start_time": "2022-07-27T17:18:58.704Z"
      },
      {
        "duration": 181,
        "start_time": "2022-07-27T17:18:58.879Z"
      },
      {
        "duration": 172,
        "start_time": "2022-07-27T17:18:59.062Z"
      },
      {
        "duration": 187,
        "start_time": "2022-07-27T17:18:59.237Z"
      },
      {
        "duration": 192,
        "start_time": "2022-07-27T17:18:59.426Z"
      },
      {
        "duration": 182,
        "start_time": "2022-07-27T17:18:59.620Z"
      },
      {
        "duration": 13,
        "start_time": "2022-07-27T17:18:59.804Z"
      },
      {
        "duration": 208,
        "start_time": "2022-07-27T17:18:59.819Z"
      },
      {
        "duration": 3,
        "start_time": "2022-07-27T17:19:00.029Z"
      },
      {
        "duration": 16,
        "start_time": "2022-07-27T17:19:00.034Z"
      },
      {
        "duration": 19,
        "start_time": "2022-07-27T17:19:00.052Z"
      },
      {
        "duration": 259,
        "start_time": "2022-07-27T17:22:47.672Z"
      },
      {
        "duration": 419,
        "start_time": "2022-07-27T17:37:07.816Z"
      },
      {
        "duration": 2128,
        "start_time": "2022-07-27T17:37:31.200Z"
      },
      {
        "duration": 15,
        "start_time": "2022-07-27T17:37:33.330Z"
      },
      {
        "duration": 17,
        "start_time": "2022-07-27T17:37:33.347Z"
      },
      {
        "duration": 632,
        "start_time": "2022-07-27T17:37:33.366Z"
      },
      {
        "duration": 4,
        "start_time": "2022-07-27T17:37:33.999Z"
      },
      {
        "duration": 12,
        "start_time": "2022-07-27T17:37:34.005Z"
      },
      {
        "duration": 17,
        "start_time": "2022-07-27T17:37:34.020Z"
      },
      {
        "duration": 26,
        "start_time": "2022-07-27T17:37:34.040Z"
      },
      {
        "duration": 9,
        "start_time": "2022-07-27T17:37:34.068Z"
      },
      {
        "duration": 9,
        "start_time": "2022-07-27T17:37:34.100Z"
      },
      {
        "duration": 11,
        "start_time": "2022-07-27T17:37:34.110Z"
      },
      {
        "duration": 222,
        "start_time": "2022-07-27T17:37:34.122Z"
      },
      {
        "duration": 190,
        "start_time": "2022-07-27T17:37:34.346Z"
      },
      {
        "duration": 139,
        "start_time": "2022-07-27T17:37:34.539Z"
      },
      {
        "duration": 22,
        "start_time": "2022-07-27T17:37:34.680Z"
      },
      {
        "duration": 22,
        "start_time": "2022-07-27T17:37:34.704Z"
      },
      {
        "duration": 264,
        "start_time": "2022-07-27T17:37:34.728Z"
      },
      {
        "duration": 950,
        "start_time": "2022-07-27T17:37:34.997Z"
      },
      {
        "duration": 11,
        "start_time": "2022-07-27T17:37:35.949Z"
      },
      {
        "duration": 270,
        "start_time": "2022-07-27T17:37:35.962Z"
      },
      {
        "duration": 859,
        "start_time": "2022-07-27T17:37:36.234Z"
      },
      {
        "duration": 0,
        "start_time": "2022-07-27T17:37:37.095Z"
      },
      {
        "duration": 0,
        "start_time": "2022-07-27T17:37:37.098Z"
      },
      {
        "duration": 0,
        "start_time": "2022-07-27T17:37:37.099Z"
      },
      {
        "duration": 0,
        "start_time": "2022-07-27T17:37:37.101Z"
      },
      {
        "duration": 0,
        "start_time": "2022-07-27T17:37:37.102Z"
      },
      {
        "duration": 0,
        "start_time": "2022-07-27T17:37:37.103Z"
      },
      {
        "duration": 0,
        "start_time": "2022-07-27T17:37:37.104Z"
      },
      {
        "duration": 0,
        "start_time": "2022-07-27T17:37:37.105Z"
      },
      {
        "duration": 0,
        "start_time": "2022-07-27T17:37:37.107Z"
      },
      {
        "duration": 0,
        "start_time": "2022-07-27T17:37:37.108Z"
      },
      {
        "duration": 0,
        "start_time": "2022-07-27T17:37:37.109Z"
      },
      {
        "duration": 0,
        "start_time": "2022-07-27T17:37:37.111Z"
      },
      {
        "duration": 0,
        "start_time": "2022-07-27T17:37:37.112Z"
      },
      {
        "duration": 0,
        "start_time": "2022-07-27T17:37:37.114Z"
      },
      {
        "duration": 0,
        "start_time": "2022-07-27T17:37:37.116Z"
      },
      {
        "duration": 0,
        "start_time": "2022-07-27T17:37:37.118Z"
      },
      {
        "duration": 0,
        "start_time": "2022-07-27T17:37:37.119Z"
      },
      {
        "duration": 1,
        "start_time": "2022-07-27T17:37:37.120Z"
      },
      {
        "duration": 0,
        "start_time": "2022-07-27T17:37:37.122Z"
      },
      {
        "duration": 0,
        "start_time": "2022-07-27T17:37:37.123Z"
      },
      {
        "duration": 218,
        "start_time": "2022-07-27T17:38:34.096Z"
      },
      {
        "duration": 399,
        "start_time": "2022-07-27T17:39:40.396Z"
      },
      {
        "duration": 454,
        "start_time": "2022-07-27T17:41:08.119Z"
      },
      {
        "duration": 397,
        "start_time": "2022-07-27T17:41:41.105Z"
      },
      {
        "duration": 53,
        "start_time": "2022-07-27T17:47:45.225Z"
      },
      {
        "duration": 1396,
        "start_time": "2022-07-27T17:47:54.117Z"
      },
      {
        "duration": 19,
        "start_time": "2022-07-27T17:47:55.516Z"
      },
      {
        "duration": 24,
        "start_time": "2022-07-27T17:47:55.538Z"
      },
      {
        "duration": 607,
        "start_time": "2022-07-27T17:47:55.564Z"
      },
      {
        "duration": 4,
        "start_time": "2022-07-27T17:47:56.173Z"
      },
      {
        "duration": 11,
        "start_time": "2022-07-27T17:47:56.178Z"
      },
      {
        "duration": 30,
        "start_time": "2022-07-27T17:47:56.197Z"
      },
      {
        "duration": 26,
        "start_time": "2022-07-27T17:47:56.229Z"
      },
      {
        "duration": 11,
        "start_time": "2022-07-27T17:47:56.256Z"
      },
      {
        "duration": 10,
        "start_time": "2022-07-27T17:47:56.271Z"
      },
      {
        "duration": 39,
        "start_time": "2022-07-27T17:47:56.282Z"
      },
      {
        "duration": 212,
        "start_time": "2022-07-27T17:47:56.323Z"
      },
      {
        "duration": 177,
        "start_time": "2022-07-27T17:47:56.537Z"
      },
      {
        "duration": 101,
        "start_time": "2022-07-27T17:47:56.717Z"
      },
      {
        "duration": 8,
        "start_time": "2022-07-27T17:47:56.820Z"
      },
      {
        "duration": 10,
        "start_time": "2022-07-27T17:47:56.830Z"
      },
      {
        "duration": 261,
        "start_time": "2022-07-27T17:47:56.842Z"
      },
      {
        "duration": 961,
        "start_time": "2022-07-27T17:47:57.105Z"
      },
      {
        "duration": 9,
        "start_time": "2022-07-27T17:47:58.068Z"
      },
      {
        "duration": 257,
        "start_time": "2022-07-27T17:47:58.079Z"
      },
      {
        "duration": 548,
        "start_time": "2022-07-27T17:47:58.338Z"
      },
      {
        "duration": 0,
        "start_time": "2022-07-27T17:47:58.889Z"
      },
      {
        "duration": 0,
        "start_time": "2022-07-27T17:47:58.897Z"
      },
      {
        "duration": 0,
        "start_time": "2022-07-27T17:47:58.898Z"
      },
      {
        "duration": 0,
        "start_time": "2022-07-27T17:47:58.899Z"
      },
      {
        "duration": 0,
        "start_time": "2022-07-27T17:47:58.900Z"
      },
      {
        "duration": 0,
        "start_time": "2022-07-27T17:47:58.901Z"
      },
      {
        "duration": 0,
        "start_time": "2022-07-27T17:47:58.901Z"
      },
      {
        "duration": 0,
        "start_time": "2022-07-27T17:47:58.902Z"
      },
      {
        "duration": 0,
        "start_time": "2022-07-27T17:47:58.903Z"
      },
      {
        "duration": 0,
        "start_time": "2022-07-27T17:47:58.903Z"
      },
      {
        "duration": 0,
        "start_time": "2022-07-27T17:47:58.904Z"
      },
      {
        "duration": 0,
        "start_time": "2022-07-27T17:47:58.905Z"
      },
      {
        "duration": 0,
        "start_time": "2022-07-27T17:47:58.905Z"
      },
      {
        "duration": 0,
        "start_time": "2022-07-27T17:47:58.906Z"
      },
      {
        "duration": 0,
        "start_time": "2022-07-27T17:47:58.907Z"
      },
      {
        "duration": 0,
        "start_time": "2022-07-27T17:47:58.907Z"
      },
      {
        "duration": 0,
        "start_time": "2022-07-27T17:47:58.908Z"
      },
      {
        "duration": 0,
        "start_time": "2022-07-27T17:47:58.909Z"
      },
      {
        "duration": 0,
        "start_time": "2022-07-27T17:47:58.909Z"
      },
      {
        "duration": 0,
        "start_time": "2022-07-27T17:47:58.910Z"
      },
      {
        "duration": 13,
        "start_time": "2022-07-27T17:49:16.958Z"
      },
      {
        "duration": 204,
        "start_time": "2022-07-27T17:49:23.077Z"
      },
      {
        "duration": 10,
        "start_time": "2022-07-27T17:53:27.341Z"
      },
      {
        "duration": 280,
        "start_time": "2022-07-27T17:53:38.412Z"
      },
      {
        "duration": 25,
        "start_time": "2022-07-27T17:54:11.029Z"
      },
      {
        "duration": 20,
        "start_time": "2022-07-27T17:54:44.826Z"
      },
      {
        "duration": 19,
        "start_time": "2022-07-27T17:54:57.034Z"
      },
      {
        "duration": 32,
        "start_time": "2022-07-27T17:55:51.387Z"
      },
      {
        "duration": 41,
        "start_time": "2022-07-27T17:56:08.374Z"
      },
      {
        "duration": 324,
        "start_time": "2022-07-27T17:56:58.419Z"
      },
      {
        "duration": 29,
        "start_time": "2022-07-27T18:00:30.553Z"
      },
      {
        "duration": 106,
        "start_time": "2022-07-27T18:00:47.217Z"
      },
      {
        "duration": 66,
        "start_time": "2022-07-27T18:01:00.968Z"
      },
      {
        "duration": 51,
        "start_time": "2022-07-27T18:01:16.565Z"
      },
      {
        "duration": 91,
        "start_time": "2022-07-27T18:12:14.596Z"
      },
      {
        "duration": 287,
        "start_time": "2022-07-27T18:12:26.129Z"
      },
      {
        "duration": 286,
        "start_time": "2022-07-27T18:13:01.459Z"
      },
      {
        "duration": 452,
        "start_time": "2022-07-27T18:15:54.857Z"
      },
      {
        "duration": 377,
        "start_time": "2022-07-27T18:16:19.628Z"
      },
      {
        "duration": 245,
        "start_time": "2022-07-27T18:17:45.849Z"
      },
      {
        "duration": 283,
        "start_time": "2022-07-27T18:26:03.061Z"
      },
      {
        "duration": 283,
        "start_time": "2022-07-27T18:28:01.099Z"
      },
      {
        "duration": 288,
        "start_time": "2022-07-27T18:28:11.829Z"
      },
      {
        "duration": 356,
        "start_time": "2022-07-27T18:28:21.482Z"
      },
      {
        "duration": 285,
        "start_time": "2022-07-27T18:28:31.372Z"
      },
      {
        "duration": 279,
        "start_time": "2022-07-27T18:28:42.836Z"
      },
      {
        "duration": 286,
        "start_time": "2022-07-27T18:29:12.230Z"
      },
      {
        "duration": 316,
        "start_time": "2022-07-27T18:37:10.809Z"
      },
      {
        "duration": 318,
        "start_time": "2022-07-27T18:37:19.554Z"
      },
      {
        "duration": 388,
        "start_time": "2022-07-27T18:37:38.459Z"
      },
      {
        "duration": 300,
        "start_time": "2022-07-27T18:38:21.261Z"
      },
      {
        "duration": 302,
        "start_time": "2022-07-27T18:38:30.913Z"
      },
      {
        "duration": 299,
        "start_time": "2022-07-27T18:38:39.732Z"
      },
      {
        "duration": 312,
        "start_time": "2022-07-27T18:38:51.183Z"
      },
      {
        "duration": 403,
        "start_time": "2022-07-27T18:39:03.714Z"
      },
      {
        "duration": 339,
        "start_time": "2022-07-27T18:39:13.410Z"
      },
      {
        "duration": 342,
        "start_time": "2022-07-27T18:39:23.381Z"
      },
      {
        "duration": 392,
        "start_time": "2022-07-27T18:39:31.393Z"
      },
      {
        "duration": 303,
        "start_time": "2022-07-27T18:39:41.349Z"
      },
      {
        "duration": 311,
        "start_time": "2022-07-27T18:39:58.557Z"
      },
      {
        "duration": 397,
        "start_time": "2022-07-27T18:40:06.799Z"
      },
      {
        "duration": 326,
        "start_time": "2022-07-27T18:40:26.094Z"
      },
      {
        "duration": 282,
        "start_time": "2022-07-27T18:50:06.472Z"
      },
      {
        "duration": 269,
        "start_time": "2022-07-27T18:50:19.583Z"
      },
      {
        "duration": 308,
        "start_time": "2022-07-27T18:50:29.071Z"
      },
      {
        "duration": 306,
        "start_time": "2022-07-27T18:50:37.736Z"
      },
      {
        "duration": 239,
        "start_time": "2022-07-27T18:51:01.568Z"
      },
      {
        "duration": 184,
        "start_time": "2022-07-27T18:51:36.534Z"
      },
      {
        "duration": 207,
        "start_time": "2022-07-27T18:55:17.044Z"
      },
      {
        "duration": 10,
        "start_time": "2022-07-27T18:57:03.277Z"
      },
      {
        "duration": 239,
        "start_time": "2022-07-27T18:57:12.636Z"
      },
      {
        "duration": 210,
        "start_time": "2022-07-27T18:57:27.421Z"
      },
      {
        "duration": 202,
        "start_time": "2022-07-27T19:00:40.384Z"
      },
      {
        "duration": 68,
        "start_time": "2022-07-27T19:02:02.762Z"
      },
      {
        "duration": 225,
        "start_time": "2022-07-27T19:03:54.792Z"
      },
      {
        "duration": 222,
        "start_time": "2022-07-27T19:04:14.792Z"
      },
      {
        "duration": 166,
        "start_time": "2022-07-27T19:07:44.968Z"
      },
      {
        "duration": 170,
        "start_time": "2022-07-27T19:07:56.079Z"
      },
      {
        "duration": 155,
        "start_time": "2022-07-27T19:08:26.110Z"
      },
      {
        "duration": 208,
        "start_time": "2022-07-27T19:14:14.437Z"
      },
      {
        "duration": 169,
        "start_time": "2022-07-27T19:14:22.930Z"
      },
      {
        "duration": 176,
        "start_time": "2022-07-27T19:15:53.557Z"
      },
      {
        "duration": 263,
        "start_time": "2022-07-27T19:16:08.814Z"
      },
      {
        "duration": 166,
        "start_time": "2022-07-27T19:16:27.275Z"
      },
      {
        "duration": 4,
        "start_time": "2022-07-27T19:26:32.293Z"
      },
      {
        "duration": 10,
        "start_time": "2022-07-27T19:26:43.282Z"
      },
      {
        "duration": 5,
        "start_time": "2022-07-27T19:26:54.421Z"
      },
      {
        "duration": 13,
        "start_time": "2022-07-27T19:29:56.154Z"
      },
      {
        "duration": 13,
        "start_time": "2022-07-27T19:30:13.189Z"
      },
      {
        "duration": 10,
        "start_time": "2022-07-27T19:33:41.337Z"
      },
      {
        "duration": 12,
        "start_time": "2022-07-27T19:34:00.911Z"
      },
      {
        "duration": 1291,
        "start_time": "2022-07-27T19:34:16.650Z"
      },
      {
        "duration": 16,
        "start_time": "2022-07-27T19:34:17.943Z"
      },
      {
        "duration": 18,
        "start_time": "2022-07-27T19:34:17.961Z"
      },
      {
        "duration": 582,
        "start_time": "2022-07-27T19:34:17.981Z"
      },
      {
        "duration": 4,
        "start_time": "2022-07-27T19:34:18.565Z"
      },
      {
        "duration": 11,
        "start_time": "2022-07-27T19:34:18.570Z"
      },
      {
        "duration": 28,
        "start_time": "2022-07-27T19:34:18.583Z"
      },
      {
        "duration": 30,
        "start_time": "2022-07-27T19:34:18.613Z"
      },
      {
        "duration": 11,
        "start_time": "2022-07-27T19:34:18.645Z"
      },
      {
        "duration": 10,
        "start_time": "2022-07-27T19:34:18.658Z"
      },
      {
        "duration": 29,
        "start_time": "2022-07-27T19:34:18.669Z"
      },
      {
        "duration": 10,
        "start_time": "2022-07-27T19:34:18.700Z"
      },
      {
        "duration": 212,
        "start_time": "2022-07-27T19:34:18.712Z"
      },
      {
        "duration": 159,
        "start_time": "2022-07-27T19:34:18.926Z"
      },
      {
        "duration": 95,
        "start_time": "2022-07-27T19:34:19.087Z"
      },
      {
        "duration": 22,
        "start_time": "2022-07-27T19:34:19.183Z"
      },
      {
        "duration": 5,
        "start_time": "2022-07-27T19:34:19.206Z"
      },
      {
        "duration": 271,
        "start_time": "2022-07-27T19:34:19.212Z"
      },
      {
        "duration": 936,
        "start_time": "2022-07-27T19:34:19.484Z"
      },
      {
        "duration": 8,
        "start_time": "2022-07-27T19:34:20.421Z"
      },
      {
        "duration": 288,
        "start_time": "2022-07-27T19:34:20.431Z"
      },
      {
        "duration": 309,
        "start_time": "2022-07-27T19:34:20.721Z"
      },
      {
        "duration": 288,
        "start_time": "2022-07-27T19:34:21.032Z"
      },
      {
        "duration": 270,
        "start_time": "2022-07-27T19:34:21.322Z"
      },
      {
        "duration": 300,
        "start_time": "2022-07-27T19:34:21.594Z"
      },
      {
        "duration": 300,
        "start_time": "2022-07-27T19:34:21.897Z"
      },
      {
        "duration": 213,
        "start_time": "2022-07-27T19:34:22.198Z"
      },
      {
        "duration": 315,
        "start_time": "2022-07-27T19:34:22.416Z"
      },
      {
        "duration": 175,
        "start_time": "2022-07-27T19:34:22.733Z"
      },
      {
        "duration": 180,
        "start_time": "2022-07-27T19:34:22.910Z"
      },
      {
        "duration": 170,
        "start_time": "2022-07-27T19:34:23.091Z"
      },
      {
        "duration": 186,
        "start_time": "2022-07-27T19:34:23.262Z"
      },
      {
        "duration": 192,
        "start_time": "2022-07-27T19:34:23.449Z"
      },
      {
        "duration": 203,
        "start_time": "2022-07-27T19:34:23.643Z"
      },
      {
        "duration": 14,
        "start_time": "2022-07-27T19:34:23.848Z"
      },
      {
        "duration": 230,
        "start_time": "2022-07-27T19:34:23.864Z"
      },
      {
        "duration": 12,
        "start_time": "2022-07-27T19:34:24.096Z"
      },
      {
        "duration": 3,
        "start_time": "2022-07-27T19:34:24.110Z"
      },
      {
        "duration": 12,
        "start_time": "2022-07-27T19:34:24.115Z"
      },
      {
        "duration": 8,
        "start_time": "2022-07-27T19:34:24.129Z"
      },
      {
        "duration": 13,
        "start_time": "2022-07-27T19:35:09.588Z"
      },
      {
        "duration": 4,
        "start_time": "2022-07-27T19:47:26.156Z"
      },
      {
        "duration": 8,
        "start_time": "2022-07-27T19:47:33.909Z"
      },
      {
        "duration": 10,
        "start_time": "2022-07-27T19:47:44.387Z"
      },
      {
        "duration": 4,
        "start_time": "2022-07-27T19:47:59.338Z"
      },
      {
        "duration": 3,
        "start_time": "2022-07-27T19:56:45.518Z"
      },
      {
        "duration": 7,
        "start_time": "2022-07-27T19:56:50.823Z"
      },
      {
        "duration": 9,
        "start_time": "2022-07-27T19:56:59.488Z"
      },
      {
        "duration": 100,
        "start_time": "2022-07-27T20:04:44.165Z"
      },
      {
        "duration": 4,
        "start_time": "2022-07-27T20:04:55.768Z"
      },
      {
        "duration": 8,
        "start_time": "2022-07-27T20:05:09.237Z"
      },
      {
        "duration": 8,
        "start_time": "2022-07-27T20:05:35.067Z"
      },
      {
        "duration": 1296,
        "start_time": "2022-07-27T20:07:34.714Z"
      },
      {
        "duration": 15,
        "start_time": "2022-07-27T20:07:36.012Z"
      },
      {
        "duration": 17,
        "start_time": "2022-07-27T20:07:36.028Z"
      },
      {
        "duration": 586,
        "start_time": "2022-07-27T20:07:36.047Z"
      },
      {
        "duration": 3,
        "start_time": "2022-07-27T20:07:36.635Z"
      },
      {
        "duration": 9,
        "start_time": "2022-07-27T20:07:36.639Z"
      },
      {
        "duration": 14,
        "start_time": "2022-07-27T20:07:36.649Z"
      },
      {
        "duration": 34,
        "start_time": "2022-07-27T20:07:36.665Z"
      },
      {
        "duration": 11,
        "start_time": "2022-07-27T20:07:36.701Z"
      },
      {
        "duration": 9,
        "start_time": "2022-07-27T20:07:36.716Z"
      },
      {
        "duration": 4,
        "start_time": "2022-07-27T20:07:36.727Z"
      },
      {
        "duration": 7,
        "start_time": "2022-07-27T20:07:36.733Z"
      },
      {
        "duration": 218,
        "start_time": "2022-07-27T20:07:36.741Z"
      },
      {
        "duration": 152,
        "start_time": "2022-07-27T20:07:36.961Z"
      },
      {
        "duration": 108,
        "start_time": "2022-07-27T20:07:37.115Z"
      },
      {
        "duration": 8,
        "start_time": "2022-07-27T20:07:37.225Z"
      },
      {
        "duration": 4,
        "start_time": "2022-07-27T20:07:37.234Z"
      },
      {
        "duration": 270,
        "start_time": "2022-07-27T20:07:37.239Z"
      },
      {
        "duration": 893,
        "start_time": "2022-07-27T20:07:37.511Z"
      },
      {
        "duration": 8,
        "start_time": "2022-07-27T20:07:38.405Z"
      },
      {
        "duration": 274,
        "start_time": "2022-07-27T20:07:38.414Z"
      },
      {
        "duration": 305,
        "start_time": "2022-07-27T20:07:38.689Z"
      },
      {
        "duration": 267,
        "start_time": "2022-07-27T20:07:38.997Z"
      },
      {
        "duration": 271,
        "start_time": "2022-07-27T20:07:39.266Z"
      },
      {
        "duration": 291,
        "start_time": "2022-07-27T20:07:39.539Z"
      },
      {
        "duration": 294,
        "start_time": "2022-07-27T20:07:39.832Z"
      },
      {
        "duration": 222,
        "start_time": "2022-07-27T20:07:40.128Z"
      },
      {
        "duration": 318,
        "start_time": "2022-07-27T20:07:40.353Z"
      },
      {
        "duration": 168,
        "start_time": "2022-07-27T20:07:40.673Z"
      },
      {
        "duration": 183,
        "start_time": "2022-07-27T20:07:40.843Z"
      },
      {
        "duration": 171,
        "start_time": "2022-07-27T20:07:41.028Z"
      },
      {
        "duration": 176,
        "start_time": "2022-07-27T20:07:41.201Z"
      },
      {
        "duration": 175,
        "start_time": "2022-07-27T20:07:41.378Z"
      },
      {
        "duration": 179,
        "start_time": "2022-07-27T20:07:41.555Z"
      },
      {
        "duration": 12,
        "start_time": "2022-07-27T20:07:41.736Z"
      },
      {
        "duration": 214,
        "start_time": "2022-07-27T20:07:41.749Z"
      },
      {
        "duration": 2,
        "start_time": "2022-07-27T20:07:41.965Z"
      },
      {
        "duration": 25,
        "start_time": "2022-07-27T20:07:41.968Z"
      },
      {
        "duration": 16,
        "start_time": "2022-07-27T20:07:41.994Z"
      },
      {
        "duration": 1279,
        "start_time": "2022-07-27T20:09:12.380Z"
      },
      {
        "duration": 15,
        "start_time": "2022-07-27T20:09:13.661Z"
      },
      {
        "duration": 26,
        "start_time": "2022-07-27T20:09:13.678Z"
      },
      {
        "duration": 576,
        "start_time": "2022-07-27T20:09:13.706Z"
      },
      {
        "duration": 3,
        "start_time": "2022-07-27T20:09:14.284Z"
      },
      {
        "duration": 10,
        "start_time": "2022-07-27T20:09:14.288Z"
      },
      {
        "duration": 12,
        "start_time": "2022-07-27T20:09:14.300Z"
      },
      {
        "duration": 20,
        "start_time": "2022-07-27T20:09:14.313Z"
      },
      {
        "duration": 9,
        "start_time": "2022-07-27T20:09:14.334Z"
      },
      {
        "duration": 9,
        "start_time": "2022-07-27T20:09:14.346Z"
      },
      {
        "duration": 4,
        "start_time": "2022-07-27T20:09:14.357Z"
      },
      {
        "duration": 38,
        "start_time": "2022-07-27T20:09:14.363Z"
      },
      {
        "duration": 251,
        "start_time": "2022-07-27T20:09:14.403Z"
      },
      {
        "duration": 152,
        "start_time": "2022-07-27T20:09:14.656Z"
      },
      {
        "duration": 91,
        "start_time": "2022-07-27T20:09:14.810Z"
      },
      {
        "duration": 8,
        "start_time": "2022-07-27T20:09:14.903Z"
      },
      {
        "duration": 4,
        "start_time": "2022-07-27T20:09:14.912Z"
      },
      {
        "duration": 260,
        "start_time": "2022-07-27T20:09:14.918Z"
      },
      {
        "duration": 911,
        "start_time": "2022-07-27T20:09:15.180Z"
      },
      {
        "duration": 11,
        "start_time": "2022-07-27T20:09:16.093Z"
      },
      {
        "duration": 267,
        "start_time": "2022-07-27T20:09:16.105Z"
      },
      {
        "duration": 297,
        "start_time": "2022-07-27T20:09:16.373Z"
      },
      {
        "duration": 268,
        "start_time": "2022-07-27T20:09:16.672Z"
      },
      {
        "duration": 268,
        "start_time": "2022-07-27T20:09:16.942Z"
      },
      {
        "duration": 293,
        "start_time": "2022-07-27T20:09:17.212Z"
      },
      {
        "duration": 301,
        "start_time": "2022-07-27T20:09:17.507Z"
      },
      {
        "duration": 210,
        "start_time": "2022-07-27T20:09:17.810Z"
      },
      {
        "duration": 308,
        "start_time": "2022-07-27T20:09:18.023Z"
      },
      {
        "duration": 183,
        "start_time": "2022-07-27T20:09:18.333Z"
      },
      {
        "duration": 172,
        "start_time": "2022-07-27T20:09:18.517Z"
      },
      {
        "duration": 173,
        "start_time": "2022-07-27T20:09:18.690Z"
      },
      {
        "duration": 171,
        "start_time": "2022-07-27T20:09:18.865Z"
      },
      {
        "duration": 171,
        "start_time": "2022-07-27T20:09:19.037Z"
      },
      {
        "duration": 178,
        "start_time": "2022-07-27T20:09:19.210Z"
      },
      {
        "duration": 18,
        "start_time": "2022-07-27T20:09:19.389Z"
      },
      {
        "duration": 220,
        "start_time": "2022-07-27T20:09:19.408Z"
      },
      {
        "duration": 3,
        "start_time": "2022-07-27T20:09:19.629Z"
      },
      {
        "duration": 12,
        "start_time": "2022-07-27T20:09:19.633Z"
      },
      {
        "duration": 10,
        "start_time": "2022-07-27T20:09:19.646Z"
      },
      {
        "duration": 9,
        "start_time": "2022-07-27T20:12:46.393Z"
      },
      {
        "duration": 1286,
        "start_time": "2022-07-27T20:13:06.707Z"
      },
      {
        "duration": 17,
        "start_time": "2022-07-27T20:13:07.994Z"
      },
      {
        "duration": 17,
        "start_time": "2022-07-27T20:13:08.012Z"
      },
      {
        "duration": 593,
        "start_time": "2022-07-27T20:13:08.031Z"
      },
      {
        "duration": 4,
        "start_time": "2022-07-27T20:13:08.625Z"
      },
      {
        "duration": 11,
        "start_time": "2022-07-27T20:13:08.630Z"
      },
      {
        "duration": 11,
        "start_time": "2022-07-27T20:13:08.643Z"
      },
      {
        "duration": 19,
        "start_time": "2022-07-27T20:13:08.655Z"
      },
      {
        "duration": 26,
        "start_time": "2022-07-27T20:13:08.676Z"
      },
      {
        "duration": 35,
        "start_time": "2022-07-27T20:13:08.705Z"
      },
      {
        "duration": 5,
        "start_time": "2022-07-27T20:13:08.741Z"
      },
      {
        "duration": 10,
        "start_time": "2022-07-27T20:13:08.747Z"
      },
      {
        "duration": 202,
        "start_time": "2022-07-27T20:13:08.759Z"
      },
      {
        "duration": 153,
        "start_time": "2022-07-27T20:13:08.963Z"
      },
      {
        "duration": 97,
        "start_time": "2022-07-27T20:13:09.117Z"
      },
      {
        "duration": 8,
        "start_time": "2022-07-27T20:13:09.216Z"
      },
      {
        "duration": 7,
        "start_time": "2022-07-27T20:13:09.225Z"
      },
      {
        "duration": 264,
        "start_time": "2022-07-27T20:13:09.234Z"
      },
      {
        "duration": 908,
        "start_time": "2022-07-27T20:13:09.500Z"
      },
      {
        "duration": 7,
        "start_time": "2022-07-27T20:13:10.410Z"
      },
      {
        "duration": 279,
        "start_time": "2022-07-27T20:13:10.419Z"
      },
      {
        "duration": 290,
        "start_time": "2022-07-27T20:13:10.699Z"
      },
      {
        "duration": 270,
        "start_time": "2022-07-27T20:13:10.991Z"
      },
      {
        "duration": 267,
        "start_time": "2022-07-27T20:13:11.263Z"
      },
      {
        "duration": 301,
        "start_time": "2022-07-27T20:13:11.531Z"
      },
      {
        "duration": 293,
        "start_time": "2022-07-27T20:13:11.833Z"
      },
      {
        "duration": 215,
        "start_time": "2022-07-27T20:13:12.127Z"
      },
      {
        "duration": 337,
        "start_time": "2022-07-27T20:13:12.346Z"
      },
      {
        "duration": 179,
        "start_time": "2022-07-27T20:13:12.684Z"
      },
      {
        "duration": 178,
        "start_time": "2022-07-27T20:13:12.864Z"
      },
      {
        "duration": 172,
        "start_time": "2022-07-27T20:13:13.044Z"
      },
      {
        "duration": 183,
        "start_time": "2022-07-27T20:13:13.218Z"
      },
      {
        "duration": 183,
        "start_time": "2022-07-27T20:13:13.402Z"
      },
      {
        "duration": 189,
        "start_time": "2022-07-27T20:13:13.586Z"
      },
      {
        "duration": 28,
        "start_time": "2022-07-27T20:13:13.776Z"
      },
      {
        "duration": 224,
        "start_time": "2022-07-27T20:13:13.806Z"
      },
      {
        "duration": 9,
        "start_time": "2022-07-27T20:13:14.032Z"
      },
      {
        "duration": 9,
        "start_time": "2022-07-27T20:13:14.043Z"
      },
      {
        "duration": 1280,
        "start_time": "2022-07-27T20:50:30.892Z"
      },
      {
        "duration": 16,
        "start_time": "2022-07-27T20:50:32.173Z"
      },
      {
        "duration": 17,
        "start_time": "2022-07-27T20:50:32.190Z"
      },
      {
        "duration": 583,
        "start_time": "2022-07-27T20:50:32.208Z"
      },
      {
        "duration": 6,
        "start_time": "2022-07-27T20:50:32.792Z"
      },
      {
        "duration": 8,
        "start_time": "2022-07-27T20:50:32.800Z"
      },
      {
        "duration": 10,
        "start_time": "2022-07-27T20:50:32.810Z"
      },
      {
        "duration": 20,
        "start_time": "2022-07-27T20:50:32.822Z"
      },
      {
        "duration": 9,
        "start_time": "2022-07-27T20:50:32.843Z"
      },
      {
        "duration": 10,
        "start_time": "2022-07-27T20:50:32.854Z"
      },
      {
        "duration": 33,
        "start_time": "2022-07-27T20:50:32.865Z"
      },
      {
        "duration": 5,
        "start_time": "2022-07-27T20:50:32.900Z"
      },
      {
        "duration": 203,
        "start_time": "2022-07-27T20:50:32.906Z"
      },
      {
        "duration": 149,
        "start_time": "2022-07-27T20:50:33.110Z"
      },
      {
        "duration": 88,
        "start_time": "2022-07-27T20:50:33.261Z"
      },
      {
        "duration": 8,
        "start_time": "2022-07-27T20:50:33.351Z"
      },
      {
        "duration": 15,
        "start_time": "2022-07-27T20:50:33.360Z"
      },
      {
        "duration": 255,
        "start_time": "2022-07-27T20:50:33.377Z"
      },
      {
        "duration": 957,
        "start_time": "2022-07-27T20:50:33.634Z"
      },
      {
        "duration": 9,
        "start_time": "2022-07-27T20:50:34.593Z"
      },
      {
        "duration": 268,
        "start_time": "2022-07-27T20:50:34.603Z"
      },
      {
        "duration": 285,
        "start_time": "2022-07-27T20:50:34.872Z"
      },
      {
        "duration": 269,
        "start_time": "2022-07-27T20:50:35.159Z"
      },
      {
        "duration": 263,
        "start_time": "2022-07-27T20:50:35.430Z"
      },
      {
        "duration": 292,
        "start_time": "2022-07-27T20:50:35.695Z"
      },
      {
        "duration": 292,
        "start_time": "2022-07-27T20:50:35.989Z"
      },
      {
        "duration": 222,
        "start_time": "2022-07-27T20:50:36.283Z"
      },
      {
        "duration": 306,
        "start_time": "2022-07-27T20:50:36.508Z"
      },
      {
        "duration": 167,
        "start_time": "2022-07-27T20:50:36.816Z"
      },
      {
        "duration": 170,
        "start_time": "2022-07-27T20:50:36.985Z"
      },
      {
        "duration": 171,
        "start_time": "2022-07-27T20:50:37.157Z"
      },
      {
        "duration": 168,
        "start_time": "2022-07-27T20:50:37.330Z"
      },
      {
        "duration": 170,
        "start_time": "2022-07-27T20:50:37.500Z"
      },
      {
        "duration": 173,
        "start_time": "2022-07-27T20:50:37.672Z"
      },
      {
        "duration": 11,
        "start_time": "2022-07-27T20:50:37.847Z"
      },
      {
        "duration": 224,
        "start_time": "2022-07-27T20:50:37.860Z"
      },
      {
        "duration": 12,
        "start_time": "2022-07-27T20:50:38.086Z"
      },
      {
        "duration": 8,
        "start_time": "2022-07-27T20:50:38.099Z"
      },
      {
        "duration": 293,
        "start_time": "2022-07-27T20:55:13.980Z"
      },
      {
        "duration": 1744,
        "start_time": "2022-07-28T11:02:14.278Z"
      },
      {
        "duration": 19,
        "start_time": "2022-07-28T11:02:16.025Z"
      },
      {
        "duration": 32,
        "start_time": "2022-07-28T11:02:16.046Z"
      },
      {
        "duration": 696,
        "start_time": "2022-07-28T11:02:16.081Z"
      },
      {
        "duration": 3,
        "start_time": "2022-07-28T11:02:16.779Z"
      },
      {
        "duration": 19,
        "start_time": "2022-07-28T11:02:16.784Z"
      },
      {
        "duration": 16,
        "start_time": "2022-07-28T11:02:16.806Z"
      },
      {
        "duration": 26,
        "start_time": "2022-07-28T11:02:16.824Z"
      },
      {
        "duration": 14,
        "start_time": "2022-07-28T11:02:16.852Z"
      },
      {
        "duration": 19,
        "start_time": "2022-07-28T11:02:16.870Z"
      },
      {
        "duration": 17,
        "start_time": "2022-07-28T11:02:16.891Z"
      },
      {
        "duration": 13,
        "start_time": "2022-07-28T11:02:16.910Z"
      },
      {
        "duration": 237,
        "start_time": "2022-07-28T11:02:16.924Z"
      },
      {
        "duration": 167,
        "start_time": "2022-07-28T11:02:17.163Z"
      },
      {
        "duration": 111,
        "start_time": "2022-07-28T11:02:17.332Z"
      },
      {
        "duration": 9,
        "start_time": "2022-07-28T11:02:17.445Z"
      },
      {
        "duration": 22,
        "start_time": "2022-07-28T11:02:17.455Z"
      },
      {
        "duration": 296,
        "start_time": "2022-07-28T11:02:17.478Z"
      },
      {
        "duration": 1113,
        "start_time": "2022-07-28T11:02:17.776Z"
      },
      {
        "duration": 8,
        "start_time": "2022-07-28T11:02:18.891Z"
      },
      {
        "duration": 318,
        "start_time": "2022-07-28T11:02:18.901Z"
      },
      {
        "duration": 347,
        "start_time": "2022-07-28T11:02:19.221Z"
      },
      {
        "duration": 326,
        "start_time": "2022-07-28T11:02:19.570Z"
      },
      {
        "duration": 305,
        "start_time": "2022-07-28T11:02:19.898Z"
      },
      {
        "duration": 357,
        "start_time": "2022-07-28T11:02:20.205Z"
      },
      {
        "duration": 353,
        "start_time": "2022-07-28T11:02:20.564Z"
      },
      {
        "duration": 245,
        "start_time": "2022-07-28T11:02:20.919Z"
      },
      {
        "duration": 351,
        "start_time": "2022-07-28T11:02:21.169Z"
      },
      {
        "duration": 190,
        "start_time": "2022-07-28T11:02:21.522Z"
      },
      {
        "duration": 253,
        "start_time": "2022-07-28T11:02:21.714Z"
      },
      {
        "duration": 223,
        "start_time": "2022-07-28T11:02:21.969Z"
      },
      {
        "duration": 201,
        "start_time": "2022-07-28T11:02:22.195Z"
      },
      {
        "duration": 200,
        "start_time": "2022-07-28T11:02:22.399Z"
      },
      {
        "duration": 192,
        "start_time": "2022-07-28T11:02:22.609Z"
      },
      {
        "duration": 17,
        "start_time": "2022-07-28T11:02:22.803Z"
      },
      {
        "duration": 255,
        "start_time": "2022-07-28T11:02:22.822Z"
      },
      {
        "duration": 11,
        "start_time": "2022-07-28T11:02:23.079Z"
      },
      {
        "duration": 23,
        "start_time": "2022-07-28T11:02:23.092Z"
      },
      {
        "duration": 4,
        "start_time": "2022-07-28T11:13:04.651Z"
      },
      {
        "duration": 113,
        "start_time": "2022-07-28T11:13:12.219Z"
      },
      {
        "duration": 4,
        "start_time": "2022-07-28T11:13:23.402Z"
      },
      {
        "duration": 8,
        "start_time": "2022-07-28T11:13:40.027Z"
      },
      {
        "duration": 7,
        "start_time": "2022-07-28T11:13:43.939Z"
      },
      {
        "duration": 7,
        "start_time": "2022-07-28T11:13:47.393Z"
      },
      {
        "duration": 8,
        "start_time": "2022-07-28T11:13:50.058Z"
      },
      {
        "duration": 9,
        "start_time": "2022-07-28T11:13:53.377Z"
      },
      {
        "duration": 10,
        "start_time": "2022-07-28T11:14:17.832Z"
      },
      {
        "duration": 8,
        "start_time": "2022-07-28T11:24:48.621Z"
      },
      {
        "duration": 10,
        "start_time": "2022-07-28T11:24:54.653Z"
      },
      {
        "duration": 26,
        "start_time": "2022-07-28T11:25:03.422Z"
      },
      {
        "duration": 16,
        "start_time": "2022-07-28T11:31:11.453Z"
      },
      {
        "duration": 5,
        "start_time": "2022-07-28T11:31:22.976Z"
      },
      {
        "duration": 17,
        "start_time": "2022-07-28T11:32:37.500Z"
      },
      {
        "duration": 10,
        "start_time": "2022-07-28T11:32:45.756Z"
      },
      {
        "duration": 8,
        "start_time": "2022-07-28T11:33:02.687Z"
      },
      {
        "duration": 142,
        "start_time": "2022-07-28T11:35:47.608Z"
      },
      {
        "duration": 18,
        "start_time": "2022-07-28T11:36:00.013Z"
      },
      {
        "duration": 16,
        "start_time": "2022-07-28T11:37:39.791Z"
      },
      {
        "duration": 468,
        "start_time": "2022-07-28T11:37:59.819Z"
      },
      {
        "duration": 17,
        "start_time": "2022-07-28T11:38:07.832Z"
      },
      {
        "duration": 12,
        "start_time": "2022-07-28T11:38:20.429Z"
      },
      {
        "duration": 12,
        "start_time": "2022-07-28T11:38:23.678Z"
      },
      {
        "duration": 16,
        "start_time": "2022-07-28T11:38:45.857Z"
      },
      {
        "duration": 110,
        "start_time": "2022-07-28T11:43:12.956Z"
      },
      {
        "duration": 143,
        "start_time": "2022-07-28T11:43:19.327Z"
      },
      {
        "duration": 13,
        "start_time": "2022-07-28T11:43:26.645Z"
      },
      {
        "duration": 14,
        "start_time": "2022-07-28T11:43:38.648Z"
      },
      {
        "duration": 10,
        "start_time": "2022-07-28T11:49:27.194Z"
      },
      {
        "duration": 11,
        "start_time": "2022-07-28T11:49:37.259Z"
      },
      {
        "duration": 263,
        "start_time": "2022-07-28T11:49:48.924Z"
      },
      {
        "duration": 11,
        "start_time": "2022-07-28T11:50:00.297Z"
      },
      {
        "duration": 12,
        "start_time": "2022-07-28T11:50:08.472Z"
      },
      {
        "duration": 267,
        "start_time": "2022-07-28T11:50:17.030Z"
      },
      {
        "duration": 12,
        "start_time": "2022-07-28T11:50:26.737Z"
      },
      {
        "duration": 17,
        "start_time": "2022-07-28T11:50:38.305Z"
      },
      {
        "duration": 267,
        "start_time": "2022-07-28T11:50:45.237Z"
      },
      {
        "duration": 353,
        "start_time": "2022-07-28T11:55:47.452Z"
      },
      {
        "duration": 265,
        "start_time": "2022-07-28T12:01:28.197Z"
      },
      {
        "duration": 91,
        "start_time": "2022-07-29T09:05:34.764Z"
      },
      {
        "duration": 38,
        "start_time": "2022-07-29T09:05:44.901Z"
      },
      {
        "duration": 1380,
        "start_time": "2022-07-29T09:05:54.980Z"
      },
      {
        "duration": 15,
        "start_time": "2022-07-29T09:05:56.362Z"
      },
      {
        "duration": 16,
        "start_time": "2022-07-29T09:05:56.378Z"
      },
      {
        "duration": 546,
        "start_time": "2022-07-29T09:05:56.395Z"
      },
      {
        "duration": 3,
        "start_time": "2022-07-29T09:05:56.942Z"
      },
      {
        "duration": 7,
        "start_time": "2022-07-29T09:05:56.947Z"
      },
      {
        "duration": 10,
        "start_time": "2022-07-29T09:05:56.956Z"
      },
      {
        "duration": 20,
        "start_time": "2022-07-29T09:05:56.967Z"
      },
      {
        "duration": 9,
        "start_time": "2022-07-29T09:05:56.988Z"
      },
      {
        "duration": 32,
        "start_time": "2022-07-29T09:05:57.000Z"
      },
      {
        "duration": 4,
        "start_time": "2022-07-29T09:05:57.033Z"
      },
      {
        "duration": 5,
        "start_time": "2022-07-29T09:05:57.039Z"
      },
      {
        "duration": 195,
        "start_time": "2022-07-29T09:05:57.045Z"
      },
      {
        "duration": 132,
        "start_time": "2022-07-29T09:05:57.242Z"
      },
      {
        "duration": 87,
        "start_time": "2022-07-29T09:05:57.376Z"
      },
      {
        "duration": 8,
        "start_time": "2022-07-29T09:05:57.465Z"
      },
      {
        "duration": 4,
        "start_time": "2022-07-29T09:05:57.474Z"
      },
      {
        "duration": 279,
        "start_time": "2022-07-29T09:05:57.480Z"
      },
      {
        "duration": 921,
        "start_time": "2022-07-29T09:05:57.761Z"
      },
      {
        "duration": 8,
        "start_time": "2022-07-29T09:05:58.684Z"
      },
      {
        "duration": 241,
        "start_time": "2022-07-29T09:05:58.693Z"
      },
      {
        "duration": 274,
        "start_time": "2022-07-29T09:05:58.935Z"
      },
      {
        "duration": 254,
        "start_time": "2022-07-29T09:05:59.210Z"
      },
      {
        "duration": 249,
        "start_time": "2022-07-29T09:05:59.465Z"
      },
      {
        "duration": 306,
        "start_time": "2022-07-29T09:05:59.716Z"
      },
      {
        "duration": 279,
        "start_time": "2022-07-29T09:06:00.024Z"
      },
      {
        "duration": 212,
        "start_time": "2022-07-29T09:06:00.304Z"
      },
      {
        "duration": 302,
        "start_time": "2022-07-29T09:06:00.519Z"
      },
      {
        "duration": 159,
        "start_time": "2022-07-29T09:06:00.823Z"
      },
      {
        "duration": 158,
        "start_time": "2022-07-29T09:06:00.984Z"
      },
      {
        "duration": 151,
        "start_time": "2022-07-29T09:06:01.144Z"
      },
      {
        "duration": 146,
        "start_time": "2022-07-29T09:06:01.297Z"
      },
      {
        "duration": 155,
        "start_time": "2022-07-29T09:06:01.445Z"
      },
      {
        "duration": 158,
        "start_time": "2022-07-29T09:06:01.602Z"
      },
      {
        "duration": 11,
        "start_time": "2022-07-29T09:06:01.761Z"
      },
      {
        "duration": 197,
        "start_time": "2022-07-29T09:06:01.774Z"
      },
      {
        "duration": 8,
        "start_time": "2022-07-29T09:06:01.972Z"
      },
      {
        "duration": 9,
        "start_time": "2022-07-29T09:06:01.981Z"
      },
      {
        "duration": 183,
        "start_time": "2022-07-29T09:06:58.373Z"
      },
      {
        "duration": 218,
        "start_time": "2022-07-29T09:07:12.702Z"
      },
      {
        "duration": 195,
        "start_time": "2022-07-29T09:07:34.108Z"
      },
      {
        "duration": 281,
        "start_time": "2022-07-29T09:07:48.118Z"
      },
      {
        "duration": 198,
        "start_time": "2022-07-29T09:09:37.778Z"
      },
      {
        "duration": 211,
        "start_time": "2022-07-29T09:11:34.238Z"
      },
      {
        "duration": 201,
        "start_time": "2022-07-29T09:11:54.345Z"
      },
      {
        "duration": 203,
        "start_time": "2022-07-29T09:12:06.471Z"
      },
      {
        "duration": 194,
        "start_time": "2022-07-29T09:12:14.124Z"
      },
      {
        "duration": 220,
        "start_time": "2022-07-29T09:14:03.233Z"
      },
      {
        "duration": 214,
        "start_time": "2022-07-29T09:16:02.452Z"
      },
      {
        "duration": 78,
        "start_time": "2022-07-29T09:16:32.825Z"
      },
      {
        "duration": 224,
        "start_time": "2022-07-29T09:16:46.715Z"
      },
      {
        "duration": 240,
        "start_time": "2022-07-29T09:16:56.899Z"
      }
    ],
    "colab": {
      "provenance": [],
      "toc_visible": true
    },
    "kernelspec": {
      "display_name": "Python 3 (ipykernel)",
      "language": "python",
      "name": "python3"
    },
    "language_info": {
      "codemirror_mode": {
        "name": "ipython",
        "version": 3
      },
      "file_extension": ".py",
      "mimetype": "text/x-python",
      "name": "python",
      "nbconvert_exporter": "python",
      "pygments_lexer": "ipython3",
      "version": "3.9.5"
    },
    "toc": {
      "base_numbering": 1,
      "nav_menu": {},
      "number_sections": true,
      "sideBar": true,
      "skip_h1_title": true,
      "title_cell": "Table of Contents",
      "title_sidebar": "Contents",
      "toc_cell": false,
      "toc_position": {},
      "toc_section_display": true,
      "toc_window_display": false
    }
  },
  "nbformat": 4,
  "nbformat_minor": 0
}